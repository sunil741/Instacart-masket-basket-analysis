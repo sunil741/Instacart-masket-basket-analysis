{
  "nbformat": 4,
  "nbformat_minor": 0,
  "metadata": {
    "accelerator": "GPU",
    "colab": {
      "name": "Modelling.ipynb",
      "provenance": [],
      "collapsed_sections": [],
      "toc_visible": true,
      "machine_shape": "hm"
    },
    "kernelspec": {
      "display_name": "Python 3",
      "language": "python",
      "name": "python3"
    },
    "language_info": {
      "codemirror_mode": {
        "name": "ipython",
        "version": 3
      },
      "file_extension": ".py",
      "mimetype": "text/x-python",
      "name": "python",
      "nbconvert_exporter": "python",
      "pygments_lexer": "ipython3",
      "version": "3.7.0"
    }
  },
  "cells": [
    {
      "cell_type": "code",
      "metadata": {
        "id": "rbDfTodOrf33"
      },
      "source": [
        "#importing necessary libraries\n",
        "import numpy as np\n",
        "import pandas as pd\n",
        "from sklearn.metrics import f1_score,precision_score,recall_score\n",
        "import gc\n",
        "import warnings\n",
        "warnings.filterwarnings(\"ignore\")\n",
        "gc.enable()"
      ],
      "execution_count": 1,
      "outputs": []
    },
    {
      "cell_type": "code",
      "metadata": {
        "colab": {
          "base_uri": "https://localhost:8080/"
        },
        "id": "sKXqBMASyv0D",
        "outputId": "55a96212-b2ed-44bc-9be3-bf404bfc2861"
      },
      "source": [
        "from google.colab import drive\n",
        "drive.mount('/content/drive',force_remount=True)"
      ],
      "execution_count": 2,
      "outputs": [
        {
          "output_type": "stream",
          "text": [
            "Mounted at /content/drive\n"
          ],
          "name": "stdout"
        }
      ]
    },
    {
      "cell_type": "code",
      "metadata": {
        "colab": {
          "base_uri": "https://localhost:8080/"
        },
        "id": "o1N8Q3F3l7Ee",
        "outputId": "c9922992-8677-4379-dc65-b15a8431bdb5"
      },
      "source": [
        "cd 'drive/My Drive/feature file'"
      ],
      "execution_count": 2,
      "outputs": [
        {
          "output_type": "stream",
          "text": [
            "/content/drive/My Drive/feature file\n"
          ],
          "name": "stdout"
        }
      ]
    },
    {
      "cell_type": "code",
      "metadata": {
        "id": "UH9N01J222ta"
      },
      "source": [
        "#https://www.kaggle.com/gemartin/load-data-reduce-memory-usage\n",
        "def memory_decrease_by_column(df):\n",
        "  '''This function helps to reduce the memory taken by the dataframe by storing the data in data types of best fit'''\n",
        "  \n",
        "  col_type_dict={'order_id':np.uint32,'user_id':np.uint32,'order_number':np.uint8,\n",
        "                 'order_dow':np.uint8,'order_hour_of_day':np.uint8,'days_since_prior_order':np.float16,\n",
        "                 'product_id':np.uint16,'add_to_cart_order':np.uint8,'reordered':np.uint8,\n",
        "                 'aisle_id':np.uint8,'department_id':np.uint8,'reordered_new':np.uint8,\n",
        "                 'user_max_ono':np.uint8,'user_sum_reord':np.uint16,'user_reord_prop':np.float16,\n",
        "                  'user_prod_reord_prop':np.float16,'user_uniqpr':np.uint16,'user_uniqpr_prop':np.float16,\n",
        "                  'user_order_reord_prop':np.float16,'user_dsp_mean':np.float16,'user_min_order_size':np.uint8,\n",
        "                  'user_max_order_size':np.uint8,'user_mean_order_size':np.float16,\n",
        "                  'product_ratios_users_oneshot':np.float16,'product_cart_mean':np.float16,\n",
        "                  'product_reord_count':np.uint32,'product_reord_prop':np.float16,\n",
        "                  'prod_uniq_us':np.uint32,'prod_uniq_us_prop':np.float16,\n",
        "                  'prod_us_reord_prop':np.float16,'user_days_since_product':np.float16,'user_product_hod_mean':np.float16,\n",
        "'user_product_dow_mean':np.float16,'user_product_prop':np.float16,\n",
        "'user_product_cnt':np.uint8,'user_product_atc_mode_min':np.uint8,\n",
        "'user_product_atc_mode_max':np.uint8,'user_product_atc_min':np.uint8,\n",
        "'user_product_atc_max':np.uint8,'user_product_atc_mean':np.float16,\n",
        "'aisle_reordered':np.uint32,'aisle_reordered_prop':np.float16,\n",
        "'dep_reordered':np.uint32,'dep_reordered_prop':np.float16,\n",
        "'order_dow_reordered':np.uint32,'order_dow_reordered_prop':np.float16,\n",
        "'order_hod_reordered':np.uint32,'order_hod_reordered_prop':np.float16,\n",
        "'order_dow_hod_reord_count':np.uint32,'ono_dsp_reord':np.uint32,\n",
        "'order_dow_hod_reord_prop':np.float16,'ono_dsp_reord_prop':np.float16,\n",
        "'atc_reordered_prop':np.float16,'product_ordered_today':np.uint8,\n",
        "'user_days_since_product_corrected':np.float16}\n",
        "\n",
        "  start_mem = df.memory_usage().sum() / 1024**2\n",
        "  print('Memory usage of dataframe is {:.2f} MB'.format(start_mem))\n",
        "  for i in df.columns:\n",
        "    if df[i].dtype!= object:\n",
        "      df[i]=df[i].astype(col_type_dict[i])\n",
        "    else:\n",
        "      df[i] = df[i].astype('category')\n",
        "  end_mem = df.memory_usage().sum() / 1024**2\n",
        "  print('Memory usage after optimization is: {:.2f} MB'.format(end_mem))\n",
        "  print('Decreased by {:.1f}%'.format(100 * (start_mem - end_mem) / start_mem))\n",
        "    \n",
        "  return df\n"
      ],
      "execution_count": 3,
      "outputs": []
    },
    {
      "cell_type": "code",
      "metadata": {
        "colab": {
          "base_uri": "https://localhost:8080/"
        },
        "id": "s4YgmMc2sSjV",
        "outputId": "c7ca7852-a168-43cb-d016-e24f023fdc9c"
      },
      "source": [
        "#loading orders data from disk\n",
        "orders=pd.read_csv('orders.csv')\n",
        "print(orders.shape)\n",
        "print(orders.head())"
      ],
      "execution_count": null,
      "outputs": [
        {
          "output_type": "stream",
          "text": [
            "(3421083, 7)\n",
            "   order_id  user_id  ... order_hour_of_day  days_since_prior_order\n",
            "0   2539329        1  ...                 8                     NaN\n",
            "1   2398795        1  ...                 7                    15.0\n",
            "2    473747        1  ...                12                    21.0\n",
            "3   2254736        1  ...                 7                    29.0\n",
            "4    431534        1  ...                15                    28.0\n",
            "\n",
            "[5 rows x 7 columns]\n"
          ],
          "name": "stdout"
        }
      ]
    },
    {
      "cell_type": "code",
      "metadata": {
        "colab": {
          "base_uri": "https://localhost:8080/"
        },
        "id": "duwlClDc9acp",
        "outputId": "9ab01dba-3fe3-4ce6-d809-f35abdbb8b4f"
      },
      "source": [
        "#reducing memory taken by orders\n",
        "orders=memory_decrease_by_column(orders)"
      ],
      "execution_count": null,
      "outputs": [
        {
          "output_type": "stream",
          "text": [
            "Memory usage of dataframe is 182.71 MB\n",
            "Memory usage after optimization is: 45.68 MB\n",
            "Decreased by 75.0%\n"
          ],
          "name": "stdout"
        }
      ]
    },
    {
      "cell_type": "code",
      "metadata": {
        "colab": {
          "base_uri": "https://localhost:8080/"
        },
        "id": "SKgXrIoqsdvV",
        "outputId": "c60c5132-8b0e-4436-f181-28ed97f0c775"
      },
      "source": [
        "#loading order_product_prior data from the disk\n",
        "order_products_prior=pd.read_csv('order_products__prior.csv')\n",
        "print(order_products_prior.shape)\n",
        "print(order_products_prior.head(2))"
      ],
      "execution_count": null,
      "outputs": [
        {
          "output_type": "stream",
          "text": [
            "(32434489, 4)\n",
            "   order_id  product_id  add_to_cart_order  reordered\n",
            "0         2       33120                  1          1\n",
            "1         2       28985                  2          1\n"
          ],
          "name": "stdout"
        }
      ]
    },
    {
      "cell_type": "code",
      "metadata": {
        "colab": {
          "base_uri": "https://localhost:8080/"
        },
        "id": "CJsHvGIwFcQP",
        "outputId": "ecad0cca-5660-411e-ec00-b230f01f78f1"
      },
      "source": [
        "#reducing memory of order_products__prior\n",
        "order_products_prior=memory_decrease_by_column(order_products_prior)"
      ],
      "execution_count": null,
      "outputs": [
        {
          "output_type": "stream",
          "text": [
            "Memory usage of dataframe is 989.82 MB\n",
            "Memory usage after optimization is: 247.46 MB\n",
            "Decreased by 75.0%\n"
          ],
          "name": "stdout"
        }
      ]
    },
    {
      "cell_type": "code",
      "metadata": {
        "colab": {
          "base_uri": "https://localhost:8080/"
        },
        "id": "41vyuGSwGXmV",
        "outputId": "09f8d502-af64-48d6-b254-0302b258f129"
      },
      "source": [
        "#loading order_products_train data from disk\n",
        "order_products_train=pd.read_csv('order_products__train.csv')\n",
        "print(order_products_train.shape)\n",
        "print(order_products_train.head(2))"
      ],
      "execution_count": null,
      "outputs": [
        {
          "output_type": "stream",
          "text": [
            "(1384617, 4)\n",
            "   order_id  product_id  add_to_cart_order  reordered\n",
            "0         1       49302                  1          1\n",
            "1         1       11109                  2          1\n"
          ],
          "name": "stdout"
        }
      ]
    },
    {
      "cell_type": "code",
      "metadata": {
        "colab": {
          "base_uri": "https://localhost:8080/"
        },
        "id": "ZwvoFS4qGfPj",
        "outputId": "cbbca856-de06-4f28-ef91-effcbdf4393a"
      },
      "source": [
        "#reducing memory of order_products_train\n",
        "order_products_train=memory_decrease_by_column(order_products_train)"
      ],
      "execution_count": null,
      "outputs": [
        {
          "output_type": "stream",
          "text": [
            "Memory usage of dataframe is 42.26 MB\n",
            "Memory usage after optimization is: 10.56 MB\n",
            "Decreased by 75.0%\n"
          ],
          "name": "stdout"
        }
      ]
    },
    {
      "cell_type": "code",
      "metadata": {
        "colab": {
          "base_uri": "https://localhost:8080/"
        },
        "id": "s-1PcHabu6Kv",
        "outputId": "9cbedc32-c3a1-4ba8-b496-039164072063"
      },
      "source": [
        "#loading products data from disk\n",
        "products=pd.read_csv('products.csv')\n",
        "products.drop(['product_name'],axis=1,inplace=True)\n",
        "print(products.shape)\n",
        "print(products.head())\n",
        "print(products.dtypes)"
      ],
      "execution_count": null,
      "outputs": [
        {
          "output_type": "stream",
          "text": [
            "(49688, 3)\n",
            "   product_id  aisle_id  department_id\n",
            "0           1        61             19\n",
            "1           2       104             13\n",
            "2           3        94              7\n",
            "3           4        38              1\n",
            "4           5         5             13\n",
            "product_id       int64\n",
            "aisle_id         int64\n",
            "department_id    int64\n",
            "dtype: object\n"
          ],
          "name": "stdout"
        }
      ]
    },
    {
      "cell_type": "code",
      "metadata": {
        "colab": {
          "base_uri": "https://localhost:8080/"
        },
        "id": "szDLIUM8Jcxe",
        "outputId": "e9845d84-f667-4083-e9a8-5c1bcbebdaf7"
      },
      "source": [
        "#reducing memory of products\n",
        "products=memory_decrease_by_column(products)"
      ],
      "execution_count": null,
      "outputs": [
        {
          "output_type": "stream",
          "text": [
            "Memory usage of dataframe is 1.14 MB\n",
            "Memory usage after optimization is: 0.19 MB\n",
            "Decreased by 83.3%\n"
          ],
          "name": "stdout"
        }
      ]
    },
    {
      "cell_type": "code",
      "metadata": {
        "colab": {
          "base_uri": "https://localhost:8080/"
        },
        "id": "Cbk7MfCfv2Sv",
        "outputId": "413084ca-887a-47d5-c02a-71c7bf5ac5b3"
      },
      "source": [
        "#combining user_order and order_product information for prior data\n",
        "user_order_products_prior=pd.merge(orders[orders.eval_set=='prior'],order_products_prior,on='order_id',how='left')\n",
        "user_order_products_prior.columns"
      ],
      "execution_count": null,
      "outputs": [
        {
          "output_type": "execute_result",
          "data": {
            "text/plain": [
              "Index(['order_id', 'user_id', 'eval_set', 'order_number', 'order_dow',\n",
              "       'order_hour_of_day', 'days_since_prior_order', 'product_id',\n",
              "       'add_to_cart_order', 'reordered'],\n",
              "      dtype='object')"
            ]
          },
          "metadata": {
            "tags": []
          },
          "execution_count": 56
        }
      ]
    },
    {
      "cell_type": "code",
      "metadata": {
        "id": "IU3vF7fdv2ZO"
      },
      "source": [
        "#extracting user and previous products of the user\n",
        "user_products_prior=user_order_products_prior[['user_id','product_id']].drop_duplicates()"
      ],
      "execution_count": null,
      "outputs": []
    },
    {
      "cell_type": "code",
      "metadata": {
        "colab": {
          "base_uri": "https://localhost:8080/"
        },
        "id": "NRcyP9AQv2co",
        "outputId": "2bc0be2b-8d74-49d0-c9fb-3b439eb5749b"
      },
      "source": [
        "#combing user_order and order_product information for train data\n",
        "user_order=pd.merge(orders[orders.eval_set=='train'],order_products_train,on='order_id',how='left')\n",
        "print(user_order.shape)\n",
        "print(user_order.head(2))"
      ],
      "execution_count": null,
      "outputs": [
        {
          "output_type": "stream",
          "text": [
            "(1384617, 10)\n",
            "   order_id  user_id eval_set  ...  product_id  add_to_cart_order  reordered\n",
            "0   1187899        1    train  ...         196                  1          1\n",
            "1   1187899        1    train  ...       25133                  2          1\n",
            "\n",
            "[2 rows x 10 columns]\n"
          ],
          "name": "stdout"
        }
      ]
    },
    {
      "cell_type": "code",
      "metadata": {
        "id": "hfu-B0S5QJ9t"
      },
      "source": [
        "#dropping unnecessary columns from user_order\n",
        "user_order.drop(['add_to_cart_order','reordered'],axis=1,inplace=True)"
      ],
      "execution_count": null,
      "outputs": []
    },
    {
      "cell_type": "code",
      "metadata": {
        "colab": {
          "base_uri": "https://localhost:8080/",
          "height": 108
        },
        "id": "OKB6NKk2u6aD",
        "outputId": "59ae0ea4-c899-4495-e473-2893948d52b6"
      },
      "source": [
        "#extracting list of products for a user in train data\n",
        "us_ono_pro=user_order.groupby('user_id')['product_id'].agg(list).reset_index()\n",
        "us_ono_pro.columns=['user_id','train_products']\n",
        "us_ono_pro.head(2)"
      ],
      "execution_count": null,
      "outputs": [
        {
          "output_type": "execute_result",
          "data": {
            "text/html": [
              "<div>\n",
              "<style scoped>\n",
              "    .dataframe tbody tr th:only-of-type {\n",
              "        vertical-align: middle;\n",
              "    }\n",
              "\n",
              "    .dataframe tbody tr th {\n",
              "        vertical-align: top;\n",
              "    }\n",
              "\n",
              "    .dataframe thead th {\n",
              "        text-align: right;\n",
              "    }\n",
              "</style>\n",
              "<table border=\"1\" class=\"dataframe\">\n",
              "  <thead>\n",
              "    <tr style=\"text-align: right;\">\n",
              "      <th></th>\n",
              "      <th>user_id</th>\n",
              "      <th>train_products</th>\n",
              "    </tr>\n",
              "  </thead>\n",
              "  <tbody>\n",
              "    <tr>\n",
              "      <th>0</th>\n",
              "      <td>1</td>\n",
              "      <td>[196, 25133, 38928, 26405, 39657, 10258, 13032...</td>\n",
              "    </tr>\n",
              "    <tr>\n",
              "      <th>1</th>\n",
              "      <td>2</td>\n",
              "      <td>[22963, 7963, 16589, 32792, 41787, 22825, 1364...</td>\n",
              "    </tr>\n",
              "  </tbody>\n",
              "</table>\n",
              "</div>"
            ],
            "text/plain": [
              "   user_id                                     train_products\n",
              "0        1  [196, 25133, 38928, 26405, 39657, 10258, 13032...\n",
              "1        2  [22963, 7963, 16589, 32792, 41787, 22825, 1364..."
            ]
          },
          "metadata": {
            "tags": []
          },
          "execution_count": 66
        }
      ]
    },
    {
      "cell_type": "code",
      "metadata": {
        "colab": {
          "base_uri": "https://localhost:8080/"
        },
        "id": "Oanelt5QK6_C",
        "outputId": "f092f182-c77b-4122-d533-2fc1cc59bfd9"
      },
      "source": [
        "#merging all products for a user in train data\n",
        "user_order_train_products=pd.merge(user_order.drop(['product_id'],axis=1).drop_duplicates(),us_ono_pro,on=['user_id'],how='left')\n",
        "user_order_train_products.columns"
      ],
      "execution_count": null,
      "outputs": [
        {
          "output_type": "execute_result",
          "data": {
            "text/plain": [
              "Index(['order_id', 'user_id', 'eval_set', 'order_number', 'order_dow',\n",
              "       'order_hour_of_day', 'days_since_prior_order', 'train_products'],\n",
              "      dtype='object')"
            ]
          },
          "metadata": {
            "tags": []
          },
          "execution_count": 67
        }
      ]
    },
    {
      "cell_type": "code",
      "metadata": {
        "colab": {
          "base_uri": "https://localhost:8080/"
        },
        "id": "Kk5LPZGjMbn4",
        "outputId": "0ffd107b-5df1-4492-d531-ce3291fdc5cf"
      },
      "source": [
        "#preparing the train data set, imitating the test scenario\n",
        "user_order_products_prior_train1=pd.merge(user_order_train_products.drop(['eval_set'],axis=1),user_products_prior,on='user_id',how='left')\n",
        "print(user_order_products_prior_train1.shape)\n",
        "print(user_order_products_prior_train1.columns)"
      ],
      "execution_count": null,
      "outputs": [
        {
          "output_type": "stream",
          "text": [
            "(8474661, 8)\n",
            "Index(['order_id', 'user_id', 'order_number', 'order_dow', 'order_hour_of_day',\n",
            "       'days_since_prior_order', 'train_products', 'product_id'],\n",
            "      dtype='object')\n"
          ],
          "name": "stdout"
        }
      ]
    },
    {
      "cell_type": "code",
      "metadata": {
        "colab": {
          "base_uri": "https://localhost:8080/"
        },
        "id": "f7Tr9ZtUSvtp",
        "outputId": "dffa4291-945c-486e-d6db-808b3e22297a"
      },
      "source": [
        "#calculating reordered_new, the label for the train data\n",
        "from tqdm import tqdm\n",
        "tqdm.pandas()\n",
        "user_order_products_prior_train1['reordered_new']=user_order_products_prior_train1.progress_apply(lambda x: 1 if x.product_id in x.train_products else 0,axis=1)"
      ],
      "execution_count": null,
      "outputs": [
        {
          "output_type": "stream",
          "text": [
            "100%|██████████| 8474661/8474661 [02:31<00:00, 55974.96it/s]\n"
          ],
          "name": "stderr"
        }
      ]
    },
    {
      "cell_type": "code",
      "metadata": {
        "colab": {
          "base_uri": "https://localhost:8080/"
        },
        "id": "kYpLFBayTqFE",
        "outputId": "bfe0f2f5-5947-4872-a38d-bebd06b2a889"
      },
      "source": [
        "#reducing memory of user_order_products_prior_train1\n",
        "user_order_products_prior_train1=memory_decrease_by_column(user_order_products_prior_train1.drop(['train_products'],axis=1))"
      ],
      "execution_count": null,
      "outputs": [
        {
          "output_type": "stream",
          "text": [
            "Memory usage of dataframe is 250.54 MB\n",
            "Memory usage after optimization is: 193.97 MB\n",
            "Decreased by 22.6%\n"
          ],
          "name": "stdout"
        }
      ]
    },
    {
      "cell_type": "code",
      "metadata": {
        "colab": {
          "base_uri": "https://localhost:8080/"
        },
        "id": "kVaKMnnsgFda",
        "outputId": "4297fa4a-6a9f-473b-bfb0-2a9406efc975"
      },
      "source": [
        "#performing garbage collection\n",
        "gc.collect()"
      ],
      "execution_count": null,
      "outputs": [
        {
          "output_type": "execute_result",
          "data": {
            "text/plain": [
              "0"
            ]
          },
          "metadata": {
            "tags": []
          },
          "execution_count": 74
        }
      ]
    },
    {
      "cell_type": "code",
      "metadata": {
        "colab": {
          "base_uri": "https://localhost:8080/"
        },
        "id": "4aZBHmzAMth2",
        "outputId": "18728271-8c20-4772-cb1f-8b7c2168ced9"
      },
      "source": [
        "#loading user_features from disk\n",
        "user_features=pd.read_csv('user_features.csv')\n",
        "print(user_features.shape)\n",
        "print(user_features.head(2))\n",
        "print(user_features.dtypes)"
      ],
      "execution_count": null,
      "outputs": [
        {
          "output_type": "stream",
          "text": [
            "(206209, 12)\n",
            "   user_id  user_max_ono  ...  user_max_order_size  user_mean_order_size\n",
            "0        1            10  ...                    9              5.900000\n",
            "1        2            14  ...                   26             13.928571\n",
            "\n",
            "[2 rows x 12 columns]\n",
            "user_id                    int64\n",
            "user_max_ono               int64\n",
            "user_sum_reord             int64\n",
            "user_reord_prop          float64\n",
            "user_prod_reord_prop     float64\n",
            "user_uniqpr                int64\n",
            "user_uniqpr_prop         float64\n",
            "user_order_reord_prop    float64\n",
            "user_dsp_mean            float64\n",
            "user_min_order_size        int64\n",
            "user_max_order_size        int64\n",
            "user_mean_order_size     float64\n",
            "dtype: object\n"
          ],
          "name": "stdout"
        }
      ]
    },
    {
      "cell_type": "code",
      "metadata": {
        "colab": {
          "base_uri": "https://localhost:8080/"
        },
        "id": "MScKx712oQ2M",
        "outputId": "befce23b-a7fd-4617-c34e-3041c4c7afcd"
      },
      "source": [
        "#reducing memory of user_features\n",
        "user_features=memory_decrease_by_column(user_features)"
      ],
      "execution_count": null,
      "outputs": [
        {
          "output_type": "stream",
          "text": [
            "Memory usage of dataframe is 18.88 MB\n",
            "Memory usage after optimization is: 4.52 MB\n",
            "Decreased by 76.0%\n"
          ],
          "name": "stdout"
        }
      ]
    },
    {
      "cell_type": "code",
      "metadata": {
        "colab": {
          "base_uri": "https://localhost:8080/"
        },
        "id": "7ldYTkSPrgr0",
        "outputId": "5779448e-5199-4589-ae05-c8bdf8592d59"
      },
      "source": [
        "#merging user_features with the train data\n",
        "user_order_products_prior_train1=pd.merge(user_order_products_prior_train1,user_features,on=['user_id'],how='left')\n",
        "user_order_products_prior_train1.columns"
      ],
      "execution_count": null,
      "outputs": [
        {
          "output_type": "execute_result",
          "data": {
            "text/plain": [
              "Index(['order_id', 'user_id', 'order_number', 'order_dow', 'order_hour_of_day',\n",
              "       'days_since_prior_order', 'product_id', 'reordered_new', 'user_max_ono',\n",
              "       'user_sum_reord', 'user_reord_prop', 'user_prod_reord_prop',\n",
              "       'user_uniqpr', 'user_uniqpr_prop', 'user_order_reord_prop',\n",
              "       'user_dsp_mean', 'user_min_order_size', 'user_max_order_size',\n",
              "       'user_mean_order_size'],\n",
              "      dtype='object')"
            ]
          },
          "metadata": {
            "tags": []
          },
          "execution_count": 78
        }
      ]
    },
    {
      "cell_type": "code",
      "metadata": {
        "colab": {
          "base_uri": "https://localhost:8080/"
        },
        "id": "cYcVL3wJr_r3",
        "outputId": "43fb89e3-f7cf-4f1c-fc12-5bc2aaf60b19"
      },
      "source": [
        "#loading product_features from disk\n",
        "product_features=pd.read_csv('product_features.csv')\n",
        "product_features.columns"
      ],
      "execution_count": null,
      "outputs": [
        {
          "output_type": "execute_result",
          "data": {
            "text/plain": [
              "Index(['product_id', 'product_ratios_users_oneshot', 'product_cart_mean',\n",
              "       'product_reord_count', 'product_reord_prop', 'prod_uniq_us',\n",
              "       'prod_uniq_us_prop', 'prod_us_reord_prop'],\n",
              "      dtype='object')"
            ]
          },
          "metadata": {
            "tags": []
          },
          "execution_count": 83
        }
      ]
    },
    {
      "cell_type": "code",
      "metadata": {
        "colab": {
          "base_uri": "https://localhost:8080/"
        },
        "id": "DbZ-Kc3as3O0",
        "outputId": "1e611fff-b54e-4563-b7d6-ea5622d9e98d"
      },
      "source": [
        "#reducing memory of product_features\n",
        "product_features=memory_decrease_by_column(product_features)"
      ],
      "execution_count": null,
      "outputs": [
        {
          "output_type": "stream",
          "text": [
            "Memory usage of dataframe is 3.03 MB\n",
            "Memory usage after optimization is: 0.95 MB\n",
            "Decreased by 68.7%\n"
          ],
          "name": "stdout"
        }
      ]
    },
    {
      "cell_type": "code",
      "metadata": {
        "colab": {
          "base_uri": "https://localhost:8080/"
        },
        "id": "tezINy1Pum6T",
        "outputId": "8febca6b-2d4e-4b31-def3-b9ecba100505"
      },
      "source": [
        "#merging product_features with existing train data\n",
        "user_order_products_prior_train1=pd.merge(user_order_products_prior_train1,product_features,on=['product_id'],how='left')\n",
        "user_order_products_prior_train1.columns"
      ],
      "execution_count": null,
      "outputs": [
        {
          "output_type": "execute_result",
          "data": {
            "text/plain": [
              "Index(['order_id', 'user_id', 'order_number', 'order_dow', 'order_hour_of_day',\n",
              "       'days_since_prior_order', 'product_id', 'reordered_new', 'user_max_ono',\n",
              "       'user_sum_reord', 'user_reord_prop', 'user_prod_reord_prop',\n",
              "       'user_uniqpr', 'user_uniqpr_prop', 'user_order_reord_prop',\n",
              "       'user_dsp_mean', 'user_min_order_size', 'user_max_order_size',\n",
              "       'user_mean_order_size', 'product_ratios_users_oneshot',\n",
              "       'product_cart_mean', 'product_reord_count', 'product_reord_prop',\n",
              "       'prod_uniq_us', 'prod_uniq_us_prop', 'prod_us_reord_prop'],\n",
              "      dtype='object')"
            ]
          },
          "metadata": {
            "tags": []
          },
          "execution_count": 85
        }
      ]
    },
    {
      "cell_type": "code",
      "metadata": {
        "colab": {
          "base_uri": "https://localhost:8080/"
        },
        "id": "zW563cSnux4c",
        "outputId": "1a8189fa-656a-4a4f-b0da-773cdb436ca8"
      },
      "source": [
        "#loading user_product_features from disk\n",
        "user_product_features=pd.read_csv('user_product_features.csv')\n",
        "user_product_features.columns"
      ],
      "execution_count": null,
      "outputs": [
        {
          "output_type": "execute_result",
          "data": {
            "text/plain": [
              "Index(['user_id', 'product_id', 'user_days_since_product',\n",
              "       'user_product_hod_mean', 'user_product_dow_mean', 'user_product_prop',\n",
              "       'user_product_cnt', 'user_product_atc_mode_min',\n",
              "       'user_product_atc_mode_max', 'user_product_atc_min',\n",
              "       'user_product_atc_max', 'user_product_atc_mean'],\n",
              "      dtype='object')"
            ]
          },
          "metadata": {
            "tags": []
          },
          "execution_count": 86
        }
      ]
    },
    {
      "cell_type": "code",
      "metadata": {
        "colab": {
          "base_uri": "https://localhost:8080/"
        },
        "id": "WlO4MaKUv6Mk",
        "outputId": "3f70671c-40a3-456a-b018-14692e2c5dec"
      },
      "source": [
        "#reducing memory of user_product_features\n",
        "user_product_features=memory_decrease_by_column(user_product_features)"
      ],
      "execution_count": null,
      "outputs": [
        {
          "output_type": "stream",
          "text": [
            "Memory usage of dataframe is 1218.38 MB\n",
            "Memory usage after optimization is: 266.52 MB\n",
            "Decreased by 78.1%\n"
          ],
          "name": "stdout"
        }
      ]
    },
    {
      "cell_type": "code",
      "metadata": {
        "colab": {
          "base_uri": "https://localhost:8080/"
        },
        "id": "4DeMPhL3xPXU",
        "outputId": "fd019831-72ab-4412-a62a-d02d4897ae5f"
      },
      "source": [
        "#merging user_product_features with existing data\n",
        "user_order_products_prior_train1=pd.merge(user_order_products_prior_train1,user_product_features,on=['user_id','product_id'],how='left')\n",
        "user_order_products_prior_train1.columns"
      ],
      "execution_count": null,
      "outputs": [
        {
          "output_type": "execute_result",
          "data": {
            "text/plain": [
              "Index(['order_id', 'user_id', 'order_number', 'order_dow', 'order_hour_of_day',\n",
              "       'days_since_prior_order', 'product_id', 'reordered_new', 'user_max_ono',\n",
              "       'user_sum_reord', 'user_reord_prop', 'user_prod_reord_prop',\n",
              "       'user_uniqpr', 'user_uniqpr_prop', 'user_order_reord_prop',\n",
              "       'user_dsp_mean', 'user_min_order_size', 'user_max_order_size',\n",
              "       'user_mean_order_size', 'product_ratios_users_oneshot',\n",
              "       'product_cart_mean', 'product_reord_count', 'product_reord_prop',\n",
              "       'prod_uniq_us', 'prod_uniq_us_prop', 'prod_us_reord_prop',\n",
              "       'user_days_since_product', 'user_product_hod_mean',\n",
              "       'user_product_dow_mean', 'user_product_prop', 'user_product_cnt',\n",
              "       'user_product_atc_mode_min', 'user_product_atc_mode_max',\n",
              "       'user_product_atc_min', 'user_product_atc_max',\n",
              "       'user_product_atc_mean'],\n",
              "      dtype='object')"
            ]
          },
          "metadata": {
            "tags": []
          },
          "execution_count": 88
        }
      ]
    },
    {
      "cell_type": "code",
      "metadata": {
        "colab": {
          "base_uri": "https://localhost:8080/"
        },
        "id": "0MRY-YtqxbJ_",
        "outputId": "e5c4cf37-7179-46df-f25f-d85b39620957"
      },
      "source": [
        "#loading aisle_features from disk\n",
        "aisle_features=pd.read_csv('aisle_features.csv')\n",
        "aisle_features.columns"
      ],
      "execution_count": null,
      "outputs": [
        {
          "output_type": "execute_result",
          "data": {
            "text/plain": [
              "Index(['aisle_id', 'aisle_reordered', 'aisle_reordered_prop'], dtype='object')"
            ]
          },
          "metadata": {
            "tags": []
          },
          "execution_count": 89
        }
      ]
    },
    {
      "cell_type": "code",
      "metadata": {
        "colab": {
          "base_uri": "https://localhost:8080/"
        },
        "id": "13uufl8b3ixT",
        "outputId": "cc994e38-304f-49ef-aa3b-8ea9a9c46860"
      },
      "source": [
        "#reducing memory of aisle_features\n",
        "aisle_features=memory_decrease_by_column(aisle_features)"
      ],
      "execution_count": null,
      "outputs": [
        {
          "output_type": "stream",
          "text": [
            "Memory usage of dataframe is 0.00 MB\n",
            "Memory usage after optimization is: 0.00 MB\n",
            "Decreased by 68.1%\n"
          ],
          "name": "stdout"
        }
      ]
    },
    {
      "cell_type": "code",
      "metadata": {
        "colab": {
          "base_uri": "https://localhost:8080/"
        },
        "id": "t8iv0Zps4ok2",
        "outputId": "738a6773-e7b1-4405-e023-110a36def16c"
      },
      "source": [
        "#merging products with existing data\n",
        "user_order_products_prior_train1=pd.merge(user_order_products_prior_train1,products,on='product_id',how='left')\n",
        "user_order_products_prior_train1.columns"
      ],
      "execution_count": null,
      "outputs": [
        {
          "output_type": "execute_result",
          "data": {
            "text/plain": [
              "Index(['order_id', 'user_id', 'order_number', 'order_dow', 'order_hour_of_day',\n",
              "       'days_since_prior_order', 'product_id', 'reordered_new', 'user_max_ono',\n",
              "       'user_sum_reord', 'user_reord_prop', 'user_prod_reord_prop',\n",
              "       'user_uniqpr', 'user_uniqpr_prop', 'user_order_reord_prop',\n",
              "       'user_dsp_mean', 'user_min_order_size', 'user_max_order_size',\n",
              "       'user_mean_order_size', 'product_ratios_users_oneshot',\n",
              "       'product_cart_mean', 'product_reord_count', 'product_reord_prop',\n",
              "       'prod_uniq_us', 'prod_uniq_us_prop', 'prod_us_reord_prop',\n",
              "       'user_days_since_product', 'user_product_hod_mean',\n",
              "       'user_product_dow_mean', 'user_product_prop', 'user_product_cnt',\n",
              "       'user_product_atc_mode_min', 'user_product_atc_mode_max',\n",
              "       'user_product_atc_min', 'user_product_atc_max', 'user_product_atc_mean',\n",
              "       'aisle_id', 'department_id'],\n",
              "      dtype='object')"
            ]
          },
          "metadata": {
            "tags": []
          },
          "execution_count": 91
        }
      ]
    },
    {
      "cell_type": "code",
      "metadata": {
        "colab": {
          "base_uri": "https://localhost:8080/"
        },
        "id": "LBiEQBPX4cRL",
        "outputId": "8b94b90d-96ef-43bc-b037-aef88db7091a"
      },
      "source": [
        "#merging aisle_features with existing data\n",
        "user_order_products_prior_train1=pd.merge(user_order_products_prior_train1,aisle_features,on=['aisle_id'],how='left')\n",
        "user_order_products_prior_train1.columns"
      ],
      "execution_count": null,
      "outputs": [
        {
          "output_type": "execute_result",
          "data": {
            "text/plain": [
              "Index(['order_id', 'user_id', 'order_number', 'order_dow', 'order_hour_of_day',\n",
              "       'days_since_prior_order', 'product_id', 'reordered_new', 'user_max_ono',\n",
              "       'user_sum_reord', 'user_reord_prop', 'user_prod_reord_prop',\n",
              "       'user_uniqpr', 'user_uniqpr_prop', 'user_order_reord_prop',\n",
              "       'user_dsp_mean', 'user_min_order_size', 'user_max_order_size',\n",
              "       'user_mean_order_size', 'product_ratios_users_oneshot',\n",
              "       'product_cart_mean', 'product_reord_count', 'product_reord_prop',\n",
              "       'prod_uniq_us', 'prod_uniq_us_prop', 'prod_us_reord_prop',\n",
              "       'user_days_since_product', 'user_product_hod_mean',\n",
              "       'user_product_dow_mean', 'user_product_prop', 'user_product_cnt',\n",
              "       'user_product_atc_mode_min', 'user_product_atc_mode_max',\n",
              "       'user_product_atc_min', 'user_product_atc_max', 'user_product_atc_mean',\n",
              "       'aisle_id', 'department_id', 'aisle_reordered', 'aisle_reordered_prop'],\n",
              "      dtype='object')"
            ]
          },
          "metadata": {
            "tags": []
          },
          "execution_count": 92
        }
      ]
    },
    {
      "cell_type": "code",
      "metadata": {
        "colab": {
          "base_uri": "https://localhost:8080/"
        },
        "id": "vvrtfV-d8NkK",
        "outputId": "923d912c-2bde-41dd-8889-4509d73e883b"
      },
      "source": [
        "#loading department features from disk\n",
        "dep_features=pd.read_csv('dep_features.csv')\n",
        "dep_features.columns"
      ],
      "execution_count": null,
      "outputs": [
        {
          "output_type": "execute_result",
          "data": {
            "text/plain": [
              "Index(['department_id', 'dep_reordered', 'dep_reordered_prop'], dtype='object')"
            ]
          },
          "metadata": {
            "tags": []
          },
          "execution_count": 95
        }
      ]
    },
    {
      "cell_type": "code",
      "metadata": {
        "colab": {
          "base_uri": "https://localhost:8080/"
        },
        "id": "W1FUNBDN85k7",
        "outputId": "f2af5eb5-b4bb-4243-b826-2de1fa015f38"
      },
      "source": [
        "#reducing memory of dep features\n",
        "dep_features=memory_decrease_by_column(dep_features)"
      ],
      "execution_count": null,
      "outputs": [
        {
          "output_type": "stream",
          "text": [
            "Memory usage of dataframe is 0.00 MB\n",
            "Memory usage after optimization is: 0.00 MB\n",
            "Decreased by 56.5%\n"
          ],
          "name": "stdout"
        }
      ]
    },
    {
      "cell_type": "code",
      "metadata": {
        "colab": {
          "base_uri": "https://localhost:8080/"
        },
        "id": "5Pe7Keor9dxy",
        "outputId": "1e617127-4592-48e1-b64b-1d344311c34a"
      },
      "source": [
        "#merging dep features with existing data\n",
        "user_order_products_prior_train1=pd.merge(user_order_products_prior_train1,dep_features,on=['department_id'],how='left')\n",
        "user_order_products_prior_train1.columns"
      ],
      "execution_count": null,
      "outputs": [
        {
          "output_type": "execute_result",
          "data": {
            "text/plain": [
              "Index(['order_id', 'user_id', 'order_number', 'order_dow', 'order_hour_of_day',\n",
              "       'days_since_prior_order', 'product_id', 'reordered_new', 'user_max_ono',\n",
              "       'user_sum_reord', 'user_reord_prop', 'user_prod_reord_prop',\n",
              "       'user_uniqpr', 'user_uniqpr_prop', 'user_order_reord_prop',\n",
              "       'user_dsp_mean', 'user_min_order_size', 'user_max_order_size',\n",
              "       'user_mean_order_size', 'product_ratios_users_oneshot',\n",
              "       'product_cart_mean', 'product_reord_count', 'product_reord_prop',\n",
              "       'prod_uniq_us', 'prod_uniq_us_prop', 'prod_us_reord_prop',\n",
              "       'user_days_since_product', 'user_product_hod_mean',\n",
              "       'user_product_dow_mean', 'user_product_prop', 'user_product_cnt',\n",
              "       'user_product_atc_mode_min', 'user_product_atc_mode_max',\n",
              "       'user_product_atc_min', 'user_product_atc_max', 'user_product_atc_mean',\n",
              "       'aisle_id', 'department_id', 'aisle_reordered', 'aisle_reordered_prop',\n",
              "       'dep_reordered', 'dep_reordered_prop'],\n",
              "      dtype='object')"
            ]
          },
          "metadata": {
            "tags": []
          },
          "execution_count": 97
        }
      ]
    },
    {
      "cell_type": "code",
      "metadata": {
        "colab": {
          "base_uri": "https://localhost:8080/"
        },
        "id": "8CleXQ4pG4qs",
        "outputId": "1dbc5aa1-6436-4157-b332-eaffec741c51"
      },
      "source": [
        "#loading add_to_cart_order features from disk\n",
        "atc_features=pd.read_csv('atc_features.csv',usecols=['add_to_cart_order','atc_reordered_prop'])\n",
        "atc_features.columns=['user_product_atc_mode_min','atc_reordered_prop']\n",
        "atc_features.columns"
      ],
      "execution_count": null,
      "outputs": [
        {
          "output_type": "execute_result",
          "data": {
            "text/plain": [
              "Index(['user_product_atc_mode_min', 'atc_reordered_prop'], dtype='object')"
            ]
          },
          "metadata": {
            "tags": []
          },
          "execution_count": 98
        }
      ]
    },
    {
      "cell_type": "code",
      "metadata": {
        "colab": {
          "base_uri": "https://localhost:8080/"
        },
        "id": "BbXUPO4JK-Ii",
        "outputId": "63d7df0e-2d84-436a-e6ec-d1c7aeddb673"
      },
      "source": [
        "#reducing memory of atc_features\n",
        "atc_features=memory_decrease_by_column(atc_features)"
      ],
      "execution_count": null,
      "outputs": [
        {
          "output_type": "stream",
          "text": [
            "Memory usage of dataframe is 0.00 MB\n",
            "Memory usage after optimization is: 0.00 MB\n",
            "Decreased by 77.0%\n"
          ],
          "name": "stdout"
        }
      ]
    },
    {
      "cell_type": "code",
      "metadata": {
        "colab": {
          "base_uri": "https://localhost:8080/"
        },
        "id": "1glbQwNvLGU1",
        "outputId": "028ffcc0-4497-4b65-ea15-203935b246d7"
      },
      "source": [
        "#merging atc_features with existing data\n",
        "user_order_products_prior_train1=pd.merge(user_order_products_prior_train1,atc_features,on=['user_product_atc_mode_min'],how='left')\n",
        "user_order_products_prior_train1.columns"
      ],
      "execution_count": null,
      "outputs": [
        {
          "output_type": "execute_result",
          "data": {
            "text/plain": [
              "Index(['order_id', 'user_id', 'order_number', 'order_dow', 'order_hour_of_day',\n",
              "       'days_since_prior_order', 'product_id', 'reordered_new', 'user_max_ono',\n",
              "       'user_sum_reord', 'user_reord_prop', 'user_prod_reord_prop',\n",
              "       'user_uniqpr', 'user_uniqpr_prop', 'user_order_reord_prop',\n",
              "       'user_dsp_mean', 'user_min_order_size', 'user_max_order_size',\n",
              "       'user_mean_order_size', 'product_ratios_users_oneshot',\n",
              "       'product_cart_mean', 'product_reord_count', 'product_reord_prop',\n",
              "       'prod_uniq_us', 'prod_uniq_us_prop', 'prod_us_reord_prop',\n",
              "       'user_days_since_product', 'user_product_hod_mean',\n",
              "       'user_product_dow_mean', 'user_product_prop', 'user_product_cnt',\n",
              "       'user_product_atc_mode_min', 'user_product_atc_mode_max',\n",
              "       'user_product_atc_min', 'user_product_atc_max', 'user_product_atc_mean',\n",
              "       'aisle_id', 'department_id', 'aisle_reordered', 'aisle_reordered_prop',\n",
              "       'dep_reordered', 'dep_reordered_prop', 'atc_reordered_prop'],\n",
              "      dtype='object')"
            ]
          },
          "metadata": {
            "tags": []
          },
          "execution_count": 100
        }
      ]
    },
    {
      "cell_type": "code",
      "metadata": {
        "colab": {
          "base_uri": "https://localhost:8080/"
        },
        "id": "K8aIDpj7U6aY",
        "outputId": "a30b18a5-b8a1-42fc-e21c-7a0ec186980e"
      },
      "source": [
        "#loading order_dow features from disk\n",
        "order_dow_features=pd.read_csv('order_dow_features.csv')\n",
        "order_dow_features.columns"
      ],
      "execution_count": null,
      "outputs": [
        {
          "output_type": "execute_result",
          "data": {
            "text/plain": [
              "Index(['order_dow', 'order_dow_reordered', 'order_dow_reordered_prop'], dtype='object')"
            ]
          },
          "metadata": {
            "tags": []
          },
          "execution_count": 101
        }
      ]
    },
    {
      "cell_type": "code",
      "metadata": {
        "colab": {
          "base_uri": "https://localhost:8080/"
        },
        "id": "ZYyVBDzLU6pi",
        "outputId": "24f97d3f-6c9a-49d6-ef05-2c8d89c75204"
      },
      "source": [
        "#reducing memory of order_dow features\n",
        "order_dow_features=memory_decrease_by_column(order_dow_features)"
      ],
      "execution_count": null,
      "outputs": [
        {
          "output_type": "stream",
          "text": [
            "Memory usage of dataframe is 0.00 MB\n",
            "Memory usage after optimization is: 0.00 MB\n",
            "Decreased by 40.2%\n"
          ],
          "name": "stdout"
        }
      ]
    },
    {
      "cell_type": "code",
      "metadata": {
        "colab": {
          "base_uri": "https://localhost:8080/"
        },
        "id": "Fjk07lffU6xH",
        "outputId": "3b38da4f-6703-4880-d03a-66c279650281"
      },
      "source": [
        "#merging order_dow features with existing data\n",
        "user_order_products_prior_train1=pd.merge(user_order_products_prior_train1,order_dow_features,on=['order_dow'],how='left')\n",
        "user_order_products_prior_train1.columns"
      ],
      "execution_count": null,
      "outputs": [
        {
          "output_type": "execute_result",
          "data": {
            "text/plain": [
              "Index(['order_id', 'user_id', 'order_number', 'order_dow', 'order_hour_of_day',\n",
              "       'days_since_prior_order', 'product_id', 'reordered_new', 'user_max_ono',\n",
              "       'user_sum_reord', 'user_reord_prop', 'user_prod_reord_prop',\n",
              "       'user_uniqpr', 'user_uniqpr_prop', 'user_order_reord_prop',\n",
              "       'user_dsp_mean', 'user_min_order_size', 'user_max_order_size',\n",
              "       'user_mean_order_size', 'product_ratios_users_oneshot',\n",
              "       'product_cart_mean', 'product_reord_count', 'product_reord_prop',\n",
              "       'prod_uniq_us', 'prod_uniq_us_prop', 'prod_us_reord_prop',\n",
              "       'user_days_since_product', 'user_product_hod_mean',\n",
              "       'user_product_dow_mean', 'user_product_prop', 'user_product_cnt',\n",
              "       'user_product_atc_mode_min', 'user_product_atc_mode_max',\n",
              "       'user_product_atc_min', 'user_product_atc_max', 'user_product_atc_mean',\n",
              "       'aisle_id', 'department_id', 'aisle_reordered', 'aisle_reordered_prop',\n",
              "       'dep_reordered', 'dep_reordered_prop', 'atc_reordered_prop',\n",
              "       'order_dow_reordered', 'order_dow_reordered_prop'],\n",
              "      dtype='object')"
            ]
          },
          "metadata": {
            "tags": []
          },
          "execution_count": 103
        }
      ]
    },
    {
      "cell_type": "code",
      "metadata": {
        "colab": {
          "base_uri": "https://localhost:8080/"
        },
        "id": "q8vjjrpaU60L",
        "outputId": "e17f4077-6d03-4e8a-d547-50c2fa7ac911"
      },
      "source": [
        "#loading order_hour_of_day features from disk\n",
        "order_hod_features=pd.read_csv('order_hod_features.csv')\n",
        "order_hod_features.columns"
      ],
      "execution_count": null,
      "outputs": [
        {
          "output_type": "execute_result",
          "data": {
            "text/plain": [
              "Index(['order_hour_of_day', 'order_hod_reordered', 'order_hod_reordered_prop'], dtype='object')"
            ]
          },
          "metadata": {
            "tags": []
          },
          "execution_count": 104
        }
      ]
    },
    {
      "cell_type": "code",
      "metadata": {
        "colab": {
          "base_uri": "https://localhost:8080/"
        },
        "id": "Q8J5hUtOVnX_",
        "outputId": "a322ec08-982a-4f69-82e3-1ab1bf5a0bab"
      },
      "source": [
        "#reducing memory of order_hod_features\n",
        "order_hod_features=memory_decrease_by_column(order_hod_features)"
      ],
      "execution_count": null,
      "outputs": [
        {
          "output_type": "stream",
          "text": [
            "Memory usage of dataframe is 0.00 MB\n",
            "Memory usage after optimization is: 0.00 MB\n",
            "Decreased by 58.0%\n"
          ],
          "name": "stdout"
        }
      ]
    },
    {
      "cell_type": "code",
      "metadata": {
        "colab": {
          "base_uri": "https://localhost:8080/"
        },
        "id": "waRYRRSOVngL",
        "outputId": "290fd400-ffc4-4cbb-c43e-7037eed02779"
      },
      "source": [
        "#merging order_hod features with existing data\n",
        "user_order_products_prior_train1=pd.merge(user_order_products_prior_train1,order_hod_features,on=['order_hour_of_day'],how='left')\n",
        "user_order_products_prior_train1.columns"
      ],
      "execution_count": null,
      "outputs": [
        {
          "output_type": "execute_result",
          "data": {
            "text/plain": [
              "Index(['order_id', 'user_id', 'order_number', 'order_dow', 'order_hour_of_day',\n",
              "       'days_since_prior_order', 'product_id', 'reordered_new', 'user_max_ono',\n",
              "       'user_sum_reord', 'user_reord_prop', 'user_prod_reord_prop',\n",
              "       'user_uniqpr', 'user_uniqpr_prop', 'user_order_reord_prop',\n",
              "       'user_dsp_mean', 'user_min_order_size', 'user_max_order_size',\n",
              "       'user_mean_order_size', 'product_ratios_users_oneshot',\n",
              "       'product_cart_mean', 'product_reord_count', 'product_reord_prop',\n",
              "       'prod_uniq_us', 'prod_uniq_us_prop', 'prod_us_reord_prop',\n",
              "       'user_days_since_product', 'user_product_hod_mean',\n",
              "       'user_product_dow_mean', 'user_product_prop', 'user_product_cnt',\n",
              "       'user_product_atc_mode_min', 'user_product_atc_mode_max',\n",
              "       'user_product_atc_min', 'user_product_atc_max', 'user_product_atc_mean',\n",
              "       'aisle_id', 'department_id', 'aisle_reordered', 'aisle_reordered_prop',\n",
              "       'dep_reordered', 'dep_reordered_prop', 'atc_reordered_prop',\n",
              "       'order_dow_reordered', 'order_dow_reordered_prop',\n",
              "       'order_hod_reordered', 'order_hod_reordered_prop'],\n",
              "      dtype='object')"
            ]
          },
          "metadata": {
            "tags": []
          },
          "execution_count": 106
        }
      ]
    },
    {
      "cell_type": "code",
      "metadata": {
        "colab": {
          "base_uri": "https://localhost:8080/"
        },
        "id": "6y6KkVABVnje",
        "outputId": "bacd170c-b957-4b05-ba02-8132efadee90"
      },
      "source": [
        "#loading order_dow, order_hour_of_day features from disk\n",
        "order_dow_hod_features=pd.read_csv('order_dow_hod_features.csv')\n",
        "order_dow_hod_features.columns"
      ],
      "execution_count": null,
      "outputs": [
        {
          "output_type": "execute_result",
          "data": {
            "text/plain": [
              "Index(['order_dow', 'order_hour_of_day', 'order_dow_hod_reord_count',\n",
              "       'order_dow_hod_reord_prop'],\n",
              "      dtype='object')"
            ]
          },
          "metadata": {
            "tags": []
          },
          "execution_count": 107
        }
      ]
    },
    {
      "cell_type": "code",
      "metadata": {
        "colab": {
          "base_uri": "https://localhost:8080/"
        },
        "id": "h_nXVXMAWK0i",
        "outputId": "6ffbcc75-2586-4b72-9f0b-0e0fdad17940"
      },
      "source": [
        "#reducing memory of order_dow_hod_features\n",
        "order_dow_hod_features=memory_decrease_by_column(order_dow_hod_features)"
      ],
      "execution_count": null,
      "outputs": [
        {
          "output_type": "stream",
          "text": [
            "Memory usage of dataframe is 0.01 MB\n",
            "Memory usage after optimization is: 0.00 MB\n",
            "Decreased by 73.3%\n"
          ],
          "name": "stdout"
        }
      ]
    },
    {
      "cell_type": "code",
      "metadata": {
        "colab": {
          "base_uri": "https://localhost:8080/"
        },
        "id": "bZVEOZufWK3v",
        "outputId": "8aa8d178-b5a7-42bf-cb1c-f883cb1a669a"
      },
      "source": [
        "#merging order_dow_hod_features with existing data\n",
        "user_order_products_prior_train1=pd.merge(user_order_products_prior_train1,order_dow_hod_features,on=['order_dow','order_hour_of_day'],how='left')\n",
        "user_order_products_prior_train1.columns"
      ],
      "execution_count": null,
      "outputs": [
        {
          "output_type": "execute_result",
          "data": {
            "text/plain": [
              "Index(['order_id', 'user_id', 'order_number', 'order_dow', 'order_hour_of_day',\n",
              "       'days_since_prior_order', 'product_id', 'reordered_new', 'user_max_ono',\n",
              "       'user_sum_reord', 'user_reord_prop', 'user_prod_reord_prop',\n",
              "       'user_uniqpr', 'user_uniqpr_prop', 'user_order_reord_prop',\n",
              "       'user_dsp_mean', 'user_min_order_size', 'user_max_order_size',\n",
              "       'user_mean_order_size', 'product_ratios_users_oneshot',\n",
              "       'product_cart_mean', 'product_reord_count', 'product_reord_prop',\n",
              "       'prod_uniq_us', 'prod_uniq_us_prop', 'prod_us_reord_prop',\n",
              "       'user_days_since_product', 'user_product_hod_mean',\n",
              "       'user_product_dow_mean', 'user_product_prop', 'user_product_cnt',\n",
              "       'user_product_atc_mode_min', 'user_product_atc_mode_max',\n",
              "       'user_product_atc_min', 'user_product_atc_max', 'user_product_atc_mean',\n",
              "       'aisle_id', 'department_id', 'aisle_reordered', 'aisle_reordered_prop',\n",
              "       'dep_reordered', 'dep_reordered_prop', 'atc_reordered_prop',\n",
              "       'order_dow_reordered', 'order_dow_reordered_prop',\n",
              "       'order_hod_reordered', 'order_hod_reordered_prop',\n",
              "       'order_dow_hod_reord_count', 'order_dow_hod_reord_prop'],\n",
              "      dtype='object')"
            ]
          },
          "metadata": {
            "tags": []
          },
          "execution_count": 109
        }
      ]
    },
    {
      "cell_type": "code",
      "metadata": {
        "colab": {
          "base_uri": "https://localhost:8080/"
        },
        "id": "UHqGKXW1WK6u",
        "outputId": "8a782b06-9ee4-4f1b-dec0-878f85e258be"
      },
      "source": [
        "#loading order_number, days_since_prior_order_features from disk\n",
        "ono_dsp_features=pd.read_csv('ono_dsp_features.csv')\n",
        "ono_dsp_features.columns"
      ],
      "execution_count": null,
      "outputs": [
        {
          "output_type": "execute_result",
          "data": {
            "text/plain": [
              "Index(['order_number', 'days_since_prior_order', 'ono_dsp_reord',\n",
              "       'ono_dsp_reord_prop'],\n",
              "      dtype='object')"
            ]
          },
          "metadata": {
            "tags": []
          },
          "execution_count": 110
        }
      ]
    },
    {
      "cell_type": "code",
      "metadata": {
        "colab": {
          "base_uri": "https://localhost:8080/"
        },
        "id": "ozAvroC3VnqA",
        "outputId": "4d97d23d-0d5e-4ac8-8d70-6c95d6d98745"
      },
      "source": [
        "#reducing memory of ono_dsp_features\n",
        "ono_dsp_features=memory_decrease_by_column(ono_dsp_features)"
      ],
      "execution_count": null,
      "outputs": [
        {
          "output_type": "stream",
          "text": [
            "Memory usage of dataframe is 0.09 MB\n",
            "Memory usage after optimization is: 0.02 MB\n",
            "Decreased by 71.8%\n"
          ],
          "name": "stdout"
        }
      ]
    },
    {
      "cell_type": "code",
      "metadata": {
        "colab": {
          "base_uri": "https://localhost:8080/"
        },
        "id": "eArr0K8eYP_K",
        "outputId": "7251bbb7-7662-4bef-ca91-7cf1c0d935f0"
      },
      "source": [
        "#merging ono_dsp_features with existing data\n",
        "user_order_products_prior_train1=pd.merge(user_order_products_prior_train1,ono_dsp_features,on=['order_number','days_since_prior_order'],how='left')\n",
        "user_order_products_prior_train1.columns"
      ],
      "execution_count": null,
      "outputs": [
        {
          "output_type": "execute_result",
          "data": {
            "text/plain": [
              "Index(['order_id', 'user_id', 'order_number', 'order_dow', 'order_hour_of_day',\n",
              "       'days_since_prior_order', 'product_id', 'reordered_new', 'user_max_ono',\n",
              "       'user_sum_reord', 'user_reord_prop', 'user_prod_reord_prop',\n",
              "       'user_uniqpr', 'user_uniqpr_prop', 'user_order_reord_prop',\n",
              "       'user_dsp_mean', 'user_min_order_size', 'user_max_order_size',\n",
              "       'user_mean_order_size', 'product_ratios_users_oneshot',\n",
              "       'product_cart_mean', 'product_reord_count', 'product_reord_prop',\n",
              "       'prod_uniq_us', 'prod_uniq_us_prop', 'prod_us_reord_prop',\n",
              "       'user_days_since_product', 'user_product_hod_mean',\n",
              "       'user_product_dow_mean', 'user_product_prop', 'user_product_cnt',\n",
              "       'user_product_atc_mode_min', 'user_product_atc_mode_max',\n",
              "       'user_product_atc_min', 'user_product_atc_max', 'user_product_atc_mean',\n",
              "       'aisle_id', 'department_id', 'aisle_reordered', 'aisle_reordered_prop',\n",
              "       'dep_reordered', 'dep_reordered_prop', 'atc_reordered_prop',\n",
              "       'order_dow_reordered', 'order_dow_reordered_prop',\n",
              "       'order_hod_reordered', 'order_hod_reordered_prop',\n",
              "       'order_dow_hod_reord_count', 'order_dow_hod_reord_prop',\n",
              "       'ono_dsp_reord', 'ono_dsp_reord_prop'],\n",
              "      dtype='object')"
            ]
          },
          "metadata": {
            "tags": []
          },
          "execution_count": 112
        }
      ]
    },
    {
      "cell_type": "code",
      "metadata": {
        "colab": {
          "base_uri": "https://localhost:8080/"
        },
        "id": "rSfuzVAJF01n",
        "outputId": "ab9b2e65-26f6-4af5-fe81-0c96300970b7"
      },
      "source": [
        "#calulcating the correct days_since_product for a user and whether the product was ordered today by user feature\n",
        "user_order_products_prior_train1['user_days_since_product_corrected']=user_order_products_prior_train1['user_days_since_product']+user_order_products_prior_train1['days_since_prior_order']\n",
        "user_order_products_prior_train1['product_ordered_today']=user_order_products_prior_train1['user_days_since_product_corrected'].apply(lambda x: 1 if x==0 else 0)\n",
        "user_order_products_prior_train1.columns"
      ],
      "execution_count": null,
      "outputs": [
        {
          "output_type": "execute_result",
          "data": {
            "text/plain": [
              "Index(['order_id', 'user_id', 'order_number', 'order_dow', 'order_hour_of_day',\n",
              "       'days_since_prior_order', 'product_id', 'reordered_new', 'user_max_ono',\n",
              "       'user_sum_reord', 'user_reord_prop', 'user_prod_reord_prop',\n",
              "       'user_uniqpr', 'user_uniqpr_prop', 'user_order_reord_prop',\n",
              "       'user_dsp_mean', 'user_min_order_size', 'user_max_order_size',\n",
              "       'user_mean_order_size', 'product_ratios_users_oneshot',\n",
              "       'product_cart_mean', 'product_reord_count', 'product_reord_prop',\n",
              "       'prod_uniq_us', 'prod_uniq_us_prop', 'prod_us_reord_prop',\n",
              "       'user_days_since_product', 'user_product_hod_mean',\n",
              "       'user_product_dow_mean', 'user_product_prop', 'user_product_cnt',\n",
              "       'user_product_atc_mode_min', 'user_product_atc_mode_max',\n",
              "       'user_product_atc_min', 'user_product_atc_max', 'user_product_atc_mean',\n",
              "       'aisle_id', 'department_id', 'aisle_reordered', 'aisle_reordered_prop',\n",
              "       'dep_reordered', 'dep_reordered_prop', 'atc_reordered_prop',\n",
              "       'order_dow_reordered', 'order_dow_reordered_prop',\n",
              "       'order_hod_reordered', 'order_hod_reordered_prop',\n",
              "       'order_dow_hod_reord_count', 'order_dow_hod_reord_prop',\n",
              "       'ono_dsp_reord', 'ono_dsp_reord_prop',\n",
              "       'user_days_since_product_corrected', 'product_ordered_today'],\n",
              "      dtype='object')"
            ]
          },
          "metadata": {
            "tags": []
          },
          "execution_count": 113
        }
      ]
    },
    {
      "cell_type": "code",
      "metadata": {
        "id": "rVTvV3BzMQQV"
      },
      "source": [
        "#reducing memory of product_ordered_today\n",
        "user_order_products_prior_train1.product_ordered_today=user_order_products_prior_train1.product_ordered_today.astype(np.uint8)"
      ],
      "execution_count": null,
      "outputs": []
    },
    {
      "cell_type": "code",
      "metadata": {
        "id": "szEeipGuEtSq"
      },
      "source": [
        "#filling nan with 0\n",
        "user_order_products_prior_train1.fillna(0,inplace=True)"
      ],
      "execution_count": null,
      "outputs": []
    },
    {
      "cell_type": "code",
      "metadata": {
        "colab": {
          "base_uri": "https://localhost:8080/"
        },
        "id": "92Th4NSVZ5Zd",
        "outputId": "f4ab3782-5d46-4992-d948-0aa4e0eca96b"
      },
      "source": [
        "#reducing memory of user_order_products_prior_train1\n",
        "user_order_products_prior_train1=memory_decrease_by_column(user_order_products_prior_train1)"
      ],
      "execution_count": null,
      "outputs": [
        {
          "output_type": "stream",
          "text": [
            "Memory usage of dataframe is 994.09 MB\n",
            "Memory usage after optimization is: 961.77 MB\n",
            "Decreased by 3.3%\n"
          ],
          "name": "stdout"
        }
      ]
    },
    {
      "cell_type": "code",
      "metadata": {
        "id": "ZkpUMJUOMHMC"
      },
      "source": [
        "#saving entire data to disk\n",
        "user_order_products_prior_train1.to_csv('all_features_combined.csv',index=False)"
      ],
      "execution_count": null,
      "outputs": []
    },
    {
      "cell_type": "code",
      "metadata": {
        "id": "OPZ4T3AE6tOD",
        "colab": {
          "base_uri": "https://localhost:8080/"
        },
        "outputId": "637fd002-6ee5-4b62-8b3e-a4c3f818948a"
      },
      "source": [
        "#loading data from disk\n",
        "user_order_products_prior_train1=pd.read_csv('all_features_combined.csv')\n",
        "user_order_products_prior_train1.columns"
      ],
      "execution_count": 4,
      "outputs": [
        {
          "output_type": "execute_result",
          "data": {
            "text/plain": [
              "Index(['order_id', 'user_id', 'order_number', 'order_dow', 'order_hour_of_day',\n",
              "       'days_since_prior_order', 'product_id', 'reordered_new', 'user_max_ono',\n",
              "       'user_sum_reord', 'user_reord_prop', 'user_prod_reord_prop',\n",
              "       'user_uniqpr', 'user_uniqpr_prop', 'user_order_reord_prop',\n",
              "       'user_dsp_mean', 'user_min_order_size', 'user_max_order_size',\n",
              "       'user_mean_order_size', 'product_ratios_users_oneshot',\n",
              "       'product_cart_mean', 'product_reord_count', 'product_reord_prop',\n",
              "       'prod_uniq_us', 'prod_uniq_us_prop', 'prod_us_reord_prop',\n",
              "       'user_days_since_product', 'user_product_hod_mean',\n",
              "       'user_product_dow_mean', 'user_product_prop', 'user_product_cnt',\n",
              "       'user_product_atc_mode_min', 'user_product_atc_mode_max',\n",
              "       'user_product_atc_min', 'user_product_atc_max', 'user_product_atc_mean',\n",
              "       'aisle_id', 'department_id', 'aisle_reordered', 'aisle_reordered_prop',\n",
              "       'dep_reordered', 'dep_reordered_prop', 'atc_reordered_prop',\n",
              "       'order_dow_reordered', 'order_dow_reordered_prop',\n",
              "       'order_hod_reordered', 'order_hod_reordered_prop',\n",
              "       'order_dow_hod_reord_count', 'order_dow_hod_reord_prop',\n",
              "       'ono_dsp_reord', 'ono_dsp_reord_prop',\n",
              "       'user_days_since_product_corrected', 'product_ordered_today'],\n",
              "      dtype='object')"
            ]
          },
          "metadata": {
            "tags": []
          },
          "execution_count": 4
        }
      ]
    },
    {
      "cell_type": "code",
      "metadata": {
        "id": "E4tG6dl-6tOD",
        "colab": {
          "base_uri": "https://localhost:8080/"
        },
        "outputId": "0ab22dbc-21da-4c6f-be46-dcb8993ec0f3"
      },
      "source": [
        "#reducing memory of user_order_products_prior_train1\n",
        "user_order_products_prior_train1=memory_decrease_by_column(user_order_products_prior_train1)"
      ],
      "execution_count": 5,
      "outputs": [
        {
          "output_type": "stream",
          "text": [
            "Memory usage of dataframe is 3426.80 MB\n",
            "Memory usage after optimization is: 897.11 MB\n",
            "Decreased by 73.8%\n"
          ],
          "name": "stdout"
        }
      ]
    },
    {
      "cell_type": "code",
      "metadata": {
        "id": "1lruo6MzWdAo"
      },
      "source": [
        "#splitting users randomly into train_users and cv_users\n",
        "import random\n",
        "user_ids=list(set(user_order_products_prior_train1.user_id))\n",
        "random.shuffle(user_ids)\n",
        "train_users=user_ids[:120000]\n",
        "cv_users=user_ids[120000:]\n",
        "print(len(user_ids),len(train_users),len(cv_users))"
      ],
      "execution_count": null,
      "outputs": []
    },
    {
      "cell_type": "code",
      "metadata": {
        "id": "053eK7ejWphZ"
      },
      "source": [
        "#saving train and cv users to disk\n",
        "train_users_df=pd.DataFrame({'train_users':train_users}).to_csv('train_users.csv',index=False)\n",
        "cv_users_df=pd.DataFrame({'cv_users':cv_users}).to_csv('cv_users.csv',index=False)"
      ],
      "execution_count": null,
      "outputs": []
    },
    {
      "cell_type": "code",
      "metadata": {
        "id": "FGvpBpaw6tOH"
      },
      "source": [
        "#loading train and cv users from disk\n",
        "train_users=pd.read_csv('train_users.csv')\n",
        "train_users=train_users.train_users\n",
        "cv_users=pd.read_csv('cv_users.csv')\n",
        "cv_users=cv_users.cv_users"
      ],
      "execution_count": 6,
      "outputs": []
    },
    {
      "cell_type": "code",
      "metadata": {
        "id": "pVl9O0NpWvsp"
      },
      "source": [
        "#seperating train and cv data based on user id\n",
        "train_data=user_order_products_prior_train1[user_order_products_prior_train1.user_id.isin(train_users)]\n",
        "cv_data=user_order_products_prior_train1[user_order_products_prior_train1.user_id.isin(cv_users)]"
      ],
      "execution_count": 7,
      "outputs": []
    },
    {
      "cell_type": "code",
      "metadata": {
        "id": "Go-75bXMWzR4"
      },
      "source": [
        "#preparing train and cv features and label data\n",
        "id_columns=['order_id','user_id','product_id','aisle_id','department_id']\n",
        "useless_columns=['reordered_new']\n",
        "X_train=train_data.drop(id_columns+useless_columns,axis=1)\n",
        "y_train=train_data['reordered_new']\n",
        "X_cv=cv_data[X_train.columns]\n",
        "y_cv=cv_data['reordered_new']"
      ],
      "execution_count": 8,
      "outputs": []
    },
    {
      "cell_type": "code",
      "metadata": {
        "id": "Rl9OApLMbQVD"
      },
      "source": [
        "#extracting max and min of each feature of train data\n",
        "X_train_min=X_train.min(axis=0)\n",
        "X_train_max=X_train.max(axis=0)\n",
        "X_train_max_min=X_train_max-X_train_min\n"
      ],
      "execution_count": 9,
      "outputs": []
    },
    {
      "cell_type": "code",
      "metadata": {
        "id": "hkDAV2LNdTZt"
      },
      "source": [
        "#performing min-max normalization on  train data and cv data\n",
        "X_train=(X_train-X_train_min)/(X_train_max_min)\n",
        "X_cv=(X_cv-X_train_min)/(X_train_max_min)"
      ],
      "execution_count": 10,
      "outputs": []
    },
    {
      "cell_type": "code",
      "metadata": {
        "colab": {
          "base_uri": "https://localhost:8080/"
        },
        "id": "F-OW97qQeO8O",
        "outputId": "f25a478b-dd50-4a14-adf2-13b2e6eb9a3b"
      },
      "source": [
        "#checking for nulls\n",
        "X_train.isnull().any().any(),X_cv.isnull().any().any()"
      ],
      "execution_count": 11,
      "outputs": [
        {
          "output_type": "execute_result",
          "data": {
            "text/plain": [
              "(False, False)"
            ]
          },
          "metadata": {
            "tags": []
          },
          "execution_count": 11
        }
      ]
    },
    {
      "cell_type": "code",
      "metadata": {
        "colab": {
          "base_uri": "https://localhost:8080/"
        },
        "id": "JXpA3OHLepsE",
        "outputId": "004cf3cd-0783-4617-96c3-084c2eb946dc"
      },
      "source": [
        "#garbage collection\n",
        "gc.collect()"
      ],
      "execution_count": 12,
      "outputs": [
        {
          "output_type": "execute_result",
          "data": {
            "text/plain": [
              "11"
            ]
          },
          "metadata": {
            "tags": []
          },
          "execution_count": 12
        }
      ]
    },
    {
      "cell_type": "code",
      "metadata": {
        "colab": {
          "base_uri": "https://localhost:8080/"
        },
        "id": "nqBlG4CHhLTq",
        "outputId": "370742b0-3ae9-4584-f331-e38f640c228b"
      },
      "source": [
        "#checking balance of the data\n",
        "y_train.value_counts()"
      ],
      "execution_count": null,
      "outputs": [
        {
          "output_type": "execute_result",
          "data": {
            "text/plain": [
              "0    6997130\n",
              "1     758820\n",
              "Name: reordered_new, dtype: int64"
            ]
          },
          "metadata": {
            "tags": []
          },
          "execution_count": 15
        }
      ]
    },
    {
      "cell_type": "markdown",
      "metadata": {
        "id": "q9VvNBuRWvQr"
      },
      "source": [
        "**Logistic Regression**"
      ]
    },
    {
      "cell_type": "code",
      "metadata": {
        "colab": {
          "base_uri": "https://localhost:8080/"
        },
        "id": "hk4a5P50eR0b",
        "outputId": "2abb4c26-979d-4b89-9137-c8c8a95c5abb"
      },
      "source": [
        "#performing RandomizedSearchcv with logistic regression\n",
        "from sklearn.model_selection import RandomizedSearchCV\n",
        "from sklearn.linear_model import LogisticRegression\n",
        "params={\n",
        "    'C':[0.00001,0.0001,0.001,0.01,0.1,1,10,100,1000,10000],\n",
        "     'class_weight':[1,5,10,50,100,200,500,1000]\n",
        "  \n",
        "}\n",
        "logreg=LogisticRegression(max_iter=500)\n",
        "random_cfl=RandomizedSearchCV(logreg,param_distributions=params,verbose=10,n_jobs=1,scoring='f1')\n",
        "random_cfl.fit(X_train, y_train)"
      ],
      "execution_count": null,
      "outputs": [
        {
          "output_type": "stream",
          "text": [
            "Fitting 5 folds for each of 10 candidates, totalling 50 fits\n"
          ],
          "name": "stdout"
        },
        {
          "output_type": "stream",
          "text": [
            "[Parallel(n_jobs=1)]: Using backend SequentialBackend with 1 concurrent workers.\n"
          ],
          "name": "stderr"
        },
        {
          "output_type": "stream",
          "text": [
            "[CV] class_weight=5, C=0.001 .........................................\n",
            "[CV] ............. class_weight=5, C=0.001, score=0.127, total= 2.1min\n",
            "[CV] class_weight=5, C=0.001 .........................................\n"
          ],
          "name": "stdout"
        },
        {
          "output_type": "stream",
          "text": [
            "[Parallel(n_jobs=1)]: Done   1 out of   1 | elapsed:  2.1min remaining:    0.0s\n"
          ],
          "name": "stderr"
        },
        {
          "output_type": "stream",
          "text": [
            "[CV] ............. class_weight=5, C=0.001, score=0.122, total= 1.9min\n",
            "[CV] class_weight=5, C=0.001 .........................................\n"
          ],
          "name": "stdout"
        },
        {
          "output_type": "stream",
          "text": [
            "[Parallel(n_jobs=1)]: Done   2 out of   2 | elapsed:  4.0min remaining:    0.0s\n"
          ],
          "name": "stderr"
        },
        {
          "output_type": "stream",
          "text": [
            "[CV] ............. class_weight=5, C=0.001, score=0.128, total= 2.4min\n",
            "[CV] class_weight=5, C=0.001 .........................................\n"
          ],
          "name": "stdout"
        },
        {
          "output_type": "stream",
          "text": [
            "[Parallel(n_jobs=1)]: Done   3 out of   3 | elapsed:  6.4min remaining:    0.0s\n"
          ],
          "name": "stderr"
        },
        {
          "output_type": "stream",
          "text": [
            "[CV] ............. class_weight=5, C=0.001, score=0.122, total= 1.8min\n",
            "[CV] class_weight=5, C=0.001 .........................................\n"
          ],
          "name": "stdout"
        },
        {
          "output_type": "stream",
          "text": [
            "[Parallel(n_jobs=1)]: Done   4 out of   4 | elapsed:  8.3min remaining:    0.0s\n"
          ],
          "name": "stderr"
        },
        {
          "output_type": "stream",
          "text": [
            "[CV] ............. class_weight=5, C=0.001, score=0.123, total= 2.0min\n",
            "[CV] class_weight=50, C=0.01 .........................................\n"
          ],
          "name": "stdout"
        },
        {
          "output_type": "stream",
          "text": [
            "[Parallel(n_jobs=1)]: Done   5 out of   5 | elapsed: 10.3min remaining:    0.0s\n"
          ],
          "name": "stderr"
        },
        {
          "output_type": "stream",
          "text": [
            "[CV] ............. class_weight=50, C=0.01, score=0.188, total= 4.3min\n",
            "[CV] class_weight=50, C=0.01 .........................................\n"
          ],
          "name": "stdout"
        },
        {
          "output_type": "stream",
          "text": [
            "[Parallel(n_jobs=1)]: Done   6 out of   6 | elapsed: 14.6min remaining:    0.0s\n"
          ],
          "name": "stderr"
        },
        {
          "output_type": "stream",
          "text": [
            "[CV] ............. class_weight=50, C=0.01, score=0.183, total= 6.3min\n",
            "[CV] class_weight=50, C=0.01 .........................................\n"
          ],
          "name": "stdout"
        },
        {
          "output_type": "stream",
          "text": [
            "[Parallel(n_jobs=1)]: Done   7 out of   7 | elapsed: 20.9min remaining:    0.0s\n"
          ],
          "name": "stderr"
        },
        {
          "output_type": "stream",
          "text": [
            "[CV] ............. class_weight=50, C=0.01, score=0.188, total= 4.9min\n",
            "[CV] class_weight=50, C=0.01 .........................................\n"
          ],
          "name": "stdout"
        },
        {
          "output_type": "stream",
          "text": [
            "[Parallel(n_jobs=1)]: Done   8 out of   8 | elapsed: 25.8min remaining:    0.0s\n"
          ],
          "name": "stderr"
        },
        {
          "output_type": "stream",
          "text": [
            "[CV] ............. class_weight=50, C=0.01, score=0.181, total= 5.2min\n",
            "[CV] class_weight=50, C=0.01 .........................................\n"
          ],
          "name": "stdout"
        },
        {
          "output_type": "stream",
          "text": [
            "[Parallel(n_jobs=1)]: Done   9 out of   9 | elapsed: 31.0min remaining:    0.0s\n"
          ],
          "name": "stderr"
        },
        {
          "output_type": "stream",
          "text": [
            "[CV] ............. class_weight=50, C=0.01, score=0.184, total= 5.4min\n",
            "[CV] class_weight=50, C=1e-05 ........................................\n",
            "[CV] ............ class_weight=50, C=1e-05, score=0.000, total=  23.9s\n",
            "[CV] class_weight=50, C=1e-05 ........................................\n",
            "[CV] ............ class_weight=50, C=1e-05, score=0.000, total=  24.3s\n",
            "[CV] class_weight=50, C=1e-05 ........................................\n",
            "[CV] ............ class_weight=50, C=1e-05, score=0.000, total=  24.8s\n",
            "[CV] class_weight=50, C=1e-05 ........................................\n",
            "[CV] ............ class_weight=50, C=1e-05, score=0.000, total=  22.4s\n",
            "[CV] class_weight=50, C=1e-05 ........................................\n",
            "[CV] ............ class_weight=50, C=1e-05, score=0.000, total=  23.7s\n",
            "[CV] class_weight=1000, C=0.1 ........................................\n",
            "[CV] ............ class_weight=1000, C=0.1, score=0.200, total= 8.7min\n",
            "[CV] class_weight=1000, C=0.1 ........................................\n",
            "[CV] ............ class_weight=1000, C=0.1, score=0.196, total= 6.8min\n",
            "[CV] class_weight=1000, C=0.1 ........................................\n",
            "[CV] ............ class_weight=1000, C=0.1, score=0.200, total= 6.1min\n",
            "[CV] class_weight=1000, C=0.1 ........................................\n"
          ],
          "name": "stdout"
        },
        {
          "output_type": "stream",
          "text": [
            "/usr/local/lib/python3.6/dist-packages/sklearn/linear_model/_logistic.py:940: ConvergenceWarning: lbfgs failed to converge (status=1):\n",
            "STOP: TOTAL NO. of ITERATIONS REACHED LIMIT.\n",
            "\n",
            "Increase the number of iterations (max_iter) or scale the data as shown in:\n",
            "    https://scikit-learn.org/stable/modules/preprocessing.html\n",
            "Please also refer to the documentation for alternative solver options:\n",
            "    https://scikit-learn.org/stable/modules/linear_model.html#logistic-regression\n",
            "  extra_warning_msg=_LOGISTIC_SOLVER_CONVERGENCE_MSG)\n"
          ],
          "name": "stderr"
        },
        {
          "output_type": "stream",
          "text": [
            "[CV] ............ class_weight=1000, C=0.1, score=0.194, total= 9.2min\n",
            "[CV] class_weight=1000, C=0.1 ........................................\n",
            "[CV] ............ class_weight=1000, C=0.1, score=0.197, total= 9.0min\n",
            "[CV] class_weight=50, C=0.001 ........................................\n",
            "[CV] ............ class_weight=50, C=0.001, score=0.127, total= 2.0min\n",
            "[CV] class_weight=50, C=0.001 ........................................\n",
            "[CV] ............ class_weight=50, C=0.001, score=0.122, total= 1.8min\n",
            "[CV] class_weight=50, C=0.001 ........................................\n",
            "[CV] ............ class_weight=50, C=0.001, score=0.128, total= 2.4min\n",
            "[CV] class_weight=50, C=0.001 ........................................\n",
            "[CV] ............ class_weight=50, C=0.001, score=0.122, total= 1.8min\n",
            "[CV] class_weight=50, C=0.001 ........................................\n",
            "[CV] ............ class_weight=50, C=0.001, score=0.123, total= 1.9min\n",
            "[CV] class_weight=1000, C=0.0001 .....................................\n",
            "[CV] ......... class_weight=1000, C=0.0001, score=0.011, total=  45.7s\n",
            "[CV] class_weight=1000, C=0.0001 .....................................\n",
            "[CV] ......... class_weight=1000, C=0.0001, score=0.010, total=  53.8s\n",
            "[CV] class_weight=1000, C=0.0001 .....................................\n",
            "[CV] ......... class_weight=1000, C=0.0001, score=0.011, total=  48.3s\n",
            "[CV] class_weight=1000, C=0.0001 .....................................\n",
            "[CV] ......... class_weight=1000, C=0.0001, score=0.010, total=  44.4s\n",
            "[CV] class_weight=1000, C=0.0001 .....................................\n",
            "[CV] ......... class_weight=1000, C=0.0001, score=0.011, total=  51.6s\n",
            "[CV] class_weight=10, C=0.1 ..........................................\n",
            "[CV] .............. class_weight=10, C=0.1, score=0.200, total= 8.6min\n",
            "[CV] class_weight=10, C=0.1 ..........................................\n",
            "[CV] .............. class_weight=10, C=0.1, score=0.196, total= 6.8min\n",
            "[CV] class_weight=10, C=0.1 ..........................................\n",
            "[CV] .............. class_weight=10, C=0.1, score=0.200, total= 6.0min\n",
            "[CV] class_weight=10, C=0.1 ..........................................\n"
          ],
          "name": "stdout"
        },
        {
          "output_type": "stream",
          "text": [
            "/usr/local/lib/python3.6/dist-packages/sklearn/linear_model/_logistic.py:940: ConvergenceWarning: lbfgs failed to converge (status=1):\n",
            "STOP: TOTAL NO. of ITERATIONS REACHED LIMIT.\n",
            "\n",
            "Increase the number of iterations (max_iter) or scale the data as shown in:\n",
            "    https://scikit-learn.org/stable/modules/preprocessing.html\n",
            "Please also refer to the documentation for alternative solver options:\n",
            "    https://scikit-learn.org/stable/modules/linear_model.html#logistic-regression\n",
            "  extra_warning_msg=_LOGISTIC_SOLVER_CONVERGENCE_MSG)\n"
          ],
          "name": "stderr"
        },
        {
          "output_type": "stream",
          "text": [
            "[CV] .............. class_weight=10, C=0.1, score=0.194, total= 9.5min\n",
            "[CV] class_weight=10, C=0.1 ..........................................\n",
            "[CV] .............. class_weight=10, C=0.1, score=0.197, total= 9.1min\n",
            "[CV] class_weight=1, C=0.01 ..........................................\n",
            "[CV] .............. class_weight=1, C=0.01, score=0.188, total= 4.3min\n",
            "[CV] class_weight=1, C=0.01 ..........................................\n",
            "[CV] .............. class_weight=1, C=0.01, score=0.183, total= 6.3min\n",
            "[CV] class_weight=1, C=0.01 ..........................................\n",
            "[CV] .............. class_weight=1, C=0.01, score=0.188, total= 5.0min\n",
            "[CV] class_weight=1, C=0.01 ..........................................\n",
            "[CV] .............. class_weight=1, C=0.01, score=0.181, total= 5.2min\n",
            "[CV] class_weight=1, C=0.01 ..........................................\n",
            "[CV] .............. class_weight=1, C=0.01, score=0.184, total= 5.3min\n",
            "[CV] class_weight=100, C=1 ...........................................\n",
            "[CV] ............... class_weight=100, C=1, score=0.202, total= 8.3min\n",
            "[CV] class_weight=100, C=1 ...........................................\n"
          ],
          "name": "stdout"
        },
        {
          "output_type": "stream",
          "text": [
            "/usr/local/lib/python3.6/dist-packages/sklearn/linear_model/_logistic.py:940: ConvergenceWarning: lbfgs failed to converge (status=1):\n",
            "STOP: TOTAL NO. of ITERATIONS REACHED LIMIT.\n",
            "\n",
            "Increase the number of iterations (max_iter) or scale the data as shown in:\n",
            "    https://scikit-learn.org/stable/modules/preprocessing.html\n",
            "Please also refer to the documentation for alternative solver options:\n",
            "    https://scikit-learn.org/stable/modules/linear_model.html#logistic-regression\n",
            "  extra_warning_msg=_LOGISTIC_SOLVER_CONVERGENCE_MSG)\n"
          ],
          "name": "stderr"
        },
        {
          "output_type": "stream",
          "text": [
            "[CV] ............... class_weight=100, C=1, score=0.198, total= 9.6min\n",
            "[CV] class_weight=100, C=1 ...........................................\n"
          ],
          "name": "stdout"
        },
        {
          "output_type": "stream",
          "text": [
            "/usr/local/lib/python3.6/dist-packages/sklearn/linear_model/_logistic.py:940: ConvergenceWarning: lbfgs failed to converge (status=1):\n",
            "STOP: TOTAL NO. of ITERATIONS REACHED LIMIT.\n",
            "\n",
            "Increase the number of iterations (max_iter) or scale the data as shown in:\n",
            "    https://scikit-learn.org/stable/modules/preprocessing.html\n",
            "Please also refer to the documentation for alternative solver options:\n",
            "    https://scikit-learn.org/stable/modules/linear_model.html#logistic-regression\n",
            "  extra_warning_msg=_LOGISTIC_SOLVER_CONVERGENCE_MSG)\n"
          ],
          "name": "stderr"
        },
        {
          "output_type": "stream",
          "text": [
            "[CV] ............... class_weight=100, C=1, score=0.202, total= 9.4min\n",
            "[CV] class_weight=100, C=1 ...........................................\n"
          ],
          "name": "stdout"
        },
        {
          "output_type": "stream",
          "text": [
            "/usr/local/lib/python3.6/dist-packages/sklearn/linear_model/_logistic.py:940: ConvergenceWarning: lbfgs failed to converge (status=1):\n",
            "STOP: TOTAL NO. of ITERATIONS REACHED LIMIT.\n",
            "\n",
            "Increase the number of iterations (max_iter) or scale the data as shown in:\n",
            "    https://scikit-learn.org/stable/modules/preprocessing.html\n",
            "Please also refer to the documentation for alternative solver options:\n",
            "    https://scikit-learn.org/stable/modules/linear_model.html#logistic-regression\n",
            "  extra_warning_msg=_LOGISTIC_SOLVER_CONVERGENCE_MSG)\n"
          ],
          "name": "stderr"
        },
        {
          "output_type": "stream",
          "text": [
            "[CV] ............... class_weight=100, C=1, score=0.195, total= 9.2min\n",
            "[CV] class_weight=100, C=1 ...........................................\n",
            "[CV] ............... class_weight=100, C=1, score=0.198, total= 8.1min\n",
            "[CV] class_weight=50, C=10 ...........................................\n"
          ],
          "name": "stdout"
        },
        {
          "output_type": "stream",
          "text": [
            "/usr/local/lib/python3.6/dist-packages/sklearn/linear_model/_logistic.py:940: ConvergenceWarning: lbfgs failed to converge (status=1):\n",
            "STOP: TOTAL NO. of ITERATIONS REACHED LIMIT.\n",
            "\n",
            "Increase the number of iterations (max_iter) or scale the data as shown in:\n",
            "    https://scikit-learn.org/stable/modules/preprocessing.html\n",
            "Please also refer to the documentation for alternative solver options:\n",
            "    https://scikit-learn.org/stable/modules/linear_model.html#logistic-regression\n",
            "  extra_warning_msg=_LOGISTIC_SOLVER_CONVERGENCE_MSG)\n"
          ],
          "name": "stderr"
        },
        {
          "output_type": "stream",
          "text": [
            "[CV] ............... class_weight=50, C=10, score=0.202, total= 9.0min\n",
            "[CV] class_weight=50, C=10 ...........................................\n",
            "[CV] ............... class_weight=50, C=10, score=0.198, total= 8.5min\n",
            "[CV] class_weight=50, C=10 ...........................................\n"
          ],
          "name": "stdout"
        },
        {
          "output_type": "stream",
          "text": [
            "/usr/local/lib/python3.6/dist-packages/sklearn/linear_model/_logistic.py:940: ConvergenceWarning: lbfgs failed to converge (status=1):\n",
            "STOP: TOTAL NO. of ITERATIONS REACHED LIMIT.\n",
            "\n",
            "Increase the number of iterations (max_iter) or scale the data as shown in:\n",
            "    https://scikit-learn.org/stable/modules/preprocessing.html\n",
            "Please also refer to the documentation for alternative solver options:\n",
            "    https://scikit-learn.org/stable/modules/linear_model.html#logistic-regression\n",
            "  extra_warning_msg=_LOGISTIC_SOLVER_CONVERGENCE_MSG)\n"
          ],
          "name": "stderr"
        },
        {
          "output_type": "stream",
          "text": [
            "[CV] ............... class_weight=50, C=10, score=0.202, total= 9.1min\n",
            "[CV] class_weight=50, C=10 ...........................................\n",
            "[CV] ............... class_weight=50, C=10, score=0.195, total= 8.8min\n",
            "[CV] class_weight=50, C=10 ...........................................\n"
          ],
          "name": "stdout"
        },
        {
          "output_type": "stream",
          "text": [
            "/usr/local/lib/python3.6/dist-packages/sklearn/linear_model/_logistic.py:940: ConvergenceWarning: lbfgs failed to converge (status=1):\n",
            "STOP: TOTAL NO. of ITERATIONS REACHED LIMIT.\n",
            "\n",
            "Increase the number of iterations (max_iter) or scale the data as shown in:\n",
            "    https://scikit-learn.org/stable/modules/preprocessing.html\n",
            "Please also refer to the documentation for alternative solver options:\n",
            "    https://scikit-learn.org/stable/modules/linear_model.html#logistic-regression\n",
            "  extra_warning_msg=_LOGISTIC_SOLVER_CONVERGENCE_MSG)\n"
          ],
          "name": "stderr"
        },
        {
          "output_type": "stream",
          "text": [
            "[CV] ............... class_weight=50, C=10, score=0.198, total= 9.0min\n"
          ],
          "name": "stdout"
        },
        {
          "output_type": "stream",
          "text": [
            "[Parallel(n_jobs=1)]: Done  50 out of  50 | elapsed: 247.4min finished\n",
            "/usr/local/lib/python3.6/dist-packages/sklearn/linear_model/_logistic.py:940: ConvergenceWarning: lbfgs failed to converge (status=1):\n",
            "STOP: TOTAL NO. of ITERATIONS REACHED LIMIT.\n",
            "\n",
            "Increase the number of iterations (max_iter) or scale the data as shown in:\n",
            "    https://scikit-learn.org/stable/modules/preprocessing.html\n",
            "Please also refer to the documentation for alternative solver options:\n",
            "    https://scikit-learn.org/stable/modules/linear_model.html#logistic-regression\n",
            "  extra_warning_msg=_LOGISTIC_SOLVER_CONVERGENCE_MSG)\n"
          ],
          "name": "stderr"
        },
        {
          "output_type": "execute_result",
          "data": {
            "text/plain": [
              "RandomizedSearchCV(cv=None, error_score=nan,\n",
              "                   estimator=LogisticRegression(C=1.0, class_weight=None,\n",
              "                                                dual=False, fit_intercept=True,\n",
              "                                                intercept_scaling=1,\n",
              "                                                l1_ratio=None, max_iter=500,\n",
              "                                                multi_class='auto', n_jobs=None,\n",
              "                                                penalty='l2', random_state=None,\n",
              "                                                solver='lbfgs', tol=0.0001,\n",
              "                                                verbose=0, warm_start=False),\n",
              "                   iid='deprecated', n_iter=10, n_jobs=1,\n",
              "                   param_distributions={'C': [1e-05, 0.0001, 0.001, 0.01, 0.1,\n",
              "                                              1, 10, 100, 1000, 10000],\n",
              "                                        'class_weight': [1, 5, 10, 50, 100, 200,\n",
              "                                                         500, 1000]},\n",
              "                   pre_dispatch='2*n_jobs', random_state=None, refit=True,\n",
              "                   return_train_score=False, scoring='f1', verbose=10)"
            ]
          },
          "metadata": {
            "tags": []
          },
          "execution_count": 147
        }
      ]
    },
    {
      "cell_type": "code",
      "metadata": {
        "colab": {
          "base_uri": "https://localhost:8080/"
        },
        "id": "qXsW62D3egWF",
        "outputId": "f8a4377e-5066-4fa0-ddf7-eb00c6763fd9"
      },
      "source": [
        "#displaying the best params\n",
        "random_cfl.best_params_"
      ],
      "execution_count": null,
      "outputs": [
        {
          "output_type": "execute_result",
          "data": {
            "text/plain": [
              "{'C': 10, 'class_weight': 50}"
            ]
          },
          "metadata": {
            "tags": []
          },
          "execution_count": 148
        }
      ]
    },
    {
      "cell_type": "code",
      "metadata": {
        "colab": {
          "base_uri": "https://localhost:8080/"
        },
        "id": "capSV7XMctQ2",
        "outputId": "be76837c-bc4d-44c6-8ab3-4f63935858cd"
      },
      "source": [
        "#fitting logistic regression with best parameters\n",
        "logreg_best=LogisticRegression(C=10,class_weight=50,n_jobs=1,max_iter=1000)\n",
        "logreg_best.fit(X_train, y_train)"
      ],
      "execution_count": null,
      "outputs": [
        {
          "output_type": "execute_result",
          "data": {
            "text/plain": [
              "LogisticRegression(C=10, class_weight=50, dual=False, fit_intercept=True,\n",
              "                   intercept_scaling=1, l1_ratio=None, max_iter=1000,\n",
              "                   multi_class='auto', n_jobs=1, penalty='l2',\n",
              "                   random_state=None, solver='lbfgs', tol=0.0001, verbose=0,\n",
              "                   warm_start=False)"
            ]
          },
          "metadata": {
            "tags": []
          },
          "execution_count": 150
        }
      ]
    },
    {
      "cell_type": "code",
      "metadata": {
        "id": "89LE9Komc176"
      },
      "source": [
        "#predicting labels for train and cv data\n",
        "pred_train_y=logreg_best.predict(X_train)\n",
        "pred_cv_y=logreg_best.predict(X_cv)"
      ],
      "execution_count": null,
      "outputs": []
    },
    {
      "cell_type": "code",
      "metadata": {
        "colab": {
          "base_uri": "https://localhost:8080/"
        },
        "id": "9QSKef2OjVxG",
        "outputId": "85183494-f562-49b7-bb35-a487f3676a60"
      },
      "source": [
        "#displaying raw cv and train f1 scores\n",
        "f1_score(y_cv,pred_cv_y),f1_score(y_train,pred_train_y)"
      ],
      "execution_count": null,
      "outputs": [
        {
          "output_type": "execute_result",
          "data": {
            "text/plain": [
              "(0.19357551294988226, 0.1994717545547638)"
            ]
          },
          "metadata": {
            "tags": []
          },
          "execution_count": 154
        }
      ]
    },
    {
      "cell_type": "code",
      "metadata": {
        "id": "cpKBjWDxjYMy"
      },
      "source": [
        "#saving logistic regression model to disk\n",
        "import pickle\n",
        "logreg_pick = \"logistic_reg.pkl\"  \n",
        "\n",
        "with open(logreg_pick, 'wb') as file:  \n",
        "    pickle.dump(logreg_best, file)"
      ],
      "execution_count": null,
      "outputs": []
    },
    {
      "cell_type": "code",
      "metadata": {
        "id": "OGPSzJi-joNS"
      },
      "source": [
        "#predicting label probabilites of train and cv data\n",
        "pred_train_proba_y=logreg_best.predict_proba(X_train)\n",
        "pred_cv_proba_y=logreg_best.predict_proba(X_cv)"
      ],
      "execution_count": null,
      "outputs": []
    },
    {
      "cell_type": "code",
      "metadata": {
        "id": "wE-TrRQfjuma"
      },
      "source": [
        "from tqdm import tqdm\n",
        "tqdm.pandas()\n",
        "def mean_f1score(df):\n",
        "  '''This function imitates the mean f1 score that is used in the competition. Calculates the mean of f1 scores for each order'''\n",
        "  df['tp']=df.reordered_new*df.pred_reordered\n",
        "  df['tn']=(1-df.reordered_new)*(1-df.pred_reordered)\n",
        "  df['fp']=(1-df.reordered_new)*(df.pred_reordered)\n",
        "  df['fn']=(df.reordered_new)*(1-df.pred_reordered)\n",
        "  df1=df.groupby(['user_id']).agg({'tp':sum,'tn':sum,'fp':sum,'fn':sum})\n",
        "  df1['precision']=df1['tp']/(df1['tp']+df1['fp'])\n",
        "  df1.precision.fillna(0,inplace=True)\n",
        "  df1['recall']=df1['tp']/(df1['tp']+df1['fn'])\n",
        "  df1.recall.fillna(0,inplace=True)\n",
        "  df1['f1']=2*df1['precision']*df1['recall']/(df1['precision']+df1['recall'])\n",
        "  df1.f1.fillna(0,inplace=True)\n",
        "  return sum(df1.f1)/len(df1)"
      ],
      "execution_count": 13,
      "outputs": []
    },
    {
      "cell_type": "code",
      "metadata": {
        "colab": {
          "base_uri": "https://localhost:8080/"
        },
        "id": "fbnBsICTjqhp",
        "outputId": "e92442ad-cc0b-48ba-a773-061f9888df21"
      },
      "source": [
        "#Finding mean f1 scores of train and cv data for each threshold value\n",
        "p_range=[0.1*p for p in range(0,11,1)]\n",
        "for p in p_range:\n",
        "    train_data['pred_reordered']=(pred_train_proba_y[:,1]>=p)\n",
        "    cv_data['pred_reordered']=(pred_cv_proba_y[:,1]>=p)\n",
        "    print('threshold',p,'train f1 score',mean_f1score(train_data),'cv f1 score',mean_f1score(cv_data) )\n"
      ],
      "execution_count": null,
      "outputs": [
        {
          "output_type": "stream",
          "text": [
            "threshold 0.0 train f1 score 0.21548095839949163 cv f1 score 0.21454006828738478\n",
            "threshold 0.1 train f1 score 0.32372267711399844 cv f1 score 0.322847876856459\n",
            "threshold 0.2 train f1 score 0.3450668004886618 cv f1 score 0.34528010869837167\n",
            "threshold 0.30000000000000004 train f1 score 0.28389034222896686 cv f1 score 0.28573842917916475\n",
            "threshold 0.4 train f1 score 0.2068564911081293 cv f1 score 0.20966177330571473\n",
            "threshold 0.5 train f1 score 0.13972099905225663 cv f1 score 0.14114045234167258\n",
            "threshold 0.6000000000000001 train f1 score 0.08846336317190547 cv f1 score 0.08844705304080402\n",
            "threshold 0.7000000000000001 train f1 score 0.0537232230018095 cv f1 score 0.053780478158296535\n",
            "threshold 0.8 train f1 score 0.031043149136064957 cv f1 score 0.03036668762708232\n",
            "threshold 0.9 train f1 score 0.01580192041328525 cv f1 score 0.01578672905964285\n",
            "threshold 1.0 train f1 score 0.0 cv f1 score 0.0\n"
          ],
          "name": "stdout"
        }
      ]
    },
    {
      "cell_type": "code",
      "metadata": {
        "id": "BTS3k5rDjxfi"
      },
      "source": [
        "#converting probabilities to classes based on best threshold\n",
        "pred_train_y_c=pred_train_proba_y[:,1]>=0.2\n",
        "pred_cv_y_c=pred_cv_proba_y[:,1]>=0.2"
      ],
      "execution_count": null,
      "outputs": []
    },
    {
      "cell_type": "code",
      "metadata": {
        "id": "SM6fNeR0nzje"
      },
      "source": [
        "from sklearn.metrics import confusion_matrix\n",
        "import seaborn as sns\n",
        "import matplotlib.pyplot as plt\n",
        "#applied ai microsoft malware detection\n",
        "def plot_confusion_matrix(test_y, predict_y):\n",
        "    C = confusion_matrix(test_y, predict_y)\n",
        "    print(\"Number of misclassified points \",(len(test_y)-np.trace(C))/len(test_y)*100,'%')\n",
        "    # C = 9,9 matrix, each cell (i,j) represents number of points of class i are predicted class j\n",
        "    \n",
        "    A =(((C.T)/(C.sum(axis=1))).T)\n",
        "    #divid each element of the confusion matrix with the sum of elements in that column\n",
        "    \n",
        "    # C = [[1, 2],\n",
        "    #     [3, 4]]\n",
        "    # C.T = [[1, 3],\n",
        "    #        [2, 4]]\n",
        "    # C.sum(axis = 1)  axis=0 corresonds to columns and axis=1 corresponds to rows in two diamensional array\n",
        "    # C.sum(axix =1) = [[3, 7]]\n",
        "    # ((C.T)/(C.sum(axis=1))) = [[1/3, 3/7]\n",
        "    #                           [2/3, 4/7]]\n",
        "\n",
        "    # ((C.T)/(C.sum(axis=1))).T = [[1/3, 2/3]\n",
        "    #                           [3/7, 4/7]]\n",
        "    # sum of row elements = 1\n",
        "    \n",
        "    B =(C/C.sum(axis=0))\n",
        "    #divid each element of the confusion matrix with the sum of elements in that row\n",
        "    # C = [[1, 2],\n",
        "    #     [3, 4]]\n",
        "    # C.sum(axis = 0)  axis=0 corresonds to columns and axis=1 corresponds to rows in two diamensional array\n",
        "    # C.sum(axix =0) = [[4, 6]]\n",
        "    # (C/C.sum(axis=0)) = [[1/4, 2/6],\n",
        "    #                      [3/4, 4/6]] \n",
        "    \n",
        "    labels = [0,1]\n",
        "    cmap=sns.light_palette(\"green\")\n",
        "    # representing A in heatmap format\n",
        "    print(\"-\"*50, \"Confusion matrix\", \"-\"*50)\n",
        "    plt.figure(figsize=(10,5))\n",
        "    sns.heatmap(C, annot=True, cmap=cmap, fmt=\".3f\", xticklabels=labels, yticklabels=labels)\n",
        "    plt.xlabel('Predicted Class')\n",
        "    plt.ylabel('Original Class')\n",
        "    plt.show()\n",
        "\n",
        "    print(\"-\"*50, \"Precision matrix\", \"-\"*50)\n",
        "    plt.figure(figsize=(10,5))\n",
        "    sns.heatmap(B, annot=True, cmap=cmap, fmt=\".3f\", xticklabels=labels, yticklabels=labels)\n",
        "    plt.xlabel('Predicted Class')\n",
        "    plt.ylabel('Original Class')\n",
        "    plt.show()\n",
        "    print(\"Sum of columns in precision matrix\",B.sum(axis=0))\n",
        "    \n",
        "    # representing B in heatmap format\n",
        "    print(\"-\"*50, \"Recall matrix\"    , \"-\"*50)\n",
        "    plt.figure(figsize=(10,5))\n",
        "    sns.heatmap(A, annot=True, cmap=cmap, fmt=\".3f\", xticklabels=labels, yticklabels=labels)\n",
        "    plt.xlabel('Predicted Class')\n",
        "    plt.ylabel('Original Class')\n",
        "    plt.show()\n",
        "    print(\"Sum of rows in precision matrix\",A.sum(axis=1))"
      ],
      "execution_count": 14,
      "outputs": []
    },
    {
      "cell_type": "code",
      "metadata": {
        "colab": {
          "base_uri": "https://localhost:8080/",
          "height": 1000
        },
        "id": "bChq3eRSn_St",
        "outputId": "3ff0e0ec-85b5-455f-bdcc-7740c6a32f32"
      },
      "source": [
        "#plotting confusion matrix for train data\n",
        "plot_confusion_matrix(y_train,pred_train_y_c)"
      ],
      "execution_count": null,
      "outputs": [
        {
          "output_type": "stream",
          "text": [
            "Number of misclassified points  13.404173569968863 %\n",
            "-------------------------------------------------- Confusion matrix --------------------------------------------------\n"
          ],
          "name": "stdout"
        },
        {
          "output_type": "display_data",
          "data": {
            "image/png": "[encoded data removed]",
            "text/plain": [
              "<Figure size 720x360 with 2 Axes>"
            ]
          },
          "metadata": {
            "tags": [],
            "needs_background": "light"
          }
        },
        {
          "output_type": "stream",
          "text": [
            "-------------------------------------------------- Precision matrix --------------------------------------------------\n"
          ],
          "name": "stdout"
        },
        {
          "output_type": "display_data",
          "data": {
            "image/png": "[encoded data removed]",
            "text/plain": [
              "<Figure size 720x360 with 2 Axes>"
            ]
          },
          "metadata": {
            "tags": [],
            "needs_background": "light"
          }
        },
        {
          "output_type": "stream",
          "text": [
            "Sum of columns in precision matrix [1. 1.]\n",
            "-------------------------------------------------- Recall matrix --------------------------------------------------\n"
          ],
          "name": "stdout"
        },
        {
          "output_type": "display_data",
          "data": {
            "image/png": "[encoded data removed]",
            "text/plain": [
              "<Figure size 720x360 with 2 Axes>"
            ]
          },
          "metadata": {
            "tags": [],
            "needs_background": "light"
          }
        },
        {
          "output_type": "stream",
          "text": [
            "Sum of rows in precision matrix [1. 1.]\n"
          ],
          "name": "stdout"
        }
      ]
    },
    {
      "cell_type": "code",
      "metadata": {
        "colab": {
          "base_uri": "https://localhost:8080/",
          "height": 1000
        },
        "id": "BxleK1w3ocp6",
        "outputId": "e8c03434-4b53-49e5-fe6a-3f5f74fbc633"
      },
      "source": [
        "#plotting confusion matrix for cv data\n",
        "plot_confusion_matrix(y_cv,pred_cv_y_c)"
      ],
      "execution_count": null,
      "outputs": [
        {
          "output_type": "stream",
          "text": [
            "Number of misclassified points  13.503202260713973 %\n",
            "-------------------------------------------------- Confusion matrix --------------------------------------------------\n"
          ],
          "name": "stdout"
        },
        {
          "output_type": "display_data",
          "data": {
            "image/png": "[encoded data removed]",
            "text/plain": [
              "<Figure size 720x360 with 2 Axes>"
            ]
          },
          "metadata": {
            "tags": [],
            "needs_background": "light"
          }
        },
        {
          "output_type": "stream",
          "text": [
            "-------------------------------------------------- Precision matrix --------------------------------------------------\n"
          ],
          "name": "stdout"
        },
        {
          "output_type": "display_data",
          "data": {
            "image/png": "[encoded data removed]",
            "text/plain": [
              "<Figure size 720x360 with 2 Axes>"
            ]
          },
          "metadata": {
            "tags": [],
            "needs_background": "light"
          }
        },
        {
          "output_type": "stream",
          "text": [
            "Sum of columns in precision matrix [1. 1.]\n",
            "-------------------------------------------------- Recall matrix --------------------------------------------------\n"
          ],
          "name": "stdout"
        },
        {
          "output_type": "display_data",
          "data": {
            "image/png": "[encoded data removed]",
            "text/plain": [
              "<Figure size 720x360 with 2 Axes>"
            ]
          },
          "metadata": {
            "tags": [],
            "needs_background": "light"
          }
        },
        {
          "output_type": "stream",
          "text": [
            "Sum of rows in precision matrix [1. 1.]\n"
          ],
          "name": "stdout"
        }
      ]
    },
    {
      "cell_type": "markdown",
      "metadata": {
        "id": "7KykK7hEnNj_"
      },
      "source": [
        "**RandomForestClassifier**"
      ]
    },
    {
      "cell_type": "code",
      "metadata": {
        "id": "gKdNUfqwnQah",
        "outputId": "df687180-2d9a-4ff4-c104-cccbf54784be"
      },
      "source": [
        "#performing hyper-parameter tuning of Random Forest Classifier\n",
        "from sklearn.ensemble import RandomForestClassifier\n",
        "from sklearn.metrics import f1_score\n",
        "rf_clf=RandomForestClassifier()\n",
        "n_estimators=[5,10,20]\n",
        "class_weight=[{0:1,1:1},{0:1,1:5},{0:1,1:10}]\n",
        "max_depth=[5,10,15]\n",
        "cv_f1_scores=[]\n",
        "train_f1_scores=[]\n",
        "for n in n_estimators:\n",
        "  for w in class_weight:\n",
        "    for d in max_depth:\n",
        "        rf_clf=RandomForestClassifier(n_estimators=n,max_depth=d,class_weight=w,random_state=42,n_jobs=8)\n",
        "        rf_clf.fit(X_train,y_train)\n",
        "        pred_train_y=rf_clf.predict(X_train)\n",
        "        pred_cv_y=rf_clf.predict(X_cv)\n",
        "        train_f1_score=f1_score(y_train,pred_train_y)\n",
        "        cv_f1_score=f1_score(y_cv,pred_cv_y)\n",
        "        print('n_estimators',n,'class_weight',w,'max_depth',d,'train_f1score',train_f1_score,'cv f1score',cv_f1_score)\n",
        "        train_f1_scores.append(train_f1_score)\n",
        "        cv_f1_scores.append(cv_f1_score)\n",
        "\n",
        "\n"
      ],
      "execution_count": null,
      "outputs": [
        {
          "output_type": "stream",
          "text": [
            "n_estimators 5 class_weight {0: 1, 1: 1} max_depth 5 train_f1score 0.06118291495959619 cv f1score 0.059502870154483856\n",
            "n_estimators 5 class_weight {0: 1, 1: 1} max_depth 10 train_f1score 0.17372566622620866 cv f1score 0.16560191655020962\n",
            "n_estimators 5 class_weight {0: 1, 1: 1} max_depth 15 train_f1score 0.2936602046738454 cv f1score 0.24688347501082522\n",
            "n_estimators 5 class_weight {0: 1, 1: 5} max_depth 5 train_f1score 0.40713797275521774 cv f1score 0.4041457427521699\n",
            "n_estimators 5 class_weight {0: 1, 1: 5} max_depth 10 train_f1score 0.4232208867311847 cv f1score 0.41742165376135093\n",
            "n_estimators 5 class_weight {0: 1, 1: 5} max_depth 15 train_f1score 0.4593072584307258 cv f1score 0.4210497952144859\n",
            "n_estimators 5 class_weight {0: 1, 1: 10} max_depth 5 train_f1score 0.3473424487906847 cv f1score 0.34363108930038844\n",
            "n_estimators 5 class_weight {0: 1, 1: 10} max_depth 10 train_f1score 0.36031478979448833 cv f1score 0.3552600724616141\n",
            "n_estimators 5 class_weight {0: 1, 1: 10} max_depth 15 train_f1score 0.3954879937710356 cv f1score 0.36942345624454337\n",
            "n_estimators 10 class_weight {0: 1, 1: 1} max_depth 5 train_f1score 0.03490740216927326 cv f1score 0.03435880287577328\n",
            "n_estimators 10 class_weight {0: 1, 1: 1} max_depth 10 train_f1score 0.18733691332856556 cv f1score 0.1780630480218652\n",
            "n_estimators 10 class_weight {0: 1, 1: 1} max_depth 15 train_f1score 0.29175980267432644 cv f1score 0.24595937001732107\n",
            "n_estimators 10 class_weight {0: 1, 1: 5} max_depth 5 train_f1score 0.4123064269682252 cv f1score 0.40996475215829176\n",
            "n_estimators 10 class_weight {0: 1, 1: 5} max_depth 10 train_f1score 0.42732251352639866 cv f1score 0.42185249934905866\n",
            "n_estimators 10 class_weight {0: 1, 1: 5} max_depth 15 train_f1score 0.4641766843441794 cv f1score 0.42654582823158993\n",
            "n_estimators 10 class_weight {0: 1, 1: 10} max_depth 5 train_f1score 0.3534161027453451 cv f1score 0.3498182180387469\n",
            "n_estimators 10 class_weight {0: 1, 1: 10} max_depth 10 train_f1score 0.362274357973385 cv f1score 0.35769750281125035\n",
            "n_estimators 10 class_weight {0: 1, 1: 10} max_depth 15 train_f1score 0.40065979775764393 cv f1score 0.3746571525357053\n",
            "n_estimators 20 class_weight {0: 1, 1: 1} max_depth 5 train_f1score 0.019089576066209812 cv f1score 0.018976455660510365\n",
            "n_estimators 20 class_weight {0: 1, 1: 1} max_depth 10 train_f1score 0.19246447138812248 cv f1score 0.18447043774522462\n",
            "n_estimators 20 class_weight {0: 1, 1: 1} max_depth 15 train_f1score 0.2896214272213816 cv f1score 0.2450080079272719\n",
            "n_estimators 20 class_weight {0: 1, 1: 5} max_depth 5 train_f1score 0.4133793998811554 cv f1score 0.410865188890322\n",
            "n_estimators 20 class_weight {0: 1, 1: 5} max_depth 10 train_f1score 0.42787064832752353 cv f1score 0.42270693453214225\n",
            "n_estimators 20 class_weight {0: 1, 1: 5} max_depth 15 train_f1score 0.46570033550308515 cv f1score 0.4290007060793984\n",
            "n_estimators 20 class_weight {0: 1, 1: 10} max_depth 5 train_f1score 0.3488618964928151 cv f1score 0.34536780349429436\n",
            "n_estimators 20 class_weight {0: 1, 1: 10} max_depth 10 train_f1score 0.3635405516979987 cv f1score 0.3588947013275076\n",
            "n_estimators 20 class_weight {0: 1, 1: 10} max_depth 15 train_f1score 0.40295723220173985 cv f1score 0.3767848647857431\n"
          ],
          "name": "stdout"
        }
      ]
    },
    {
      "cell_type": "code",
      "metadata": {
        "id": "coxjYRg-tX8T"
      },
      "source": [
        "#training Random Forest Classifier with best parameters\n",
        "rf_clf=RandomForestClassifier(n_estimators=20,max_depth=15,class_weight={0:1,1:5},random_state=42,n_jobs=8)\n",
        "rf_clf.fit(X_train,y_train)\n",
        "pred_train_y=rf_clf.predict(X_train)\n",
        "pred_cv_y=rf_clf.predict(X_cv)"
      ],
      "execution_count": null,
      "outputs": []
    },
    {
      "cell_type": "code",
      "metadata": {
        "id": "sxK3_1jr6tOS"
      },
      "source": [
        "#storing predicted labels into data\n",
        "train_data['pred_reordered']=pred_train_y\n",
        "cv_data['pred_reordered']=pred_cv_y"
      ],
      "execution_count": null,
      "outputs": []
    },
    {
      "cell_type": "code",
      "metadata": {
        "id": "jWw9iDNJ6tOS",
        "outputId": "1908ee96-8a73-429e-b77d-07117bb7f6b6"
      },
      "source": [
        "#calculating mean f1 score of train and cv data\n",
        "mean_f1score(train_data),mean_f1score(cv_data)"
      ],
      "execution_count": null,
      "outputs": [
        {
          "output_type": "execute_result",
          "data": {
            "text/plain": [
              "(0.39857676115964114, 0.36632758788172687)"
            ]
          },
          "metadata": {
            "tags": []
          },
          "execution_count": 47
        }
      ]
    },
    {
      "cell_type": "code",
      "metadata": {
        "id": "UdXkZ_jC6tOT"
      },
      "source": [
        "#storing random forest classifier to disk\n",
        "import pickle\n",
        "rfclf_pick = \"rf_clf.pkl\"  \n",
        "\n",
        "with open(rfclf_pick, 'wb') as file:  \n",
        "    pickle.dump(rf_clf, file)"
      ],
      "execution_count": null,
      "outputs": []
    },
    {
      "cell_type": "code",
      "metadata": {
        "id": "BmAXCfHl6tOU"
      },
      "source": [
        "#loading random forest classifier from disk\n",
        "rf_clf=pickle.load(open(rfclf_pick,'rb'))"
      ],
      "execution_count": null,
      "outputs": []
    },
    {
      "cell_type": "code",
      "metadata": {
        "id": "VkR3TqJ16tOV",
        "outputId": "5f113102-d102-4277-d9f2-bae864dec269"
      },
      "source": [
        "#plotting confusion matrix for train data\n",
        "plot_confusion_matrix(y_train,pred_train_y)"
      ],
      "execution_count": null,
      "outputs": [
        {
          "output_type": "stream",
          "text": [
            "Number of misclassified points  13.619569491809514 %\n",
            "-------------------------------------------------- Confusion matrix --------------------------------------------------\n"
          ],
          "name": "stdout"
        },
        {
          "output_type": "display_data",
          "data": {
            "image/png": "[encoded data removed]",
            "text/plain": [
              "<Figure size 720x360 with 2 Axes>"
            ]
          },
          "metadata": {
            "tags": [],
            "needs_background": "light"
          }
        },
        {
          "output_type": "stream",
          "text": [
            "-------------------------------------------------- Precision matrix --------------------------------------------------\n"
          ],
          "name": "stdout"
        },
        {
          "output_type": "display_data",
          "data": {
            "image/png": "[encoded data removed]",
            "text/plain": [
              "<Figure size 720x360 with 2 Axes>"
            ]
          },
          "metadata": {
            "tags": [],
            "needs_background": "light"
          }
        },
        {
          "output_type": "stream",
          "text": [
            "Sum of columns in precision matrix [1. 1.]\n",
            "-------------------------------------------------- Recall matrix --------------------------------------------------\n"
          ],
          "name": "stdout"
        },
        {
          "output_type": "display_data",
          "data": {
            "image/png": "[encoded data removed]",
            "text/plain": [
              "<Figure size 720x360 with 2 Axes>"
            ]
          },
          "metadata": {
            "tags": [],
            "needs_background": "light"
          }
        },
        {
          "output_type": "stream",
          "text": [
            "Sum of rows in precision matrix [1. 1.]\n"
          ],
          "name": "stdout"
        }
      ]
    },
    {
      "cell_type": "code",
      "metadata": {
        "id": "jm89QcVO6tOX",
        "outputId": "e8ac792d-0c73-4ce9-dac0-7db49b532045"
      },
      "source": [
        "#plotting confusion matrix for cv data\n",
        "plot_confusion_matrix(y_cv,pred_cv_y)"
      ],
      "execution_count": null,
      "outputs": [
        {
          "output_type": "stream",
          "text": [
            "Number of misclassified points  14.51501368422078 %\n",
            "-------------------------------------------------- Confusion matrix --------------------------------------------------\n"
          ],
          "name": "stdout"
        },
        {
          "output_type": "display_data",
          "data": {
            "image/png": "[encoded data removed]",
            "text/plain": [
              "<Figure size 720x360 with 2 Axes>"
            ]
          },
          "metadata": {
            "tags": [],
            "needs_background": "light"
          }
        },
        {
          "output_type": "stream",
          "text": [
            "-------------------------------------------------- Precision matrix --------------------------------------------------\n"
          ],
          "name": "stdout"
        },
        {
          "output_type": "display_data",
          "data": {
            "image/png": "[encoded data removed]",
            "text/plain": [
              "<Figure size 720x360 with 2 Axes>"
            ]
          },
          "metadata": {
            "tags": [],
            "needs_background": "light"
          }
        },
        {
          "output_type": "stream",
          "text": [
            "Sum of columns in precision matrix [1. 1.]\n",
            "-------------------------------------------------- Recall matrix --------------------------------------------------\n"
          ],
          "name": "stdout"
        },
        {
          "output_type": "display_data",
          "data": {
            "image/png": "[encoded data removed]",
            "text/plain": [
              "<Figure size 720x360 with 2 Axes>"
            ]
          },
          "metadata": {
            "tags": [],
            "needs_background": "light"
          }
        },
        {
          "output_type": "stream",
          "text": [
            "Sum of rows in precision matrix [1. 1.]\n"
          ],
          "name": "stdout"
        }
      ]
    },
    {
      "cell_type": "markdown",
      "metadata": {
        "id": "d49q2loa6tOY"
      },
      "source": [
        "# xgboost"
      ]
    },
    {
      "cell_type": "code",
      "metadata": {
        "id": "xa4j5qdr6tOY",
        "outputId": "c98ea97f-b5ba-4e63-c6a9-8542840a0312"
      },
      "source": [
        "# https://www.analyticsvidhya.com/blog/2016/03/complete-guide-parameter-tuning-xgboost-with-codes-python/\n",
        "#performing hyper-parameter tuning for XGB-Classifier\n",
        "from sklearn.model_selection import RandomizedSearchCV\n",
        "from xgboost import XGBClassifier\n",
        "x_cfl=XGBClassifier(objective='binary:logistic',eval_metric='logloss')\n",
        "\n",
        "prams={\n",
        "    'learning_rate':[0.01,0.03,0.05,0.1,0.15,0.2],\n",
        "     'n_estimators':[20,50,100,150],\n",
        "     'max_depth':[3,5,8,10],\n",
        "    'min_child_weight':[5,7,10,15],\n",
        "    'colsample_bytree':[0.1,0.3,0.5,0.7,1],\n",
        "    'subsample':[0.1,0.3,0.5,0.7,1]\n",
        "}\n",
        "random_cfl1=RandomizedSearchCV(x_cfl,param_distributions=prams,verbose=10,n_jobs=2,scoring='f1')\n",
        "random_cfl1.fit(X_train,y_train)"
      ],
      "execution_count": null,
      "outputs": [
        {
          "output_type": "stream",
          "text": [
            "Fitting 5 folds for each of 10 candidates, totalling 50 fits\n"
          ],
          "name": "stdout"
        },
        {
          "output_type": "stream",
          "text": [
            "[Parallel(n_jobs=2)]: Using backend LokyBackend with 2 concurrent workers.\n",
            "[Parallel(n_jobs=2)]: Done   1 tasks      | elapsed:  6.6min\n",
            "[Parallel(n_jobs=2)]: Done   4 tasks      | elapsed: 12.9min\n",
            "[Parallel(n_jobs=2)]: Done   9 tasks      | elapsed: 52.2min\n",
            "[Parallel(n_jobs=2)]: Done  14 tasks      | elapsed: 88.0min\n",
            "[Parallel(n_jobs=2)]: Done  21 tasks      | elapsed: 101.6min\n",
            "[Parallel(n_jobs=2)]: Done  28 tasks      | elapsed: 129.5min\n",
            "[Parallel(n_jobs=2)]: Done  37 tasks      | elapsed: 171.2min\n",
            "[Parallel(n_jobs=2)]: Done  46 tasks      | elapsed: 244.4min\n",
            "[Parallel(n_jobs=2)]: Done  50 out of  50 | elapsed: 265.0min finished\n"
          ],
          "name": "stderr"
        },
        {
          "output_type": "execute_result",
          "data": {
            "text/plain": [
              "RandomizedSearchCV(estimator=XGBClassifier(base_score=None, booster=None,\n",
              "                                           colsample_bylevel=None,\n",
              "                                           colsample_bynode=None,\n",
              "                                           colsample_bytree=None,\n",
              "                                           eval_metric='logloss', gamma=None,\n",
              "                                           gpu_id=None, importance_type='gain',\n",
              "                                           interaction_constraints=None,\n",
              "                                           learning_rate=None,\n",
              "                                           max_delta_step=None, max_depth=None,\n",
              "                                           min_child_weight=None, missing=nan,\n",
              "                                           monotone_constraints=None,...\n",
              "                                           scale_pos_weight=None,\n",
              "                                           subsample=None, tree_method=None,\n",
              "                                           validate_parameters=None,\n",
              "                                           verbosity=None),\n",
              "                   n_jobs=2,\n",
              "                   param_distributions={'colsample_bytree': [0.1, 0.3, 0.5, 0.7,\n",
              "                                                             1],\n",
              "                                        'learning_rate': [0.01, 0.03, 0.05, 0.1,\n",
              "                                                          0.15, 0.2],\n",
              "                                        'max_depth': [3, 5, 8, 10],\n",
              "                                        'min_child_weight': [5, 7, 10, 15],\n",
              "                                        'n_estimators': [20, 50, 100, 150],\n",
              "                                        'subsample': [0.1, 0.3, 0.5, 0.7, 1]},\n",
              "                   scoring='f1', verbose=10)"
            ]
          },
          "metadata": {
            "tags": []
          },
          "execution_count": 86
        }
      ]
    },
    {
      "cell_type": "code",
      "metadata": {
        "id": "s9Oafhlq6tOZ",
        "outputId": "5909bd18-bba7-4eed-c01b-9b1c6b85ede0"
      },
      "source": [
        "#displaying best params for XGB Classifier\n",
        "random_cfl1.best_params_"
      ],
      "execution_count": null,
      "outputs": [
        {
          "output_type": "execute_result",
          "data": {
            "text/plain": [
              "{'subsample': 0.1,\n",
              " 'n_estimators': 100,\n",
              " 'min_child_weight': 7,\n",
              " 'max_depth': 5,\n",
              " 'learning_rate': 0.1,\n",
              " 'colsample_bytree': 0.5}"
            ]
          },
          "metadata": {
            "tags": []
          },
          "execution_count": 87
        }
      ]
    },
    {
      "cell_type": "code",
      "metadata": {
        "id": "eeBmas566tOZ",
        "outputId": "572f3fa5-70a3-45a6-c930-e8b503f2cc9a"
      },
      "source": [
        "#training XGBClassifier with best hyper parameters\n",
        "x_cfl=XGBClassifier(subsample=0.1,n_estimators=100,min_child_weight=7,max_depth=5,learning_rate=0.1,colsample_bytree=0.5,n_jobs=2)\n",
        "x_cfl.fit(X_train,y_train)\n",
        "pred_train_y=x_cfl.predict(X_train)\n",
        "pred_cv_y=x_cfl.predict(X_cv)"
      ],
      "execution_count": null,
      "outputs": [
        {
          "output_type": "stream",
          "text": [
            "[03:36:50] WARNING: ../src/learner.cc:1061: Starting in XGBoost 1.3.0, the default evaluation metric used with the objective 'binary:logistic' was changed from 'error' to 'logloss'. Explicitly set eval_metric if you'd like to restore the old behavior.\n"
          ],
          "name": "stdout"
        }
      ]
    },
    {
      "cell_type": "code",
      "metadata": {
        "id": "556Y0Hnm6tOZ",
        "outputId": "b44a3fbc-b692-4ab9-a6d6-2e7553a46629"
      },
      "source": [
        "#calculating raw f1 score for train and cv data\n",
        "f1_score(y_train,pred_train_y),f1_score(y_cv,pred_cv_y)"
      ],
      "execution_count": null,
      "outputs": [
        {
          "output_type": "execute_result",
          "data": {
            "text/plain": [
              "(0.2866803523697004, 0.2802427125662118)"
            ]
          },
          "metadata": {
            "tags": []
          },
          "execution_count": 89
        }
      ]
    },
    {
      "cell_type": "code",
      "metadata": {
        "id": "R3KpJ6t36tOa"
      },
      "source": [
        "#saving xgbclassifier to disk\n",
        "import pickle\n",
        "xcfl_pick = \"xgb_clf.pkl\"  \n",
        "\n",
        "with open(xcfl_pick, 'wb') as file:  \n",
        "    pickle.dump(x_cfl, file)"
      ],
      "execution_count": null,
      "outputs": []
    },
    {
      "cell_type": "code",
      "metadata": {
        "id": "VEIQpRqN6tOa"
      },
      "source": [
        "#predicting label probabilities of train and cv dat\n",
        "pred_train_y1=x_cfl.predict_proba(X_train)\n",
        "pred_cv_y1=x_cfl.predict_proba(X_cv)"
      ],
      "execution_count": null,
      "outputs": []
    },
    {
      "cell_type": "code",
      "metadata": {
        "id": "AHiZchxI6tOa",
        "outputId": "49f366e9-3a4c-46d4-d6e6-3010f5380569"
      },
      "source": [
        "#finding threshold that maximizes both train and cv data\n",
        "p_range=[0.1*p for p in range(0,11,1)]\n",
        "for p in p_range:\n",
        "    train_data['pred_reordered']=(pred_train_y1[:,1]>=p)\n",
        "    cv_data['pred_reordered']=(pred_cv_y1[:,1]>=p)\n",
        "    print('threshold',p,'train f1 score',mean_f1score(train_data),'cv f1 score',mean_f1score(cv_data) )\n"
      ],
      "execution_count": null,
      "outputs": [
        {
          "output_type": "stream",
          "text": [
            "threshold 0.0 train f1 score 0.21548095839949163 cv f1 score 0.21454006828738478\n",
            "threshold 0.1 train f1 score 0.34412735535248756 cv f1 score 0.34336713621736153\n",
            "threshold 0.2 train f1 score 0.3631723202865629 cv f1 score 0.3626903507489706\n",
            "threshold 0.30000000000000004 train f1 score 0.32426637299470296 cv f1 score 0.32397412850022045\n",
            "threshold 0.4 train f1 score 0.266164721995603 cv f1 score 0.2676936706877918\n",
            "threshold 0.5 train f1 score 0.20023726705391665 cv f1 score 0.20122880285505243\n",
            "threshold 0.6000000000000001 train f1 score 0.12610890920299211 cv f1 score 0.12486282245053063\n",
            "threshold 0.7000000000000001 train f1 score 0.051247446398458366 cv f1 score 0.04911530028486646\n",
            "threshold 0.8 train f1 score 0.005945451859721213 cv f1 score 0.005286894347273476\n",
            "threshold 0.9 train f1 score 4.848406058593612e-05 cv f1 score 8.11036585860388e-06\n",
            "threshold 1.0 train f1 score 0.0 cv f1 score 0.0\n"
          ],
          "name": "stdout"
        }
      ]
    },
    {
      "cell_type": "code",
      "metadata": {
        "id": "_t1gE12f6tOb"
      },
      "source": [
        "#converting probabilities to labels based on best threshold\n",
        "train_data['pred_reordered']=(pred_train_y1[:,1]>=0.2)\n",
        "cv_data['pred_reordered']=(pred_cv_y1[:,1]>=0.2)"
      ],
      "execution_count": null,
      "outputs": []
    },
    {
      "cell_type": "code",
      "metadata": {
        "id": "Wd3V6D_36tOb",
        "outputId": "e8088f29-70a6-41e9-bdf1-72e79aaa5059"
      },
      "source": [
        "#calculating mean f1 score for train data and cv data\n",
        "mean_f1score(train_data),mean_f1score(cv_data)"
      ],
      "execution_count": null,
      "outputs": [
        {
          "output_type": "execute_result",
          "data": {
            "text/plain": [
              "(0.3631723202865629, 0.3626903507489706)"
            ]
          },
          "metadata": {
            "tags": []
          },
          "execution_count": 100
        }
      ]
    },
    {
      "cell_type": "code",
      "metadata": {
        "id": "JsmCEkm_6tOb",
        "outputId": "480938b0-be56-456e-8580-a204d1a1a6bb"
      },
      "source": [
        "#plotting confusion matrix for train data\n",
        "plot_confusion_matrix(y_train,pred_train_y)"
      ],
      "execution_count": null,
      "outputs": [
        {
          "output_type": "stream",
          "text": [
            "Number of misclassified points  9.076747529316203 %\n",
            "-------------------------------------------------- Confusion matrix --------------------------------------------------\n"
          ],
          "name": "stdout"
        },
        {
          "output_type": "display_data",
          "data": {
            "image/png": "[encoded data removed]",
            "text/plain": [
              "<Figure size 720x360 with 2 Axes>"
            ]
          },
          "metadata": {
            "tags": [],
            "needs_background": "light"
          }
        },
        {
          "output_type": "stream",
          "text": [
            "-------------------------------------------------- Precision matrix --------------------------------------------------\n"
          ],
          "name": "stdout"
        },
        {
          "output_type": "display_data",
          "data": {
            "image/png": "[encoded data removed]",
            "text/plain": [
              "<Figure size 720x360 with 2 Axes>"
            ]
          },
          "metadata": {
            "tags": [],
            "needs_background": "light"
          }
        },
        {
          "output_type": "stream",
          "text": [
            "Sum of columns in precision matrix [1. 1.]\n",
            "-------------------------------------------------- Recall matrix --------------------------------------------------\n"
          ],
          "name": "stdout"
        },
        {
          "output_type": "display_data",
          "data": {
            "image/png": "[encoded data removed]",
            "text/plain": [
              "<Figure size 720x360 with 2 Axes>"
            ]
          },
          "metadata": {
            "tags": [],
            "needs_background": "light"
          }
        },
        {
          "output_type": "stream",
          "text": [
            "Sum of rows in precision matrix [1. 1.]\n"
          ],
          "name": "stdout"
        }
      ]
    },
    {
      "cell_type": "code",
      "metadata": {
        "id": "6Rr7-MoS6tOb",
        "outputId": "257325da-ade7-4927-f801-3ca7310b5220"
      },
      "source": [
        "#plotting confusion matrix for cv data\n",
        "plot_confusion_matrix(y_cv,pred_cv_y)"
      ],
      "execution_count": null,
      "outputs": [
        {
          "output_type": "stream",
          "text": [
            "Number of misclassified points  9.093919530938027 %\n",
            "-------------------------------------------------- Confusion matrix --------------------------------------------------\n"
          ],
          "name": "stdout"
        },
        {
          "output_type": "display_data",
          "data": {
            "image/png": "[encoded data removed]",
            "text/plain": [
              "<Figure size 720x360 with 2 Axes>"
            ]
          },
          "metadata": {
            "tags": [],
            "needs_background": "light"
          }
        },
        {
          "output_type": "stream",
          "text": [
            "-------------------------------------------------- Precision matrix --------------------------------------------------\n"
          ],
          "name": "stdout"
        },
        {
          "output_type": "display_data",
          "data": {
            "image/png": "[encoded data removed]",
            "text/plain": [
              "<Figure size 720x360 with 2 Axes>"
            ]
          },
          "metadata": {
            "tags": [],
            "needs_background": "light"
          }
        },
        {
          "output_type": "stream",
          "text": [
            "Sum of columns in precision matrix [1. 1.]\n",
            "-------------------------------------------------- Recall matrix --------------------------------------------------\n"
          ],
          "name": "stdout"
        },
        {
          "output_type": "display_data",
          "data": {
            "image/png": "[encoded data removed]",
            "text/plain": [
              "<Figure size 720x360 with 2 Axes>"
            ]
          },
          "metadata": {
            "tags": [],
            "needs_background": "light"
          }
        },
        {
          "output_type": "stream",
          "text": [
            "Sum of rows in precision matrix [1. 1.]\n"
          ],
          "name": "stdout"
        }
      ]
    },
    {
      "cell_type": "markdown",
      "metadata": {
        "id": "p0dkbkCa6tOc"
      },
      "source": [
        "# lightbgm"
      ]
    },
    {
      "cell_type": "code",
      "metadata": {
        "id": "cZ6rfYjD6tOd",
        "outputId": "3dcb57fe-59fe-4e3b-b9e0-506d52be94a5"
      },
      "source": [
        "#performing hyper-parameter tuning on LGBM Classifier\n",
        "from lightgbm import LGBMClassifier\n",
        "lgbm=LGBMClassifier()\n",
        "\n",
        "prams={\n",
        "    'learning_rate':[0.01,0.03,0.05,0.1,0.15,0.2],\n",
        "     'n_estimators':[20,50,100,150],\n",
        "     'max_depth':[3,5,8,10],\n",
        "     'num_leaves':[31,62,93],\n",
        "     'class_weight':[{0:1,1:1},{0:1,1:5},{0:1,1:10}],\n",
        "    'colsample_bytree':[0.1,0.3,0.5,0.7,1],\n",
        "    'subsample':[0.1,0.3,0.5,0.7,1]\n",
        "}\n",
        "lgbm_cfl1=RandomizedSearchCV(lgbm,param_distributions=prams,verbose=10,n_jobs=2,scoring='f1')\n",
        "lgbm_cfl1.fit(X_train,y_train)"
      ],
      "execution_count": null,
      "outputs": [
        {
          "output_type": "stream",
          "text": [
            "Fitting 5 folds for each of 10 candidates, totalling 50 fits\n"
          ],
          "name": "stdout"
        },
        {
          "output_type": "stream",
          "text": [
            "[Parallel(n_jobs=2)]: Using backend LokyBackend with 2 concurrent workers.\n",
            "[Parallel(n_jobs=2)]: Done   1 tasks      | elapsed:  3.5min\n",
            "[Parallel(n_jobs=2)]: Done   4 tasks      | elapsed:  6.9min\n",
            "[Parallel(n_jobs=2)]: Done   9 tasks      | elapsed: 19.5min\n",
            "[Parallel(n_jobs=2)]: Done  14 tasks      | elapsed: 23.3min\n",
            "[Parallel(n_jobs=2)]: Done  21 tasks      | elapsed: 28.1min\n",
            "[Parallel(n_jobs=2)]: Done  28 tasks      | elapsed: 54.1min\n",
            "[Parallel(n_jobs=2)]: Done  37 tasks      | elapsed: 69.5min\n",
            "[Parallel(n_jobs=2)]: Done  46 tasks      | elapsed: 79.2min\n",
            "[Parallel(n_jobs=2)]: Done  50 out of  50 | elapsed: 82.1min finished\n"
          ],
          "name": "stderr"
        },
        {
          "output_type": "stream",
          "text": [
            "[LightGBM] [Warning] Accuracy may be bad since you didn't explicitly set num_leaves OR 2^max_depth > num_leaves. (num_leaves=31).\n"
          ],
          "name": "stdout"
        },
        {
          "output_type": "execute_result",
          "data": {
            "text/plain": [
              "RandomizedSearchCV(estimator=LGBMClassifier(), n_jobs=2,\n",
              "                   param_distributions={'class_weight': [{0: 1, 1: 1},\n",
              "                                                         {0: 1, 1: 5},\n",
              "                                                         {0: 1, 1: 10}],\n",
              "                                        'colsample_bytree': [0.1, 0.3, 0.5, 0.7,\n",
              "                                                             1],\n",
              "                                        'learning_rate': [0.01, 0.03, 0.05, 0.1,\n",
              "                                                          0.15, 0.2],\n",
              "                                        'max_depth': [3, 5, 8, 10],\n",
              "                                        'n_estimators': [20, 50, 100, 150],\n",
              "                                        'num_leaves': [31, 62, 93],\n",
              "                                        'subsample': [0.1, 0.3, 0.5, 0.7, 1]},\n",
              "                   scoring='f1', verbose=10)"
            ]
          },
          "metadata": {
            "tags": []
          },
          "execution_count": 108
        }
      ]
    },
    {
      "cell_type": "code",
      "metadata": {
        "id": "gRFr-m0Z6tOd",
        "outputId": "21153a00-bacd-44c3-a6f4-42cdc7afc7c0"
      },
      "source": [
        "#displaying best params for lgbm classifier\n",
        "lgbm_cfl1.best_params_"
      ],
      "execution_count": null,
      "outputs": [
        {
          "output_type": "execute_result",
          "data": {
            "text/plain": [
              "{'subsample': 0.3,\n",
              " 'num_leaves': 31,\n",
              " 'n_estimators': 150,\n",
              " 'max_depth': 8,\n",
              " 'learning_rate': 0.05,\n",
              " 'colsample_bytree': 0.3,\n",
              " 'class_weight': {0: 1, 1: 5}}"
            ]
          },
          "metadata": {
            "tags": []
          },
          "execution_count": 109
        }
      ]
    },
    {
      "cell_type": "code",
      "metadata": {
        "id": "2mD9T2Pf6tOe",
        "outputId": "c429955f-14b8-4c0b-9e66-e044993dcfd3"
      },
      "source": [
        "#training LGBM Classifier with best parameters\n",
        "lgbm=LGBMClassifier(n_jobs=2,subsample=0.3,num_leaves=31,n_estimators=150,max_depth=8,learning_rate=0.04,colsample_bytree=0.3,class_weight={0:1,1:5})\n",
        "lgbm.fit(X_train,y_train)"
      ],
      "execution_count": null,
      "outputs": [
        {
          "output_type": "execute_result",
          "data": {
            "text/plain": [
              "LGBMClassifier(class_weight={0: 1, 1: 5}, colsample_bytree=0.3,\n",
              "               learning_rate=0.04, max_depth=8, n_estimators=150, n_jobs=2,\n",
              "               subsample=0.3)"
            ]
          },
          "metadata": {
            "tags": []
          },
          "execution_count": 111
        }
      ]
    },
    {
      "cell_type": "code",
      "metadata": {
        "id": "oeUjaIeE6tOe",
        "outputId": "ef3e5038-6c3f-44f4-b8fa-1b3ef9a9a3d6"
      },
      "source": [
        "#predicting labels for train and cv data and calculating raw f1 score\n",
        "pred_train_y=lgbm.predict(X_train)\n",
        "pred_cv_y=lgbm.predict(X_cv)\n",
        "f1_score(y_train,pred_train_y),f1_score(y_cv,pred_cv_y)"
      ],
      "execution_count": null,
      "outputs": [
        {
          "output_type": "execute_result",
          "data": {
            "text/plain": [
              "(0.43037001737098574, 0.42580437446773156)"
            ]
          },
          "metadata": {
            "tags": []
          },
          "execution_count": 116
        }
      ]
    },
    {
      "cell_type": "code",
      "metadata": {
        "id": "V8q2fhwl6tOf",
        "outputId": "8ede50a8-de5f-4681-daf6-cc7217dadb57"
      },
      "source": [
        "#calculating mean f1 score for train and cv data\n",
        "train_data['pred_reordered']=pred_train_y\n",
        "cv_data['pred_reordered']=pred_cv_y\n",
        "print('train f1 score',mean_f1score(train_data),'cv f1 score',mean_f1score(cv_data) )\n"
      ],
      "execution_count": null,
      "outputs": [
        {
          "output_type": "stream",
          "text": [
            "train f1 score 0.36606296662388665 cv f1 score 0.3651560456449692\n"
          ],
          "name": "stdout"
        }
      ]
    },
    {
      "cell_type": "code",
      "metadata": {
        "id": "AqXqVzkn6tOf"
      },
      "source": [
        "#saving lgbm classifier to disk\n",
        "import pickle\n",
        "lbgm_pick = \"lbgm_clf.pkl\"  \n",
        "\n",
        "with open(lbgm_pick, 'wb') as file:  \n",
        "    pickle.dump(lgbm, file)\n"
      ],
      "execution_count": null,
      "outputs": []
    },
    {
      "cell_type": "code",
      "metadata": {
        "id": "V53NtVdo6tOg",
        "outputId": "00ba14de-6b48-4711-d3c6-1287b34f0cd7"
      },
      "source": [
        "#plotting confusion matrix of train data\n",
        "plot_confusion_matrix(y_train,pred_train_y)"
      ],
      "execution_count": null,
      "outputs": [
        {
          "output_type": "stream",
          "text": [
            "Number of misclassified points  15.288391492982806 %\n",
            "-------------------------------------------------- Confusion matrix --------------------------------------------------\n"
          ],
          "name": "stdout"
        },
        {
          "output_type": "display_data",
          "data": {
            "image/png": "[encoded data removed]",
            "text/plain": [
              "<Figure size 720x360 with 2 Axes>"
            ]
          },
          "metadata": {
            "tags": [],
            "needs_background": "light"
          }
        },
        {
          "output_type": "stream",
          "text": [
            "-------------------------------------------------- Precision matrix --------------------------------------------------\n"
          ],
          "name": "stdout"
        },
        {
          "output_type": "display_data",
          "data": {
            "image/png": "[encoded data removed]",
            "text/plain": [
              "<Figure size 720x360 with 2 Axes>"
            ]
          },
          "metadata": {
            "tags": [],
            "needs_background": "light"
          }
        },
        {
          "output_type": "stream",
          "text": [
            "Sum of columns in precision matrix [1. 1.]\n",
            "-------------------------------------------------- Recall matrix --------------------------------------------------\n"
          ],
          "name": "stdout"
        },
        {
          "output_type": "display_data",
          "data": {
            "image/png": "[encoded data removed]",
            "text/plain": [
              "<Figure size 720x360 with 2 Axes>"
            ]
          },
          "metadata": {
            "tags": [],
            "needs_background": "light"
          }
        },
        {
          "output_type": "stream",
          "text": [
            "Sum of rows in precision matrix [1. 1.]\n"
          ],
          "name": "stdout"
        }
      ]
    },
    {
      "cell_type": "code",
      "metadata": {
        "id": "AGy75NWi6tOg",
        "outputId": "8096f51d-07fd-47e0-ea6a-90a4b3e1125f"
      },
      "source": [
        "#plotting confusion matrix on cv data\n",
        "plot_confusion_matrix(y_cv,pred_cv_y)"
      ],
      "execution_count": null,
      "outputs": [
        {
          "output_type": "stream",
          "text": [
            "Number of misclassified points  15.385043501490864 %\n",
            "-------------------------------------------------- Confusion matrix --------------------------------------------------\n"
          ],
          "name": "stdout"
        },
        {
          "output_type": "display_data",
          "data": {
            "image/png": "[encoded data removed]",
            "text/plain": [
              "<Figure size 720x360 with 2 Axes>"
            ]
          },
          "metadata": {
            "tags": [],
            "needs_background": "light"
          }
        },
        {
          "output_type": "stream",
          "text": [
            "-------------------------------------------------- Precision matrix --------------------------------------------------\n"
          ],
          "name": "stdout"
        },
        {
          "output_type": "display_data",
          "data": {
            "image/png": "[encoded data removed]",
            "text/plain": [
              "<Figure size 720x360 with 2 Axes>"
            ]
          },
          "metadata": {
            "tags": [],
            "needs_background": "light"
          }
        },
        {
          "output_type": "stream",
          "text": [
            "Sum of columns in precision matrix [1. 1.]\n",
            "-------------------------------------------------- Recall matrix --------------------------------------------------\n"
          ],
          "name": "stdout"
        },
        {
          "output_type": "display_data",
          "data": {
            "image/png": "[encoded data removed]",
            "text/plain": [
              "<Figure size 720x360 with 2 Axes>"
            ]
          },
          "metadata": {
            "tags": [],
            "needs_background": "light"
          }
        },
        {
          "output_type": "stream",
          "text": [
            "Sum of rows in precision matrix [1. 1.]\n"
          ],
          "name": "stdout"
        }
      ]
    },
    {
      "cell_type": "markdown",
      "metadata": {
        "id": "HeeGBGfpWLqS"
      },
      "source": [
        "**Adaboost**"
      ]
    },
    {
      "cell_type": "code",
      "metadata": {
        "id": "X7XwRVapWPCh"
      },
      "source": [
        "from sklearn.model_selection import RandomizedSearchCV\r\n",
        "from sklearn.ensemble import AdaBoostClassifier"
      ],
      "execution_count": null,
      "outputs": []
    },
    {
      "cell_type": "code",
      "metadata": {
        "id": "vTMG7PnrmA--"
      },
      "source": [
        "def best_mean_f1_score(pred_train_y,pred_cv_y):\r\n",
        "  ''' function to calculate best mean f1 score for train data and cv data after trying all thresholds'''\r\n",
        "  p_range=[0.1*p for p in range(0,11,1)]\r\n",
        "  train_mean_f1scores=[]\r\n",
        "  cv_mean_f1scores=[]\r\n",
        "  for p in p_range:\r\n",
        "    train_data['pred_reordered']=(pred_train_y[:,1]>=p)\r\n",
        "    cv_data['pred_reordered']=(pred_cv_y[:,1]>=p)\r\n",
        "    train_mean_f1scores.append(mean_f1score(train_data))\r\n",
        "    cv_mean_f1scores.append(mean_f1score(cv_data))\r\n",
        "  print('threshold','train f1 score',p_range[np.argmax(train_mean_f1scores)],max(train_mean_f1scores))\r\n",
        "  print('threshold','cv f1 score',p_range[np.argmax(cv_mean_f1scores)],max(cv_mean_f1scores))\r\n",
        "  "
      ],
      "execution_count": null,
      "outputs": []
    },
    {
      "cell_type": "code",
      "metadata": {
        "colab": {
          "base_uri": "https://localhost:8080/"
        },
        "id": "rqhLoFP2WPcC",
        "outputId": "48003bfa-4e02-4d08-e434-10f3b872988f"
      },
      "source": [
        "#performing hyper-parameter tuning of Adaboost Classifier\r\n",
        "from sklearn.metrics import f1_score\r\n",
        "n_estimators=[1,3,5,10]\r\n",
        "learning_rates=[0.1,0.5,1,1.5,2,2.5]\r\n",
        "cv_f1_scores=[]\r\n",
        "train_f1_scores=[]\r\n",
        "for n in n_estimators:\r\n",
        "  for l in learning_rates:\r\n",
        "        ada_clf=AdaBoostClassifier(random_state=42,n_estimators=n,learning_rate=l)\r\n",
        "        ada_clf.fit(X_train,y_train)\r\n",
        "        pred_train_y=ada_clf.predict_proba(X_train)\r\n",
        "        pred_cv_y=ada_clf.predict_proba(X_cv)\r\n",
        "        print('n_estimator',n,'learning_rate',l)\r\n",
        "        best_mean_f1_score(pred_train_y,pred_cv_y)\r\n",
        "       \r\n",
        "\r\n",
        "\r\n"
      ],
      "execution_count": null,
      "outputs": [
        {
          "output_type": "stream",
          "text": [
            "n_estimator 1 learning_rate 0.1\n",
            "threshold train f1 score 0.1 0.3219098702012908\n",
            "threshold cv f1 score 0.1 0.32393800996549627\n",
            "n_estimator 1 learning_rate 0.5\n",
            "threshold train f1 score 0.1 0.3219098702012908\n",
            "threshold cv f1 score 0.1 0.32393800996549627\n",
            "n_estimator 1 learning_rate 1\n",
            "threshold train f1 score 0.1 0.3219098702012908\n",
            "threshold cv f1 score 0.1 0.32393800996549627\n",
            "n_estimator 1 learning_rate 1.5\n",
            "threshold train f1 score 0.1 0.3219098702012908\n",
            "threshold cv f1 score 0.1 0.32393800996549627\n",
            "n_estimator 1 learning_rate 2\n",
            "threshold train f1 score 0.1 0.3219098702012908\n",
            "threshold cv f1 score 0.1 0.32393800996549627\n",
            "n_estimator 1 learning_rate 2.5\n",
            "threshold train f1 score 0.1 0.3219098702012908\n",
            "threshold cv f1 score 0.1 0.32393800996549627\n",
            "n_estimator 3 learning_rate 0.1\n",
            "threshold train f1 score 0.2 0.3219098702012908\n",
            "threshold cv f1 score 0.2 0.32393800996549627\n",
            "n_estimator 3 learning_rate 0.5\n",
            "threshold train f1 score 0.2 0.331831699373331\n",
            "threshold cv f1 score 0.2 0.3339087815994894\n",
            "n_estimator 3 learning_rate 1\n",
            "threshold train f1 score 0.4 0.32908438709043\n",
            "threshold cv f1 score 0.4 0.3299852028583033\n",
            "n_estimator 3 learning_rate 1.5\n",
            "threshold train f1 score 0.4 0.32908438709043\n",
            "threshold cv f1 score 0.4 0.3299852028583033\n",
            "n_estimator 3 learning_rate 2\n",
            "threshold train f1 score 0.30000000000000004 0.3219098702012908\n",
            "threshold cv f1 score 0.30000000000000004 0.32393800996549627\n",
            "n_estimator 3 learning_rate 2.5\n",
            "threshold train f1 score 0.2 0.3219098702012908\n",
            "threshold cv f1 score 0.2 0.32393800996549627\n",
            "n_estimator 5 learning_rate 0.1\n",
            "threshold train f1 score 0.2 0.3282827035939626\n",
            "threshold cv f1 score 0.2 0.33009278833320854\n",
            "n_estimator 5 learning_rate 0.5\n",
            "threshold train f1 score 0.30000000000000004 0.3336083144443884\n",
            "threshold cv f1 score 0.30000000000000004 0.33556431995486413\n",
            "n_estimator 5 learning_rate 1\n",
            "threshold train f1 score 0.4 0.33868425200227886\n",
            "threshold cv f1 score 0.4 0.3391069924739519\n",
            "n_estimator 5 learning_rate 1.5\n",
            "threshold train f1 score 0.4 0.28043832699916765\n",
            "threshold cv f1 score 0.4 0.2802902728643216\n",
            "n_estimator 5 learning_rate 2\n",
            "threshold train f1 score 0.4 0.3219098702012908\n",
            "threshold cv f1 score 0.4 0.32393800996549627\n",
            "n_estimator 5 learning_rate 2.5\n",
            "threshold train f1 score 0.2 0.3219098702012908\n",
            "threshold cv f1 score 0.2 0.32393800996549627\n",
            "n_estimator 10 learning_rate 0.1\n",
            "threshold train f1 score 0.2 0.33413207588983207\n",
            "threshold cv f1 score 0.2 0.3336235358275079\n",
            "n_estimator 10 learning_rate 0.5\n",
            "threshold train f1 score 0.4 0.3406075406050733\n",
            "threshold cv f1 score 0.4 0.3413132651120193\n",
            "n_estimator 10 learning_rate 1\n",
            "threshold train f1 score 0.4 0.23138896728117\n",
            "threshold cv f1 score 0.4 0.23064294539892682\n",
            "n_estimator 10 learning_rate 1.5\n",
            "threshold train f1 score 0.0 0.21548095839949163\n",
            "threshold cv f1 score 0.0 0.21454006828738478\n",
            "n_estimator 10 learning_rate 2\n",
            "threshold train f1 score 0.0 0.21548095839949163\n",
            "threshold cv f1 score 0.0 0.21454006828738478\n",
            "n_estimator 10 learning_rate 2.5\n",
            "threshold train f1 score 0.0 0.21548095839949163\n",
            "threshold cv f1 score 0.0 0.21454006828738478\n"
          ],
          "name": "stdout"
        }
      ]
    },
    {
      "cell_type": "code",
      "metadata": {
        "id": "gIJES6AOTUJG"
      },
      "source": [
        "#training adaboost classifier with best hyper parameters\r\n",
        "ada_clf=AdaBoostClassifier(random_state=42,n_estimators=10,learning_rate=0.5)\r\n",
        "ada_clf.fit(X_train,y_train)"
      ],
      "execution_count": null,
      "outputs": []
    },
    {
      "cell_type": "code",
      "metadata": {
        "id": "5hkD9WW-TK7p"
      },
      "source": [
        "#converting probabilities to labels with best threshold\r\n",
        "pred_train_y=(ada_clf.predict_proba(X_train)[:,1]>=0.4)\r\n",
        "pred_cv_y=(ada_clf.predict_proba(X_cv)[:,1]>=0.4)"
      ],
      "execution_count": null,
      "outputs": []
    },
    {
      "cell_type": "code",
      "metadata": {
        "colab": {
          "base_uri": "https://localhost:8080/"
        },
        "id": "seM2Z_s-UC9C",
        "outputId": "b7657631-723d-4515-b2ae-b4b6be91b91c"
      },
      "source": [
        "#calculating mean f1 score for train and cv data\r\n",
        "train_data['pred_reordered']=pred_train_y\r\n",
        "cv_data['pred_reordered']=pred_cv_y\r\n",
        "print('train f1 score',mean_f1score(train_data),'cv f1 score',mean_f1score(cv_data) )\r\n"
      ],
      "execution_count": null,
      "outputs": [
        {
          "output_type": "stream",
          "text": [
            "train f1 score 0.3406075406050733 cv f1 score 0.3413132651120193\n"
          ],
          "name": "stdout"
        }
      ]
    },
    {
      "cell_type": "code",
      "metadata": {
        "id": "wOtrJsCXUDMG"
      },
      "source": [
        "#saving adaboost classifier to disk\r\n",
        "import pickle\r\n",
        "ada_pick = \"ada_clf.pkl\"  \r\n",
        "\r\n",
        "with open(ada_pick, 'wb') as file:  \r\n",
        "    pickle.dump(ada_clf, file)\r\n"
      ],
      "execution_count": null,
      "outputs": []
    },
    {
      "cell_type": "code",
      "metadata": {
        "colab": {
          "base_uri": "https://localhost:8080/",
          "height": 1000
        },
        "id": "oM7mISR3UDeW",
        "outputId": "4dcdaebd-d136-40a5-fe4e-18567463aae2"
      },
      "source": [
        "#plotting confusion matrix for train data\r\n",
        "plot_confusion_matrix(y_train,pred_train_y)"
      ],
      "execution_count": null,
      "outputs": [
        {
          "output_type": "stream",
          "text": [
            "Number of misclassified points  22.94666675262218 %\n",
            "-------------------------------------------------- Confusion matrix --------------------------------------------------\n"
          ],
          "name": "stdout"
        },
        {
          "output_type": "display_data",
          "data": {
            "image/png": "[encoded data removed]",
            "text/plain": [
              "<Figure size 720x360 with 2 Axes>"
            ]
          },
          "metadata": {
            "tags": [],
            "needs_background": "light"
          }
        },
        {
          "output_type": "stream",
          "text": [
            "-------------------------------------------------- Precision matrix --------------------------------------------------\n"
          ],
          "name": "stdout"
        },
        {
          "output_type": "display_data",
          "data": {
            "image/png": "[encoded data removed]",
            "text/plain": [
              "<Figure size 720x360 with 2 Axes>"
            ]
          },
          "metadata": {
            "tags": [],
            "needs_background": "light"
          }
        },
        {
          "output_type": "stream",
          "text": [
            "Sum of columns in precision matrix [1. 1.]\n",
            "-------------------------------------------------- Recall matrix --------------------------------------------------\n"
          ],
          "name": "stdout"
        },
        {
          "output_type": "display_data",
          "data": {
            "image/png": "[encoded data removed]",
            "text/plain": [
              "<Figure size 720x360 with 2 Axes>"
            ]
          },
          "metadata": {
            "tags": [],
            "needs_background": "light"
          }
        },
        {
          "output_type": "stream",
          "text": [
            "Sum of rows in precision matrix [1. 1.]\n"
          ],
          "name": "stdout"
        }
      ]
    },
    {
      "cell_type": "code",
      "metadata": {
        "colab": {
          "base_uri": "https://localhost:8080/",
          "height": 1000
        },
        "id": "3REZ_28JUZxi",
        "outputId": "fd81d550-33e5-44e2-8121-e8ee72a469c3"
      },
      "source": [
        "#plotting confusion matrix of cv data\r\n",
        "plot_confusion_matrix(y_cv,pred_cv_y)"
      ],
      "execution_count": null,
      "outputs": [
        {
          "output_type": "stream",
          "text": [
            "Number of misclassified points  23.13280303209496 %\n",
            "-------------------------------------------------- Confusion matrix --------------------------------------------------\n"
          ],
          "name": "stdout"
        },
        {
          "output_type": "display_data",
          "data": {
            "image/png": "[encoded data removed]",
            "text/plain": [
              "<Figure size 720x360 with 2 Axes>"
            ]
          },
          "metadata": {
            "tags": [],
            "needs_background": "light"
          }
        },
        {
          "output_type": "stream",
          "text": [
            "-------------------------------------------------- Precision matrix --------------------------------------------------\n"
          ],
          "name": "stdout"
        },
        {
          "output_type": "display_data",
          "data": {
            "image/png": "[encoded data removed]",
            "text/plain": [
              "<Figure size 720x360 with 2 Axes>"
            ]
          },
          "metadata": {
            "tags": [],
            "needs_background": "light"
          }
        },
        {
          "output_type": "stream",
          "text": [
            "Sum of columns in precision matrix [1. 1.]\n",
            "-------------------------------------------------- Recall matrix --------------------------------------------------\n"
          ],
          "name": "stdout"
        },
        {
          "output_type": "display_data",
          "data": {
            "image/png": "[encoded data removed]",
            "text/plain": [
              "<Figure size 720x360 with 2 Axes>"
            ]
          },
          "metadata": {
            "tags": [],
            "needs_background": "light"
          }
        },
        {
          "output_type": "stream",
          "text": [
            "Sum of rows in precision matrix [1. 1.]\n"
          ],
          "name": "stdout"
        }
      ]
    },
    {
      "cell_type": "markdown",
      "metadata": {
        "id": "J4zovpGyW4ca"
      },
      "source": [
        "**Neural Network Models**"
      ]
    },
    {
      "cell_type": "markdown",
      "metadata": {
        "id": "pUnFuxsZtaOr"
      },
      "source": [
        "**NN model with 7 dense layers**"
      ]
    },
    {
      "cell_type": "code",
      "metadata": {
        "id": "0zAyS0-4ow6_"
      },
      "source": [
        "def best_mean_f1_score_tf(pred_train_y,pred_cv_y):\r\n",
        "  ''' function to calculate best mean f1 score for train data and cv data after trying all thresholds'''\r\n",
        "  p_range=[0.1*p for p in range(0,11,1)]\r\n",
        "  train_mean_f1scores=[]\r\n",
        "  cv_mean_f1scores=[]\r\n",
        "  for p in p_range:\r\n",
        "    train_data['pred_reordered']=(pred_train_y>=p)\r\n",
        "    cv_data['pred_reordered']=(pred_cv_y>=p)\r\n",
        "    train_mean_f1scores.append(mean_f1score(train_data))\r\n",
        "    cv_mean_f1scores.append(mean_f1score(cv_data))\r\n",
        "  print('threshold','train f1 score',p_range[np.argmax(train_mean_f1scores)],max(train_mean_f1scores))\r\n",
        "  print('threshold','cv f1 score',p_range[np.argmax(cv_mean_f1scores)],max(cv_mean_f1scores))\r\n",
        "  return max(cv_mean_f1scores)\r\n",
        "  "
      ],
      "execution_count": 19,
      "outputs": []
    },
    {
      "cell_type": "code",
      "metadata": {
        "colab": {
          "base_uri": "https://localhost:8080/"
        },
        "id": "8sybRTHXGoSl",
        "outputId": "2548ab29-51ee-4279-fb23-9489394e7444"
      },
      "source": [
        "#defining the model\r\n",
        "import tensorflow as tf\r\n",
        "from tensorflow.keras.layers import Input,Dense\r\n",
        "input_layer=Input(shape=(len(X_train.columns)))\r\n",
        "d1=Dense(units=100,activation='relu',kernel_initializer=tf.keras.initializers.glorot_normal(seed=32),name='d1')(input_layer)\r\n",
        "d2=Dense(units=100,activation='relu',kernel_initializer=tf.keras.initializers.glorot_normal(seed=32),name='d2')(d1)\r\n",
        "d3=Dense(units=100,activation='relu',kernel_initializer=tf.keras.initializers.glorot_normal(seed=32),name='d3')(d2)\r\n",
        "d4=Dense(units=100,activation='relu',kernel_initializer=tf.keras.initializers.glorot_normal(seed=32),name='d4')(d3)\r\n",
        "d5=Dense(units=100,activation='relu',kernel_initializer=tf.keras.initializers.glorot_normal(seed=32),name='d5')(d4)\r\n",
        "d6=Dense(units=100,activation='relu',kernel_initializer=tf.keras.initializers.glorot_normal(seed=32),name='d6')(d5)\r\n",
        "output_layer=Dense(units=1,activation='sigmoid',kernel_initializer=tf.keras.initializers.glorot_normal(seed=32),name='output')(d6)\r\n",
        "model_7layer = tf.keras.Model(inputs=input_layer, outputs=output_layer)\r\n",
        "model_7layer.summary()\r\n",
        "\r\n"
      ],
      "execution_count": 57,
      "outputs": [
        {
          "output_type": "stream",
          "text": [
            "Model: \"model_8\"\n",
            "_________________________________________________________________\n",
            "Layer (type)                 Output Shape              Param #   \n",
            "=================================================================\n",
            "input_9 (InputLayer)         [(None, 47)]              0         \n",
            "_________________________________________________________________\n",
            "d1 (Dense)                   (None, 100)               4800      \n",
            "_________________________________________________________________\n",
            "d2 (Dense)                   (None, 100)               10100     \n",
            "_________________________________________________________________\n",
            "d3 (Dense)                   (None, 100)               10100     \n",
            "_________________________________________________________________\n",
            "d4 (Dense)                   (None, 100)               10100     \n",
            "_________________________________________________________________\n",
            "d5 (Dense)                   (None, 100)               10100     \n",
            "_________________________________________________________________\n",
            "d6 (Dense)                   (None, 100)               10100     \n",
            "_________________________________________________________________\n",
            "output (Dense)               (None, 1)                 101       \n",
            "=================================================================\n",
            "Total params: 55,401\n",
            "Trainable params: 55,401\n",
            "Non-trainable params: 0\n",
            "_________________________________________________________________\n"
          ],
          "name": "stdout"
        }
      ]
    },
    {
      "cell_type": "code",
      "metadata": {
        "id": "wqajIIeR_GGT"
      },
      "source": [
        "#creating folder to store trained models\r\n",
        "mkdir nn_models"
      ],
      "execution_count": 28,
      "outputs": []
    },
    {
      "cell_type": "code",
      "metadata": {
        "id": "X6b5ASoNmpgx"
      },
      "source": [
        "#defining the custom callback for model7\r\n",
        "from sklearn.metrics import f1_score\r\n",
        "class custom_callback(tf.keras.callbacks.Callback):\r\n",
        "  def __init__(self):\r\n",
        "    super()\r\n",
        "    self.max_score=0.30\r\n",
        "        \r\n",
        "\r\n",
        "  def on_epoch_end(self, epoch, logs={}):\r\n",
        "        #on every epoch end we are storing the validation accuracy in the history dict\r\n",
        "        #checking if we have any nan values across our weights\r\n",
        "        is_nan_values=[]\r\n",
        "        for i in self.model.get_weights():\r\n",
        "          is_nan_values.append(np.isnan(i).any())\r\n",
        "\r\n",
        "        #stopping the model training if any weights have nan\r\n",
        "        if np.array(is_nan_values).any():\r\n",
        "          self.model.stop_training = True\r\n",
        "\r\n",
        "        #print f1 score for every epoch\r\n",
        "        y_preds_train=self.model.predict(X_train,batch_size=10000)\r\n",
        "        y_preds_cv=self.model.predict(X_cv,batch_size=10000)\r\n",
        "        gc.collect()\r\n",
        "        cv_mean_f1=best_mean_f1_score_tf(y_preds_train,y_preds_cv)\r\n",
        "        if cv_mean_f1>self.max_score:\r\n",
        "          self.max_score=cv_mean_f1\r\n",
        "\r\n",
        "          self.model.save('nn_models/layer7_model_f1'+str(cv_mean_f1))\r\n",
        "        gc.collect()\r\n",
        "      \r\n",
        "        \r\n",
        " "
      ],
      "execution_count": 58,
      "outputs": []
    },
    {
      "cell_type": "code",
      "metadata": {
        "id": "wjpKbwzLPS5a"
      },
      "source": [
        "#compiling the model\r\n",
        "model_7layer.compile(optimizer=tf.keras.optimizers.Adam(lr=0.005),loss='binary_crossentropy',metrics=['accuracy'],run_eagerly=True)\r\n"
      ],
      "execution_count": 59,
      "outputs": []
    },
    {
      "cell_type": "code",
      "metadata": {
        "colab": {
          "base_uri": "https://localhost:8080/"
        },
        "id": "x-pc6WVIPXvO",
        "outputId": "f7e85bee-60ed-44ec-9717-e7729b869382"
      },
      "source": [
        "#training the model\r\n",
        "model_7layer.fit(X_train,y_train.astype(np.float32),batch_size=10000,epochs=30,callbacks=[custom_callback()])"
      ],
      "execution_count": 60,
      "outputs": [
        {
          "output_type": "stream",
          "text": [
            "Epoch 1/30\n",
            "776/776 [==============================] - 17s 22ms/step - loss: 0.2724 - accuracy: 0.8987\n",
            "threshold train f1 score 0.2 0.3596840413314548\n",
            "threshold cv f1 score 0.2 0.3582853065415321\n",
            "INFO:tensorflow:Assets written to: nn_models/layer7_model_f10.3582853065415321/assets\n",
            "Epoch 2/30\n",
            "776/776 [==============================] - 17s 22ms/step - loss: 0.2478 - accuracy: 0.9087\n",
            "threshold train f1 score 0.2 0.35776699432700715\n",
            "threshold cv f1 score 0.2 0.35721270818169865\n",
            "Epoch 3/30\n",
            "776/776 [==============================] - 17s 22ms/step - loss: 0.2469 - accuracy: 0.9090\n",
            "threshold train f1 score 0.2 0.3564765403664173\n",
            "threshold cv f1 score 0.2 0.3560588366254019\n",
            "Epoch 4/30\n",
            "776/776 [==============================] - 17s 22ms/step - loss: 0.2462 - accuracy: 0.9093\n",
            "threshold train f1 score 0.2 0.3626642613598182\n",
            "threshold cv f1 score 0.2 0.3609134351166644\n",
            "INFO:tensorflow:Assets written to: nn_models/layer7_model_f10.3609134351166644/assets\n",
            "Epoch 5/30\n",
            "776/776 [==============================] - 17s 22ms/step - loss: 0.2466 - accuracy: 0.9090\n",
            "threshold train f1 score 0.2 0.36250518588028996\n",
            "threshold cv f1 score 0.2 0.3606039994115117\n",
            "Epoch 6/30\n",
            "776/776 [==============================] - 17s 22ms/step - loss: 0.2463 - accuracy: 0.9092\n",
            "threshold train f1 score 0.2 0.3626745812018894\n",
            "threshold cv f1 score 0.2 0.361750077550008\n",
            "INFO:tensorflow:Assets written to: nn_models/layer7_model_f10.361750077550008/assets\n",
            "Epoch 7/30\n",
            "776/776 [==============================] - 17s 22ms/step - loss: 0.2459 - accuracy: 0.9093\n",
            "threshold train f1 score 0.2 0.3639522273732229\n",
            "threshold cv f1 score 0.2 0.36258389124342033\n",
            "INFO:tensorflow:Assets written to: nn_models/layer7_model_f10.36258389124342033/assets\n",
            "Epoch 8/30\n",
            "776/776 [==============================] - 17s 22ms/step - loss: 0.2458 - accuracy: 0.9093\n",
            "threshold train f1 score 0.2 0.35417058617774727\n",
            "threshold cv f1 score 0.2 0.3532283395026404\n",
            "Epoch 9/30\n",
            "776/776 [==============================] - 17s 22ms/step - loss: 0.2456 - accuracy: 0.9094\n",
            "threshold train f1 score 0.2 0.36424095223628605\n",
            "threshold cv f1 score 0.2 0.3621891588889847\n",
            "Epoch 10/30\n",
            "776/776 [==============================] - 17s 22ms/step - loss: 0.2458 - accuracy: 0.9093\n",
            "threshold train f1 score 0.2 0.36431955418342366\n",
            "threshold cv f1 score 0.2 0.36402924385773194\n",
            "INFO:tensorflow:Assets written to: nn_models/layer7_model_f10.36402924385773194/assets\n",
            "Epoch 11/30\n",
            "776/776 [==============================] - 17s 22ms/step - loss: 0.2454 - accuracy: 0.9095\n",
            "threshold train f1 score 0.2 0.36300280665250745\n",
            "threshold cv f1 score 0.2 0.3617091176924\n",
            "Epoch 12/30\n",
            "776/776 [==============================] - 17s 22ms/step - loss: 0.2454 - accuracy: 0.9095\n",
            "threshold train f1 score 0.2 0.3612096657935917\n",
            "threshold cv f1 score 0.2 0.3605911797628151\n",
            "Epoch 13/30\n",
            "776/776 [==============================] - 17s 22ms/step - loss: 0.2454 - accuracy: 0.9096\n",
            "threshold train f1 score 0.2 0.36440059851422196\n",
            "threshold cv f1 score 0.2 0.3620934257794045\n",
            "Epoch 14/30\n",
            "776/776 [==============================] - 17s 22ms/step - loss: 0.2451 - accuracy: 0.9096\n",
            "threshold train f1 score 0.2 0.3601889155977317\n",
            "threshold cv f1 score 0.2 0.3585360347969887\n",
            "Epoch 15/30\n",
            "776/776 [==============================] - 17s 22ms/step - loss: 0.2455 - accuracy: 0.9095\n",
            "threshold train f1 score 0.2 0.36519587604446113\n",
            "threshold cv f1 score 0.2 0.36330417436333334\n",
            "Epoch 16/30\n",
            "776/776 [==============================] - 17s 22ms/step - loss: 0.2455 - accuracy: 0.9096\n",
            "threshold train f1 score 0.2 0.36203244759447445\n",
            "threshold cv f1 score 0.2 0.3606174293583656\n",
            "Epoch 17/30\n",
            "776/776 [==============================] - 17s 22ms/step - loss: 0.2447 - accuracy: 0.9098\n",
            "threshold train f1 score 0.2 0.3607213863884805\n",
            "threshold cv f1 score 0.2 0.3594670382200147\n",
            "Epoch 18/30\n",
            "776/776 [==============================] - 17s 22ms/step - loss: 0.2448 - accuracy: 0.9098\n",
            "threshold train f1 score 0.2 0.3641674753887928\n",
            "threshold cv f1 score 0.2 0.3628924256213623\n",
            "Epoch 19/30\n",
            "776/776 [==============================] - 17s 22ms/step - loss: 0.2449 - accuracy: 0.9097\n",
            "threshold train f1 score 0.2 0.35760795920227134\n",
            "threshold cv f1 score 0.2 0.35718915961564435\n",
            "Epoch 20/30\n",
            "776/776 [==============================] - 17s 22ms/step - loss: 0.2450 - accuracy: 0.9096\n",
            "threshold train f1 score 0.2 0.3642566189453574\n",
            "threshold cv f1 score 0.2 0.36234995740945064\n",
            "Epoch 21/30\n",
            "776/776 [==============================] - 17s 22ms/step - loss: 0.2452 - accuracy: 0.9097\n",
            "threshold train f1 score 0.2 0.36552031430778364\n",
            "threshold cv f1 score 0.2 0.3642623932374533\n",
            "INFO:tensorflow:Assets written to: nn_models/layer7_model_f10.3642623932374533/assets\n",
            "Epoch 22/30\n",
            "776/776 [==============================] - 17s 22ms/step - loss: 0.2453 - accuracy: 0.9096\n",
            "threshold train f1 score 0.2 0.3643744968661892\n",
            "threshold cv f1 score 0.2 0.36285671244753737\n",
            "Epoch 23/30\n",
            "776/776 [==============================] - 17s 22ms/step - loss: 0.2448 - accuracy: 0.9098\n",
            "threshold train f1 score 0.2 0.36509233818935516\n",
            "threshold cv f1 score 0.2 0.3639863912132104\n",
            "Epoch 24/30\n",
            "776/776 [==============================] - 17s 22ms/step - loss: 0.2449 - accuracy: 0.9097\n",
            "threshold train f1 score 0.2 0.36523355731556717\n",
            "threshold cv f1 score 0.2 0.36297620186443375\n",
            "Epoch 25/30\n",
            "776/776 [==============================] - 17s 22ms/step - loss: 0.2450 - accuracy: 0.9096\n",
            "threshold train f1 score 0.2 0.3651054725831855\n",
            "threshold cv f1 score 0.2 0.36353890760922686\n",
            "Epoch 26/30\n",
            "776/776 [==============================] - 17s 22ms/step - loss: 0.2448 - accuracy: 0.9097\n",
            "threshold train f1 score 0.2 0.3614306325725964\n",
            "threshold cv f1 score 0.2 0.3591637367337625\n",
            "Epoch 27/30\n",
            "776/776 [==============================] - 17s 22ms/step - loss: 0.2444 - accuracy: 0.9100\n",
            "threshold train f1 score 0.2 0.3602767375529473\n",
            "threshold cv f1 score 0.2 0.3583955296215471\n",
            "Epoch 28/30\n",
            "776/776 [==============================] - 17s 22ms/step - loss: 0.2448 - accuracy: 0.9097\n",
            "threshold train f1 score 0.2 0.3645261540944287\n",
            "threshold cv f1 score 0.2 0.3626070418536553\n",
            "Epoch 29/30\n",
            "776/776 [==============================] - 17s 22ms/step - loss: 0.2446 - accuracy: 0.9098\n",
            "threshold train f1 score 0.2 0.3556312325625484\n",
            "threshold cv f1 score 0.2 0.35403647110677017\n",
            "Epoch 30/30\n",
            "776/776 [==============================] - 17s 22ms/step - loss: 0.2445 - accuracy: 0.9099\n",
            "threshold train f1 score 0.2 0.36132611169167134\n",
            "threshold cv f1 score 0.2 0.3601557915827207\n"
          ],
          "name": "stdout"
        },
        {
          "output_type": "execute_result",
          "data": {
            "text/plain": [
              "<tensorflow.python.keras.callbacks.History at 0x7f12e3fcf8d0>"
            ]
          },
          "metadata": {
            "tags": []
          },
          "execution_count": 60
        }
      ]
    },
    {
      "cell_type": "code",
      "metadata": {
        "id": "oairAGMRhlZ5",
        "colab": {
          "base_uri": "https://localhost:8080/"
        },
        "outputId": "ead8de26-dbb1-4e68-9619-f8bd49a46ffb"
      },
      "source": [
        "#evaluating the best model with best threshold \r\n",
        "best_model=tf.keras.models.load_model('nn_models/layer7_model_f10.36402924385773194')\r\n",
        "pred_train_y=(best_model.predict(X_train,batch_size=10000)>=0.2)\r\n",
        "pred_cv_y=(best_model.predict(X_cv,batch_size=10000)>=0.2)\r\n",
        "train_data['pred_reordered']=pred_train_y\r\n",
        "cv_data['pred_reordered']=pred_cv_y\r\n",
        "train_f1_score=mean_f1score(train_data)\r\n",
        "cv_f1_score=mean_f1score(cv_data)\r\n",
        "print('train f1 score',train_f1_score,'cv_f1_score',cv_f1_score)"
      ],
      "execution_count": 63,
      "outputs": [
        {
          "output_type": "stream",
          "text": [
            "train f1 score 0.36431955418342366 cv_f1_score 0.36402924385773194\n"
          ],
          "name": "stdout"
        }
      ]
    },
    {
      "cell_type": "code",
      "metadata": {
        "id": "f2egjAWNhlsr",
        "colab": {
          "base_uri": "https://localhost:8080/",
          "height": 1000
        },
        "outputId": "05f8fc7d-8251-47d0-f81f-47a12fb5c726"
      },
      "source": [
        "#plotting confusion matrix for train data\r\n",
        "plot_confusion_matrix(y_train,pred_train_y)"
      ],
      "execution_count": 64,
      "outputs": [
        {
          "output_type": "stream",
          "text": [
            "Number of misclassified points  13.864903719080191 %\n",
            "-------------------------------------------------- Confusion matrix --------------------------------------------------\n"
          ],
          "name": "stdout"
        },
        {
          "output_type": "display_data",
          "data": {
            "image/png": "[encoded data removed]",
            "text/plain": [
              "<Figure size 720x360 with 2 Axes>"
            ]
          },
          "metadata": {
            "tags": [],
            "needs_background": "light"
          }
        },
        {
          "output_type": "stream",
          "text": [
            "-------------------------------------------------- Precision matrix --------------------------------------------------\n"
          ],
          "name": "stdout"
        },
        {
          "output_type": "display_data",
          "data": {
            "image/png": "[encoded data removed]",
            "text/plain": [
              "<Figure size 720x360 with 2 Axes>"
            ]
          },
          "metadata": {
            "tags": [],
            "needs_background": "light"
          }
        },
        {
          "output_type": "stream",
          "text": [
            "Sum of columns in precision matrix [1. 1.]\n",
            "-------------------------------------------------- Recall matrix --------------------------------------------------\n"
          ],
          "name": "stdout"
        },
        {
          "output_type": "display_data",
          "data": {
            "image/png": "[encoded data removed]",
            "text/plain": [
              "<Figure size 720x360 with 2 Axes>"
            ]
          },
          "metadata": {
            "tags": [],
            "needs_background": "light"
          }
        },
        {
          "output_type": "stream",
          "text": [
            "Sum of rows in precision matrix [1. 1.]\n"
          ],
          "name": "stdout"
        }
      ]
    },
    {
      "cell_type": "code",
      "metadata": {
        "colab": {
          "base_uri": "https://localhost:8080/",
          "height": 1000
        },
        "id": "MoF2nSrXqf1a",
        "outputId": "3ea27ea5-9647-4de3-85a6-a47566d73e41"
      },
      "source": [
        "#plotting confusion matrix for cv data\r\n",
        "plot_confusion_matrix(y_cv,pred_cv_y)"
      ],
      "execution_count": 65,
      "outputs": [
        {
          "output_type": "stream",
          "text": [
            "Number of misclassified points  13.92534690577993 %\n",
            "-------------------------------------------------- Confusion matrix --------------------------------------------------\n"
          ],
          "name": "stdout"
        },
        {
          "output_type": "display_data",
          "data": {
            "image/png": "[encoded data removed]",
            "text/plain": [
              "<Figure size 720x360 with 2 Axes>"
            ]
          },
          "metadata": {
            "tags": [],
            "needs_background": "light"
          }
        },
        {
          "output_type": "stream",
          "text": [
            "-------------------------------------------------- Precision matrix --------------------------------------------------\n"
          ],
          "name": "stdout"
        },
        {
          "output_type": "display_data",
          "data": {
            "image/png": "[encoded data removed]",
            "text/plain": [
              "<Figure size 720x360 with 2 Axes>"
            ]
          },
          "metadata": {
            "tags": [],
            "needs_background": "light"
          }
        },
        {
          "output_type": "stream",
          "text": [
            "Sum of columns in precision matrix [1. 1.]\n",
            "-------------------------------------------------- Recall matrix --------------------------------------------------\n"
          ],
          "name": "stdout"
        },
        {
          "output_type": "display_data",
          "data": {
            "image/png": "[encoded data removed]",
            "text/plain": [
              "<Figure size 720x360 with 2 Axes>"
            ]
          },
          "metadata": {
            "tags": [],
            "needs_background": "light"
          }
        },
        {
          "output_type": "stream",
          "text": [
            "Sum of rows in precision matrix [1. 1.]\n"
          ],
          "name": "stdout"
        }
      ]
    },
    {
      "cell_type": "markdown",
      "metadata": {
        "id": "opzIWfeati9s"
      },
      "source": [
        "**CNN Model**"
      ]
    },
    {
      "cell_type": "code",
      "metadata": {
        "colab": {
          "base_uri": "https://localhost:8080/"
        },
        "id": "HvU0mYnctz5t",
        "outputId": "2f56fc67-73dc-4f88-826c-fd0972f8bf63"
      },
      "source": [
        "#creating cnn model\r\n",
        "import tensorflow as tf\r\n",
        "from tensorflow.keras import Sequential\r\n",
        "from tensorflow.keras.layers import Input,Dense\r\n",
        "from tensorflow.keras.layers import Flatten\r\n",
        "from tensorflow.keras.layers import Concatenate,Conv1D,MaxPool1D,Dropout\r\n",
        "input_layer=Input(shape=(len(X_train.columns),1))\r\n",
        "conv1a=Conv1D(128, 3, activation='relu')(input_layer)\r\n",
        "conv1b=Conv1D(128, 5, activation='relu')(input_layer)\r\n",
        "conv1c=Conv1D(128, 7, activation='relu')(input_layer)\r\n",
        "concat1=Concatenate(axis=1)([conv1a, conv1b, conv1c])\r\n",
        "max1=MaxPool1D(pool_size=2,strides=1, padding='valid')(concat1)\r\n",
        "conv2a=Conv1D(64, 3, activation='relu')(max1)\r\n",
        "conv2b=Conv1D(64, 5, activation='relu')(max1)\r\n",
        "conv2c=Conv1D(64, 7, activation='relu')(max1)\r\n",
        "concat2=Concatenate(axis=1)([conv2a, conv2b, conv2c])\r\n",
        "max2=MaxPool1D(pool_size=2,strides=1, padding='valid')(concat2)\r\n",
        "conv3a=Conv1D(16, 3, activation='relu')(max2)\r\n",
        "flat=Flatten()(conv3a)\r\n",
        "drp=Dropout(.2)(flat)\r\n",
        "d1=Dense(units=50,activation='relu',kernel_initializer=tf.keras.initializers.glorot_normal(seed=32),name='FC1')(drp)\r\n",
        "output_layer=Dense(units=1,activation='sigmoid',kernel_initializer=tf.keras.initializers.glorot_normal(seed=3),name='Output')(d1)\r\n",
        "conv_model = tf.keras.Model(inputs=input_layer, outputs=output_layer)\r\n",
        "conv_model.summary()"
      ],
      "execution_count": 24,
      "outputs": [
        {
          "output_type": "stream",
          "text": [
            "Model: \"model_2\"\n",
            "__________________________________________________________________________________________________\n",
            "Layer (type)                    Output Shape         Param #     Connected to                     \n",
            "==================================================================================================\n",
            "input_3 (InputLayer)            [(None, 47, 1)]      0                                            \n",
            "__________________________________________________________________________________________________\n",
            "conv1d_14 (Conv1D)              (None, 45, 128)      512         input_3[0][0]                    \n",
            "__________________________________________________________________________________________________\n",
            "conv1d_15 (Conv1D)              (None, 43, 128)      768         input_3[0][0]                    \n",
            "__________________________________________________________________________________________________\n",
            "conv1d_16 (Conv1D)              (None, 41, 128)      1024        input_3[0][0]                    \n",
            "__________________________________________________________________________________________________\n",
            "concatenate_4 (Concatenate)     (None, 129, 128)     0           conv1d_14[0][0]                  \n",
            "                                                                 conv1d_15[0][0]                  \n",
            "                                                                 conv1d_16[0][0]                  \n",
            "__________________________________________________________________________________________________\n",
            "max_pooling1d_4 (MaxPooling1D)  (None, 128, 128)     0           concatenate_4[0][0]              \n",
            "__________________________________________________________________________________________________\n",
            "conv1d_17 (Conv1D)              (None, 126, 64)      24640       max_pooling1d_4[0][0]            \n",
            "__________________________________________________________________________________________________\n",
            "conv1d_18 (Conv1D)              (None, 124, 64)      41024       max_pooling1d_4[0][0]            \n",
            "__________________________________________________________________________________________________\n",
            "conv1d_19 (Conv1D)              (None, 122, 64)      57408       max_pooling1d_4[0][0]            \n",
            "__________________________________________________________________________________________________\n",
            "concatenate_5 (Concatenate)     (None, 372, 64)      0           conv1d_17[0][0]                  \n",
            "                                                                 conv1d_18[0][0]                  \n",
            "                                                                 conv1d_19[0][0]                  \n",
            "__________________________________________________________________________________________________\n",
            "max_pooling1d_5 (MaxPooling1D)  (None, 371, 64)      0           concatenate_5[0][0]              \n",
            "__________________________________________________________________________________________________\n",
            "conv1d_20 (Conv1D)              (None, 369, 16)      3088        max_pooling1d_5[0][0]            \n",
            "__________________________________________________________________________________________________\n",
            "flatten_2 (Flatten)             (None, 5904)         0           conv1d_20[0][0]                  \n",
            "__________________________________________________________________________________________________\n",
            "dropout_2 (Dropout)             (None, 5904)         0           flatten_2[0][0]                  \n",
            "__________________________________________________________________________________________________\n",
            "FC1 (Dense)                     (None, 50)           295250      dropout_2[0][0]                  \n",
            "__________________________________________________________________________________________________\n",
            "Output (Dense)                  (None, 1)            51          FC1[0][0]                        \n",
            "==================================================================================================\n",
            "Total params: 423,765\n",
            "Trainable params: 423,765\n",
            "Non-trainable params: 0\n",
            "__________________________________________________________________________________________________\n"
          ],
          "name": "stdout"
        }
      ]
    },
    {
      "cell_type": "code",
      "metadata": {
        "id": "oUzYivxLwyrZ"
      },
      "source": [
        "#defining the custom callback for model7\r\n",
        "from sklearn.metrics import f1_score\r\n",
        "class custom_callback(tf.keras.callbacks.Callback):\r\n",
        "  def __init__(self):\r\n",
        "    super()\r\n",
        "    self.max_score=0.30\r\n",
        "        \r\n",
        "\r\n",
        "  def on_epoch_end(self, epoch, logs={}):\r\n",
        "        #on every epoch end we are storing the validation accuracy in the history dict\r\n",
        "        #checking if we have any nan values across our weights\r\n",
        "        is_nan_values=[]\r\n",
        "        for i in self.model.get_weights():\r\n",
        "          is_nan_values.append(np.isnan(i).any())\r\n",
        "\r\n",
        "        #stopping the model training if any weights have nan\r\n",
        "        if np.array(is_nan_values).any():\r\n",
        "          self.model.stop_training = True\r\n",
        "\r\n",
        "        #print f1 score for every epoch\r\n",
        "        y_preds_train=self.model.predict(X_train,batch_size=1000)\r\n",
        "        y_preds_cv=self.model.predict(X_cv,batch_size=1000)\r\n",
        "        gc.collect()\r\n",
        "        cv_mean_f1=best_mean_f1_score_tf(y_preds_train,y_preds_cv)\r\n",
        "        if cv_mean_f1>self.max_score:\r\n",
        "          self.max_score=cv_mean_f1\r\n",
        "\r\n",
        "          self.model.save('nn_models/conv_model_f1'+str(cv_mean_f1))\r\n",
        "        gc.collect()\r\n",
        "      \r\n",
        "        \r\n",
        " "
      ],
      "execution_count": 25,
      "outputs": []
    },
    {
      "cell_type": "code",
      "metadata": {
        "id": "534Aw79lw804"
      },
      "source": [
        "#compiling the model\r\n",
        "conv_model.compile(optimizer=tf.keras.optimizers.Adam(lr=0.001),loss='binary_crossentropy',metrics=['accuracy'],run_eagerly=True)\r\n"
      ],
      "execution_count": 26,
      "outputs": []
    },
    {
      "cell_type": "code",
      "metadata": {
        "colab": {
          "base_uri": "https://localhost:8080/"
        },
        "id": "yFzt_Usvw9C2",
        "outputId": "ed5f38ce-b950-4143-81aa-070bdad74909"
      },
      "source": [
        "#training the model\r\n",
        "# np.reshape(X_train,newshape=(X_train.shape[0],X_train.shape[1],1)),y_train.astype(np.float32)\r\n",
        "conv_model.fit(X_train,y_train.astype(np.float32),batch_size=1000,epochs=10,callbacks=[custom_callback()])"
      ],
      "execution_count": 27,
      "outputs": [
        {
          "output_type": "stream",
          "text": [
            "Epoch 1/10\n",
            "7756/7756 [==============================] - 422s 54ms/step - loss: 0.2545 - accuracy: 0.9060\n",
            "threshold train f1 score 0.2 0.35863272180507766\n",
            "threshold cv f1 score 0.2 0.35857014676771215\n",
            "INFO:tensorflow:Assets written to: nn_models/conv_model_f10.35857014676771215/assets\n",
            "Epoch 2/10\n",
            "7756/7756 [==============================] - 420s 54ms/step - loss: 0.2477 - accuracy: 0.9086\n",
            "threshold train f1 score 0.2 0.36087938442078976\n",
            "threshold cv f1 score 0.2 0.36062013826644107\n",
            "INFO:tensorflow:Assets written to: nn_models/conv_model_f10.36062013826644107/assets\n",
            "Epoch 3/10\n",
            "7756/7756 [==============================] - 420s 54ms/step - loss: 0.2469 - accuracy: 0.9091\n",
            "threshold train f1 score 0.2 0.36569859248443787\n",
            "threshold cv f1 score 0.2 0.36447325900646405\n",
            "INFO:tensorflow:Assets written to: nn_models/conv_model_f10.36447325900646405/assets\n",
            "Epoch 4/10\n",
            "7756/7756 [==============================] - 421s 54ms/step - loss: 0.2460 - accuracy: 0.9094\n",
            "threshold train f1 score 0.2 0.3661858912599265\n",
            "threshold cv f1 score 0.2 0.3649394551005237\n",
            "INFO:tensorflow:Assets written to: nn_models/conv_model_f10.3649394551005237/assets\n",
            "Epoch 5/10\n",
            "7756/7756 [==============================] - 420s 54ms/step - loss: 0.2460 - accuracy: 0.9093\n",
            "threshold train f1 score 0.2 0.36338110412849545\n",
            "threshold cv f1 score 0.2 0.36136508947438506\n",
            "Epoch 6/10\n",
            "7756/7756 [==============================] - 418s 54ms/step - loss: 0.2455 - accuracy: 0.9095\n",
            "threshold train f1 score 0.2 0.36623890402442294\n",
            "threshold cv f1 score 0.2 0.3637252443217972\n",
            "Epoch 7/10\n",
            "7756/7756 [==============================] - 419s 54ms/step - loss: 0.2451 - accuracy: 0.9096\n",
            "threshold train f1 score 0.2 0.36302155107186185\n",
            "threshold cv f1 score 0.2 0.36139990301138153\n",
            "Epoch 8/10\n",
            "7756/7756 [==============================] - 420s 54ms/step - loss: 0.2452 - accuracy: 0.9096\n",
            "threshold train f1 score 0.2 0.3630351689671363\n",
            "threshold cv f1 score 0.2 0.3611563664852054\n",
            "Epoch 9/10\n",
            "7756/7756 [==============================] - 421s 54ms/step - loss: 0.2447 - accuracy: 0.9097\n",
            "threshold train f1 score 0.2 0.36697921238949\n",
            "threshold cv f1 score 0.2 0.3654403235929674\n",
            "INFO:tensorflow:Assets written to: nn_models/conv_model_f10.3654403235929674/assets\n",
            "Epoch 10/10\n",
            "7756/7756 [==============================] - 421s 54ms/step - loss: 0.2452 - accuracy: 0.9096\n",
            "threshold train f1 score 0.2 0.36537926516900515\n",
            "threshold cv f1 score 0.2 0.3622626916351407\n"
          ],
          "name": "stdout"
        },
        {
          "output_type": "execute_result",
          "data": {
            "text/plain": [
              "<tensorflow.python.keras.callbacks.History at 0x7f2c9d26b550>"
            ]
          },
          "metadata": {
            "tags": []
          },
          "execution_count": 27
        }
      ]
    },
    {
      "cell_type": "code",
      "metadata": {
        "colab": {
          "base_uri": "https://localhost:8080/"
        },
        "id": "c9NkpKzzw9Hy",
        "outputId": "cd5ef46d-4e72-46be-973a-dee4e45971a9"
      },
      "source": [
        "#evaluating with best model and best threshold\r\n",
        "best_model=tf.keras.models.load_model('nn_models/conv_model_f10.3654403235929674')\r\n",
        "pred_train_y=(best_model.predict(X_train,batch_size=1000)>=0.2)\r\n",
        "pred_cv_y=(best_model.predict(X_cv,batch_size=1000)>=0.2)\r\n",
        "train_data['pred_reordered']=pred_train_y\r\n",
        "cv_data['pred_reordered']=pred_cv_y\r\n",
        "train_f1_score=mean_f1score(train_data)\r\n",
        "cv_f1_score=mean_f1score(cv_data)\r\n",
        "print('train f1 score',train_f1_score,'cv_f1_score',cv_f1_score)\r\n"
      ],
      "execution_count": 30,
      "outputs": [
        {
          "output_type": "stream",
          "text": [
            "train f1 score 0.36697921238949 cv_f1_score 0.3654403235929674\n"
          ],
          "name": "stdout"
        }
      ]
    },
    {
      "cell_type": "code",
      "metadata": {
        "colab": {
          "base_uri": "https://localhost:8080/",
          "height": 1000
        },
        "id": "nw3iMkVqbZ1i",
        "outputId": "facad208-8913-4ec8-eab3-042e61e0db8b"
      },
      "source": [
        "#plotting confusion matrix of train data\r\n",
        "plot_confusion_matrix(y_train,pred_train_y)"
      ],
      "execution_count": 31,
      "outputs": [
        {
          "output_type": "stream",
          "text": [
            "Number of misclassified points  14.062004009824717 %\n",
            "-------------------------------------------------- Confusion matrix --------------------------------------------------\n"
          ],
          "name": "stdout"
        },
        {
          "output_type": "display_data",
          "data": {
            "image/png": "[encoded data removed]",
            "text/plain": [
              "<Figure size 720x360 with 2 Axes>"
            ]
          },
          "metadata": {
            "tags": [],
            "needs_background": "light"
          }
        },
        {
          "output_type": "stream",
          "text": [
            "-------------------------------------------------- Precision matrix --------------------------------------------------\n"
          ],
          "name": "stdout"
        },
        {
          "output_type": "display_data",
          "data": {
            "image/png": "[encoded data removed]",
            "text/plain": [
              "<Figure size 720x360 with 2 Axes>"
            ]
          },
          "metadata": {
            "tags": [],
            "needs_background": "light"
          }
        },
        {
          "output_type": "stream",
          "text": [
            "Sum of columns in precision matrix [1. 1.]\n",
            "-------------------------------------------------- Recall matrix --------------------------------------------------\n"
          ],
          "name": "stdout"
        },
        {
          "output_type": "display_data",
          "data": {
            "image/png": "[encoded data removed]",
            "text/plain": [
              "<Figure size 720x360 with 2 Axes>"
            ]
          },
          "metadata": {
            "tags": [],
            "needs_background": "light"
          }
        },
        {
          "output_type": "stream",
          "text": [
            "Sum of rows in precision matrix [1. 1.]\n"
          ],
          "name": "stdout"
        }
      ]
    },
    {
      "cell_type": "code",
      "metadata": {
        "colab": {
          "base_uri": "https://localhost:8080/",
          "height": 1000
        },
        "id": "7GTRorbCbgzT",
        "outputId": "832f8f99-9e2d-46df-b780-8e858002bdf4"
      },
      "source": [
        "#plotting confusion matrix of cv data\r\n",
        "plot_confusion_matrix(y_cv,pred_cv_y)"
      ],
      "execution_count": 32,
      "outputs": [
        {
          "output_type": "stream",
          "text": [
            "Number of misclassified points  14.181082521347246 %\n",
            "-------------------------------------------------- Confusion matrix --------------------------------------------------\n"
          ],
          "name": "stdout"
        },
        {
          "output_type": "display_data",
          "data": {
            "image/png": "[encoded data removed]",
            "text/plain": [
              "<Figure size 720x360 with 2 Axes>"
            ]
          },
          "metadata": {
            "tags": [],
            "needs_background": "light"
          }
        },
        {
          "output_type": "stream",
          "text": [
            "-------------------------------------------------- Precision matrix --------------------------------------------------\n"
          ],
          "name": "stdout"
        },
        {
          "output_type": "display_data",
          "data": {
            "image/png": "[encoded data removed]",
            "text/plain": [
              "<Figure size 720x360 with 2 Axes>"
            ]
          },
          "metadata": {
            "tags": [],
            "needs_background": "light"
          }
        },
        {
          "output_type": "stream",
          "text": [
            "Sum of columns in precision matrix [1. 1.]\n",
            "-------------------------------------------------- Recall matrix --------------------------------------------------\n"
          ],
          "name": "stdout"
        },
        {
          "output_type": "display_data",
          "data": {
            "image/png": "[encoded data removed]",
            "text/plain": [
              "<Figure size 720x360 with 2 Axes>"
            ]
          },
          "metadata": {
            "tags": [],
            "needs_background": "light"
          }
        },
        {
          "output_type": "stream",
          "text": [
            "Sum of rows in precision matrix [1. 1.]\n"
          ],
          "name": "stdout"
        }
      ]
    },
    {
      "cell_type": "markdown",
      "metadata": {
        "id": "TGbf9mmbVaEZ"
      },
      "source": [
        "# Summary"
      ]
    },
    {
      "cell_type": "code",
      "metadata": {
        "colab": {
          "base_uri": "https://localhost:8080/"
        },
        "id": "7VQrWy_r6tOh",
        "outputId": "53d9a082-517b-44ae-a0a9-aa2b136d0460"
      },
      "source": [
        "#displaying model scores\n",
        "from beautifultable import BeautifulTable\n",
        "\n",
        "\n",
        "headers=['Model','Train mean f1 score', ' Cv mean f1 score']\n",
        "summary_data = [['logistic regression','0.3450','0.3452'],\n",
        "                ['Random Forest Classifier','0.398576','0.36632'],\n",
        "                ['XGB Classifier','0.36317','0.36269'],\n",
        "                ['LGBM Classifier','0.36606','0.36515'],\n",
        "                ['Adaboost Classifier','0.340607','0.341313'],\n",
        "                ['Neural Network with 7 dense layers','0.36431955418342366','0.36402924385773194'],\n",
        "                ['CNN model','0.36697921238949','0.3654403235929674']]\n",
        "\n",
        "\n",
        "\n",
        "table=BeautifulTable(max_width=110)\n",
        "table.columns.header=headers\n",
        "\n",
        "\n",
        "for row in summary_data:\n",
        "    table.rows.append(row)\n",
        "    \n",
        "print(table)"
      ],
      "execution_count": 33,
      "outputs": [
        {
          "output_type": "stream",
          "text": [
            "+------------------------------------+---------------------+-------------------+\n",
            "|               Model                | Train mean f1 score |  Cv mean f1 score |\n",
            "+------------------------------------+---------------------+-------------------+\n",
            "|        logistic regression         |        0.345        |       0.345       |\n",
            "+------------------------------------+---------------------+-------------------+\n",
            "|      Random Forest Classifier      |        0.399        |       0.366       |\n",
            "+------------------------------------+---------------------+-------------------+\n",
            "|           XGB Classifier           |        0.363        |       0.363       |\n",
            "+------------------------------------+---------------------+-------------------+\n",
            "|          LGBM Classifier           |        0.366        |       0.365       |\n",
            "+------------------------------------+---------------------+-------------------+\n",
            "|        Adaboost Classifier         |        0.341        |       0.341       |\n",
            "+------------------------------------+---------------------+-------------------+\n",
            "| Neural Network with 7 dense layers |        0.364        |       0.364       |\n",
            "+------------------------------------+---------------------+-------------------+\n",
            "|             CNN model              |        0.367        |       0.365       |\n",
            "+------------------------------------+---------------------+-------------------+\n"
          ],
          "name": "stdout"
        }
      ]
    },
    {
      "cell_type": "markdown",
      "metadata": {
        "id": "pkDnsMm6jyLN"
      },
      "source": [
        "We tried five different models with hyper parameter tuning. Out of all the four models, Random Forest Classifier did well compared to the rest with close margin with LGBM Classifier and CNN model"
      ]
    },
    {
      "cell_type": "code",
      "metadata": {
        "id": "4HgS6k5vVaEb"
      },
      "source": [
        ""
      ],
      "execution_count": null,
      "outputs": []
    }
  ]
}