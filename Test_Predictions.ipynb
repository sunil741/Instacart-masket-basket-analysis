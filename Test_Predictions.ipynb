{
  "nbformat": 4,
  "nbformat_minor": 0,
  "metadata": {
    "accelerator": "GPU",
    "colab": {
      "name": "Test_Predictions.ipynb",
      "provenance": [],
      "collapsed_sections": [],
      "machine_shape": "hm"
    },
    "kernelspec": {
      "display_name": "Python 3",
      "language": "python",
      "name": "python3"
    },
    "language_info": {
      "codemirror_mode": {
        "name": "ipython",
        "version": 3
      },
      "file_extension": ".py",
      "mimetype": "text/x-python",
      "name": "python",
      "nbconvert_exporter": "python",
      "pygments_lexer": "ipython3",
      "version": "3.7.0"
    }
  },
  "cells": [
    {
      "cell_type": "code",
      "metadata": {
        "colab": {
          "base_uri": "https://localhost:8080/"
        },
        "id": "FrpsMdqUVjT3",
        "outputId": "67ce1910-4bb0-412e-ba9d-1bccf104afaa"
      },
      "source": [
        "from google.colab import drive\n",
        "drive.mount('/content/drive')"
      ],
      "execution_count": 1,
      "outputs": [
        {
          "output_type": "stream",
          "text": [
            "Drive already mounted at /content/drive; to attempt to forcibly remount, call drive.mount(\"/content/drive\", force_remount=True).\n"
          ],
          "name": "stdout"
        }
      ]
    },
    {
      "cell_type": "code",
      "metadata": {
        "colab": {
          "base_uri": "https://localhost:8080/",
          "height": 302
        },
        "id": "n6D7Sryxn8QX",
        "outputId": "d0feda93-6f9b-4aab-873c-2566db9dce40"
      },
      "source": [
        "pip install --upgrade xgboost"
      ],
      "execution_count": 9,
      "outputs": [
        {
          "output_type": "stream",
          "text": [
            "Collecting xgboost\n",
            "\u001b[?25l  Downloading https://files.pythonhosted.org/packages/29/c8/d6ff9fe39cb93ef2e66bb411c69e0135dd1b1ea98827eadbb2ba8baecb44/xgboost-1.3.1-py3-none-manylinux2010_x86_64.whl (157.5MB)\n",
            "\u001b[K     |████████████████████████████████| 157.5MB 32kB/s \n",
            "\u001b[?25hRequirement already satisfied, skipping upgrade: numpy in /usr/local/lib/python3.6/dist-packages (from xgboost) (1.19.4)\n",
            "Requirement already satisfied, skipping upgrade: scipy in /usr/local/lib/python3.6/dist-packages (from xgboost) (1.4.1)\n",
            "Installing collected packages: xgboost\n",
            "  Found existing installation: xgboost 0.90\n",
            "    Uninstalling xgboost-0.90:\n",
            "      Successfully uninstalled xgboost-0.90\n",
            "Successfully installed xgboost-1.3.1\n"
          ],
          "name": "stdout"
        },
        {
          "output_type": "display_data",
          "data": {
            "application/vnd.colab-display-data+json": {
              "pip_warning": {
                "packages": [
                  "xgboost"
                ]
              }
            }
          },
          "metadata": {
            "tags": []
          }
        }
      ]
    },
    {
      "cell_type": "code",
      "metadata": {
        "id": "2CswE9l4VkR-"
      },
      "source": [
        "#importing necessary libraries\n",
        "import pandas as pd\n",
        "import numpy as np"
      ],
      "execution_count": 2,
      "outputs": []
    },
    {
      "cell_type": "code",
      "metadata": {
        "colab": {
          "base_uri": "https://localhost:8080/"
        },
        "id": "sGJ6hV9VVzIC",
        "outputId": "fa635e21-4752-4f88-b914-15cf801fc743"
      },
      "source": [
        "cd 'drive/My Drive/feature file'"
      ],
      "execution_count": 3,
      "outputs": [
        {
          "output_type": "stream",
          "text": [
            "/content/drive/My Drive/feature file\n"
          ],
          "name": "stdout"
        }
      ]
    },
    {
      "cell_type": "code",
      "metadata": {
        "id": "nOWEOjOJV5D6"
      },
      "source": [
        "#https://www.kaggle.com/gemartin/load-data-reduce-memory-usage\n",
        "def memory_decrease_by_column(df):\n",
        "  '''This function helps to reduce the memory taken by the dataframe by storing the data in data types of best fit'''  \n",
        "  col_type_dict={'order_id':np.uint32,'user_id':np.uint32,'order_number':np.uint8,\n",
        "                 'order_dow':np.uint8,'order_hour_of_day':np.uint8,'days_since_prior_order':np.float16,\n",
        "                 'product_id':np.uint16,'add_to_cart_order':np.uint8,'reordered':np.uint8,\n",
        "                 'aisle_id':np.uint8,'department_id':np.uint8,'reordered_new':np.uint8,\n",
        "                 'user_max_ono':np.uint8,'user_sum_reord':np.uint16,'user_reord_prop':np.float16,\n",
        "                  'user_prod_reord_prop':np.float16,'user_uniqpr':np.uint16,'user_uniqpr_prop':np.float16,\n",
        "                  'user_order_reord_prop':np.float16,'user_dsp_mean':np.float16,'user_min_order_size':np.uint8,\n",
        "                  'user_max_order_size':np.uint8,'user_mean_order_size':np.float16,\n",
        "                  'product_ratios_users_oneshot':np.float16,'product_cart_mean':np.float16,\n",
        "                  'product_reord_count':np.uint32,'product_reord_prop':np.float16,\n",
        "                  'prod_uniq_us':np.uint32,'prod_uniq_us_prop':np.float16,\n",
        "                  'prod_us_reord_prop':np.float16,'user_days_since_product':np.float16,'user_product_hod_mean':np.float16,\n",
        "'user_product_dow_mean':np.float16,'user_product_prop':np.float16,\n",
        "'user_product_cnt':np.uint8,'user_product_atc_mode_min':np.uint8,\n",
        "'user_product_atc_mode_max':np.uint8,'user_product_atc_min':np.uint8,\n",
        "'user_product_atc_max':np.uint8,'user_product_atc_mean':np.float16,\n",
        "'aisle_reordered':np.uint32,'aisle_reordered_prop':np.float16,\n",
        "'dep_reordered':np.uint32,'dep_reordered_prop':np.float16,\n",
        "'order_dow_reordered':np.uint32,'order_dow_reordered_prop':np.float16,\n",
        "'order_hod_reordered':np.uint32,'order_hod_reordered_prop':np.float16,\n",
        "'order_dow_hod_reord_count':np.uint32,'ono_dsp_reord':np.uint32,\n",
        "'order_dow_hod_reord_prop':np.float16,'ono_dsp_reord_prop':np.float16,\n",
        "'atc_reordered':np.uint32,\n",
        "'atc_reordered_prop':np.float16,'product_ordered_today':np.uint8,\n",
        "'user_days_since_product_corrected':np.float16}\n",
        "\n",
        "  start_mem = df.memory_usage().sum() / 1024**2\n",
        "  print('Memory usage of dataframe is {:.2f} MB'.format(start_mem))\n",
        "  for i in df.columns:\n",
        "    if df[i].dtype!= object:\n",
        "      df[i]=df[i].astype(col_type_dict[i])\n",
        "    else:\n",
        "      df[i] = df[i].astype('category')\n",
        "  end_mem = df.memory_usage().sum() / 1024**2\n",
        "  print('Memory usage after optimization is: {:.2f} MB'.format(end_mem))\n",
        "  print('Decreased by {:.1f}%'.format(100 * (start_mem - end_mem) / start_mem))\n",
        "    \n",
        "  return df\n"
      ],
      "execution_count": 4,
      "outputs": []
    },
    {
      "cell_type": "code",
      "metadata": {
        "colab": {
          "base_uri": "https://localhost:8080/"
        },
        "id": "QAPRpN0XV8sa",
        "outputId": "0e7e7a80-64f5-404a-c5c7-ebf37f8c0fe1"
      },
      "source": [
        "#loading orders data from disk\n",
        "orders=pd.read_csv('orders.csv')\n",
        "print(orders.shape)\n",
        "print(orders.head())"
      ],
      "execution_count": 9,
      "outputs": [
        {
          "output_type": "stream",
          "text": [
            "(3421083, 7)\n",
            "   order_id  user_id  ... order_hour_of_day  days_since_prior_order\n",
            "0   2539329        1  ...                 8                     NaN\n",
            "1   2398795        1  ...                 7                    15.0\n",
            "2    473747        1  ...                12                    21.0\n",
            "3   2254736        1  ...                 7                    29.0\n",
            "4    431534        1  ...                15                    28.0\n",
            "\n",
            "[5 rows x 7 columns]\n"
          ],
          "name": "stdout"
        }
      ]
    },
    {
      "cell_type": "code",
      "metadata": {
        "colab": {
          "base_uri": "https://localhost:8080/"
        },
        "id": "7Yk8YfhYWGW6",
        "outputId": "127e8354-e9d3-4a60-ddd5-db8a6607a646"
      },
      "source": [
        "#reducing memory of orders\n",
        "orders=memory_decrease_by_column(orders)"
      ],
      "execution_count": 10,
      "outputs": [
        {
          "output_type": "stream",
          "text": [
            "Memory usage of dataframe is 182.71 MB\n",
            "Memory usage after optimization is: 45.68 MB\n",
            "Decreased by 75.0%\n"
          ],
          "name": "stdout"
        }
      ]
    },
    {
      "cell_type": "code",
      "metadata": {
        "colab": {
          "base_uri": "https://localhost:8080/"
        },
        "id": "hmnkS43FWJlR",
        "outputId": "d00574a9-356e-4767-949d-c97b4f934583"
      },
      "source": [
        "#loading order_products_prior from disk\n",
        "order_products_prior=pd.read_csv('order_products__prior.csv')\n",
        "print(order_products_prior.shape)\n",
        "print(order_products_prior.head(2))"
      ],
      "execution_count": 11,
      "outputs": [
        {
          "output_type": "stream",
          "text": [
            "(32434489, 4)\n",
            "   order_id  product_id  add_to_cart_order  reordered\n",
            "0         2       33120                  1          1\n",
            "1         2       28985                  2          1\n"
          ],
          "name": "stdout"
        }
      ]
    },
    {
      "cell_type": "code",
      "metadata": {
        "colab": {
          "base_uri": "https://localhost:8080/"
        },
        "id": "UgeggJKKWOxB",
        "outputId": "9d204823-bd4e-4928-ee99-b312d9de2226"
      },
      "source": [
        "#reducing memory of order_products__prior\n",
        "order_products_prior=memory_decrease_by_column(order_products_prior)"
      ],
      "execution_count": 12,
      "outputs": [
        {
          "output_type": "stream",
          "text": [
            "Memory usage of dataframe is 989.82 MB\n",
            "Memory usage after optimization is: 247.46 MB\n",
            "Decreased by 75.0%\n"
          ],
          "name": "stdout"
        }
      ]
    },
    {
      "cell_type": "code",
      "metadata": {
        "colab": {
          "base_uri": "https://localhost:8080/"
        },
        "id": "6TiSgujIWtJz",
        "outputId": "9cd053c2-1bfc-4dd2-cdbb-a8f850d01f12"
      },
      "source": [
        "#combining user order and order product information of prior set\n",
        "user_order_products_prior=pd.merge(orders[orders.eval_set=='prior'],order_products_prior,on='order_id',how='left')\n",
        "user_order_products_prior.columns"
      ],
      "execution_count": 13,
      "outputs": [
        {
          "output_type": "execute_result",
          "data": {
            "text/plain": [
              "Index(['order_id', 'user_id', 'eval_set', 'order_number', 'order_dow',\n",
              "       'order_hour_of_day', 'days_since_prior_order', 'product_id',\n",
              "       'add_to_cart_order', 'reordered'],\n",
              "      dtype='object')"
            ]
          },
          "metadata": {
            "tags": []
          },
          "execution_count": 13
        }
      ]
    },
    {
      "cell_type": "code",
      "metadata": {
        "id": "QfUy772fWvDx"
      },
      "source": [
        "#obtaining user and all products the user has purchased\n",
        "user_products_prior=user_order_products_prior[['user_id','product_id']].drop_duplicates()"
      ],
      "execution_count": 14,
      "outputs": []
    },
    {
      "cell_type": "code",
      "metadata": {
        "colab": {
          "base_uri": "https://localhost:8080/"
        },
        "id": "WtSKlbbZWvRU",
        "outputId": "b5ac8dc0-a9c8-4560-c324-d040dded6f24"
      },
      "source": [
        "#combining user order and order product information for test set\n",
        "user_order_products_test=pd.merge(orders[orders.eval_set=='test'],user_products_prior,on='user_id',how='left')\n",
        "user_order_products_test.columns"
      ],
      "execution_count": 15,
      "outputs": [
        {
          "output_type": "execute_result",
          "data": {
            "text/plain": [
              "Index(['order_id', 'user_id', 'eval_set', 'order_number', 'order_dow',\n",
              "       'order_hour_of_day', 'days_since_prior_order', 'product_id'],\n",
              "      dtype='object')"
            ]
          },
          "metadata": {
            "tags": []
          },
          "execution_count": 15
        }
      ]
    },
    {
      "cell_type": "code",
      "metadata": {
        "id": "jBxwQYVZWvTU"
      },
      "source": [
        "#loading products data from disk\n",
        "products=pd.read_csv('products.csv')\n",
        "products.drop(['product_name'],axis=1,inplace=True)"
      ],
      "execution_count": 16,
      "outputs": []
    },
    {
      "cell_type": "code",
      "metadata": {
        "colab": {
          "base_uri": "https://localhost:8080/"
        },
        "id": "f0xF3yViWvXD",
        "outputId": "1ff618ba-1f54-417b-848a-4a47264ae213"
      },
      "source": [
        "#reducing memory of products data\n",
        "products=memory_decrease_by_column(products)"
      ],
      "execution_count": 17,
      "outputs": [
        {
          "output_type": "stream",
          "text": [
            "Memory usage of dataframe is 1.14 MB\n",
            "Memory usage after optimization is: 0.19 MB\n",
            "Decreased by 83.3%\n"
          ],
          "name": "stdout"
        }
      ]
    },
    {
      "cell_type": "code",
      "metadata": {
        "colab": {
          "base_uri": "https://localhost:8080/"
        },
        "id": "zQZTVvGwW_CN",
        "outputId": "0b4a6bfc-2118-48ed-ab4b-5bf6de6b7836"
      },
      "source": [
        "#preparing the train dataset\n",
        "user_order_products_test1=pd.merge(user_order_products_test,products,on='product_id',how='left')\n",
        "print(user_order_products_test1.shape)\n",
        "print(user_order_products_test1.columns)"
      ],
      "execution_count": 18,
      "outputs": [
        {
          "output_type": "stream",
          "text": [
            "(4833292, 10)\n",
            "Index(['order_id', 'user_id', 'eval_set', 'order_number', 'order_dow',\n",
            "       'order_hour_of_day', 'days_since_prior_order', 'product_id', 'aisle_id',\n",
            "       'department_id'],\n",
            "      dtype='object')\n"
          ],
          "name": "stdout"
        }
      ]
    },
    {
      "cell_type": "code",
      "metadata": {
        "colab": {
          "base_uri": "https://localhost:8080/"
        },
        "id": "5DRH6FvJW_Fx",
        "outputId": "5b900839-84ed-40fc-e85a-0ebeb40bf676"
      },
      "source": [
        "#loading user features from disk and decreasing its memory\n",
        "user_features=pd.read_csv('user_features.csv')\n",
        "user_features=memory_decrease_by_column(user_features)"
      ],
      "execution_count": 19,
      "outputs": [
        {
          "output_type": "stream",
          "text": [
            "Memory usage of dataframe is 18.88 MB\n",
            "Memory usage after optimization is: 4.52 MB\n",
            "Decreased by 76.0%\n"
          ],
          "name": "stdout"
        }
      ]
    },
    {
      "cell_type": "code",
      "metadata": {
        "colab": {
          "base_uri": "https://localhost:8080/"
        },
        "id": "UoBSVekRWSAR",
        "outputId": "dd6ca1e6-c8e6-4918-8856-089172fc3ace"
      },
      "source": [
        "#combining user features with existing data\n",
        "user_order_products_test1=pd.merge(user_order_products_test1,user_features,on='user_id',how='left')\n",
        "print(user_order_products_test1.shape)\n",
        "print(user_order_products_test1.head())"
      ],
      "execution_count": 20,
      "outputs": [
        {
          "output_type": "stream",
          "text": [
            "(4833292, 21)\n",
            "   order_id  user_id  ... user_max_order_size  user_mean_order_size\n",
            "0   2774568        3  ...                  11              7.332031\n",
            "1   2774568        3  ...                  11              7.332031\n",
            "2   2774568        3  ...                  11              7.332031\n",
            "3   2774568        3  ...                  11              7.332031\n",
            "4   2774568        3  ...                  11              7.332031\n",
            "\n",
            "[5 rows x 21 columns]\n"
          ],
          "name": "stdout"
        }
      ]
    },
    {
      "cell_type": "code",
      "metadata": {
        "colab": {
          "base_uri": "https://localhost:8080/"
        },
        "id": "EB7_UPZNXSDS",
        "outputId": "3766be07-09fb-4caa-8c85-cd04a37433b5"
      },
      "source": [
        "#loading product features from disk and reducing its memory\n",
        "product_features=pd.read_csv('product_features.csv')\n",
        "product_features=memory_decrease_by_column(product_features)"
      ],
      "execution_count": 21,
      "outputs": [
        {
          "output_type": "stream",
          "text": [
            "Memory usage of dataframe is 3.03 MB\n",
            "Memory usage after optimization is: 0.95 MB\n",
            "Decreased by 68.7%\n"
          ],
          "name": "stdout"
        }
      ]
    },
    {
      "cell_type": "code",
      "metadata": {
        "colab": {
          "base_uri": "https://localhost:8080/"
        },
        "id": "7_SBuh-tXcjh",
        "outputId": "ee3e526f-20c9-4c46-8679-0c97b4648237"
      },
      "source": [
        "#merging product features with the remaining data\n",
        "user_order_products_test1=pd.merge(user_order_products_test1,product_features,on='product_id',how='left')\n",
        "print(user_order_products_test1.shape)\n",
        "print(user_order_products_test1.head())"
      ],
      "execution_count": 22,
      "outputs": [
        {
          "output_type": "stream",
          "text": [
            "(4833292, 28)\n",
            "   order_id  user_id  ... prod_uniq_us_prop  prod_us_reord_prop\n",
            "0   2774568        3  ...          0.349609            0.469238\n",
            "1   2774568        3  ...          0.421875            0.383057\n",
            "2   2774568        3  ...          0.507812            0.358154\n",
            "3   2774568        3  ...          0.301758            0.566406\n",
            "4   2774568        3  ...          0.426270            0.430420\n",
            "\n",
            "[5 rows x 28 columns]\n"
          ],
          "name": "stdout"
        }
      ]
    },
    {
      "cell_type": "code",
      "metadata": {
        "colab": {
          "base_uri": "https://localhost:8080/"
        },
        "id": "P3qOpnZXXgyS",
        "outputId": "19e0051d-a681-4716-8e94-fe33b7ce1e51"
      },
      "source": [
        "#loading remaining features and reducing their memory\n",
        "user_product_features=pd.read_csv('user_product_features.csv')\n",
        "user_product_features=memory_decrease_by_column(user_product_features)\n",
        "aisle_features=pd.read_csv('aisle_features.csv')\n",
        "aisle_features=memory_decrease_by_column(aisle_features)\n",
        "dep_features=pd.read_csv('dep_features.csv')\n",
        "dep_features=memory_decrease_by_column(dep_features)\n",
        "order_dow_features=pd.read_csv('order_dow_features.csv')\n",
        "order_dow_features=memory_decrease_by_column(order_dow_features)\n",
        "order_hod_features=pd.read_csv('order_hod_features.csv')\n",
        "order_hod_features=memory_decrease_by_column(order_hod_features)\n",
        "order_dow_hod_features=pd.read_csv('order_dow_hod_features.csv')\n",
        "order_dow_hod_features=memory_decrease_by_column(order_dow_hod_features)\n",
        "ono_dsp_features=pd.read_csv('ono_dsp_features.csv')\n",
        "ono_dsp_features=memory_decrease_by_column(ono_dsp_features)\n",
        "atc_features=pd.read_csv('atc_features.csv')\n",
        "atc_features.columns=['user_product_atc_mode_min','atc_reordered','atc_reordered_prop']\n",
        "atc_features=memory_decrease_by_column(atc_features)"
      ],
      "execution_count": 23,
      "outputs": [
        {
          "output_type": "stream",
          "text": [
            "Memory usage of dataframe is 1218.38 MB\n",
            "Memory usage after optimization is: 266.52 MB\n",
            "Decreased by 78.1%\n",
            "Memory usage of dataframe is 0.00 MB\n",
            "Memory usage after optimization is: 0.00 MB\n",
            "Decreased by 68.1%\n",
            "Memory usage of dataframe is 0.00 MB\n",
            "Memory usage after optimization is: 0.00 MB\n",
            "Decreased by 56.5%\n",
            "Memory usage of dataframe is 0.00 MB\n",
            "Memory usage after optimization is: 0.00 MB\n",
            "Decreased by 40.2%\n",
            "Memory usage of dataframe is 0.00 MB\n",
            "Memory usage after optimization is: 0.00 MB\n",
            "Decreased by 58.0%\n",
            "Memory usage of dataframe is 0.01 MB\n",
            "Memory usage after optimization is: 0.00 MB\n",
            "Decreased by 73.3%\n",
            "Memory usage of dataframe is 0.09 MB\n",
            "Memory usage after optimization is: 0.02 MB\n",
            "Decreased by 71.8%\n",
            "Memory usage of dataframe is 0.00 MB\n",
            "Memory usage after optimization is: 0.00 MB\n",
            "Decreased by 68.3%\n"
          ],
          "name": "stdout"
        }
      ]
    },
    {
      "cell_type": "code",
      "metadata": {
        "id": "Kg9K52AWX6ax"
      },
      "source": [
        "# merging remaining features with the existing data\n",
        "user_order_products_test1=pd.merge(user_order_products_test1,user_product_features,on=['user_id','product_id'],how='left')\n",
        "user_order_products_test1=pd.merge(user_order_products_test1,aisle_features,on=['aisle_id'],how='left')\n",
        "user_order_products_test1=pd.merge(user_order_products_test1,dep_features,on=['department_id'],how='left')\n",
        "user_order_products_test1=pd.merge(user_order_products_test1,order_dow_features,on=['order_dow'],how='left')\n",
        "user_order_products_test1=pd.merge(user_order_products_test1,order_hod_features,on=['order_hour_of_day'],how='left')\n",
        "user_order_products_test1=pd.merge(user_order_products_test1,order_dow_hod_features,on=['order_dow','order_hour_of_day'],how='left')\n",
        "user_order_products_test1=pd.merge(user_order_products_test1,ono_dsp_features,on=['order_number','days_since_prior_order'],how='left')\n"
      ],
      "execution_count": 24,
      "outputs": []
    },
    {
      "cell_type": "code",
      "metadata": {
        "id": "QIMv19BuYShL"
      },
      "source": [
        "#calculating user_days_since_product_corrected and product ordered today\n",
        "user_order_products_test1=pd.merge(user_order_products_test1,atc_features,on=['user_product_atc_mode_min'],how='left')\n",
        "user_order_products_test1['user_days_since_product_corrected']=user_order_products_test1['user_days_since_product']+user_order_products_test1['days_since_prior_order']\n",
        "user_order_products_test1['product_ordered_today']=user_order_products_test1['user_days_since_product_corrected'].apply(lambda x: 1 if x==0 else 0)\n"
      ],
      "execution_count": 25,
      "outputs": []
    },
    {
      "cell_type": "code",
      "metadata": {
        "id": "YsWh712uaPw0"
      },
      "source": [
        "#dropping unnecessary columns\n",
        "user_order_products_test1.drop(['eval_set'],axis=1,inplace=True)"
      ],
      "execution_count": 26,
      "outputs": []
    },
    {
      "cell_type": "code",
      "metadata": {
        "id": "taPl3ueWaH7S"
      },
      "source": [
        "#filling nan with 0\n",
        "user_order_products_test1.fillna(0,inplace=True)"
      ],
      "execution_count": 27,
      "outputs": []
    },
    {
      "cell_type": "code",
      "metadata": {
        "colab": {
          "base_uri": "https://localhost:8080/"
        },
        "id": "iZa0y9OYYZBa",
        "outputId": "5353bb3d-86b0-492d-bbc5-bd83475f5fe0"
      },
      "source": [
        "#reducing memory of user_order_products_test1\n",
        "user_order_products_test1=memory_decrease_by_column(user_order_products_test1)"
      ],
      "execution_count": 28,
      "outputs": [
        {
          "output_type": "stream",
          "text": [
            "Memory usage of dataframe is 613.05 MB\n",
            "Memory usage after optimization is: 562.35 MB\n",
            "Decreased by 8.3%\n"
          ],
          "name": "stdout"
        }
      ]
    },
    {
      "cell_type": "code",
      "metadata": {
        "id": "pqH10CZbwq1U"
      },
      "source": [
        "#preparing X_test\n",
        "useless_columns=['order_id','user_id','product_id','aisle_id','department_id','atc_reordered']\n",
        "X_test=user_order_products_test1.drop(useless_columns,axis=1)"
      ],
      "execution_count": 29,
      "outputs": []
    },
    {
      "cell_type": "code",
      "metadata": {
        "id": "2flW5SB_xf0L"
      },
      "source": [
        "#loading column order\n",
        "train_columns=pd.read_csv('train_columns.csv')\n",
        "train_columns=train_columns.train_columns.values\n"
      ],
      "execution_count": 30,
      "outputs": []
    },
    {
      "cell_type": "code",
      "metadata": {
        "id": "i6hGRDZHw9oE"
      },
      "source": [
        "#preparing X_test\n",
        "X_test=X_test[train_columns]"
      ],
      "execution_count": 31,
      "outputs": []
    },
    {
      "cell_type": "code",
      "metadata": {
        "id": "Nuyygk22yh8b"
      },
      "source": [
        "#min max scaling test data\n",
        "X_train_statistics=pd.read_csv('X_train_statistics.csv')\n",
        "X_train_min=X_train_statistics.X_train_min\n",
        "X_train_min.index=X_test.columns\n",
        "X_train_max=X_train_statistics.X_train_max\n",
        "X_train_max.index=X_test.columns\n",
        "X_train_max_min=X_train_statistics.X_train_max_min\n",
        "X_train_max_min.index=X_test.columns\n",
        "X_test=(X_test-X_train_min)/(X_train_max_min)"
      ],
      "execution_count": 32,
      "outputs": []
    },
    {
      "cell_type": "code",
      "metadata": {
        "id": "D4lLXgOil7RN"
      },
      "source": [
        "X_test.to_csv('X_test_scaled.csv',index=False)"
      ],
      "execution_count": 45,
      "outputs": []
    },
    {
      "cell_type": "code",
      "metadata": {
        "colab": {
          "base_uri": "https://localhost:8080/"
        },
        "id": "khIOUbA9mWYF",
        "outputId": "87a46cff-fb7f-4106-e293-908de7eb9778"
      },
      "source": [
        "X_test=pd.read_csv('X_test_scaled.csv')\r\n",
        "X_test=memory_decrease_by_column(X_test)"
      ],
      "execution_count": 5,
      "outputs": [
        {
          "output_type": "stream",
          "text": [
            "Memory usage of dataframe is 1733.13 MB\n",
            "Memory usage after optimization is: 451.72 MB\n",
            "Decreased by 73.9%\n"
          ],
          "name": "stdout"
        }
      ]
    },
    {
      "cell_type": "markdown",
      "metadata": {
        "id": "WARQ3JwKzmLl"
      },
      "source": [
        "**Logistic Regression**"
      ]
    },
    {
      "cell_type": "code",
      "metadata": {
        "id": "yFQiaWTXd8Pi"
      },
      "source": [
        "#loading model from disk\n",
        "import pickle\n",
        "logreg=pickle.load(open('logistic_reg.pkl','rb'))"
      ],
      "execution_count": 29,
      "outputs": []
    },
    {
      "cell_type": "code",
      "metadata": {
        "id": "iLF5YCMxz02z"
      },
      "source": [
        "#predicting labels of X_test based on 0.2 threshold found with cv\n",
        "pred_test_y=logreg.predict_proba(X_test)\n",
        "pred_test_y=pred_test_y[:,1]>=0.2"
      ],
      "execution_count": 30,
      "outputs": []
    },
    {
      "cell_type": "code",
      "metadata": {
        "colab": {
          "base_uri": "https://localhost:8080/",
          "height": 137
        },
        "id": "WnohcCzxz05f",
        "outputId": "3d1d9bcf-b361-4e70-84b0-45d26085d7c7"
      },
      "source": [
        "#preparing output\n",
        "user_order_products_test1['pred_reordered']=pred_test_y\n",
        "submission=user_order_products_test1[user_order_products_test1.pred_reordered==1][['order_id','product_id']]\n",
        "submission.columns=['order_id','products']\n",
        "submission.head(3)"
      ],
      "execution_count": 31,
      "outputs": [
        {
          "output_type": "execute_result",
          "data": {
            "text/html": [
              "<div>\n",
              "<style scoped>\n",
              "    .dataframe tbody tr th:only-of-type {\n",
              "        vertical-align: middle;\n",
              "    }\n",
              "\n",
              "    .dataframe tbody tr th {\n",
              "        vertical-align: top;\n",
              "    }\n",
              "\n",
              "    .dataframe thead th {\n",
              "        text-align: right;\n",
              "    }\n",
              "</style>\n",
              "<table border=\"1\" class=\"dataframe\">\n",
              "  <thead>\n",
              "    <tr style=\"text-align: right;\">\n",
              "      <th></th>\n",
              "      <th>order_id</th>\n",
              "      <th>products</th>\n",
              "    </tr>\n",
              "  </thead>\n",
              "  <tbody>\n",
              "    <tr>\n",
              "      <th>0</th>\n",
              "      <td>2774568</td>\n",
              "      <td>9387</td>\n",
              "    </tr>\n",
              "    <tr>\n",
              "      <th>1</th>\n",
              "      <td>2774568</td>\n",
              "      <td>17668</td>\n",
              "    </tr>\n",
              "    <tr>\n",
              "      <th>4</th>\n",
              "      <td>2774568</td>\n",
              "      <td>39190</td>\n",
              "    </tr>\n",
              "  </tbody>\n",
              "</table>\n",
              "</div>"
            ],
            "text/plain": [
              "   order_id  products\n",
              "0   2774568      9387\n",
              "1   2774568     17668\n",
              "4   2774568     39190"
            ]
          },
          "metadata": {
            "tags": []
          },
          "execution_count": 31
        }
      ]
    },
    {
      "cell_type": "code",
      "metadata": {
        "id": "5BK-VV9M25j7"
      },
      "source": [
        "def prepare_data(x):\n",
        "  '''function to make a list of products as expected in the competition'''\n",
        "  return ' '.join(list(x.astype(str)))"
      ],
      "execution_count": 7,
      "outputs": []
    },
    {
      "cell_type": "code",
      "metadata": {
        "colab": {
          "base_uri": "https://localhost:8080/",
          "height": 406
        },
        "id": "7NC7EUVfz08K",
        "outputId": "e62cafc8-438b-47f1-d584-9a2ff1948ef9"
      },
      "source": [
        "#preparing the submission\n",
        "sample_submission=pd.read_csv('sample_submission.csv',usecols=['order_id'])\n",
        "submission=submission.groupby('order_id')['products'].agg(prepare_data).reset_index()\n",
        "submission=pd.merge(sample_submission,submission,how='left',on='order_id')\n",
        "submission.fillna('None',inplace=True)\n",
        "#adding None to products for which we are predicting only upto two products to maximize f1 score\n",
        "submission['len']=submission.products.apply(lambda x: 0 if x=='None' else len(x.split(' ')))\n",
        "submission['products']=submission.apply(lambda x: x.products+' None' if (x.len==1 or x.len==2) else x.products ,axis=1)\n",
        "submission[['order_id','products']]\n"
      ],
      "execution_count": 33,
      "outputs": [
        {
          "output_type": "execute_result",
          "data": {
            "text/html": [
              "<div>\n",
              "<style scoped>\n",
              "    .dataframe tbody tr th:only-of-type {\n",
              "        vertical-align: middle;\n",
              "    }\n",
              "\n",
              "    .dataframe tbody tr th {\n",
              "        vertical-align: top;\n",
              "    }\n",
              "\n",
              "    .dataframe thead th {\n",
              "        text-align: right;\n",
              "    }\n",
              "</style>\n",
              "<table border=\"1\" class=\"dataframe\">\n",
              "  <thead>\n",
              "    <tr style=\"text-align: right;\">\n",
              "      <th></th>\n",
              "      <th>order_id</th>\n",
              "      <th>products</th>\n",
              "    </tr>\n",
              "  </thead>\n",
              "  <tbody>\n",
              "    <tr>\n",
              "      <th>0</th>\n",
              "      <td>17</td>\n",
              "      <td>47766 21709 13107 38777</td>\n",
              "    </tr>\n",
              "    <tr>\n",
              "      <th>1</th>\n",
              "      <td>34</td>\n",
              "      <td>47029 47792 39180 39475 43504 13176 47766 2113...</td>\n",
              "    </tr>\n",
              "    <tr>\n",
              "      <th>2</th>\n",
              "      <td>137</td>\n",
              "      <td>24852 38689 41787 23794 29594</td>\n",
              "    </tr>\n",
              "    <tr>\n",
              "      <th>3</th>\n",
              "      <td>182</td>\n",
              "      <td>33000 13629 27104 39275 5479 35951 9337 47672 ...</td>\n",
              "    </tr>\n",
              "    <tr>\n",
              "      <th>4</th>\n",
              "      <td>257</td>\n",
              "      <td>24852 49235 30233 27104 45013 29837 27966 2113...</td>\n",
              "    </tr>\n",
              "    <tr>\n",
              "      <th>...</th>\n",
              "      <td>...</td>\n",
              "      <td>...</td>\n",
              "    </tr>\n",
              "    <tr>\n",
              "      <th>74995</th>\n",
              "      <td>3420740</td>\n",
              "      <td>19660 13176 47209 8174 34429 39928 39146 49005</td>\n",
              "    </tr>\n",
              "    <tr>\n",
              "      <th>74996</th>\n",
              "      <td>3420877</td>\n",
              "      <td>27966 13176 23765 13646 43122 10768 49111 6567...</td>\n",
              "    </tr>\n",
              "    <tr>\n",
              "      <th>74997</th>\n",
              "      <td>3420888</td>\n",
              "      <td>44632 22935 43961 47766 35951 7963 10880 46906...</td>\n",
              "    </tr>\n",
              "    <tr>\n",
              "      <th>74998</th>\n",
              "      <td>3420989</td>\n",
              "      <td>30169 43210 35004 35951 5134 13517 21616 8277 ...</td>\n",
              "    </tr>\n",
              "    <tr>\n",
              "      <th>74999</th>\n",
              "      <td>3421054</td>\n",
              "      <td>24852 31231 13375 11123</td>\n",
              "    </tr>\n",
              "  </tbody>\n",
              "</table>\n",
              "<p>75000 rows × 2 columns</p>\n",
              "</div>"
            ],
            "text/plain": [
              "       order_id                                           products\n",
              "0            17                            47766 21709 13107 38777\n",
              "1            34  47029 47792 39180 39475 43504 13176 47766 2113...\n",
              "2           137                      24852 38689 41787 23794 29594\n",
              "3           182  33000 13629 27104 39275 5479 35951 9337 47672 ...\n",
              "4           257  24852 49235 30233 27104 45013 29837 27966 2113...\n",
              "...         ...                                                ...\n",
              "74995   3420740     19660 13176 47209 8174 34429 39928 39146 49005\n",
              "74996   3420877  27966 13176 23765 13646 43122 10768 49111 6567...\n",
              "74997   3420888  44632 22935 43961 47766 35951 7963 10880 46906...\n",
              "74998   3420989  30169 43210 35004 35951 5134 13517 21616 8277 ...\n",
              "74999   3421054                            24852 31231 13375 11123\n",
              "\n",
              "[75000 rows x 2 columns]"
            ]
          },
          "metadata": {
            "tags": []
          },
          "execution_count": 33
        }
      ]
    },
    {
      "cell_type": "code",
      "metadata": {
        "id": "XeH1KyzAz0_h"
      },
      "source": [
        "#storing submission file to disk\n",
        "submission[['order_id','products']].to_csv('logistic_regression_submission.csv',index=False)"
      ],
      "execution_count": 36,
      "outputs": []
    },
    {
      "cell_type": "markdown",
      "metadata": {
        "id": "KItkqdnG6xrr"
      },
      "source": [
        "**Random Forest Classifier**"
      ]
    },
    {
      "cell_type": "code",
      "metadata": {
        "colab": {
          "base_uri": "https://localhost:8080/"
        },
        "id": "Zy9Dc-Psittw",
        "outputId": "5d2ea6c2-cc8d-4a8b-d207-4e28d19b56b7"
      },
      "source": [
        "#loading random forest classifier model from disk\n",
        "rf_clf=pickle.load(open('rf_clf.pkl','rb'))"
      ],
      "execution_count": 37,
      "outputs": [
        {
          "output_type": "stream",
          "text": [
            "/usr/local/lib/python3.6/dist-packages/sklearn/base.py:318: UserWarning: Trying to unpickle estimator DecisionTreeClassifier from version 0.23.2 when using version 0.22.2.post1. This might lead to breaking code or invalid results. Use at your own risk.\n",
            "  UserWarning)\n",
            "/usr/local/lib/python3.6/dist-packages/sklearn/base.py:318: UserWarning: Trying to unpickle estimator RandomForestClassifier from version 0.23.2 when using version 0.22.2.post1. This might lead to breaking code or invalid results. Use at your own risk.\n",
            "  UserWarning)\n"
          ],
          "name": "stderr"
        }
      ]
    },
    {
      "cell_type": "code",
      "metadata": {
        "id": "eqTbo_x-7DSk"
      },
      "source": [
        "#predicting labels of X_test\n",
        "pred_test_y=rf_clf.predict(X_test)"
      ],
      "execution_count": 38,
      "outputs": []
    },
    {
      "cell_type": "code",
      "metadata": {
        "colab": {
          "base_uri": "https://localhost:8080/",
          "height": 137
        },
        "id": "PZpofabY7Z5G",
        "outputId": "2694e576-cbfc-4475-eeff-8495bf112c36"
      },
      "source": [
        "#preparing output\n",
        "user_order_products_test1['pred_reordered']=pred_test_y\n",
        "submission=user_order_products_test1[user_order_products_test1.pred_reordered==1][['order_id','product_id']]\n",
        "submission.columns=['order_id','products']\n",
        "submission.head(3)"
      ],
      "execution_count": 39,
      "outputs": [
        {
          "output_type": "execute_result",
          "data": {
            "text/html": [
              "<div>\n",
              "<style scoped>\n",
              "    .dataframe tbody tr th:only-of-type {\n",
              "        vertical-align: middle;\n",
              "    }\n",
              "\n",
              "    .dataframe tbody tr th {\n",
              "        vertical-align: top;\n",
              "    }\n",
              "\n",
              "    .dataframe thead th {\n",
              "        text-align: right;\n",
              "    }\n",
              "</style>\n",
              "<table border=\"1\" class=\"dataframe\">\n",
              "  <thead>\n",
              "    <tr style=\"text-align: right;\">\n",
              "      <th></th>\n",
              "      <th>order_id</th>\n",
              "      <th>products</th>\n",
              "    </tr>\n",
              "  </thead>\n",
              "  <tbody>\n",
              "    <tr>\n",
              "      <th>1</th>\n",
              "      <td>2774568</td>\n",
              "      <td>17668</td>\n",
              "    </tr>\n",
              "    <tr>\n",
              "      <th>4</th>\n",
              "      <td>2774568</td>\n",
              "      <td>39190</td>\n",
              "    </tr>\n",
              "    <tr>\n",
              "      <th>5</th>\n",
              "      <td>2774568</td>\n",
              "      <td>47766</td>\n",
              "    </tr>\n",
              "  </tbody>\n",
              "</table>\n",
              "</div>"
            ],
            "text/plain": [
              "   order_id  products\n",
              "1   2774568     17668\n",
              "4   2774568     39190\n",
              "5   2774568     47766"
            ]
          },
          "metadata": {
            "tags": []
          },
          "execution_count": 39
        }
      ]
    },
    {
      "cell_type": "code",
      "metadata": {
        "id": "Y4-wQ3MC7nLo"
      },
      "source": [
        "def prepare_data(x):\n",
        "  '''function to make a list of products as expected in the competition'''\n",
        "  return ' '.join(list(x.astype(str)))"
      ],
      "execution_count": 40,
      "outputs": []
    },
    {
      "cell_type": "code",
      "metadata": {
        "colab": {
          "base_uri": "https://localhost:8080/",
          "height": 406
        },
        "id": "GdqKsESZ7rvP",
        "outputId": "2ee8ef30-ee0f-4d89-b816-edb056b595ae"
      },
      "source": [
        "#preparing the submission\n",
        "sample_submission=pd.read_csv('sample_submission.csv',usecols=['order_id'])\n",
        "submission=submission.groupby('order_id')['products'].agg(prepare_data).reset_index()\n",
        "submission=pd.merge(sample_submission,submission,how='left',on='order_id')\n",
        "submission.fillna('None',inplace=True)\n",
        "#adding None to products for which we are predicting only upto two products to maximize f1 score\n",
        "submission['len']=submission.products.apply(lambda x: 0 if x=='None' else len(x.split(' ')))\n",
        "submission['products']=submission.apply(lambda x: x.products+' None' if (x.len==1 or x.len==2) else x.products ,axis=1)\n",
        "submission[['order_id','products']]\n"
      ],
      "execution_count": 41,
      "outputs": [
        {
          "output_type": "execute_result",
          "data": {
            "text/html": [
              "<div>\n",
              "<style scoped>\n",
              "    .dataframe tbody tr th:only-of-type {\n",
              "        vertical-align: middle;\n",
              "    }\n",
              "\n",
              "    .dataframe tbody tr th {\n",
              "        vertical-align: top;\n",
              "    }\n",
              "\n",
              "    .dataframe thead th {\n",
              "        text-align: right;\n",
              "    }\n",
              "</style>\n",
              "<table border=\"1\" class=\"dataframe\">\n",
              "  <thead>\n",
              "    <tr style=\"text-align: right;\">\n",
              "      <th></th>\n",
              "      <th>order_id</th>\n",
              "      <th>products</th>\n",
              "    </tr>\n",
              "  </thead>\n",
              "  <tbody>\n",
              "    <tr>\n",
              "      <th>0</th>\n",
              "      <td>17</td>\n",
              "      <td>47766 21709 13107 38777 21463 39275</td>\n",
              "    </tr>\n",
              "    <tr>\n",
              "      <th>1</th>\n",
              "      <td>34</td>\n",
              "      <td>47792 39180 39475 43504 13176 47766 21137 1608...</td>\n",
              "    </tr>\n",
              "    <tr>\n",
              "      <th>2</th>\n",
              "      <td>137</td>\n",
              "      <td>24852 38689 41787 25890 23794 29594 2326</td>\n",
              "    </tr>\n",
              "    <tr>\n",
              "      <th>3</th>\n",
              "      <td>182</td>\n",
              "      <td>33000 13629 39275 12456 5479 9337 47672 47209 ...</td>\n",
              "    </tr>\n",
              "    <tr>\n",
              "      <th>4</th>\n",
              "      <td>257</td>\n",
              "      <td>24852 49235 4605 30233 27104 45013 29837 27966...</td>\n",
              "    </tr>\n",
              "    <tr>\n",
              "      <th>...</th>\n",
              "      <td>...</td>\n",
              "      <td>...</td>\n",
              "    </tr>\n",
              "    <tr>\n",
              "      <th>74995</th>\n",
              "      <td>3420740</td>\n",
              "      <td>19660 13176 47209 8174 27966 39146 49005 35951</td>\n",
              "    </tr>\n",
              "    <tr>\n",
              "      <th>74996</th>\n",
              "      <td>3420877</td>\n",
              "      <td>27966 13176 23765 13646 43122 10768 49111 8193...</td>\n",
              "    </tr>\n",
              "    <tr>\n",
              "      <th>74997</th>\n",
              "      <td>3420888</td>\n",
              "      <td>44632 22935 43961 47766 35951 7963 10880 46906...</td>\n",
              "    </tr>\n",
              "    <tr>\n",
              "      <th>74998</th>\n",
              "      <td>3420989</td>\n",
              "      <td>43210 35004 35951 5134 13517 21616 46676 47766...</td>\n",
              "    </tr>\n",
              "    <tr>\n",
              "      <th>74999</th>\n",
              "      <td>3421054</td>\n",
              "      <td>24852 31231 38448 15802 13375 11123 5818 18426</td>\n",
              "    </tr>\n",
              "  </tbody>\n",
              "</table>\n",
              "<p>75000 rows × 2 columns</p>\n",
              "</div>"
            ],
            "text/plain": [
              "       order_id                                           products\n",
              "0            17                47766 21709 13107 38777 21463 39275\n",
              "1            34  47792 39180 39475 43504 13176 47766 21137 1608...\n",
              "2           137           24852 38689 41787 25890 23794 29594 2326\n",
              "3           182  33000 13629 39275 12456 5479 9337 47672 47209 ...\n",
              "4           257  24852 49235 4605 30233 27104 45013 29837 27966...\n",
              "...         ...                                                ...\n",
              "74995   3420740     19660 13176 47209 8174 27966 39146 49005 35951\n",
              "74996   3420877  27966 13176 23765 13646 43122 10768 49111 8193...\n",
              "74997   3420888  44632 22935 43961 47766 35951 7963 10880 46906...\n",
              "74998   3420989  43210 35004 35951 5134 13517 21616 46676 47766...\n",
              "74999   3421054     24852 31231 38448 15802 13375 11123 5818 18426\n",
              "\n",
              "[75000 rows x 2 columns]"
            ]
          },
          "metadata": {
            "tags": []
          },
          "execution_count": 41
        }
      ]
    },
    {
      "cell_type": "code",
      "metadata": {
        "id": "AWAp88vU7rzH"
      },
      "source": [
        "#storing submission file to disk\n",
        "submission[['order_id','products']].to_csv('random_forest_submission.csv',index=False)"
      ],
      "execution_count": 43,
      "outputs": []
    },
    {
      "cell_type": "markdown",
      "metadata": {
        "id": "WIWj0284-3dg"
      },
      "source": [
        "**XGB Classifier**"
      ]
    },
    {
      "cell_type": "code",
      "metadata": {
        "id": "PUrwaEcI_BED"
      },
      "source": [
        "#loading xgb classifier model from disk\n",
        "import pickle\n",
        "xgb_clf=pickle.load(open('xgb_clf.pkl','rb'))"
      ],
      "execution_count": 6,
      "outputs": []
    },
    {
      "cell_type": "code",
      "metadata": {
        "id": "Xj2g8wlg_BKa"
      },
      "source": [
        "#predicting labels of X_test based on 0.2 threshold found with cv\n",
        "pred_test_y=xgb_clf.predict_proba(X_test)\n",
        "pred_test_y=(pred_test_y[:,1]>=0.2)"
      ],
      "execution_count": 36,
      "outputs": []
    },
    {
      "cell_type": "code",
      "metadata": {
        "colab": {
          "base_uri": "https://localhost:8080/",
          "height": 137
        },
        "id": "A_hiTvQz_BN7",
        "outputId": "7966b6a5-3ac7-4071-8517-470420f2b6db"
      },
      "source": [
        "#preparing output\n",
        "user_order_products_test1['pred_reordered']=pred_test_y\n",
        "submission=user_order_products_test1[user_order_products_test1.pred_reordered==1][['order_id','product_id']]\n",
        "submission.columns=['order_id','products']\n",
        "submission.head(3)"
      ],
      "execution_count": 38,
      "outputs": [
        {
          "output_type": "execute_result",
          "data": {
            "text/html": [
              "<div>\n",
              "<style scoped>\n",
              "    .dataframe tbody tr th:only-of-type {\n",
              "        vertical-align: middle;\n",
              "    }\n",
              "\n",
              "    .dataframe tbody tr th {\n",
              "        vertical-align: top;\n",
              "    }\n",
              "\n",
              "    .dataframe thead th {\n",
              "        text-align: right;\n",
              "    }\n",
              "</style>\n",
              "<table border=\"1\" class=\"dataframe\">\n",
              "  <thead>\n",
              "    <tr style=\"text-align: right;\">\n",
              "      <th></th>\n",
              "      <th>order_id</th>\n",
              "      <th>products</th>\n",
              "    </tr>\n",
              "  </thead>\n",
              "  <tbody>\n",
              "    <tr>\n",
              "      <th>1</th>\n",
              "      <td>2774568</td>\n",
              "      <td>17668</td>\n",
              "    </tr>\n",
              "    <tr>\n",
              "      <th>4</th>\n",
              "      <td>2774568</td>\n",
              "      <td>39190</td>\n",
              "    </tr>\n",
              "    <tr>\n",
              "      <th>5</th>\n",
              "      <td>2774568</td>\n",
              "      <td>47766</td>\n",
              "    </tr>\n",
              "  </tbody>\n",
              "</table>\n",
              "</div>"
            ],
            "text/plain": [
              "   order_id  products\n",
              "1   2774568     17668\n",
              "4   2774568     39190\n",
              "5   2774568     47766"
            ]
          },
          "metadata": {
            "tags": []
          },
          "execution_count": 38
        }
      ]
    },
    {
      "cell_type": "code",
      "metadata": {
        "colab": {
          "base_uri": "https://localhost:8080/",
          "height": 406
        },
        "id": "Q9QJtDaQ_BRP",
        "outputId": "c5316777-8378-49d9-df38-c98ab939c33b"
      },
      "source": [
        "#preparing the submission\n",
        "sample_submission=pd.read_csv('sample_submission.csv',usecols=['order_id'])\n",
        "submission=submission.groupby('order_id')['products'].agg(prepare_data).reset_index()\n",
        "submission=pd.merge(sample_submission,submission,how='left',on='order_id')\n",
        "submission.fillna('None',inplace=True)\n",
        "#adding None to products for which we are predicting only upto two products to maximize f1 score\n",
        "submission['len']=submission.products.apply(lambda x: 0 if x=='None' else len(x.split(' ')))\n",
        "submission['products']=submission.apply(lambda x: x.products+' None' if (x.len==1 or x.len==2) else x.products ,axis=1)\n",
        "submission[['order_id','products']]\n"
      ],
      "execution_count": 41,
      "outputs": [
        {
          "output_type": "execute_result",
          "data": {
            "text/html": [
              "<div>\n",
              "<style scoped>\n",
              "    .dataframe tbody tr th:only-of-type {\n",
              "        vertical-align: middle;\n",
              "    }\n",
              "\n",
              "    .dataframe tbody tr th {\n",
              "        vertical-align: top;\n",
              "    }\n",
              "\n",
              "    .dataframe thead th {\n",
              "        text-align: right;\n",
              "    }\n",
              "</style>\n",
              "<table border=\"1\" class=\"dataframe\">\n",
              "  <thead>\n",
              "    <tr style=\"text-align: right;\">\n",
              "      <th></th>\n",
              "      <th>order_id</th>\n",
              "      <th>products</th>\n",
              "    </tr>\n",
              "  </thead>\n",
              "  <tbody>\n",
              "    <tr>\n",
              "      <th>0</th>\n",
              "      <td>17</td>\n",
              "      <td>47766 21709 13107 21463</td>\n",
              "    </tr>\n",
              "    <tr>\n",
              "      <th>1</th>\n",
              "      <td>34</td>\n",
              "      <td>47792 39180 39475 43504 13176 47766 21137 1608...</td>\n",
              "    </tr>\n",
              "    <tr>\n",
              "      <th>2</th>\n",
              "      <td>137</td>\n",
              "      <td>24852 38689 41787 25890 23794 29594 2326 5134</td>\n",
              "    </tr>\n",
              "    <tr>\n",
              "      <th>3</th>\n",
              "      <td>182</td>\n",
              "      <td>33000 13629 39275 5479 9337 47672 47209 11520</td>\n",
              "    </tr>\n",
              "    <tr>\n",
              "      <th>4</th>\n",
              "      <td>257</td>\n",
              "      <td>24852 49235 4605 30233 27104 45013 29837 27966...</td>\n",
              "    </tr>\n",
              "    <tr>\n",
              "      <th>...</th>\n",
              "      <td>...</td>\n",
              "      <td>...</td>\n",
              "    </tr>\n",
              "    <tr>\n",
              "      <th>74995</th>\n",
              "      <td>3420740</td>\n",
              "      <td>19660 13176 8174 34429 39928 39146 49005</td>\n",
              "    </tr>\n",
              "    <tr>\n",
              "      <th>74996</th>\n",
              "      <td>3420877</td>\n",
              "      <td>27966 13176 23765 13646 43122 10768 49111 6567...</td>\n",
              "    </tr>\n",
              "    <tr>\n",
              "      <th>74997</th>\n",
              "      <td>3420888</td>\n",
              "      <td>44632 22935 43961 47766 35951 7963 10880 46906...</td>\n",
              "    </tr>\n",
              "    <tr>\n",
              "      <th>74998</th>\n",
              "      <td>3420989</td>\n",
              "      <td>43210 35004 35951 5134 13517 21616 46676 47766...</td>\n",
              "    </tr>\n",
              "    <tr>\n",
              "      <th>74999</th>\n",
              "      <td>3421054</td>\n",
              "      <td>24852 31231 38448 15802 13375 11123 18426</td>\n",
              "    </tr>\n",
              "  </tbody>\n",
              "</table>\n",
              "<p>75000 rows × 2 columns</p>\n",
              "</div>"
            ],
            "text/plain": [
              "       order_id                                           products\n",
              "0            17                            47766 21709 13107 21463\n",
              "1            34  47792 39180 39475 43504 13176 47766 21137 1608...\n",
              "2           137      24852 38689 41787 25890 23794 29594 2326 5134\n",
              "3           182      33000 13629 39275 5479 9337 47672 47209 11520\n",
              "4           257  24852 49235 4605 30233 27104 45013 29837 27966...\n",
              "...         ...                                                ...\n",
              "74995   3420740           19660 13176 8174 34429 39928 39146 49005\n",
              "74996   3420877  27966 13176 23765 13646 43122 10768 49111 6567...\n",
              "74997   3420888  44632 22935 43961 47766 35951 7963 10880 46906...\n",
              "74998   3420989  43210 35004 35951 5134 13517 21616 46676 47766...\n",
              "74999   3421054          24852 31231 38448 15802 13375 11123 18426\n",
              "\n",
              "[75000 rows x 2 columns]"
            ]
          },
          "metadata": {
            "tags": []
          },
          "execution_count": 41
        }
      ]
    },
    {
      "cell_type": "code",
      "metadata": {
        "id": "qMT6w_om_BUY"
      },
      "source": [
        "#saving submission to disk\n",
        "submission[['order_id','products']].to_csv('xgb_submission.csv',index=False)"
      ],
      "execution_count": 43,
      "outputs": []
    },
    {
      "cell_type": "markdown",
      "metadata": {
        "id": "4nPz6ZLYBOBD"
      },
      "source": [
        "**LGBM Classifier**"
      ]
    },
    {
      "cell_type": "code",
      "metadata": {
        "colab": {
          "base_uri": "https://localhost:8080/"
        },
        "id": "9lLWFP6Naumx",
        "outputId": "d1dfd2f5-7fa7-4191-c5bb-316405cd05f5"
      },
      "source": [
        "#loading lgbm classifier from disk\n",
        "lgbm=pickle.load(open('lbgm_clf.pkl','rb'))"
      ],
      "execution_count": 44,
      "outputs": [
        {
          "output_type": "stream",
          "text": [
            "/usr/local/lib/python3.6/dist-packages/sklearn/base.py:318: UserWarning: Trying to unpickle estimator LabelEncoder from version 0.23.2 when using version 0.22.2.post1. This might lead to breaking code or invalid results. Use at your own risk.\n",
            "  UserWarning)\n"
          ],
          "name": "stderr"
        }
      ]
    },
    {
      "cell_type": "code",
      "metadata": {
        "colab": {
          "base_uri": "https://localhost:8080/"
        },
        "id": "jiTheqOjbh2e",
        "outputId": "a6b171cc-eae9-44d1-c0e9-f91af5c05900"
      },
      "source": [
        "#predicting labels of X_test\n",
        "pred_test_y=lgbm.predict(X_test)\n",
        "pred_test_y.shape"
      ],
      "execution_count": 45,
      "outputs": [
        {
          "output_type": "execute_result",
          "data": {
            "text/plain": [
              "(4833292,)"
            ]
          },
          "metadata": {
            "tags": []
          },
          "execution_count": 45
        }
      ]
    },
    {
      "cell_type": "code",
      "metadata": {
        "colab": {
          "base_uri": "https://localhost:8080/",
          "height": 137
        },
        "id": "bxTSwo4lC5at",
        "outputId": "34133f05-7d3a-4758-b06b-3e71f34b5761"
      },
      "source": [
        "#preparing output\n",
        "user_order_products_test1['pred_reordered']=pred_test_y\n",
        "submission=user_order_products_test1[user_order_products_test1.pred_reordered==1][['order_id','product_id']]\n",
        "submission.columns=['order_id','products']\n",
        "submission.head(3)"
      ],
      "execution_count": 46,
      "outputs": [
        {
          "output_type": "execute_result",
          "data": {
            "text/html": [
              "<div>\n",
              "<style scoped>\n",
              "    .dataframe tbody tr th:only-of-type {\n",
              "        vertical-align: middle;\n",
              "    }\n",
              "\n",
              "    .dataframe tbody tr th {\n",
              "        vertical-align: top;\n",
              "    }\n",
              "\n",
              "    .dataframe thead th {\n",
              "        text-align: right;\n",
              "    }\n",
              "</style>\n",
              "<table border=\"1\" class=\"dataframe\">\n",
              "  <thead>\n",
              "    <tr style=\"text-align: right;\">\n",
              "      <th></th>\n",
              "      <th>order_id</th>\n",
              "      <th>products</th>\n",
              "    </tr>\n",
              "  </thead>\n",
              "  <tbody>\n",
              "    <tr>\n",
              "      <th>0</th>\n",
              "      <td>2774568</td>\n",
              "      <td>9387</td>\n",
              "    </tr>\n",
              "    <tr>\n",
              "      <th>1</th>\n",
              "      <td>2774568</td>\n",
              "      <td>17668</td>\n",
              "    </tr>\n",
              "    <tr>\n",
              "      <th>3</th>\n",
              "      <td>2774568</td>\n",
              "      <td>16797</td>\n",
              "    </tr>\n",
              "  </tbody>\n",
              "</table>\n",
              "</div>"
            ],
            "text/plain": [
              "   order_id  products\n",
              "0   2774568      9387\n",
              "1   2774568     17668\n",
              "3   2774568     16797"
            ]
          },
          "metadata": {
            "tags": []
          },
          "execution_count": 46
        }
      ]
    },
    {
      "cell_type": "code",
      "metadata": {
        "colab": {
          "base_uri": "https://localhost:8080/",
          "height": 406
        },
        "id": "up_NJQk-C5ek",
        "outputId": "a28686ae-ab33-4be1-c64d-1f3a44c5d8bd"
      },
      "source": [
        "#preparing the submission\n",
        "sample_submission=pd.read_csv('sample_submission.csv',usecols=['order_id'])\n",
        "submission=submission.groupby('order_id')['products'].agg(prepare_data).reset_index()\n",
        "submission=pd.merge(sample_submission,submission,how='left',on='order_id')\n",
        "submission.fillna('None',inplace=True)\n",
        "#adding None to products for which we are predicting only upto two products to maximize f1 score\n",
        "submission['len']=submission.products.apply(lambda x: 0 if x=='None' else len(x.split(' ')))\n",
        "submission['products']=submission.apply(lambda x: x.products+' None' if (x.len==1 or x.len==2) else x.products ,axis=1)\n",
        "submission[['order_id','products']]"
      ],
      "execution_count": 47,
      "outputs": [
        {
          "output_type": "execute_result",
          "data": {
            "text/html": [
              "<div>\n",
              "<style scoped>\n",
              "    .dataframe tbody tr th:only-of-type {\n",
              "        vertical-align: middle;\n",
              "    }\n",
              "\n",
              "    .dataframe tbody tr th {\n",
              "        vertical-align: top;\n",
              "    }\n",
              "\n",
              "    .dataframe thead th {\n",
              "        text-align: right;\n",
              "    }\n",
              "</style>\n",
              "<table border=\"1\" class=\"dataframe\">\n",
              "  <thead>\n",
              "    <tr style=\"text-align: right;\">\n",
              "      <th></th>\n",
              "      <th>order_id</th>\n",
              "      <th>products</th>\n",
              "    </tr>\n",
              "  </thead>\n",
              "  <tbody>\n",
              "    <tr>\n",
              "      <th>0</th>\n",
              "      <td>17</td>\n",
              "      <td>47766 21709 13107 38777 21463</td>\n",
              "    </tr>\n",
              "    <tr>\n",
              "      <th>1</th>\n",
              "      <td>34</td>\n",
              "      <td>47029 47792 39180 39475 43504 13176 47766 2113...</td>\n",
              "    </tr>\n",
              "    <tr>\n",
              "      <th>2</th>\n",
              "      <td>137</td>\n",
              "      <td>24852 38689 41787 25890 23794 29594 2326 5134</td>\n",
              "    </tr>\n",
              "    <tr>\n",
              "      <th>3</th>\n",
              "      <td>182</td>\n",
              "      <td>33000 13629 39275 12456 5479 9337 47672 47209 ...</td>\n",
              "    </tr>\n",
              "    <tr>\n",
              "      <th>4</th>\n",
              "      <td>257</td>\n",
              "      <td>24852 49235 4605 30233 27104 45013 29837 27966...</td>\n",
              "    </tr>\n",
              "    <tr>\n",
              "      <th>...</th>\n",
              "      <td>...</td>\n",
              "      <td>...</td>\n",
              "    </tr>\n",
              "    <tr>\n",
              "      <th>74995</th>\n",
              "      <td>3420740</td>\n",
              "      <td>19660 13176 47209 8174 34429 27966 47621 28476...</td>\n",
              "    </tr>\n",
              "    <tr>\n",
              "      <th>74996</th>\n",
              "      <td>3420877</td>\n",
              "      <td>27966 13176 23765 13646 43122 10768 49111 6567...</td>\n",
              "    </tr>\n",
              "    <tr>\n",
              "      <th>74997</th>\n",
              "      <td>3420888</td>\n",
              "      <td>44632 22935 43961 47766 35951 7963 10880 46906...</td>\n",
              "    </tr>\n",
              "    <tr>\n",
              "      <th>74998</th>\n",
              "      <td>3420989</td>\n",
              "      <td>30169 43210 35004 35951 5134 13517 21616 46676...</td>\n",
              "    </tr>\n",
              "    <tr>\n",
              "      <th>74999</th>\n",
              "      <td>3421054</td>\n",
              "      <td>24852 31231 38448 15802 13375 11123 5818 18426</td>\n",
              "    </tr>\n",
              "  </tbody>\n",
              "</table>\n",
              "<p>75000 rows × 2 columns</p>\n",
              "</div>"
            ],
            "text/plain": [
              "       order_id                                           products\n",
              "0            17                      47766 21709 13107 38777 21463\n",
              "1            34  47029 47792 39180 39475 43504 13176 47766 2113...\n",
              "2           137      24852 38689 41787 25890 23794 29594 2326 5134\n",
              "3           182  33000 13629 39275 12456 5479 9337 47672 47209 ...\n",
              "4           257  24852 49235 4605 30233 27104 45013 29837 27966...\n",
              "...         ...                                                ...\n",
              "74995   3420740  19660 13176 47209 8174 34429 27966 47621 28476...\n",
              "74996   3420877  27966 13176 23765 13646 43122 10768 49111 6567...\n",
              "74997   3420888  44632 22935 43961 47766 35951 7963 10880 46906...\n",
              "74998   3420989  30169 43210 35004 35951 5134 13517 21616 46676...\n",
              "74999   3421054     24852 31231 38448 15802 13375 11123 5818 18426\n",
              "\n",
              "[75000 rows x 2 columns]"
            ]
          },
          "metadata": {
            "tags": []
          },
          "execution_count": 47
        }
      ]
    },
    {
      "cell_type": "code",
      "metadata": {
        "id": "lU-I1gyrC5iL"
      },
      "source": [
        "#saving submission file to disk\n",
        "submission[['order_id','products']].to_csv('lgbm_submission.csv',index=False)"
      ],
      "execution_count": 49,
      "outputs": []
    },
    {
      "cell_type": "markdown",
      "metadata": {
        "id": "8MQoioT2iHQf"
      },
      "source": [
        "**Adaboost**"
      ]
    },
    {
      "cell_type": "code",
      "metadata": {
        "id": "OZBQN3QGiFMP"
      },
      "source": [
        "#loading adaboost classifier from disk\r\n",
        "ada_clf=pickle.load(open('ada_clf.pkl','rb'))"
      ],
      "execution_count": 50,
      "outputs": []
    },
    {
      "cell_type": "code",
      "metadata": {
        "colab": {
          "base_uri": "https://localhost:8080/"
        },
        "id": "LQhdNj2RrCsI",
        "outputId": "b4b35b23-d110-420b-f683-4eaa35b69baf"
      },
      "source": [
        "#predicting labels of X_test\r\n",
        "pred_test_y=(ada_clf.predict_proba(X_test)[:,1]>=0.4)\r\n",
        "pred_test_y.shape"
      ],
      "execution_count": 51,
      "outputs": [
        {
          "output_type": "execute_result",
          "data": {
            "text/plain": [
              "(4833292,)"
            ]
          },
          "metadata": {
            "tags": []
          },
          "execution_count": 51
        }
      ]
    },
    {
      "cell_type": "code",
      "metadata": {
        "colab": {
          "base_uri": "https://localhost:8080/",
          "height": 137
        },
        "id": "icK5gPK-rC6M",
        "outputId": "a61a2d0c-6a18-4ded-e1e7-e29bf5ae3eb1"
      },
      "source": [
        "#preparing output\r\n",
        "user_order_products_test1['pred_reordered']=pred_test_y\r\n",
        "submission=user_order_products_test1[user_order_products_test1.pred_reordered==1][['order_id','product_id']]\r\n",
        "submission.columns=['order_id','products']\r\n",
        "submission.head(3)"
      ],
      "execution_count": 63,
      "outputs": [
        {
          "output_type": "execute_result",
          "data": {
            "text/html": [
              "<div>\n",
              "<style scoped>\n",
              "    .dataframe tbody tr th:only-of-type {\n",
              "        vertical-align: middle;\n",
              "    }\n",
              "\n",
              "    .dataframe tbody tr th {\n",
              "        vertical-align: top;\n",
              "    }\n",
              "\n",
              "    .dataframe thead th {\n",
              "        text-align: right;\n",
              "    }\n",
              "</style>\n",
              "<table border=\"1\" class=\"dataframe\">\n",
              "  <thead>\n",
              "    <tr style=\"text-align: right;\">\n",
              "      <th></th>\n",
              "      <th>order_id</th>\n",
              "      <th>products</th>\n",
              "    </tr>\n",
              "  </thead>\n",
              "  <tbody>\n",
              "    <tr>\n",
              "      <th>0</th>\n",
              "      <td>2774568</td>\n",
              "      <td>9387</td>\n",
              "    </tr>\n",
              "    <tr>\n",
              "      <th>1</th>\n",
              "      <td>2774568</td>\n",
              "      <td>17668</td>\n",
              "    </tr>\n",
              "    <tr>\n",
              "      <th>3</th>\n",
              "      <td>2774568</td>\n",
              "      <td>16797</td>\n",
              "    </tr>\n",
              "  </tbody>\n",
              "</table>\n",
              "</div>"
            ],
            "text/plain": [
              "   order_id  products\n",
              "0   2774568      9387\n",
              "1   2774568     17668\n",
              "3   2774568     16797"
            ]
          },
          "metadata": {
            "tags": []
          },
          "execution_count": 63
        }
      ]
    },
    {
      "cell_type": "code",
      "metadata": {
        "colab": {
          "base_uri": "https://localhost:8080/",
          "height": 406
        },
        "id": "e4_L5QXUrC9S",
        "outputId": "4878682d-b3f1-4b5c-e497-4f8b528513b1"
      },
      "source": [
        "#preparing the submission\r\n",
        "sample_submission=pd.read_csv('sample_submission.csv',usecols=['order_id'])\r\n",
        "submission=submission.groupby('order_id')['products'].agg(prepare_data).reset_index()\r\n",
        "submission=pd.merge(sample_submission,submission,how='left',on='order_id')\r\n",
        "submission.fillna('None',inplace=True)\r\n",
        "#adding None to products for which we are predicting only upto two products to maximize f1 score\r\n",
        "submission['len']=submission.products.apply(lambda x: 0 if x=='None' else len(x.split(' ')))\r\n",
        "submission['products']=submission.apply(lambda x: x.products+' None' if (x.len==1 or x.len==2) else x.products ,axis=1)\r\n",
        "submission[['order_id','products']]"
      ],
      "execution_count": 64,
      "outputs": [
        {
          "output_type": "execute_result",
          "data": {
            "text/html": [
              "<div>\n",
              "<style scoped>\n",
              "    .dataframe tbody tr th:only-of-type {\n",
              "        vertical-align: middle;\n",
              "    }\n",
              "\n",
              "    .dataframe tbody tr th {\n",
              "        vertical-align: top;\n",
              "    }\n",
              "\n",
              "    .dataframe thead th {\n",
              "        text-align: right;\n",
              "    }\n",
              "</style>\n",
              "<table border=\"1\" class=\"dataframe\">\n",
              "  <thead>\n",
              "    <tr style=\"text-align: right;\">\n",
              "      <th></th>\n",
              "      <th>order_id</th>\n",
              "      <th>products</th>\n",
              "    </tr>\n",
              "  </thead>\n",
              "  <tbody>\n",
              "    <tr>\n",
              "      <th>0</th>\n",
              "      <td>17</td>\n",
              "      <td>13107 38777 15613 44056 18288 16965 21463 4000...</td>\n",
              "    </tr>\n",
              "    <tr>\n",
              "      <th>1</th>\n",
              "      <td>34</td>\n",
              "      <td>47029 47792 39180 10132 35887 7559 39475 43504...</td>\n",
              "    </tr>\n",
              "    <tr>\n",
              "      <th>2</th>\n",
              "      <td>137</td>\n",
              "      <td>24852 38689 41787 25890 44422 23794 29594 2326...</td>\n",
              "    </tr>\n",
              "    <tr>\n",
              "      <th>3</th>\n",
              "      <td>182</td>\n",
              "      <td>2078 33000 1244 34243 13629 27104 39275 3397 1...</td>\n",
              "    </tr>\n",
              "    <tr>\n",
              "      <th>4</th>\n",
              "      <td>257</td>\n",
              "      <td>24852 49235 4605 30233 27104 45013 29837 27966...</td>\n",
              "    </tr>\n",
              "    <tr>\n",
              "      <th>...</th>\n",
              "      <td>...</td>\n",
              "      <td>...</td>\n",
              "    </tr>\n",
              "    <tr>\n",
              "      <th>74995</th>\n",
              "      <td>3420740</td>\n",
              "      <td>19660 39040 13176 47209 8174 34429 38772 30391...</td>\n",
              "    </tr>\n",
              "    <tr>\n",
              "      <th>74996</th>\n",
              "      <td>3420877</td>\n",
              "      <td>27966 13176 23765 13646 43122 10768 49111 6567...</td>\n",
              "    </tr>\n",
              "    <tr>\n",
              "      <th>74997</th>\n",
              "      <td>3420888</td>\n",
              "      <td>44632 22935 43961 47766 35951 7963 42123 10880...</td>\n",
              "    </tr>\n",
              "    <tr>\n",
              "      <th>74998</th>\n",
              "      <td>3420989</td>\n",
              "      <td>30169 43210 35004 35951 5134 13517 21616 46676...</td>\n",
              "    </tr>\n",
              "    <tr>\n",
              "      <th>74999</th>\n",
              "      <td>3421054</td>\n",
              "      <td>24852 31231 38448 15802 13493 13375 11123 5818...</td>\n",
              "    </tr>\n",
              "  </tbody>\n",
              "</table>\n",
              "<p>75000 rows × 2 columns</p>\n",
              "</div>"
            ],
            "text/plain": [
              "       order_id                                           products\n",
              "0            17  13107 38777 15613 44056 18288 16965 21463 4000...\n",
              "1            34  47029 47792 39180 10132 35887 7559 39475 43504...\n",
              "2           137  24852 38689 41787 25890 44422 23794 29594 2326...\n",
              "3           182  2078 33000 1244 34243 13629 27104 39275 3397 1...\n",
              "4           257  24852 49235 4605 30233 27104 45013 29837 27966...\n",
              "...         ...                                                ...\n",
              "74995   3420740  19660 39040 13176 47209 8174 34429 38772 30391...\n",
              "74996   3420877  27966 13176 23765 13646 43122 10768 49111 6567...\n",
              "74997   3420888  44632 22935 43961 47766 35951 7963 42123 10880...\n",
              "74998   3420989  30169 43210 35004 35951 5134 13517 21616 46676...\n",
              "74999   3421054  24852 31231 38448 15802 13493 13375 11123 5818...\n",
              "\n",
              "[75000 rows x 2 columns]"
            ]
          },
          "metadata": {
            "tags": []
          },
          "execution_count": 64
        }
      ]
    },
    {
      "cell_type": "code",
      "metadata": {
        "id": "Z7bgSZiSriNp"
      },
      "source": [
        "#saving submission file to disk\r\n",
        "submission[['order_id','products']].to_csv('ada_submission.csv',index=False)"
      ],
      "execution_count": 65,
      "outputs": []
    },
    {
      "cell_type": "markdown",
      "metadata": {
        "id": "bx9fi_ThtqMM"
      },
      "source": [
        "**Neural Network with 7 dense layers**"
      ]
    },
    {
      "cell_type": "code",
      "metadata": {
        "id": "75j2BF-LtzMf"
      },
      "source": [
        "#loading pretrained model from disk\r\n",
        "import tensorflow as tf\r\n",
        "best_model=tf.keras.models.load_model('nn_models/layer7_model_f10.36402924385773194')\r\n",
        "pred_test_y=(best_model.predict(X_test,batch_size=10000)>=0.2)"
      ],
      "execution_count": 69,
      "outputs": []
    },
    {
      "cell_type": "code",
      "metadata": {
        "colab": {
          "base_uri": "https://localhost:8080/",
          "height": 137
        },
        "id": "MdRVsdACtzPs",
        "outputId": "4514c424-1ce0-4e74-d133-f3f40d1c584d"
      },
      "source": [
        "#preparing output\r\n",
        "user_order_products_test1['pred_reordered']=pred_test_y\r\n",
        "submission=user_order_products_test1[user_order_products_test1.pred_reordered==1][['order_id','product_id']]\r\n",
        "submission.columns=['order_id','products']\r\n",
        "submission.head(3)"
      ],
      "execution_count": 70,
      "outputs": [
        {
          "output_type": "execute_result",
          "data": {
            "text/html": [
              "<div>\n",
              "<style scoped>\n",
              "    .dataframe tbody tr th:only-of-type {\n",
              "        vertical-align: middle;\n",
              "    }\n",
              "\n",
              "    .dataframe tbody tr th {\n",
              "        vertical-align: top;\n",
              "    }\n",
              "\n",
              "    .dataframe thead th {\n",
              "        text-align: right;\n",
              "    }\n",
              "</style>\n",
              "<table border=\"1\" class=\"dataframe\">\n",
              "  <thead>\n",
              "    <tr style=\"text-align: right;\">\n",
              "      <th></th>\n",
              "      <th>order_id</th>\n",
              "      <th>products</th>\n",
              "    </tr>\n",
              "  </thead>\n",
              "  <tbody>\n",
              "    <tr>\n",
              "      <th>1</th>\n",
              "      <td>2774568</td>\n",
              "      <td>17668</td>\n",
              "    </tr>\n",
              "    <tr>\n",
              "      <th>4</th>\n",
              "      <td>2774568</td>\n",
              "      <td>39190</td>\n",
              "    </tr>\n",
              "    <tr>\n",
              "      <th>5</th>\n",
              "      <td>2774568</td>\n",
              "      <td>47766</td>\n",
              "    </tr>\n",
              "  </tbody>\n",
              "</table>\n",
              "</div>"
            ],
            "text/plain": [
              "   order_id  products\n",
              "1   2774568     17668\n",
              "4   2774568     39190\n",
              "5   2774568     47766"
            ]
          },
          "metadata": {
            "tags": []
          },
          "execution_count": 70
        }
      ]
    },
    {
      "cell_type": "code",
      "metadata": {
        "colab": {
          "base_uri": "https://localhost:8080/",
          "height": 406
        },
        "id": "VWKusSOBtzT4",
        "outputId": "625bb1f7-271d-4422-ee2b-7265b8f06fe5"
      },
      "source": [
        "#preparing the submission\r\n",
        "sample_submission=pd.read_csv('sample_submission.csv',usecols=['order_id'])\r\n",
        "submission=submission.groupby('order_id')['products'].agg(prepare_data).reset_index()\r\n",
        "submission=pd.merge(sample_submission,submission,how='left',on='order_id')\r\n",
        "submission.fillna('None',inplace=True)\r\n",
        "#adding None to products for which we are predicting only upto two products to maximize f1 score\r\n",
        "submission['len']=submission.products.apply(lambda x: 0 if x=='None' else len(x.split(' ')))\r\n",
        "submission['products']=submission.apply(lambda x: x.products+' None' if (x.len==1 or x.len==2) else x.products ,axis=1)\r\n",
        "submission[['order_id','products']]"
      ],
      "execution_count": 71,
      "outputs": [
        {
          "output_type": "execute_result",
          "data": {
            "text/html": [
              "<div>\n",
              "<style scoped>\n",
              "    .dataframe tbody tr th:only-of-type {\n",
              "        vertical-align: middle;\n",
              "    }\n",
              "\n",
              "    .dataframe tbody tr th {\n",
              "        vertical-align: top;\n",
              "    }\n",
              "\n",
              "    .dataframe thead th {\n",
              "        text-align: right;\n",
              "    }\n",
              "</style>\n",
              "<table border=\"1\" class=\"dataframe\">\n",
              "  <thead>\n",
              "    <tr style=\"text-align: right;\">\n",
              "      <th></th>\n",
              "      <th>order_id</th>\n",
              "      <th>products</th>\n",
              "    </tr>\n",
              "  </thead>\n",
              "  <tbody>\n",
              "    <tr>\n",
              "      <th>0</th>\n",
              "      <td>17</td>\n",
              "      <td>47766 13107 None</td>\n",
              "    </tr>\n",
              "    <tr>\n",
              "      <th>1</th>\n",
              "      <td>34</td>\n",
              "      <td>47792 39180 39475 43504 13176 47766 21137 1608...</td>\n",
              "    </tr>\n",
              "    <tr>\n",
              "      <th>2</th>\n",
              "      <td>137</td>\n",
              "      <td>24852 38689 41787 25890 23794 29594 2326 5134</td>\n",
              "    </tr>\n",
              "    <tr>\n",
              "      <th>3</th>\n",
              "      <td>182</td>\n",
              "      <td>33000 13629 39275 5479 9337 47672 47209 32109 ...</td>\n",
              "    </tr>\n",
              "    <tr>\n",
              "      <th>4</th>\n",
              "      <td>257</td>\n",
              "      <td>24852 49235 4605 30233 27104 45013 29837 27966...</td>\n",
              "    </tr>\n",
              "    <tr>\n",
              "      <th>...</th>\n",
              "      <td>...</td>\n",
              "      <td>...</td>\n",
              "    </tr>\n",
              "    <tr>\n",
              "      <th>74995</th>\n",
              "      <td>3420740</td>\n",
              "      <td>19660 13176 47209 8174 34429 38772 47621 39928...</td>\n",
              "    </tr>\n",
              "    <tr>\n",
              "      <th>74996</th>\n",
              "      <td>3420877</td>\n",
              "      <td>27966 13176 23765 13646 43122 10768 49111 2190...</td>\n",
              "    </tr>\n",
              "    <tr>\n",
              "      <th>74997</th>\n",
              "      <td>3420888</td>\n",
              "      <td>44632 22935 43961 47766 35951 7963 10880 46906...</td>\n",
              "    </tr>\n",
              "    <tr>\n",
              "      <th>74998</th>\n",
              "      <td>3420989</td>\n",
              "      <td>30169 43210 35004 35951 5134 13517 21616 46676...</td>\n",
              "    </tr>\n",
              "    <tr>\n",
              "      <th>74999</th>\n",
              "      <td>3421054</td>\n",
              "      <td>24852 31231 38448 15802 13375 11123 5818 18426</td>\n",
              "    </tr>\n",
              "  </tbody>\n",
              "</table>\n",
              "<p>75000 rows × 2 columns</p>\n",
              "</div>"
            ],
            "text/plain": [
              "       order_id                                           products\n",
              "0            17                                   47766 13107 None\n",
              "1            34  47792 39180 39475 43504 13176 47766 21137 1608...\n",
              "2           137      24852 38689 41787 25890 23794 29594 2326 5134\n",
              "3           182  33000 13629 39275 5479 9337 47672 47209 32109 ...\n",
              "4           257  24852 49235 4605 30233 27104 45013 29837 27966...\n",
              "...         ...                                                ...\n",
              "74995   3420740  19660 13176 47209 8174 34429 38772 47621 39928...\n",
              "74996   3420877  27966 13176 23765 13646 43122 10768 49111 2190...\n",
              "74997   3420888  44632 22935 43961 47766 35951 7963 10880 46906...\n",
              "74998   3420989  30169 43210 35004 35951 5134 13517 21616 46676...\n",
              "74999   3421054     24852 31231 38448 15802 13375 11123 5818 18426\n",
              "\n",
              "[75000 rows x 2 columns]"
            ]
          },
          "metadata": {
            "tags": []
          },
          "execution_count": 71
        }
      ]
    },
    {
      "cell_type": "code",
      "metadata": {
        "id": "zPlbRVJftzpU"
      },
      "source": [
        "#saving submission file to disk\r\n",
        "submission[['order_id','products']].to_csv('nn7_submission.csv',index=False)"
      ],
      "execution_count": 72,
      "outputs": []
    },
    {
      "cell_type": "markdown",
      "metadata": {
        "id": "Q5Knp8Beu4Rp"
      },
      "source": [
        "**CNN model**"
      ]
    },
    {
      "cell_type": "code",
      "metadata": {
        "id": "9Au6_vbFu7vb"
      },
      "source": [
        "#loading pretrained cnn model from disk\r\n",
        "best_model=tf.keras.models.load_model('nn_models/conv_model_f10.3654403235929674')\r\n",
        "pred_test_y=(best_model.predict(X_test,batch_size=1000)>=0.2)"
      ],
      "execution_count": 73,
      "outputs": []
    },
    {
      "cell_type": "code",
      "metadata": {
        "colab": {
          "base_uri": "https://localhost:8080/",
          "height": 137
        },
        "id": "ZNB6MFEhvPLK",
        "outputId": "5169546e-ab26-4194-daa3-8d38a0f5fa9e"
      },
      "source": [
        "#preparing output\r\n",
        "user_order_products_test1['pred_reordered']=pred_test_y\r\n",
        "submission=user_order_products_test1[user_order_products_test1.pred_reordered==1][['order_id','product_id']]\r\n",
        "submission.columns=['order_id','products']\r\n",
        "submission.head(3)"
      ],
      "execution_count": 74,
      "outputs": [
        {
          "output_type": "execute_result",
          "data": {
            "text/html": [
              "<div>\n",
              "<style scoped>\n",
              "    .dataframe tbody tr th:only-of-type {\n",
              "        vertical-align: middle;\n",
              "    }\n",
              "\n",
              "    .dataframe tbody tr th {\n",
              "        vertical-align: top;\n",
              "    }\n",
              "\n",
              "    .dataframe thead th {\n",
              "        text-align: right;\n",
              "    }\n",
              "</style>\n",
              "<table border=\"1\" class=\"dataframe\">\n",
              "  <thead>\n",
              "    <tr style=\"text-align: right;\">\n",
              "      <th></th>\n",
              "      <th>order_id</th>\n",
              "      <th>products</th>\n",
              "    </tr>\n",
              "  </thead>\n",
              "  <tbody>\n",
              "    <tr>\n",
              "      <th>1</th>\n",
              "      <td>2774568</td>\n",
              "      <td>17668</td>\n",
              "    </tr>\n",
              "    <tr>\n",
              "      <th>4</th>\n",
              "      <td>2774568</td>\n",
              "      <td>39190</td>\n",
              "    </tr>\n",
              "    <tr>\n",
              "      <th>5</th>\n",
              "      <td>2774568</td>\n",
              "      <td>47766</td>\n",
              "    </tr>\n",
              "  </tbody>\n",
              "</table>\n",
              "</div>"
            ],
            "text/plain": [
              "   order_id  products\n",
              "1   2774568     17668\n",
              "4   2774568     39190\n",
              "5   2774568     47766"
            ]
          },
          "metadata": {
            "tags": []
          },
          "execution_count": 74
        }
      ]
    },
    {
      "cell_type": "code",
      "metadata": {
        "colab": {
          "base_uri": "https://localhost:8080/",
          "height": 406
        },
        "id": "sfaDNAulu7yf",
        "outputId": "5a0e9541-0c9e-43f0-d1fa-e8e0209ca0e2"
      },
      "source": [
        "#preparing the submission\r\n",
        "sample_submission=pd.read_csv('sample_submission.csv',usecols=['order_id'])\r\n",
        "submission=submission.groupby('order_id')['products'].agg(prepare_data).reset_index()\r\n",
        "submission=pd.merge(sample_submission,submission,how='left',on='order_id')\r\n",
        "submission.fillna('None',inplace=True)\r\n",
        "#adding None to products for which we are predicting only upto two products to maximize f1 score\r\n",
        "submission['len']=submission.products.apply(lambda x: 0 if x=='None' else len(x.split(' ')))\r\n",
        "submission['products']=submission.apply(lambda x: x.products+' None' if (x.len==1 or x.len==2) else x.products ,axis=1)\r\n",
        "submission[['order_id','products']]"
      ],
      "execution_count": 75,
      "outputs": [
        {
          "output_type": "execute_result",
          "data": {
            "text/html": [
              "<div>\n",
              "<style scoped>\n",
              "    .dataframe tbody tr th:only-of-type {\n",
              "        vertical-align: middle;\n",
              "    }\n",
              "\n",
              "    .dataframe tbody tr th {\n",
              "        vertical-align: top;\n",
              "    }\n",
              "\n",
              "    .dataframe thead th {\n",
              "        text-align: right;\n",
              "    }\n",
              "</style>\n",
              "<table border=\"1\" class=\"dataframe\">\n",
              "  <thead>\n",
              "    <tr style=\"text-align: right;\">\n",
              "      <th></th>\n",
              "      <th>order_id</th>\n",
              "      <th>products</th>\n",
              "    </tr>\n",
              "  </thead>\n",
              "  <tbody>\n",
              "    <tr>\n",
              "      <th>0</th>\n",
              "      <td>17</td>\n",
              "      <td>13107 None</td>\n",
              "    </tr>\n",
              "    <tr>\n",
              "      <th>1</th>\n",
              "      <td>34</td>\n",
              "      <td>47792 39180 39475 43504 13176 47766 21137 1608...</td>\n",
              "    </tr>\n",
              "    <tr>\n",
              "      <th>2</th>\n",
              "      <td>137</td>\n",
              "      <td>24852 38689 41787 25890 23794 29594 2326 5134</td>\n",
              "    </tr>\n",
              "    <tr>\n",
              "      <th>3</th>\n",
              "      <td>182</td>\n",
              "      <td>33000 13629 39275 5479 9337 47672 47209 41149 ...</td>\n",
              "    </tr>\n",
              "    <tr>\n",
              "      <th>4</th>\n",
              "      <td>257</td>\n",
              "      <td>24852 49235 4605 30233 27104 45013 29837 27966...</td>\n",
              "    </tr>\n",
              "    <tr>\n",
              "      <th>...</th>\n",
              "      <td>...</td>\n",
              "      <td>...</td>\n",
              "    </tr>\n",
              "    <tr>\n",
              "      <th>74995</th>\n",
              "      <td>3420740</td>\n",
              "      <td>19660 13176 8174 34429 47621 39928 39146 48070...</td>\n",
              "    </tr>\n",
              "    <tr>\n",
              "      <th>74996</th>\n",
              "      <td>3420877</td>\n",
              "      <td>27966 13176 13646 43122 10768 49111 6567 21903...</td>\n",
              "    </tr>\n",
              "    <tr>\n",
              "      <th>74997</th>\n",
              "      <td>3420888</td>\n",
              "      <td>44632 22935 43961 47766 35951 7963 10880 46906...</td>\n",
              "    </tr>\n",
              "    <tr>\n",
              "      <th>74998</th>\n",
              "      <td>3420989</td>\n",
              "      <td>43210 35004 35951 5134 13517 21616 46676 47766...</td>\n",
              "    </tr>\n",
              "    <tr>\n",
              "      <th>74999</th>\n",
              "      <td>3421054</td>\n",
              "      <td>24852 31231 38448 15802 13375 11123 18426</td>\n",
              "    </tr>\n",
              "  </tbody>\n",
              "</table>\n",
              "<p>75000 rows × 2 columns</p>\n",
              "</div>"
            ],
            "text/plain": [
              "       order_id                                           products\n",
              "0            17                                         13107 None\n",
              "1            34  47792 39180 39475 43504 13176 47766 21137 1608...\n",
              "2           137      24852 38689 41787 25890 23794 29594 2326 5134\n",
              "3           182  33000 13629 39275 5479 9337 47672 47209 41149 ...\n",
              "4           257  24852 49235 4605 30233 27104 45013 29837 27966...\n",
              "...         ...                                                ...\n",
              "74995   3420740  19660 13176 8174 34429 47621 39928 39146 48070...\n",
              "74996   3420877  27966 13176 13646 43122 10768 49111 6567 21903...\n",
              "74997   3420888  44632 22935 43961 47766 35951 7963 10880 46906...\n",
              "74998   3420989  43210 35004 35951 5134 13517 21616 46676 47766...\n",
              "74999   3421054          24852 31231 38448 15802 13375 11123 18426\n",
              "\n",
              "[75000 rows x 2 columns]"
            ]
          },
          "metadata": {
            "tags": []
          },
          "execution_count": 75
        }
      ]
    },
    {
      "cell_type": "code",
      "metadata": {
        "id": "77R0Ov_lu720"
      },
      "source": [
        "#saving submission file to disk\r\n",
        "submission[['order_id','products']].to_csv('cnn_submission.csv',index=False)"
      ],
      "execution_count": 76,
      "outputs": []
    },
    {
      "cell_type": "markdown",
      "metadata": {
        "id": "-tkBAoh5DxM_"
      },
      "source": [
        "**Summary**"
      ]
    },
    {
      "cell_type": "code",
      "metadata": {
        "colab": {
          "base_uri": "https://localhost:8080/"
        },
        "id": "O4uTcTxwDztD",
        "outputId": "6aa20368-3550-4004-9987-419f853d21c7"
      },
      "source": [
        "#displaying model scores\n",
        "from beautifultable import BeautifulTable\n",
        "\n",
        "\n",
        "headers=['Model','Private f1 score', 'Public f1 score']\n",
        "summary_data = [['logistic regression','0.36534','0.36699'],\n",
        "                ['Random Forest Classifier','0.38149','0.38239'],\n",
        "                ['XGB Classifier','0.38239','0.38387'],\n",
        "                ['LGBM Classifier','0.38073','0.38244'],\n",
        "                ['NN 7 dense Classifier','0.38359','0.38552'],\n",
        "                ['CNN Classifier','0.38459','0.38677']\n",
        "                ]\n",
        "\n",
        "\n",
        "\n",
        "table=BeautifulTable(max_width=110)\n",
        "table.columns.header=headers\n",
        "\n",
        "\n",
        "for row in summary_data:\n",
        "    table.rows.append(row)\n",
        "    \n",
        "print(table)"
      ],
      "execution_count": 79,
      "outputs": [
        {
          "output_type": "stream",
          "text": [
            "+--------------------------+------------------+-----------------+\n",
            "|          Model           | Private f1 score | Public f1 score |\n",
            "+--------------------------+------------------+-----------------+\n",
            "|   logistic regression    |      0.365       |      0.367      |\n",
            "+--------------------------+------------------+-----------------+\n",
            "| Random Forest Classifier |      0.381       |      0.382      |\n",
            "+--------------------------+------------------+-----------------+\n",
            "|      XGB Classifier      |      0.382       |      0.384      |\n",
            "+--------------------------+------------------+-----------------+\n",
            "|     LGBM Classifier      |      0.381       |      0.382      |\n",
            "+--------------------------+------------------+-----------------+\n",
            "|  NN 7 dense Classifier   |      0.384       |      0.386      |\n",
            "+--------------------------+------------------+-----------------+\n",
            "|      CNN Classifier      |      0.385       |      0.387      |\n",
            "+--------------------------+------------------+-----------------+\n"
          ],
          "name": "stdout"
        },
        {
          "output_type": "stream",
          "text": [
            "/usr/local/lib/python3.6/dist-packages/beautifultable/utils.py:136: FutureWarning: 'max_width' has been deprecated in 'v1.0.0' and will be removed in 'v1.2.0'. Use 'maxwidth' instead.\n",
            "  warnings.warn(message, FutureWarning)\n"
          ],
          "name": "stderr"
        }
      ]
    },
    {
      "cell_type": "markdown",
      "metadata": {
        "id": "kw4KMfsyxkUq"
      },
      "source": [
        "![score_summary.JPG](data:image/jpeg;base64,/9j/4AAQSkZJRgABAQEAYABgAAD/4RDiRXhpZgAATU0AKgAAAAgABAE7AAIAAAAIAAAISodpAAQAAAABAAAIUpydAAEAAAAQAAAQyuocAAcAAAgMAAAAPgAAAAAc6gAAAAgAAAAAAAAAAAAAAAAAAAAAAAAAAAAAAAAAAAAAAAAAAAAAAAAAAAAAAAAAAAAAAAAAAAAAAAAAAAAAAAAAAAAAAAAAAAAAAAAAAAAAAAAAAAAAAAAAAAAAAAAAAAAAAAAAAAAAAAAAAAAAAAAAAAAAAAAAAAAAAAAAAAAAAAAAAAAAAAAAAAAAAAAAAAAAAAAAAAAAAAAAAAAAAAAAAAAAAAAAAAAAAAAAAAAAAAAAAAAAAAAAAAAAAAAAAAAAAAAAAAAAAAAAAAAAAAAAAAAAAAAAAAAAAAAAAAAAAAAAAAAAAAAAAAAAAAAAAAAAAAAAAAAAAAAAAAAAAAAAAAAAAAAAAAAAAAAAAAAAAAAAAAAAAAAAAAAAAAAAAAAAAAAAAAAAAAAAAAAAAAAAAAAAAAAAAAAAAAAAAAAAAAAAAAAAAAAAAAAAAAAAAAAAAAAAAAAAAAAAAAAAAAAAAAAAAAAAAAAAAAAAAAAAAAAAAAAAAAAAAAAAAAAAAAAAAAAAAAAAAAAAAAAAAAAAAAAAAAAAAAAAAAAAAAAAAAAAAAAAAAAAAAAAAAAAAAAAAAAAAAAAAAAAAAAAAAAAAAAAAAAAAAAAAAAAAAAAAAAAAAAAAAAAAAAAAAAAAAAAAAAAAAAAAAAAAAAAAAAAAAAAAAAAAAAAAAAAAAAAAAAAAAAAAAAAAAAAAAAAAAAAAAAAAAAAAAAAAAAAAAAAAAAAAAAAAAAAAAAAAAAAAAAAAAAAAAAAAAAAAAAAAAAAAAAAAAAAAAAAAAAAAAAAAAAAAAAAAAAAAAAAAAAAAAAAAAAAAAAAAAAAAAAAAAAAAAAAAAAAAAAAAAAAAAAAAAAAAAAAAAAAAAAAAAAAAAAAAAAAAAAAAAAAAAAAAAAAAAAAAAAAAAAAAAAAAAAAAAAAAAAAAAAAAAAAAAAAAAAAAAAAAAAAAAAAAAAAAAAAAAAAAAAAAAAAAAAAAAAAAAAAAAAAAAAAAAAAAAAAAAAAAAAAAAAAAAAAAAAAAAAAAAAAAAAAAAAAAAAAAAAAAAAAAAAAAAAAAAAAAAAAAAAAAAAAAAAAAAAAAAAAAAAAAAAAAAAAAAAAAAAAAAAAAAAAAAAAAAAAAAAAAAAAAAAAAAAAAAAAAAAAAAAAAAAAAAAAAAAAAAAAAAAAAAAAAAAAAAAAAAAAAAAAAAAAAAAAAAAAAAAAAAAAAAAAAAAAAAAAAAAAAAAAAAAAAAAAAAAAAAAAAAAAAAAAAAAAAAAAAAAAAAAAAAAAAAAAAAAAAAAAAAAAAAAAAAAAAAAAAAAAAAAAAAAAAAAAAAAAAAAAAAAAAAAAAAAAAAAAAAAAAAAAAAAAAAAAAAAAAAAAAAAAAAAAAAAAAAAAAAAAAAAAAAAAAAAAAAAAAAAAAAAAAAAAAAAAAAAAAAAAAAAAAAAAAAAAAAAAAAAAAAAAAAAAAAAAAAAAAAAAAAAAAAAAAAAAAAAAAAAAAAAAAAAAAAAAAAAAAAAAAAAAAAAAAAAAAAAAAAAAAAAAAAAAAAAAAAAAAAAAAAAAAAAAAAAAAAAAAAAAAAAAAAAAAAAAAAAAAAAAAAAAAAAAAAAAAAAAAAAAAAAAAAAAAAAAAAAAAAAAAAAAAAAAAAAAAAAAAAAAAAAAAAAAAAAAAAAAAAAAAAAAAAAAAAAAAAAAAAAAAAAAAAAAAAAAAAAAAAAAAAAAAAAAAAAAAAAAAAAAAAAAAAAAAAAAAAAAAAAAAAAAAAAAAAAAAAAAAAAAAAAAAAAAAAAAAAAAAAAAAAAAAAAAAAAAAAAAAAAAAAAAAAAAAAAAAAAAAAAAAAAAAAAAAAAAAAAAAAAAAAAAAAAAAAAAAAAAAAAAAAAAAAAAAAAAAAAAAAAAAAAAAAAAAAAAAAAAAAAAAAAAAAAAAAAAAAAAAAAAAAAAAAAAAAAAAAAAAAAAAAAAAAAAAAAAAAAAAAAAAAAAAAAAAAAAAAAAAAAAAAAAAAAAAAAAAAAAAAAAAAAAAAAAAAAAAAAAAAAAAAAAAAAAAAAAAAAAAAAAAAAAAAAAAAAAAAAAAAAAAAAAAAAAAAAAAAAAAAAAAAAAAAAAAAAAAAAAAAAAAAAAAAAAAAAAAAAAAAAAAAAAAAAAAAAAAAAAAAAAAAAAAAAAAAAAAAAAAAAAAAAAAAAAAAAAAAAAAAAAAAAAAAAAAAAAAAAAAAAAAAAAAAAAAAAAAAAAAAAAAAAAAAAAAAAAAAAAAAAAAAAAAAAAAAAAAAAAAAAAAAAAAAAAAAAAAAAAAAAAAAAAAAAAAAAAAAAAAAAAAAAAAAAAAAAAAAAAAAAAAAAAAAAAAAAAAAAAAAAAAAAAAAAAAAAAAAAAAAAAAAAAAAAAAAAAAAAAAAAAAAAAAAAAAAAAAAAAAAAAAAAAAAAAAAAAAAAAAAAAAAAAAAAAAAAAAAAAAAAAAAAAAAAAAAAAAAAAAAAAAAAAAAAAAAAAAAAAAAAAAAAAAAAAAAAAAAAAAAAAAAAAAAAAAAAAAAAAAAAAAAAAAAAAAAAAAAAAAAAAAAAAAAAAAAAAAAAAAAAAAAAAAAAAAAAAAAAAAAAAAAAAAAAAAAAAAAAAAAAAAAAAAAAAAAAAAAAAAAAAAAAAAAAAAAAAAAAAAAAAAAAAAAAAAAAAAAAAAAAAAAAAAAAAAAAAAAAAAAAAAAAAAAAAAAAAAAAAAAAAAAAAAAAAAAAAAAAAAAAAAAAAAAAAAAAAAAAAAEpTU0RURyYAAAWQAwACAAAAFAAAEKCQBAACAAAAFAAAELSSkQACAAAAAzQzAACSkgACAAAAAzQzAADqHAAHAAAIDAAACJQAAAAAHOoAAAAIAAAAAAAAAAAAAAAAAAAAAAAAAAAAAAAAAAAAAAAAAAAAAAAAAAAAAAAAAAAAAAAAAAAAAAAAAAAAAAAAAAAAAAAAAAAAAAAAAAAAAAAAAAAAAAAAAAAAAAAAAAAAAAAAAAAAAAAAAAAAAAAAAAAAAAAAAAAAAAAAAAAAAAAAAAAAAAAAAAAAAAAAAAAAAAAAAAAAAAAAAAAAAAAAAAAAAAAAAAAAAAAAAAAAAAAAAAAAAAAAAAAAAAAAAAAAAAAAAAAAAAAAAAAAAAAAAAAAAAAAAAAAAAAAAAAAAAAAAAAAAAAAAAAAAAAAAAAAAAAAAAAAAAAAAAAAAAAAAAAAAAAAAAAAAAAAAAAAAAAAAAAAAAAAAAAAAAAAAAAAAAAAAAAAAAAAAAAAAAAAAAAAAAAAAAAAAAAAAAAAAAAAAAAAAAAAAAAAAAAAAAAAAAAAAAAAAAAAAAAAAAAAAAAAAAAAAAAAAAAAAAAAAAAAAAAAAAAAAAAAAAAAAAAAAAAAAAAAAAAAAAAAAAAAAAAAAAAAAAAAAAAAAAAAAAAAAAAAAAAAAAAAAAAAAAAAAAAAAAAAAAAAAAAAAAAAAAAAAAAAAAAAAAAAAAAAAAAAAAAAAAAAAAAAAAAAAAAAAAAAAAAAAAAAAAAAAAAAAAAAAAAAAAAAAAAAAAAAAAAAAAAAAAAAAAAAAAAAAAAAAAAAAAAAAAAAAAAAAAAAAAAAAAAAAAAAAAAAAAAAAAAAAAAAAAAAAAAAAAAAAAAAAAAAAAAAAAAAAAAAAAAAAAAAAAAAAAAAAAAAAAAAAAAAAAAAAAAAAAAAAAAAAAAAAAAAAAAAAAAAAAAAAAAAAAAAAAAAAAAAAAAAAAAAAAAAAAAAAAAAAAAAAAAAAAAAAAAAAAAAAAAAAAAAAAAAAAAAAAAAAAAAAAAAAAAAAAAAAAAAAAAAAAAAAAAAAAAAAAAAAAAAAAAAAAAAAAAAAAAAAAAAAAAAAAAAAAAAAAAAAAAAAAAAAAAAAAAAAAAAAAAAAAAAAAAAAAAAAAAAAAAAAAAAAAAAAAAAAAAAAAAAAAAAAAAAAAAAAAAAAAAAAAAAAAAAAAAAAAAAAAAAAAAAAAAAAAAAAAAAAAAAAAAAAAAAAAAAAAAAAAAAAAAAAAAAAAAAAAAAAAAAAAAAAAAAAAAAAAAAAAAAAAAAAAAAAAAAAAAAAAAAAAAAAAAAAAAAAAAAAAAAAAAAAAAAAAAAAAAAAAAAAAAAAAAAAAAAAAAAAAAAAAAAAAAAAAAAAAAAAAAAAAAAAAAAAAAAAAAAAAAAAAAAAAAAAAAAAAAAAAAAAAAAAAAAAAAAAAAAAAAAAAAAAAAAAAAAAAAAAAAAAAAAAAAAAAAAAAAAAAAAAAAAAAAAAAAAAAAAAAAAAAAAAAAAAAAAAAAAAAAAAAAAAAAAAAAAAAAAAAAAAAAAAAAAAAAAAAAAAAAAAAAAAAAAAAAAAAAAAAAAAAAAAAAAAAAAAAAAAAAAAAAAAAAAAAAAAAAAAAAAAAAAAAAAAAAAAAAAAAAAAAAAAAAAAAAAAAAAAAAAAAAAAAAAAAAAAAAAAAAAAAAAAAAAAAAAAAAAAAAAAAAAAAAAAAAAAAAAAAAAAAAAAAAAAAAAAAAAAAAAAAAAAAAAAAAAAAAAAAAAAAAAAAAAAAAAAAAAAAAAAAAAAAAAAAAAAAAAAAAAAAAAAAAAAAAAAAAAAAAAAAAAAAAAAAAAAAAAAAAAAAAAAAAAAAAAAAAAAAAAAAAAAAAAAAAAAAAAAAAAAAAAAAAAAAAAAAAAAAAAAAAAAAAAAAAAAAAAAAAAAAAAAAAAAAAAAAAAAAAAAAAAAAAAAAAAAAAAAAAAAAAAAAAAAAAAAAAAAAAAAAAAAAAAAAAAAAAAAAAAAAAAAAAAAAAAAAAAAAAAAAAAAAAAAAAAAAAAAAAAAAAAAAAAAAAAAAAAAAAAAAAAAAAAAAAAAAAAAAAAAAAAAAAAAAAAAAAAAAAAAAAAAAAAAAAAAAAAAAAAAAAAAAAAAAAAAAAAAAAAAAAAAAAAAAAAAAAAAAAAAAAAAAAAAAAAAAAAAAAAAAAAAAAAAAAAAAAAAAAAAAAAAAAAAAAAAAAAAAAAAAAAAAAAAAAAAAAAAAAAAAAAAAAAAAAAAAAAAAAAAAAAAAAAAAAAAAAAAAAAAAAAAAAAAAAAAAAAAAAAAAAAAAAAAAAAAAAAAAAAAAAAAAAAAAAAAAAAAAAAAAAAAAAAAAAAAAAAAAAAAAAAAAAAAAAAAAAAAAAAAAAAAAAAAAAAAAAAAAAAAAAAAAAAAAAAAAAAAAAAAAAAAAAAAAAAAAAAAAAAAAAAAAAAAAAAAAAAAAAAAAAAAAAAAAAAAAAAAAAAAAAAAAAAAAAAAAAAAAAAAAAAAAAAAAAAAAAAAAAAAAAAAAAAAAAAAAAAAAAAAAAAAAAAAAAAAAAAAAAAAAAAAAAAAAAAAAAAAAAAAAAAAAAAAAAAAAAAAAAAAAAAAAAAAAAAAAAAAAAAAAAAAAAAAAAAAAAAAAAAAAAAAAAAAAAAAAAAAAAAAAAAAAAAAAAAAAAAAAAAAAAAAAAAAAAAAAAAAAAAAAAAAAAAAAAAAAAAAAAAAAAAAAAAAAAAAAAAAAAAAAAAAAAAAAAAAAAAAAAAAAAAAAAAAAAAAAAAAAAAAAAAAAAAAAAAAAAAAAAAAAAAAAAAAAAAAAAAAAAAAAAAAAAAAAAAAAAyMDIwOjEyOjI2IDAyOjQ5OjMyADIwMjA6MTI6MjYgMDI6NDk6MzIAAABKAFMAUwBEAFQARwAmAAAA/+ELHmh0dHA6Ly9ucy5hZG9iZS5jb20veGFwLzEuMC8APD94cGFja2V0IGJlZ2luPSfvu78nIGlkPSdXNU0wTXBDZWhpSHpyZVN6TlRjemtjOWQnPz4NCjx4OnhtcG1ldGEgeG1sbnM6eD0iYWRvYmU6bnM6bWV0YS8iPjxyZGY6UkRGIHhtbG5zOnJkZj0iaHR0cDovL3d3dy53My5vcmcvMTk5OS8wMi8yMi1yZGYtc3ludGF4LW5zIyI+PHJkZjpEZXNjcmlwdGlvbiByZGY6YWJvdXQ9InV1aWQ6ZmFmNWJkZDUtYmEzZC0xMWRhLWFkMzEtZDMzZDc1MTgyZjFiIiB4bWxuczpkYz0iaHR0cDovL3B1cmwub3JnL2RjL2VsZW1lbnRzLzEuMS8iLz48cmRmOkRlc2NyaXB0aW9uIHJkZjphYm91dD0idXVpZDpmYWY1YmRkNS1iYTNkLTExZGEtYWQzMS1kMzNkNzUxODJmMWIiIHhtbG5zOnhtcD0iaHR0cDovL25zLmFkb2JlLmNvbS94YXAvMS4wLyI+PHhtcDpDcmVhdGVEYXRlPjIwMjAtMTItMjZUMDI6NDk6MzIuNDMxPC94bXA6Q3JlYXRlRGF0ZT48L3JkZjpEZXNjcmlwdGlvbj48cmRmOkRlc2NyaXB0aW9uIHJkZjphYm91dD0idXVpZDpmYWY1YmRkNS1iYTNkLTExZGEtYWQzMS1kMzNkNzUxODJmMWIiIHhtbG5zOmRjPSJodHRwOi8vcHVybC5vcmcvZGMvZWxlbWVudHMvMS4xLyI+PGRjOmNyZWF0b3I+PHJkZjpTZXEgeG1sbnM6cmRmPSJodHRwOi8vd3d3LnczLm9yZy8xOTk5LzAyLzIyLXJkZi1zeW50YXgtbnMjIj48cmRmOmxpPkpTU0RURyZhbXA7PC9yZGY6bGk+PC9yZGY6U2VxPg0KCQkJPC9kYzpjcmVhdG9yPjwvcmRmOkRlc2NyaXB0aW9uPjwvcmRmOlJERj48L3g6eG1wbWV0YT4NCiAgICAgICAgICAgICAgICAgICAgICAgICAgICAgICAgICAgICAgICAgICAgICAgICAgICAgICAgICAgICAgICAgICAgICAgICAgICAgICAgICAgICAgICAgICAgICAgICAgICAKICAgICAgICAgICAgICAgICAgICAgICAgICAgICAgICAgICAgICAgICAgICAgICAgICAgICAgICAgICAgICAgICAgICAgICAgICAgICAgICAgICAgICAgICAgICAgICAgICAgIAogICAgICAgICAgICAgICAgICAgICAgICAgICAgICAgICAgICAgICAgICAgICAgICAgICAgICAgICAgICAgICAgICAgICAgICAgICAgICAgICAgICAgICAgICAgICAgICAgICAgCiAgICAgICAgICAgICAgICAgICAgICAgICAgICAgICAgICAgICAgICAgICAgICAgICAgICAgICAgICAgICAgICAgICAgICAgICAgICAgICAgICAgICAgICAgICAgICAgICAgICAKICAgICAgICAgICAgICAgICAgICAgICAgICAgICAgICAgICAgICAgICAgICAgICAgICAgICAgICAgICAgICAgICAgICAgICAgICAgICAgICAgICAgICAgICAgICAgICAgICAgIAogICAgICAgICAgICAgICAgICAgICAgICAgICAgICAgICAgICAgICAgICAgICAgICAgICAgICAgICAgICAgICAgICAgICAgICAgICAgICAgICAgICAgICAgICAgICAgICAgICAgCiAgICAgICAgICAgICAgICAgICAgICAgICAgICAgICAgICAgICAgICAgICAgICAgICAgICAgICAgICAgICAgICAgICAgICAgICAgICAgICAgICAgICAgICAgICAgICAgICAgICAKICAgICAgICAgICAgICAgICAgICAgICAgICAgICAgICAgICAgICAgICAgICAgICAgICAgICAgICAgICAgICAgICAgICAgICAgICAgICAgICAgICAgICAgICAgICAgICAgICAgIAogICAgICAgICAgICAgICAgICAgICAgICAgICAgICAgICAgICAgICAgICAgICAgICAgICAgICAgICAgICAgICAgICAgICAgICAgICAgICAgICAgICAgICAgICAgICAgICAgICAgCiAgICAgICAgICAgICAgICAgICAgICAgICAgICAgICAgICAgICAgICAgICAgICAgICAgICAgICAgICAgICAgICAgICAgICAgICAgICAgICAgICAgICAgICAgICAgICAgICAgICAKICAgICAgICAgICAgICAgICAgICAgICAgICAgICAgICAgICAgICAgICAgICAgICAgICAgICAgICAgICAgICAgICAgICAgICAgICAgICAgICAgICAgICAgICAgICAgICAgICAgIAogICAgICAgICAgICAgICAgICAgICAgICAgICAgICAgICAgICAgICAgICAgICAgICAgICAgICAgICAgICAgICAgICAgICAgICAgICAgICAgICAgICAgICAgICAgICAgICAgICAgCiAgICAgICAgICAgICAgICAgICAgICAgICAgICAgICAgICAgICAgICAgICAgICAgICAgICAgICAgICAgICAgICAgICAgICAgICAgICAgICAgICAgICAgICAgICAgICAgICAgICAKICAgICAgICAgICAgICAgICAgICAgICAgICAgICAgICAgICAgICAgICAgICAgICAgICAgICAgICAgICAgICAgICAgICAgICAgICAgICAgICAgICAgICAgICAgICAgICAgICAgIAogICAgICAgICAgICAgICAgICAgICAgICAgICAgICAgICAgICAgICAgICAgICAgICAgICAgICAgICAgICAgICAgICAgICAgICAgICAgICAgICAgICAgICAgICAgICAgICAgICAgCiAgICAgICAgICAgICAgICAgICAgICAgICAgICAgICAgICAgICAgICAgICAgICAgICAgICAgICAgICAgICAgICAgICAgICAgICAgICAgICAgICAgICAgICAgICAgICAgICAgICAKICAgICAgICAgICAgICAgICAgICAgICAgICAgICAgICAgICAgICAgICAgICAgICAgICAgICAgICAgICAgICAgICAgICAgICAgICAgICAgICAgICAgICAgICAgICAgICAgICAgIAogICAgICAgICAgICAgICAgICAgICAgICAgICAgICAgICAgICAgICAgICAgICAgICAgICAgICAgICAgICAgICAgICAgICAgICAgICAgICAgICAgICAgICAgICAgICAgICAgICAgCiAgICAgICAgICAgICAgICAgICAgICAgICAgICAgICAgICAgICAgICAgICAgICAgICAgICAgICAgICAgICAgICAgICAgICAgICAgICAgICAgICAgICAgICAgICAgICAgICAgICAKICAgICAgICAgICAgICAgICAgICAgICAgICAgICAgICAgICAgICAgICAgICAgICAgICAgICAgICAgICAgICAgICAgICAgICAgICAgICAgICAgICAgICAgICAgICAgICAgICAgIAogICAgICAgICAgICAgICAgICAgICAgICAgICAgPD94cGFja2V0IGVuZD0ndyc/Pv/bAEMABwUFBgUEBwYFBggHBwgKEQsKCQkKFQ8QDBEYFRoZGBUYFxseJyEbHSUdFxgiLiIlKCkrLCsaIC8zLyoyJyorKv/bAEMBBwgICgkKFAsLFCocGBwqKioqKioqKioqKioqKioqKioqKioqKioqKioqKioqKioqKioqKioqKioqKioqKioqKv/AABEIAlwEjwMBIgACEQEDEQH/xAAfAAABBQEBAQEBAQAAAAAAAAAAAQIDBAUGBwgJCgv/xAC1EAACAQMDAgQDBQUEBAAAAX0BAgMABBEFEiExQQYTUWEHInEUMoGRoQgjQrHBFVLR8CQzYnKCCQoWFxgZGiUmJygpKjQ1Njc4OTpDREVGR0hJSlNUVVZXWFlaY2RlZmdoaWpzdHV2d3h5eoOEhYaHiImKkpOUlZaXmJmaoqOkpaanqKmqsrO0tba3uLm6wsPExcbHyMnK0tPU1dbX2Nna4eLj5OXm5+jp6vHy8/T19vf4+fr/xAAfAQADAQEBAQEBAQEBAAAAAAAAAQIDBAUGBwgJCgv/xAC1EQACAQIEBAMEBwUEBAABAncAAQIDEQQFITEGEkFRB2FxEyIygQgUQpGhscEJIzNS8BVictEKFiQ04SXxFxgZGiYnKCkqNTY3ODk6Q0RFRkdISUpTVFVWV1hZWmNkZWZnaGlqc3R1dnd4eXqCg4SFhoeIiYqSk5SVlpeYmZqio6Slpqeoqaqys7S1tre4ubrCw8TFxsfIycrS09TV1tfY2dri4+Tl5ufo6ery8/T19vf4+fr/2gAMAwEAAhEDEQA/APon7Bbf88//AB40fYLb/nn/AOPGrFNlljgheWZ1jjRSzuxwFA6kmgCH7Bbf88//AB40fYLb/nn/AOPGq2h65a+ILFrywSYW4laNHlTaJQP4l9V9/Y1o09QK/wBgtv8Ann/48aPsFt/zz/8AHjViilcCv9gtv+ef/jxo+wW3/PP/AMeNEF9DcXM1uu5ZYThkcYJHqPUVYoAr/YLb/nn/AOPGj7Bbf88//HjVis/Wdd0/QLIXOpz+UjNsRQCzSN/dVRyTT1AsfYLb/nn/AOPGj7Bbf88//HjXOxfEPSVlCapa6lo6sCY5NRtTEsmOeDzXR2N5FqOnW17b7vJuYllj3DB2sARn8DRqAn2C2/55/wDjxpPsFt/zz/8AHjVmq00m5to6D9aNQGm1sx/D/wCPGk+zWX9z9WpjuscbPIwVFBLMTgAetU7HWLHUnZLOYsyqH2vGyEqejDcBlfccUCL/ANmsv7n6tR9msv7n6tTaYJ4jcG3EqecEDmPcNwUnAOOuMg8+1AEv2ay/ufq1H2ay/ufq1NooAd9msv7n6tR9msv7n6tTaZHPDM0iwypI0T7JArAlGwDg+hwQce4oAl+zWX9z9Wo+zWX9z9WptFADvs1l/c/VqPs1l/c/VqbRQA77NZf3P1aj7NZf3P1ao3lji2+Y6pvbau443H0HvTqAHfZrL+5+rUfZrL+5+rVAl3bSTmGO4ieUZzGrgsMHB49icVLQA77NZf3P1aj7NZf3P1am0UAO+zWX9z9Wo+zWX9z9WptFADvs1l/c/VqPs1l/c/VqbRQA77NZf3P1aj7NZf3P1am0UAO+zWX9z9Wo+zWX9z9WqOSaOFQZpFjDMFBZgMknAH1Jp1ADvs1l/c/VqPs1l/c/VqbTZZo4IzJNIsaAgFnYAcnA5+tAEn2ay/ufq1H2ay/ufq1NooAd9msv7n6tR9msv7n6tUfnR+cIfMXzSu8JuG7bnGcelOoAd9msv7n6tR9msv7n6tTaKAHfZrL+5+rUfZrL+5+rU2igB32ay/ufq1H2ay/ufq1RrNG8jxpIrPGQHUMCVyMjI7cU6gB32ay/ufq1H2ay/ufq1RLPE80kSSI0keN6BgSuemR2zSySpDE0kzrHGgyzscBR6k0ASfZrL+5+rUfZrL+5+rU2mySJDE8szrHGilmdjgKB1JPYUASfZrL+5+rUfZrL+5+rU0EMAQcg8gjvRQA77NZf3P1aj7NZf3P1aovPi+0eR5iedt3+XuG7bnGcdcZ70+gB32ay/ufq1H2ay/ufq1RLNE8zwrIjSxgF0DDcoPTI7ZwafQA77NZf3P1aj7NZf3P1am0UAO+zWX9z9Wo+zWX9z9WptFADvs1l/c/VqPs1l/c/VqbRQA77NZf3P1aj7NZf3P1am0UAO+zWX9z9Wo+zWX9z9WptFADvs1l/c/VqPs1l/c/VqbRQA77NZf3P1aj7NZf3P1am0UAO+zWX9z9Wo+zWX9z9WptFADvs1l/c/VqPs1l/c/VqbRQA77NZf3P1aj7NZf3P1am0UAO+zWX9z9Wo+zWX9z9WptFADvs1l/c/VqPs1l/c/VqbRQA77NZf3P1aj7NZf3P1am0UAO+zWX9z9Wo+zWX9z9WptFADvs1l/c/VqPs1l/c/VqbRQA77NZf3P1aj7NZf3P1am0UAO+zWX9z9Wo+zWX9z9WptFADvs1l/c/VqPs1l/c/VqbRQA77NZf3P1aj7NZf3P1am0UAO+zWX9z9Wo+zWX9z9WptFADvs1l/c/VqPs1l/c/VqbRQA77NZf3P1aj7NZf3P1am0UAO+zWX9z9Wo+zWX9z9WptFADvs1l/c/VqPs1l/c/VqbRQA77NZf3P1aj7NZf3P1am0UAO+zWX9z9Wo+zWX9z9WptFADvs1l/c/VqPs1l/c/VqbRQA77NZf3P1aj7NZf3P1am0UAO+zWX9z9Wo+zWX9z9WptFADvs1l/c/VqPs1l/c/VqbRQA77NZf3P1aj7NZf3P1am0UAO+zWX9z9Wo+zWX9z9WptFADvs1l/c/VqPs1l/c/VqbRQA77NZf3P1aj7NZf3P1am0UAO+zWX9z9Wo+zWX9z9WptFADvs1l/c/VqPs1l/c/VqbRQA77NZf3P1aj7NZf3P1am0UAO+zWX9z9WpyQ2iNlUGffJqOigC350f979KPOj/vfpVSigC350f979KPOj/vfpVSorq6gsrWS5u5VihiXc7scACgC+0kTKQxyD1BFQG2sifufqaw7bxTYT3EMUkV5ai4bbBJdWzRpKT0AYjqewOM1s0AO+zWX9z9Wo+zWX9z9WptFAF6vO/ir/bPk2Xk+T/Ym9fte/ft3buPN2fN5fTp3/CvRKbLFHPC8UyLJG6lXRhkMD1BFIZx9r/wnv2OH7F/win2fYPK8rz9u3HGMcYxXXW3n/ZYvtnl/aNg83ys7N2OduecZ6Zqloeh2vh+xazsHmNuZWkRJX3CIH+FfRR6e5rRoAKqXf8AaPmL9g+y7Mc+duzn8Kt0UAcxqf8Aaf2y23fZPtm7939n3b8e+eNv1/xrpY9/lL5u3ftG7b0z3xUMFjDb3M1wu5pZjlnc5IHoPQVYoAK4/UvL/wCFs6T/AGjj7P8A2fJ9i39PtG/5se+zFdhWfrOh6fr9l9l1ODzUVtyMCVaNv7ysOQaAMPx/pGk6hopuvEOpX1rY2vzGG2dAHboOCpJbnA5/rXQaRbxWmiWNtbiUQw28ccYmGH2hQBu98daxLTwHpkF7Fc313qOqvA26FdQujKsR7ELwPzzXT0AFUjV2q00ZViw6H9KAOX+IF1LZ+AtUlt22u0axk4z8ruqN+jGuB8EeLtb1nx5p0WpXgmQxzRY8lF+Upux8oHeNfy9zXrtxbQXlu0F3DHPC/wB6OVAyt35B4qpa6FpFjcLPZaXZW8y52yRW6IwzweQM0xF+uH8R6lc2HjgRW0os1u7KGGTUHUMlqDLJg45G4nCqW+UEjPZW7ioJ7G0ufN+02sM3nReTL5kYbzI+fkOeq8ng8cmlbVPt/kPo1/W5xuv67qNjq8b6dd6jNBbXtrZ3A8q1FsGd0DK5bEpcrIDmP5QSoxw1Mutb1NtNbWYtba3zrC6eLDyYjGFF0IiMld/mFQSTuxgnA6EdSfDOhG7jujounG4jVVSb7Im9AuNoBxkAYGPTArJu/Bv9oeIv7Ru20pY/PSVmt9L8u6lCMGRHnMhyuVXOFGdoHFUrXV+/+X/B/rddP6/r+vuzdT1rUzpmp6xBrbWX2TUfsKWRhiMeBMqfNuXfvYHIIYDDL8p7x3mp3+n3Opw6ZHcNJe695Dva+T5qL9lRvk84iPcSoHzZ6ngnFa2p+Djq2v8A266bSkhMiMzxaWBeOi4IQ3BkPykgA4QfLkDHWt+40rT7y2uLa7sLWeC5YPPFLCrLKwxgsCMMflXk+g9KlaL5W/Ff5A9/n/n+VzEsNX1Kw8N3T6zBN9vhWd7WC7eAXF0iLuBIhYpnnadvoDgZqlcXmo2HhyLUF8S/a21E26iZ4YfJthLIqmWMKoJUB+N7P/DknnPTWejaZp0cKafp1papBu8lYIFQR7vvbQBxnvjrUcHh/RrUXYtdJsYRegi68u2RftAOc78D5up656mn1v6f18w6f1/WhzOpahrOjpqtjBrD3ssKWksN3dQxF4Wlm2FGWNUUrhcjgHk89MRalP4h0yHXX/4SCaWPSEjuYC1tDvnBXLRykIBt+XA2BWGeSa6210TSrGxNlY6ZZ21qz+YYIbdEjLZB3bQMZyBz7CrEtlazrMs1tDItwu2YPGCJB0w3qPrR1AyrydptWlmSPzU0q3aUIB96ZlOAD6hQf++xTIL2a00b+1Z9Ta+Mtt5qW4RApc4wE2jdjJC8k9RzWvaWcdn53llmaaVpXZzkkn+gAAHsBVZtB03z1litIoH84TSGGNUMrDJG8gZIyd31Ao/r+v66B/X9f11Ma7mvNDtDawTgNHpVzcuwQfNOCp38j1ZjjpzUjXGrW1y1uuorPJc2DTRG4jRFilDKBgqPunf0bJ4HJroJbW3nJM8EchZDGS6A5Q9V57HHSklsrWcET20MoMZjIeMHKHqvPY4HHtR/X5/8D7g/r8v+D95yl2097DZRPqGoR3EOpxpIs0cHmRkrkcqpQ8cjH97n2s3erXcWtQNbXF3LatfJauGjhEOT8rL/AM9CwPORxx6VujStOFibIWFqLQnJt/JXyyc5+7jHWk/sjTftn2r+zrT7RkHzvIXfkdPmxnjA/Kmt/wCvIXT+vMybS/mk0t9Zu9WaCPEu628pGSLbuGMY3lhjJ+bnB4Hag+sara2+sRNNdLLb2kc0LXiQF0LMwPEXykcDrz1rpzpWnm6kuTYWpnlUrJKYV3OCMEE4yRimw6PpltFJHb6daRRyDDokCqGHoQBzSGzIjs7iLxnAZNSupyti7EMkQ3fvF+XhBxz9eBz1qbU9Sv2s4fIt7jTJJLuGHfOInyrNg4Csw/PFbEtpbTzxTT28UksJJikdAWjJ67Sen4U+SGOYKJY1cKwddyg4YdCPehbL+utw6v8Arocu91q1qtzLJqbyrZX8VuFMMY85HaPO8heoEmAV29Oc0681e7j1uB7We6e1a+W1cFIRBz8rKM/vCwPORxx6V0bWtu6uHgiYSOHcFAdzDGGPqRgc+wqE6TpzXpvDp9qbokMZzCu8kdDuxnsPyoXT+u3/AAQ6M5i7ub5/Do1C4mmvXGpKI7ZURRhLjAAwASSAByank1XUXt9OWC6lumv2kd3s0hVotoH7pBLgcHOd2W+VuB26b7JbCIRC3i8tX8wJsGA2d27HrnnPrUMuk6dPHKk1hayJM/mSK8KkO3948cn3oW1v66A9/wCvM58RajcavoTahPcWs6+erJiElgvRjgMAWXGQDgdsVZ8R3k0vh+7ElnNZCOSLbNcGMo371ecK5OO/OK2P7MsPs8MH2G28mBt8Ufkrtjb1UYwDz1FTzQxXERjnjSWM4JV1BBwcjg+9AGBNfXOm3N5az6lLcKLZJFlMSGSKR3KKoCgKcnGN3cHJIqpBqGszC9s0luRNBcxACX7MLkoybmVcfui3GRntn2rootJ06C1ktYLC1jt5f9ZCkKhH+oAwaZ/YWk/Zjb/2XZeQWDGL7Om0kdDjGM8n86AOXutXkTUbG4trlsT2TRPe3MYH2f8AegFnVQBkEY7Lnk8Vcvb7Wm1O7tdOF5M1kkfl+WLbbMSucy7yGwTx8gHQ/QdH9itNoX7NDtEXkgeWMCP+5/u+3SoZdE0qcRCbTLOQQqFiD26nyx6LxwPpTAytKS4t9Y1648y6uiJ0xbDyhkmJDwcLyBxy2MDueal1PULqSOCKBdQs7l1eQ28K27SbVwNxZ2KBckcA5OR6GtgWlst412LeIXLLsMwQbyvpu649qZd6dZX+z7fZ29z5ZynnRK+0+2RxUvawI5uxv9U1lbbZqLWe/S47ljFDGxMhLDPzAjHHT6YI7w3+v30mgx3tpPcrcR6el1MlvHD5aFlJBcyHJBweE5GD6iusis7aDHk28Ue1BGNiAYQdF+ntUE2i6XceX5+m2cvlJ5ce+BTsX+6Mjge1V/X5h/X5GEbye1vtTv4mxHFc273CYB3RmJQ3Pbbnd/wGnTX2qT2ovIbmYWssksoS1EPnLAoAVlEgwyn7x6n5lx6Vs6jphu7OW3tXitRcfLcOIQzOmMEA5GDjgE5x6VJNpOnXMEMNzY288duAsSzRK+wYxxkcdBS/r+v67gulzDl1LULqW4i026Mi7bV4yixrI6sGZym8bdxAzhuMZ6VN9oXVrXTbJZpJxNIZbhpowH2RNyrBQFzv2qccHnFbFxptjeK4u7K3nD4LiWJW3Y6ZyOcZOPrSW+nW9rdNPAu0mJIVQABY0XOAoHQc/wAvSn1F0OfudT1C0XUWnu5hMbe4ktAiRPAwTkFSBv3KMZD8E5xml17UZJLa5tVnVo5NEnndBg5OFCt645b2roINNsbWeWa2sreGWbPmyRxKrPk55IHP40yHR9Mto3S3060iR1ZWVIFUMGxkHA5BwM+uBU20/rzKvrf+uhhTXt9p0A8vUvtfnadLcAeWgEJVQVZMD7pzjDFu3PXKqdZe48k6zIFksPtW9YI9ySZxtXK42c9DluPvVvQ6Vp9sJhb2NtELgYmCQqvmdfvYHPU9fWphbwhgwijyE8sHaPu/3fp7U3rf+u//AAPuEtLf12/4JzZ1fU7qG2+yyxRzXOlCdVbaF80sg4JHX5iADxkjND31/JZqttdXzPBM4u0K24ukAUHABHlsBuBJHOCO+RW++m2MsIiks7d4xH5QRolI2cfLjHTgcdOKjfRNKktY7aTTLN4IiTHE1upVCeuBjApv+vvBf19xhXOu3I8/7LeAwvFZiO4eMARiVmVpCMDtg4PAOOOtO1C/1LTVv7WHUGuHiS3kjuJo0LRl5NpVgoUEYGRwDyeeldG9rbyebvgibzk2SZQHevPyn1HJ49zUUOmWFtam2t7G2igZt5iSFVUtxzgDGeB+VHUDEln1a3uNQsIb9rmREglhklWJJAHZgyL8oQthDtyOp54rW0a5+06dlpp5njkeOQ3CIsisGIKnYAvHTI4NT3Gn2d2sgurSCcShVkEkYbeAcgHI5wSSKlgghtYEhtokhiQYWONQqqPYDpSBj6KKKACiiigAooooAKKKKACiiigAooooAKKKKACiiigAooooAKKKKACiiigAooooAKKKKACiiigAooooAKKKKACiiigAooooAKKKKACiiigAooooAKKKKACiiigAooooAKKKKACiiigAooooAKKKKACiiigAooooAKKKKACiiigAooooAKKKKACiiigAooooAKKKKACiiigArG8U20s+kxPDC1yLa5iuJLdRkyojAlQO5xzjvitmigDz7Xtds7vQ7m3i1qa/eYKuxrYKLT51PmuQgK7cd+9egI6yRq8bB0YAqynII9QaHRZI2SRQ6MCGVhkEehFVtN0220mxW0sVZIEJKoXLbcnOBnoOelAFqqWq2d3e2JisNRk0+bIImSNX/Ahv/rVdooAvUUVkXHiSztvFVpoEkc5u7qIyo6qPLAAY8nOc/Ie3pUuSjua06c6jagr2TfyW5r0VyP8AwsjSP+Ec/tr7Ne/Zvtf2TZ5ab9+zfnG7GMe/4V11TGcZ/CzSthq1D+JG26+7f8woqOW4hgMYnljjMrhE3sBvY9FGep4PFSVZzhRRRQAUUU2RikbMqM5UEhFxlvYZwPzoAdRWAnjCxkjVxEwDDIDXNupH1BlyPoa1NN1BNTs/tMUTxxlmVd5U7sHBIKkjGQe/b0rmp4qjVlywd2dFTD1aS5pqxbopks0UCB55EjUsqhnYAZJAA57kkAe5oE0ZnMIkQyqocx7huCkkA49OD+VdJzgYkP8ADR5Mf939afUcU8NwrNBKkqqzIxRgQGU4I47gggigBfJj/u/rR5Mf939aIZoriBJreRJYpFDI6MGVgehBHUUSTRw7fNkVN7BF3MBuY9APegA8mP8Au/rR5Mf939afRQAzyY/7v60eTH/d/WvO7z4rXlpo51j/AIRG9k0sztCt0tzGQSHKZI6qNwxk8Vo3njnWtLhS41fwbdWloZo4nm+3QvsLsFBwDk8kVn7WJ2vA11ul23W/bfc7PyY/7v60eTH/AHf1p9RQXMFz5n2aaObynMcnluG2MOqnHQj0rQ4h3kx/3f1o8mP+7+tRf2hZfYxd/a4PsxYKJvNGwkttA3Zxndx9eKh1HXNJ0doxq2qWViZQTGLq4SPfjrjcRnqKALfkx/3f1o8mP+7+tVL/AFvStKiik1PU7Ozjm/1b3FwsYf6EkZ61LealY6fZ/a7+8t7W24/fTSqic9PmJxzQBN5Mf939aPJj/u/rUEep2E1nDdw3ttJbTsFimWVSkhJwArZwSTxx3pLvVtOsLm3t76/tbae5bbBFNMqNKcgYUE5Y5I6etAFjyY/7v60eTH/d/WmC9tWh81bmExmTyt4kGN+7btz67uMevFR6hqdhpNuJ9UvbayhLbBJcyrGpb0yxAzwaAJ/Jj/u/rR5Mf939aiXULNo7Z1u4Cl3j7OwlGJsru+Tn5uATx2Gae91bxsVkniVgyoQzgYZvuj6nsO9ADvJj/u/rR5Mf939ajuL60tFla6uoYRCnmSGSQLsTkbjnoODz7VKZYxIkZdQ7glVJ5YDqQO/UfnQAnkx/3f1o8mP+7+tPooAZ5Mf939aPJj/u/rT6848V/FyPwv4mutHbRmuTb7P3ouQm7cgbptP97HWqjGUnZEylGKuz0TyY/wC7+tHkx/3f1ryP/hfkX/Quv/4GD/4ivSPC2vDxN4ZtNXW3NsLkMfKL7tu1yvXAz0z0qpU5xV2iY1Iydkankx/3f1o8mP8Au/rQJozOYRIhlVQ5j3DcFJIBx6cH8qfWZoM8mP8Au/rR5Mf939afRQAzyY/7v60eTH/d/Wn1Ut9X027vprK01C1nu7f/AF0EUytJHzj5lByOfWgCx5Mf939aPJj/ALv60+igBnkx/wB39aPJj/u/rRBPFcwJPbSpNFIoZJI2DKwPQgjqKfQAzyY/7v60eTH/AHf1ohniuIy9vKkqBmUsjBhuBII47ggg+4p9ADPJj/u/rR5Mf939afRQAzyY/wC7+tHkx/3f1p9FADPJj/u/rR5Mf939aoa/r+n+GtHl1PV5vKt48DgZZ2PRVHck9q8p/wCGiI/7Z+yf8IjqHl+b5efN/fZ9PL29fbdT1Eey+TH/AHf1o8mP+7+tUdB17T/EujxanpM3m28mRyNrIw4KsOxB7VLqOs6Zo6xtq2o2lishIQ3M6xhiOuNxGaQyz5Mf939aPJj/ALv61HZX1pqVqt1p11Dd2752ywSB0bBwcEcdanoAZ5Mf939aPJj/ALv60+kJCqSxAAGST2oAb5Mf939aPJj/ALv61Sstf0fUs/2dq1jd4YIfIuUfDHOBwepwePY1oUAM8mP+7+tHkx/3f1p9UtR1rS9HEZ1bUrOxEufL+1TrHvx1xuIzjI/OgC15Mf8Ad/WjyY/7v61HZ3trqNol1p9zDdW752TQSB0bBwcEcHkYqegBnkx/3f1o8mP+7+tPpkM8VwrNBKkqqzISjAgMpwRx3BBBFAB5Mf8Ad/WjyY/7v60JNFK8iRyI7RNtkVWBKHAOD6HBB+hFPoAZ5Mf939aPJj/u/rT6yPFWvjwx4Zu9Ya3NyLbZ+6D7N251Xrg/3s9KaTbshNpK7NTyY/7v60eTH/d/WvI/+F+Rf9C6/wD4GD/4itjwn8XI/FPia20hdGa2NwHPmm537dqFum0emOtaOjUSu0ZqrBuyZ6J5Mf8Ad/WjyY/7v60skqQxPLM6xxopZnY4CgdST2FJ50YZFMibpASg3DLfT1rI1DyY/wC7+tHkx/3f1p9FADPJj/u/rR5Mf939afRQAzyY/wC7+tHkx/3f1p9FADPJj/u/rR5Mf939afTJpo7eB5riRIoo1LPI7BVVRySSegoAPJj/ALv60eTH/d/WnghlBU5B5BHemRTRToWgkSRQzISjAgMpwRx3BBB9xQAeTH/d/WjyY/7v60efF9o8jzU87bv8vcN23OM464z3p9ADPJj/ALv60eTH/d/Wn0UAM8mP+7+tHkx/3f1p9FADPJj/ALv60eTH/d/WsvWvElpoV9plrdxzO+p3At4TGoIVuOWyRxz71r1Ti0k31Emm7DPJj/u/rR5Mf939apxa9o82pnTYdVsZL5SVNqlyhlBHUbM54+lX6kYzyY/7v60eTH/d/Wn1Be39pptq11qN1BaW6kBpZ5AiDJwMk8daAJPJj/u/rR5Mf939aIJ4rm3jntpUmhlUPHJGwZXU8ggjgj3ohniuFZoJUlVWZCUYEBlOCOO4IIIoAPJj/u/rR5Mf939afTJJ4oWjWaVI2lbZGGYAu2CcD1OATj2NAB5Mf939aPJj/u/rT6q6hqdhpNuJ9UvbayhLbBJcyrGpb0yxAzwaAJ/Jj/u/rR5Mf939aRLiGWQpFNG7hVcqrAkK2cHHocHB9jUQ1KxKswvbchd24+avG1tpzz2bg+/FAE3kx/3f1o8mP+7+tPooAZ5Mf939aPJj/u/rT6KAGeTH/d/WjyY/7v61w/iH4mxeH/EVzpUunrIYCmJGudm/cgbgbD0zjrWToXxz0jxBO8FnYyLKm47ZJCNwBxkfLUuaQ0rnp3kx/wB39aPJj/u/rVbSdQGq6XDeLH5Ylz8u7OMEjr+FO1DVNP0mBZ9VvrayiZtqyXMyxqT6ZYjng1V9LiJ/Jj/u/rR5Mf8Ad/WkjuIZmZYpUdlALBWBIB5B/GpKAGeTH/d/WjyY/wC7+tPooAZ5Mf8Ad/WjyY/7v60y7u7awtXub64itoIxl5ZnCKo9yeBSWV9aalardaddQ3du+dssEgdGwcHBHHWgCTyY/wC7+tHkx/3f1p9FADPJj/u/rR5Mf939afRQAzyY/wC7+tHkx/3f1p9RXV1b2VrJc3s8VvBGMvLK4RVHqSeBQA7yY/7v60eTH/d/WnI6yRq8bB0YAqynII9QaWgBnkx/3f1o8mP+7+tPqK6uoLK1kubuVYYYlLPI5wFA70AO8mP+7+tHkx/3f1rkJvifo9uIprix1WKxmfZHfPabYX9wSckcZ6Z9q621uoL21jubSVZoZVDJIhyGB70AO8mP+7+tHkx/3f1p9ZusawukJG7xq6uGJZpNgUDHJOPesMRiKeGpOrVdor576dC4QlOXLHcv+TH/AHf1o8mP+7+teZN8dNGNzKLXSNUvLSAKZ722gMkUQbOC2Buxwecdq6/wd4wsvGuktqWlxuttvKIz9WwxUnHplePasoY2jOShFu78mul+q00XUbpSSuze8mP+7+tHkx/3f1qG/wBSsdKtvtGp3tvZQbgvm3Eqxrk9skgZqG413SbSzgu7rVLKG2uceRNJcIqS5GRtYnB49K7DMueTH/d/WjyY/wC7+tNN3bhZ2NxEFt/9cS4xF8ob5vTgg89iDTbm9tbK0a6vLmG3t1xumlkCoMnAyTxySKAsT1hXc2oL42sYotWsorFoCZNPd18+VsP8yjbnHC9x901u1Ql0TT59bg1eW33X1uhjjl3sNq/NxjOD95u3ek7mdSMpJW7owrN/ECeHSb3X9NkvPtXFyrL5fl7PufcA3ZyenTvXWVn/ANg6b9j+yfZv3HmeZs8xvvYxnOc9K0K56ft5VZVaySvbSLdk9b2Vlb5b9ToapxhGELu19Xv831ON8VveajqUllYaXdXxs7bzI5IGhAhumOY2PmSLyoXPGeHqpqHit7iaSaDXhpitp8NzZ2hijL3EzGTMWGBZuVVSi4bPQjv3tVo7GOLU575WfzZ4o4mBI2gIWIx7/Of0rp6WIv8A19xyEviC8/ty5hOsrFeRXsMUGjhIyZkZIi4PG9gNzncpAXBJyBitLwxq0l7q2p21xqf9oSwuSfIkhkt4QXYBAUUOrYAysmTxwTya3bWxjs5ruWJnLXc3nPuIwDsVePbCj9as0dhBRRTZFLxsqu0ZYEB1xlfcZyPzoA4C88Ftqd3c32mOsds0hMcb9Xwfm29gM5xn+VdtpK2yaTbLYgrAsYCBuo+vvnr71Xg0iW2t44INWvVjjUKi7YTgDp1jq1YWQsLcwieWYF2fdLtyCxyfugDGST+NeVg8HHD1HOMLOS1238tdt/wPTxWKlXpqEp3S23289N/+CZ/iv5fD7SkEpb3NvPJgE4RJ0djgeiqT+FYl5rS3d1qupeG7+CdY7W2t1u4sTRLIZmyuQcMQrgkA5GR0yK7SivV/r9Dzb6WOD1ZruKYQ6j4huI4LDVIT9tdLdCqvF0cmPZwxwDgfewcnFSfaprnW9Hu77V5LZRe31sgxEqSlZiqR5ZcklVxgEE445ya7iilbRrz/AMv8gbv/AF6/5nmMGt6ta2GgWVnqWn6ZENMtXh+3XawLdORhlw0L7wMKMIyMN3XkEaVzqjXeu28VxrY+1LqwQ6Psj/cxqxCvgDzBkBW3Fip34A5Fd5RVXvK/nf8AG4PW/mFFFFIR4I3xCXwz4N0i0sXs79mvb2PUdOl5zG0rkFuMr1z71b8UX+h3VpCNPufDtzP9qtgr21xI1wP3y5Cg5GMe/TNehHwM3GNSOFwAPLccDGOBIB2GcAZ59TTh4JbzHZtRz5gKsPLc4BOTgGQgH8OK5fZytZ/1+J7v12gpqSVtW3q9bu/8vQ6yuCtmurG4vYrLzP8AidXtzbq6AnyZhKwL9CB+73Hnj90B3rvaK6up4d9LHnsY8/RbHRINLuNQtVa7eeG1aJSiCWSOMHzHQYySRg5ygq1ZeJrKHU9Ku9fvbfTpv7Ont5xdzJHiZJY1deTgnKk8E8dK7iijrf8Arqv1JavG39dzzx7oaRJpE0eoWOg28hvTbnVIcIkTSIVQIZEKkjkAngcYHQdB4vuxBodldLf2lqovIGF3cDdCoz94/MuR/wACH1ro6KO3lb8Cm7/j+JwusXs2vpb2dnEddSOzeZ7vSjEqJM+UidfMlxxtkOAzEECibxBao9vq8d5arf3ltFFdaPcAGS4KuwKRc53qzSDADAkYwPvV3VFMRzaWLjxu8Pm/6EqDUBDj/lucx/8AfOAWx/eOadqV9ZaT4tS91ueK1tWsxFa3NwwSOOTeTIu88KzDZgcEhD1xXRUVK0t5f1+Q77/1/Wv5nAyWMGsXVqLZmisrvVZp7KVExtP2YnzUB4I81WcHGG68g5JcaurQXdzqzR2clpqdjHeGRgiRsrrlsk8KRhgSehFd9RT6ryt+BLV079b/AInE6zd2eqNq1xZXEF5ay6ZAFkhcSI486QHkcHuKmhuV0PxBBp1+7Lb2FpcT28xUnNsNnHHUpgr642nqa7Cil6FX1u/66FBNb0+S4EKXGZDIsQXY33mTzFHT+7z/APXq/RRTEFeA+PE0p/ih4lXWSoP2FDalpWQed5UeOQDzjdgHgnjvXv1ea+LfhD/wlPii61j+2/sv2jZ+5+yb9u1AvXeM/dz0rajJRlqzGtFyjojzrUbLwSYXisr2MeRZymGUTNull3kpvGwEsVxwOF9SOa9g+FP/ACTHSP8Adl/9GvXF/wDCgv8AqZf/ACQ/+2V6Z4V0H/hGfDFppH2n7V9mDDzvL2btzlumTjrjrV1ZxcbJ3IpQkpXasZeu3N1Z6vqU1hKsNwLC1VJGTeFJnccjuOfb8KgF3rFpfzeZrM1xFZ6pBZ7JIIh56SrGSXKoOR5ny7dvQZ3V2VFcy0f9d7/8A6nrf+uljzmz8XalNc6m9nfpdQmzluIY5HSaSzZXUYkjjiQqQHJKFnb5evrJP4lvIIdSGkeII9XtoorUrfSmJVg8ySRZHMkcZTgKvJQhccg81388bS28kcczwMykCWMKWQ+o3AjP1BFU9M0kac80st5cX1zPtElxc7AxVc7VwiqoAyeg7mjpb+twfUxtPuNU1HwHfNHqFrqF60Uy21zZXKzBjtO3LqiLuB44UDgUg8R6BD4blGkXEatY2pP2e2CCazGMfMjA+WQeu8cYOQcGupooetxLoecWXii/eyjS+8RW0MA1I276nFLFMvlG2Mn+s8pI8hv4tmB0Oec3bW6mudb0G8vNbkWJvtUEExWFFvQHXYeU5LqP4cZ25XANdjc2Md1dWk8jOGtJTLGFIwSUZOfbDGrNDDoeff8ACS3baVazXviH+z7s6bBcW1v5Mf8AxMJWTJGGUl8sAuyLawz1+ZcaT6hq/wBunu3v2jht9Tt7X7CIoyhSRYgwZsbiQZCQQR75HTr6Kd9b/wBb/wBIb1OK/tDWdQ81IdXezEUN3LujgjZmaO4ZEHzKRt2jBGMn1B5NXUfE10GnmfXF066VIDa6aI42+0o6KWkwyl25ZxlSAuzJzg139Zl9ox1C9SS41K8+yqysbFRGInKnIydm/qAcbsHGMYyKS0/r1/4YHrr/AF0/r5jm1/TEdla5wUaVWHltwYxl+3Yfn2zV+ORZYkkjOUdQynHUGnUUCCiiigDyT44b/wC1PBhuY5pNKXUi94sQJOBsPQc/cEh/OvShrmjnSP7WGo2Z0/G77WJl8v8A76zina1otlr+mtZaijNGWV0dGKvE6nKujDlWB5BrCv8AwFBqfw9k8KXl/K8UrhnulhjRyBL5n3VAXPGM496YjjvgZMtxqPjObTt50aTUw1kWJwclyev+z5f6V6L4u/5E/VP+vZ/5VN4f8P6d4X0WHStGgEFtCOBnLMT1Zj3J9a0qOoW0scTNrmrN49NiNS0+zhiuEjSyuLtY3uYioJdYzCWc5LAFZAMrgjg5dBqOsx28N3NrMZ+1xXYC3EUaQW5TcUckDdwF+bJIPXArtKKnpYrrc4K38Sedp9qLrxLNZWrSypNqsjWrq8ihCqRyhPKKHc5BK7jsI4IIF2wv9U1OSIT3zxwJYNMwSFB9q/eOqucglQygNgY6jBA4PYUUSV1/XYE7f15nF6bHqEfhzwydQubadTLbGEQWzRFF8luGJdtx6cjH0qC01vUb4LHpuvC71O4hl+02HlRAac4QkfKF3rhwExIWznNd3RVN3bfdkxVkl2/4P+ZyFhr+o6hqlusbbbfUmWe0BjGY4Y8iUE47kJz1/ecdKva1JfyeEb86pbW1tLwFW2uGmUrleSWRMHrxj8a6Gil0Gcn4k8SnRbjVoZb+O1k/s5ZdPSTbmSXMm7YCPnIwmRzjjjmqU95Jper+IX/tuSGR54HdJEib7PCyxq04UKDheRubKjGWBwa7migdziYdVvryS2tNN197u0m1AQJqiRwu0ifZ5HZQQvlsVZR8wXHYgkHNHXfFOoWmlKItVFreie+MbzSxQpMsUzIsYzE5d8bcIoUkZ+bOK9EooYXX9fM5nRNUt4tT1M3T+XJe38YiUKTub7HE5HHThWPPpW1YatZamqmxm80NBHcD5GXMcmdh5HfaeOvHNXKKbaYugVx3xY/5Jfq/0i/9HJXY1j+LNA/4Sjwvd6P9p+y/adn77y9+3a6t0yM/dx1pwaUk2TNNxaR4RYweCgI55pYQ62Ef7mWd2DTGNxIWGz7wfZhcgYOc8YrS8BW2k23xU0AaJcedG9o7TAyFykvkvuBOAPfj+dbX/Cgv+pl/8kP/ALZW14S+EX/CLeJ7XWP7b+1fZw48r7Js3bkK9d5x1z0rrlUhZ2ZyRpzuro7bxJ/yKuq/9eU3/oBrDk/t6znsp7m5sr5ktJ2t4bexeJi4jBAJMr5z0wAK6+iuG253X28v+B/kcLDr90Ukk0nxB/bkUVsLu6YRxf6OUdCYgEUbS6GQBXyw29etaWkatqd5rSWlxKNjFr4ERAD7Ky4jQn+9uJPr8nvXUUVX9f1+H9MXQ4nVrqbS/FesXEeqyRSvYW7R27pG6rH5jq8gULvYRgluv8XORgDV8Naiby7vYbfV/wC27GJY2jv/AN0fnbdvj3RKqHaAh4GRv57V0NFJA9ThofEF22tWyDXBJdy38sM+jiOP9xGqybOAu9SdiHczEHPHBFZA1XV9c8K60b3W7Mj7AZZra2uo5J7RwclDGYFMa43Ahy7DA+bgk96uik6st9d6jeXYidpLe3lEQjgYgrldiKxwpIG4twT35rToWgS1Ob1/V1sPCltNbauT9oZI4tTM0MaHIzveQxtGqkDGQh5IAAzUFprd/L8MbvVHnQ30FrclZ0wwLRlwrfdUH7oP3QD6DpXV1S1bTF1eyNpLczwQOcTLDt/fJjBRiynCkdcYPuKY1ZNPsczf67PFrM8Y1vyb2KeNLbR/Lj/0pCFy2CpkbOX+ZCFXbyPlbNbQ9TeLVhbWusrNO2rXaSaSqJ8sRmlJlPG8YPO7O3ouMnNd506UULT+v6/rYX2bf11Oa8Q6pqFpc3cVjcLCVtInjLRhwrtNtJI6kY7Z/LrUum6k9hqV1puq6lJdt9pWO2lmiUO2YfMKny1C8bXIOBxxyevQUVKul/XcfX+uxTsNWstTVTYzeaGgjuB8jLmOTOw8jvtPHXjmrlFFMQV43eXOseK/FniGIx63KmnTG2tYtMu44FgIyA7BmBYkrn8/avZK5bWfh9o+sau+p+ZeWF5KoWaaxuDEZQP73rXTh6kabfMYVoSmlY5k6d4m1Cx8FPr1jM1/Zalm6YYfagPDsVyOgHNen1gx+DtMhtNLtoGuo4tLl86ALO3zNnJ3E9RntW9U1qina3n+ZVODje/l+Rwcmpabc6PqWjRXME+rtqNx9ntI2V5o5fOYpJt6qF4bccAAZzQ+v3t34zk0611QrbzPNavbGWIzW7LGxDiLycqCUypd2DA/d5GO8orntpbyNm9b+dzytvEs+leFdIj0vXg89vYLM63E8CLPjgwqBCzOyFSCqlCARlsnI7fxO1pFb2d5darb6TLbT+Zb3N2AYQ5RlKuCV4Ks3RlPoe1btFU3cXU4yDxD9sutPW+1NfD8E0KyQqhjC30hkZWVWlQ5XAUjbhiJAaz9W8SaxGkMaapZ6dG1xeD7Xd3CWykx3DIke5oZFPy9sBjjOeDXodFIfS3ocY2pa0Lm5u5NTUR2uoWlt9lgiQxSCVYA/wA5XcRmUlSCD65GAINKvJ9Om+yw6yZ5X1m5juIrgRfuV8ueRdwVQVDFVbJ7DjAruqKf9fl/kF9Lf1s1+p5yNSbUdFsri68ST4tNTjW4v45bR7fJQ/ckWPbtycDcA2W5HIrpPFE9rYTWWoSavZ6XdwrIsD3+PIlDbdyHJGCcAgg54PBGRXRUUv6/BL9Bdf68/wDM4L+2Z18QxTMraLZXVhZvcXDKp+zEmUrCQwwuSdu8jAxjgsCG3l3New3kty+9xbXEecAfKt5tUcegAFd/RTe9/X8rA9Vb0/A5Gw8RpB4h1SLU9X+0pAWbZbPFLBbr5gVVYIvmpJyAQxIPJB4IXoodXsZ7r7PFPul8ySPbsYfMmNwzjtkVcopdA63CiiigD52+Mvie20nx7ParapcvIYRK0mdseEBwMfxbTn6YrJ8K6toNjrN9a6RpA1BXXdHcwE5mkPC/KRnbuIB6ete96l4LstS1S5vZfKD3By4MO7J8sRk8nGdoA6dKxtF+EehaBqUV7p2Y5IiCowx6fVjWMve3j+JcFyJ8r33Om8K6bdaR4Ys7LULpbu5jVjLKsYQEsxbAA7DOB64zVK61DT9I8YXF1rs8NmklpHHaXV0wSPG5jJGrngMTsJGckBeu3joYYzFEELFiO570+tI3SRL6nF3+oiy1C8kgvRpdnM9qkt75YH2aMxuQfnG1csFXLDA3dKqXfiS5gsbeY6/vsluZEjuIHtludRQBNpiV02SYZmUhApOAV5+U9/RVLRiOTHibGrJpbX8Yv/7VMT2uF8wQFSykrjIXG35vfGc1lXuta3a6FptxJrMUI1BnMl3cyRWsdvt+6gcwyKNwz94HJBwV6V6DRU20t/XT/L8R31v/AF1/z/A5jVp7ubwFbzyPaXV27Wrb4JT5MreamCHC/dPqF79KhkttXtru333cenXGsagzXAswJhGq25ACtIgyx8tTuKj0wcZPW0VfW4dLHG2muTya5HGut+fetdvDPo3lxjyIgWw+NvmLgBW3sxVt3A+ZcZum+KNTk0aO7stXXW79tMee5shCmLWQIpTIjXcpJyCrE7uSoAGK9EPNVtNsYtL0u1sLdnaK1iWFC5BYhRgZxjniktg0OK0vV9YvbJEj8RWN0s99FCtzZXMV3JErKxZSRDGoPAK5UkHOcjipba5l0XVtbuJNblmS21COW7tphCCIGhRfMwqBgATnPTEfrnPc1T1PTU1SBIJ5pkg3hpYoyoEyj+Bsgnb64Iz0zjIJs/68v8vxF0/rzMye91K08GvfXEhS7YeazNDu+zI75+6MZ8tD+O3muevLmbVbN7ex8RzahZw31i0epQi3Yl2mw0e5Y9h24RuFyCwByOK9Aopre4dDMbxDpcSsHuz+7E24mNv+WP8ArO3bP49s1pKwdFZTlWGQaWikAVxXxTne28LWs5t2ubWLUIXu4A21ZIhk7WPOAW2j64rtaiurWC9tZLa7iWaGVSrxuMhge1AHkkltH8WvNuY4LnSbu1jURGWTzLZkBOcfKMNzXVfCqGS28KXMBnNxbxX8qWs2CFkjG0bl9i24/nUyfDbS4o2to9S1dNPZyx09bwiAgnJXGM4/HPvXV2trBZWsdtaRLDDEoVI0GAoHamIlrzL47i5PgE/ZN3+uj87b18rzY934dM+1em1m6vpA1ZYlaUIEDAgx7gwOOCM+1efmEKs8O/ZR5pJxdtr2kn19Dei4qfvOy1/I+ffhX9q+y+ITYGJboJB5TT58sNtkwWxzt9cV6f8ABa/XUvB0lylrZWgNxInl2KlYTtkcblB9cZ/Gqp+BPh77RKyXuoR28wUS2UVw6QSAZwGUNkjk8E967Dwh4RsvBmlvp+mOxti5dVYfdJYsR9MtwOwrycPgaqx31iUGrtPpouRx6Sd9bdDedWLpcif9X9BfFDXSPo7WEMM1wNQGyOaUxof3UnVgrEcexrFvo4/DMEF5c6pp1nqZW4c21z/qbhZJPMeGMnDbt2AGGeuShyAO4or6Q47/ANf16nC3urWVna+JLO9lWzvNSRZLO0l+WSbfbRxqqL1Y71K4XODVj4lqyfC2/VuGVYAfb96ldlRVJ6p+n4FQlyyjLt/wP8iL7Qn92T/v03+FH2hP7sn/AH6b/CpaKRBF9oT+7J/36b/Cj7Qn92T/AL9N/hUtFAEX2hP7sn/fpv8ACj7Qn92T/v03+FS0UARfaE/uyf8Afpv8KPtCf3ZP+/Tf4VLRQBF9oT+7J/36b/Cj7Qn92T/v03+FS0UARfaE/uyf9+m/wo+0J/dk/wC/Tf4VLRQBF9oT+7J/36b/AAo+0J/dk/79N/hUtFAEX2hP7sn/AH6b/Cj7Qn92T/v03+FS0UARfaE/uyf9+m/wo+0J/dk/79N/hUtFAEX2hP7sn/fpv8KPtCf3ZP8Av03+FS0UARfaE/uyf9+m/wAKPtCf3ZP+/Tf4VLRQBF9oT+7J/wB+m/wo+0J/dk/79N/hUtFAEX2hP7sn/fpv8KBcxnoJD24ib/Cpait/9Uf+uj/+hGgA+0J/dk/79N/hR9oT+7J/36b/AAqWigCL7Qn92T/v03+FH2hP7sn/AH6b/CpaKAIvtCf3ZP8Av03+FH2hP7sn/fpv8KkLAdaTzB70AM+0J/dk/wC/Tf4UfaE/uyf9+m/wp/mD3o8we9ADPtCf3ZP+/Tf4UfaE/uyf9+m/wp/mD3o8we9ADPtCf3ZP+/Tf4UfaE/uyf9+m/wAKf5g96PMHvQAz7Qn92T/v03+FH2hP7sn/AH6b/Cn+YPejzB70AM+0J/dk/wC/Tf4UfaE/uyf9+m/wp/mD3o8we9ADPtCf3ZP+/Tf4UfaE/uyf9+m/wp/mD3o8we9ADPtCf3ZP+/Tf4UfaE/uyf9+m/wAKf5g96PMHvQAz7Qn92T/v03+FH2hP7sn/AH6b/Cn+YPejzB70AM+0J/dk/wC/Tf4UfaE/uyf9+m/wp/mD3o8we9ADPtCf3ZP+/Tf4UfaE/uyf9+m/wp/mD3o8we9ADPtCf3ZP+/Tf4UfaE/uyf9+m/wAKf5g96PMHvQAz7Qn92T/v03+FH2hP7sn/AH6b/Cn+YPejzB70AM+0J/dk/wC/Tf4UfaE/uyf9+m/wp/mD3o8we9ADPtCf3ZP+/Tf4UfaE/uyf9+m/wp/mD3o8we9ADPtCf3ZP+/Tf4UfaE/uyf9+m/wAKf5g96PMHvQAz7Qn92T/v03+FH2hP7sn/AH6b/Cn+YPejzB70AM+0J/dk/wC/Tf4UfaE/uyf9+m/wp/mD3o8we9ADPtCf3ZP+/Tf4UfaE/uyf9+m/wp/mD3o8we9ADPtCf3ZP+/Tf4UfaE/uyf9+m/wAKf5g96PMHvQAz7Qn92T/v03+FH2hP7sn/AH6b/Cn+YPejzB70AM+0J/dk/wC/Tf4UfaE/uyf9+m/wp/mD3o8we9ADPtCf3ZP+/Tf4UfaE/uyf9+m/wp/mD3o8we9ADPtCf3ZP+/Tf4UfaE/uyf9+m/wAKf5g96PMHvQAz7Qn92T/v03+FH2hP7sn/AH6b/Cn+YPejzB70AM+0J/dk/wC/Tf4UfaE/uyf9+m/wp/mD3o8we9ADPtCf3ZP+/Tf4UfaE/uyf9+m/wp/mD3o8we9ADPtCf3ZP+/Tf4UfaE/uyf9+m/wAKf5g96PMHvQAz7Qn92T/v03+FH2hP7sn/AH6b/Cn+YPejzB70AM+0J/dk/wC/Tf4UfaE/uyf9+m/wp/mD3o8we9ADPtCf3ZP+/Tf4UfaE/uyf9+m/wp/mD3o8we9ADPtCf3ZP+/Tf4UfaE/uyf9+m/wAKf5g96PMHvQAz7Qn92T/v03+FH2hP7sn/AH6b/Cn+YPejzB70AM+0J/dk/wC/Tf4UfaE/uyf9+m/wp/mD3o8we9ADPtCf3ZP+/Tf4UfaE/uyf9+m/wp/mD3o8we9ADPtCf3ZP+/Tf4UfaE/uyf9+m/wAKf5g96PMHvQAz7Qn92T/v03+FH2hP7sn/AH6b/Cn+YPejzB70AM+0J/dk/wC/Tf4UfaE/uyf9+m/wp/mD3o8we9ADPtCf3ZP+/Tf4UfaE/uyf9+m/wp/mD3o8we9ADPtCf3ZP+/Tf4UfaE/uyf9+m/wAKf5g96PMHvQAz7Qn92T/v03+FH2hP7sn/AH6b/Cn+YPejzB70AM+0J/dk/wC/Tf4UfaE/uyf9+m/wp/mD3o8we9ADPtCf3ZP+/Tf4UfaE/uyf9+m/wp/mD3o8we9ADPtCf3ZP+/Tf4UfaE/uyf9+m/wAKf5g96PMHvQAz7Qn92T/v03+FH2hP7sn/AH6b/Cn+YPejzB70AM+0J/dk/wC/Tf4UfaE/uyf9+m/wp/mD3o8we9ADPtCf3ZP+/Tf4UfaE/uyf9+m/wp/mD3o8we9ADPtCf3ZP+/Tf4UfaE/uyf9+m/wAKf5g96PMHvQAz7Qn92T/v03+FH2hP7sn/AH6b/Cn+YPejzB70AM+0J/dk/wC/Tf4UfaE/uyf9+m/wp/mD3o8we9ADPtCf3ZP+/Tf4UfaE/uyf9+m/wp/mD3o8we9ADPtCf3ZP+/Tf4UfaE/uyf9+m/wAKf5g96PMHvQAz7Qn92T/v03+FH2hP7sn/AH6b/Cn+YPejzB70AM+0J/dk/wC/Tf4UfaE/uyf9+m/wp/mD3o8we9ADPtCf3ZP+/Tf4UfaE/uyf9+m/wp/mD3o8we9ADPtCf3ZP+/Tf4UfaE/uyf9+m/wAKf5g96PMHvQAz7Qn92T/v03+FH2hP7sn/AH6b/Cn+YPejzB70AM+0J/dk/wC/Tf4UfaE/uyf9+m/wp/mD3o8we9ADqKKKACiuY1XVvE1vqc0WnWvh97ZSPLa61OSKQ8D7yiIgc57mqf8AbnjL/ny8L/8Ag4l/+M0AdnRTIWdoI2l2hyoLbDlc45we4p9ADJJ4oWRZZURpG2oGYAsfQepp9c/4lIGpaGScAXoyfwqzF4gS4a7a1tZZ7e1BzMn8beijvXR7CThGUev+djj+tQVWVOeltvPS5r0Vi2XiEz6jHZ31lLZSTKWi8wghwOT+lVJPGAEctzBptxNZR5H2hSADjvj0prC1m7JfkJ47DqPM5fg+nla50tMmnit4WluJUijXq7sFA/E1jXHiZEhsha2klzc3cImWBDyqkdSaxte14ar4Z1a2NrJbS2whLrIe5kX/AAq6WEqTkk1ZNr87GdbMKNOEnF3aTa36K9r+h2vWisW618wXn2Kxs5L2eNA0oQgBARxk+tXdL1OHVbQzwhkKsUkjb7yMOoNYyo1Ix5mtDphiaU5+zi9f8t/uLtFFFYnQFFFFABRRRQAUUUUAFFFFABUVv/qj/wBdH/8AQjUtRW/+qP8A10f/ANCNAEtFFFABSMcKTS01/uGgCKiis3xDqUmk6FcXcCq0qgLHu6BmIUE+3NMRpUVy+o2mpaHpb6qms3V1PbqJJoptvlSj+IBQPl9sV00TiWJJACAyhgD70AOoorGi1e8urydbS2t5I7ecwvEZ8TYBwXxjAHcAnkd6A6XNmiqTaxZJe/ZWlbzN4QsImKBj0UvjaD7ZzQmsWT3v2VZH8wsUBMThGYdVDkbSeDwD2NAF2is1Nf06W0+0xyyNEWCoRA+ZCeyjGWP0ziopfEVqlxahBJJFcLKSVicyKyFRt2Abs8nIxxigLGvRUVrdQ3tqlxbPvikGVbBH6HpUtABRRRQAUUUUAFFFFABRRRQAUUUUAFFFFABRRRQAUUUUAFFFFABRRRQAUUUUAFFFFABRRRQAUUUUAFFFFABRRRQAUUUUAFFFFABRRRQAUUUUAFFFFABRRRQAUUUUAFFFFABRRRQAUUUUAFFFFABRRRQAUUUUAFFFFABRRRQAUUUUAFFFFABRRRQAUUUUAFFFFABRRRQAUUUUAFFFFABRRRQAUUUUAFFFFABRRRQAUUUUAFFFFABRRRQAUUUUAFFFFABRRRQAUUUUAFFFFABRRRQBPRRRSGcJr/hW61DXbm6j8F+EdRWQgi6v3Imk+UD5v3DemOp4ArO/4Qm9/wCid+BP+/jf/I1emUULRAR2yGO1iQxpGVQApH91eOg9qkoooeoLQ5vxdZNqEmlW43hXusOydVBHWqCz6lpWh32jQxN9qtl3W8qL/rIywyR7gZrs6K7IYpxgqbjdLX53v/wDzamBU6sqsZNOWnytb/g3PPraCG68Qab9ia8kJWZZppweCYyBj071Murf2d4QuNGurSZbuOGSIgJ8pBz82fTnNd3jHSucvNJ1+6ins2v7VrWckGQoRIEPVcdPauuGKhVaU9Erbvs35eexw1MDUoRbpNuUr7JW1SXV+W/3mZZyto91pmqTwySWs2lxwFkXJRgAaoX9ydVTxLNBDIvmJbbUZfmIDDnH4Zrr7uw1GGG0TRLmGNLePyzFOpKuAAAcjnPFGi6VcWU93eahMk15dspcxghVCjAAzTWJpxTq9dPwkntby3Jlgqs2qGqjrfRW1i1o766vaxzV9ZLp/iC7m1D7YlvdBXjltyeuOVOK6Hwxa20FhLNaLcKLiQs32j7xPr+NbWM9aK46uKlUp8j8vw8j0aGAjRquon36a6+f/ACiiiuM9EKKKKACiiigAooooAKKKKACorf/AFR/66P/AOhGpait/wDVH/ro/wD6EaAJaKKKACmv9w06kYZU0AQ1Dd2kN9Zy2t0gkhlUq6nuKmopiObu/Cc95Ymzl1y+eBQPKjdUOCOm47cuB6GtLRbq+nt5IdVtTDdW7bGdR+7m44ZD6H07VpUUAFYF/pN/fXAWSOxIWUPFfZImiXdnAAXrjjO7Ht2rfooA5/8AsGdb6QbIpbaS5+0b5LmUFfm3EeUPlJz0OR2445RdF1B9TgnuJI3EF003mtcyMXUqwAEZG1MbgOOuK6Gii2lguYkekXdtpWlJC0L3Wn87WYhJPlKkbsEjr1xViOzvZdSs7y8NurQxzK6REkDcV2gEjnG3k8fStOigdynpVpJY2AglKlhI7ZU8YZyw/Q1coooEFFFFABRRRQAUUUUAFFFFABRRRQAUUUUAFFFFABRRRQAUUUUAFFFFABRRRQAUUUUAFFFFABRRRQAUUUUAFFFFABRRRQAUUUUAFFFFABRRRQAUUUUAFFFFABRRRQAUUUUAFFFFABRRRQAUUUUAFFFFABRRRQAUUUUAFFFFABRRRQAUUUUAFFFFABRRRQAUUUUAFFFFABRRRQAUUUUAFFFFABRRRQAUUUUAFFFFABRRRQAUUUUAFFFFABRRRQAUUUUAFFFFABRRRQAUUUUAFFFFAE9FFFIYUUUUAFFFFABRRRQAUUUUAFFFFABRRRQAUUUUAFFFFABRRRQAUUUUAFFFFABUVv8A6o/9dH/9CNS1Fb/6o/8AXR//AEI0AS0UUUAFFFVb2d4YSyHB+lAFhkB9qTy/f9KfRQAzy/f9KPL9/wBKfRQAzy/f9KPL9/0p9FADPL9/0o8v3/Sn0UAM8v3/AEo8v3/Sn0UAM8v3/Sjy/f8ASn0UAM8v3/Sjy/f9KfRQAzy/f9KPL9/0p9FADPL9/wBKPL9/0p9FADPL9/0o8v3/AEp9FADPL9/0o8v3/Sn0UAM8v3/Sjy/f9KfRQAzy/f8ASjy/f9KfRQAzy/f9KPL9/wBKfRQAzy/f9KPL9/0p9FADPL9/0o8v3/Sn0UAM8v3/AEo8v3/Sn0UAM8v3/Sjy/f8ASn0UAM8v3/Sjy/f9KfRQAzy/f9KPL9/0p9FADPL9/wBKPL9/0p9FADPL9/0o8v3/AEp9FADPL9/0o8v3/Sn0UAM8v3/Sjy/f9KfRQAzy/f8ASjy/f9KfRQAzy/f9KPL9/wBKfRQAzy/f9KPL9/0p9FADPL9/0o8v3/Sn0UAM8v3/AEo8v3/Sn0UAM8v3/Sjy/f8ASn0UAM8v3/Sjy/f9KfRQAzy/f9KPL9/0p9FADPL9/wBKPL9/0p9FADPL9/0o8v3/AEp9FADPL9/0o8v3/Sn0UAM8v3/Sjy/f9KfRQAzy/f8ASjy/f9KfRQAzy/f9KPL9/wBKfRQAzy/f9KPL9/0p9FADPL9/0o8v3/SnO6xxs8jBEUEszHAA9Sa4vUPjB4C0y5aC58SW7OpwfIjkmH/fSKR+tAHZeX7/AKUeX7/pXB/8Ly+Hf/Qw/wDklcf/ABuj/heXw7/6GH/ySuP/AI3TA7zy/f8ASjy/f9K4P/heXw7/AOhh/wDJK4/+N0f8Ly+Hf/Qw/wDklcf/ABugDvPL9/0o8v3/AErg/wDheXw7/wChh/8AJK4/+N0f8Ly+Hf8A0MP/AJJXH/xugDvPL9/0o8v3/SuD/wCF5fDv/oYf/JK4/wDjdH/C8vh3/wBDD/5JXH/xugDvPL9/0o8v3/SuD/4Xl8O/+hh/8krj/wCN0f8AC8vh3/0MP/klcf8AxugDvPL9/wBKPL9/0rg/+F5fDv8A6GH/AMkrj/43R/wvL4d/9DD/AOSVx/8AG6AO88v3/Sjy/f8ASuN0/wCMHgLU7lYLbxJbq7HA8+OSEf8AfTqB+tdojrJGrxsHRgCrKcgj1BpAN8v3/Sjy/f8ASmXcjQ2ruhwRj+dPicuoJoAPL9/0o8v3/Sn0UAM8v3/Sjy/f9KfRQAzy/f8ASjy/f9KfRQAzy/f9KPL9/wBKfRQAzy/f9KPL9/0p9FADPL9/0o8v3/Sn0UAM8v3/AEo8v3/Sn0UAM8v3/Sjy/f8ASn0UAM8v3/Sjy/f9KfRQAzy/f9KPL9/0p9FABRRRQBz+p+JJ49Y/sfQrD+0b9VDzlpPLitlPQu2Dyf7oGcVTuPFOp+H54B4rsbSO2mbb9rsbguIz/tIwDY9WGcViJqtzo8fiy3sYZJtem1E+REibnZHUeW+P7qrk+gx70yy8PvonhrX9b8V7/tN3aGIJcXHnui7cbS3TLPjAHTApXsr+X9L+v+AVbW39ep6SGDKGUggjII70tZfhiKeDwppcV4CJ0tI1cN1B2jg+9alVJWdiE7q5GbiIXS25kUTMhdY88lQQCfzI/OiK4imeVIpFdoX2SAH7rYBwfwIP41g6nHeSeNLIafcQ28n2CbLTQGUEeZHxgMv55rIEk1veXkerXwjtX1bF5cwFrdQPsqFASGJQFtozu5OB3xSWq/rvYrr/AF2udzRXFWzve3ljaJfXcumy306QypcuGmiEW4fvAdzAPuAOeQOposPtNq2kTw3d3PPcXF1buJ7l3V1RZdgKk4yNi84z1yeTQ9FcXkdrRXD+Fru6n1Oy330LzPCxvYf7QlnkLY/iiKhYSG4xx3HNdxTasAUUUUgCiiigAooooAKKKKACiiigAooooAKit/8AVH/ro/8A6EalqK3/ANUf+uj/APoRoAlooooAKo6l/wAe5+oq9VHUv+Pc/UUAXqKKKACjrWL4r3f2Ed277N58X2vZnPkbx5nTnG3OfbNYNs9jHcX0vgBrQWsVoJJV08IYHlVwQg2/LuZAwOOcFfagDuKK4K+8TXslla3/APaf9nabqEsskNyWhi2RqFEa7pVK/P8AM/Iz2FaGlXWs6rdSpJqfkPHpsMirBHGY2lkEg35ZckfKpA4H1oA63OKK4hdbvdVs4r50URLqFrbLBJErYlVsSkEjOdx2g9tmRVXSdf1rUI7o2+qRz3S2bTS2heFmtplIIjCKgZQfmUiQk9MHINAHoNFcXoXiHU9W1u3iMrC2vC2oQnyQMWmCioTjqW2Nnr82K7SgAopkv+pf/dNec+FpNBisNAk8NizOopAG1H+zlUtsELbvOCd9+3G7nPTvQB6TRXmT65faromrLDrszRLaQ3SzRyW7SW/7z5lOxNqjaOQSxA71q3PiOZPE9tbWestKiz28DwSPABcI4XMiqqF2zuzuBRcjgHHIB3FFFFABRXmX7/S9A/5azWOoax7t9nm+2/ojAfQMP9rjYtNZu7vV0tk1lpbueWeK605FizYIofa4G3eDkIMuSG38DpQB2tFeZQ69e2PhnRYm8QtEpsdzXk81upknGAYWLoQdvQqAHPrkGr0urzWmsXztq62uoPJbGPTFCEXjmKMMo3LvP/ASMdTQB39FcWmvXn9tiOLU/tF6bqaKXRdsf7mJQ+2ThfMGdqHcWKnfwORWTea3c3mjyJb6qNaLwwzXEX7tRaTieLEWUUFc5YYfLDZ9aAPSqK4e/wBfvE0CCebWFsLn7S63iM0MLwkKT5KGRGQ44I3feHIYAiuv025+2aVa3P7z99Cj/vE2NyAeR2PtQBZoorgdY/4Rn/hKNc/tv7D/AGj5MP2TcF+1Z2HHk/x7s9NvOaAO+zRXBT6lqFnbXpmv4NOuFmtUnnYxRMxNupYCR0ZdxbpvGOwI4qWHxEbmW0a48QSaYr28MlrFLDCXvixO7K4JboBiIjrnoRQB3FFchB4mke/SwN/Eb1NQuY5oNoLpEqyNHuUDIGAhB6n3rOs/Ed5L4fvf+J/G9xE8G+9aa3MKbzyscqx7QcDgSJkZGeoNAHoGaK4CLX55YmvLe5YA2MIe+mhh8xE+0ujyllG0gKCwI+T+LGM1YttVv764t7Kw16S4tJb9oY9TiSFnmQQFyAQnlkq4xkL2x1BoA7eisvw5eT32gwTXb+ZMGeNpMAF9jsm4gYGTtzxxWpQAUVk3F3bWniRWu7iKBWtMAyuFyd/vVT+1Lo60YvPVQJ9gtyyfNHj7wXG8nHOc4rojh5SV12ucksXCLs+9joaK5WLW7p/NMd3vRoQ5LeWzQfOoJIUcYDE4JPTmlN/JB9rktb7z42uI0a7zGMLs65xs68ZxitPqk+rMf7QptXSf4efn5HU0Vg6feXl3d2sb3eYykjlowjeaFcAZO3HQ87cVT0/UJoNPhWyuvtUgt5Ge32qfJKj5TgDPXjk854qfq0tdf61/yK+uw0dnZ+nl5+Z1VFc2+rPGkoi1JrqEiPFyoi/duxOVLYCgYA6gkZ75FPsb+8u5LRPtZIJnLNGEbzAjALztx36gCh4aaV2/6tcaxtNvlSd/l3t3OhorndOuzd6tZO999olMEhliwo8hvlyvABHpg5PFdFWVSm6bszejWVaLkv60QUVjeMRnwTrQwDmxm4PQ/Ia5S3kl8PnVJIrGw0FoUtGe3sSGieIyfPOSUUfdLKflyAuSemMjc9EorhL3XZb3UUvdLkS/FtdXH2Py8Mr4s9wAI+8CxPPvUNr4hv5tJv5YPEVrNGgg/wBKluICYGZ8Ou5I9iZGMbwSD14oA9BorK8NX/8AaegQXPnTT5LL5swj3PtYjOY/kI44K8HrxWrQAUVzHjXRtM1G1spdQ060upFvraMPPArsFMy5XJHQ+lZq6tc2fisaXaXdvZRwXKQQaUGhRXg2gllj2+YTgsQVIX5cY4NAHc0V5wniy/kj1CWy1UzqbGW4RJfIZ7Z1dQAURfl4Y/K7MeO2DnWhuNWttYlSTWrm5itdRitvLlhhAlSRFY7isYOQW4II6DOaAOxooooAKKKKACiiigAooooAKKKKACiisjxRAt14dngclVleJCVOCMyKOKqK5pJETlywcl0NeiuKN1c6prmkGcsn9n3JtpeMB5zG+4+4AAI/362dDv72+vJYrlzixTyJ/kA8ybd97px8oU8cfP7VpKi4q9zCniYzla3p/X9bG5RXIM2nQeJiwazvLqS8A2nMd5CTxx3dB6cDb690l1x7vTZLR7tJLgQXouYgBuXbkJuA+7x9M+9V7Bu1ifrUVe52FFccusXC2rJp+rm8XZBvlCRn7O7SqpThcdCeGyRipftWoxSSibUZbiNLqW1McsUWHUQlwThBznj0x2pewl3H9aj2f4f5nWUdOtchY6xNHf6ZDJeqI5YYFW1gEQILR5JaMqGx7ocDHTg1AusTzw3EM96l7IssLHasUkSAzquBhQyn2cEjHB4p/V5XF9bhbbv+B21FcdLrl4gleLUfMuttx51jtj/0UIrlWwBuHKr94kHdx2qxJqGoWsF3G+pgt9lguFnuAiCIuxDAEJgDA4LA4PXIpewl3H9ag+j/AA9e51NFZnh+9N/pIlM0k5WRkMkmwlsHHBT5WHuMVp1lKLi7M6YSU4qS6ny58b/iVea94jufD2l3LRaRYOYpVjbH2mUcMWx1UHgDpxn0x5JUtw8sl1K9xkys5L567s8/rUVAworudC0+zm+DHim+ltIHu4Lu1WK4aIGSMFuQrYyAe+K2/Bnwu0rX/Bqalqk1/a3lxDczW+JUVHWIcFU2MWGepZk6jAPWgDyuivd9T+G/hTU7mO4Ec+m2lho1pLLDbS5eZpWIDHbC7EjDZO1txI+6Bz5zbaVp2i/FuPT1sL/X9OtbwEWn2N1uJ0A3bTEwBJHcEAHB6A0AcdRXuOs+AtO8RTSXzCxgsRpVzd6edLs/sM0rRsMrPCwIypbblQM9z0q0Ph54a0HQfEdrcWNzfotpZTiVhGbmJpCdwRzGdg/A8UAeCUV7oPgt4YttVgsLu+1WZ7vU5LKF4ZolEaiAzAuDGcsMYIGM9eKpj4a6HbWNzc6bPeiG60K4uglzFBcujo+3gmLv/shW9GoA8Xor22++D3heO80lrK91iWynuzb3hQCSWH91vUPF5YeJieoKNhSCcUN8KtLtZtYt9OvWazm0y2ntbuQ210jNJJtYrJ5edg4+ZfLJ+lAHiVFe1W/wf8O3usy2cNxq9sljq6adcNPJGTcBot2+P5BtOTnB3fLg55rjfHHhHR9E0HStV0KS+Ed5cXNvJFeSI5BhkKbgVVcA4zjB+tAHD1638EPiVeaD4jtvD2qXLS6RfuIolkbP2aU8KVz0Ungjpzn1z5JUtu8sd1E9vkSq4KY67s8frQB94aj/AMeEn4fzFSQf6sVHqP8Ax4Sfh/MVJB/qxUjJaKKKACiiigAooooAKKKKACiiigAooooAKKKKACiiigAooooAKKKKACiovtCejUfaE9GoAzNY8M2er3cV75txZX8I2x3dpJskC/3TwQw9iKqp4QimvobrW9SvdXeBg0UVyyrEjDo2xFAJ9zmt37Qno1H2hPRqFoG5LRUX2hPRqPtCejUAS0VF9oT0aj7Qno1AEtFRfaE9Go+0J6NQBLRUX2hPRqPtCejUAS0VF9oT0aj7Qno1AEtFRfaE9Go+0J6NQBLRUX2hPRqPtCejUAS0VF9oT0aj7Qno1AEtFRfaE9Go+0J6NQBLRUX2hPRqPtCejUAS1Fb/AOqP/XR//QjWZ4j8T2Hhfw9dazqnm/ZbVQXEahmOWCgAZHJJAqfQNTh1rw/ZaparIkF9ELiNZAAwV/mAIBIzg+poA0aKKKACqOpf8e5+oq9VHUv+Pc/hQBeoqP7TB/z2j/77FH2mD/ntH/32KAJKOlR/aYP+e0f/AH2KPtMH/PaP/vsUASdetFR/aYP+e0f/AH2KPtMH/PaP/vsUASUVH9pg/wCe0f8A32KPtMH/AD2j/wC+xQBJRUf2mD/ntH/32KPtMH/PaP8A77FAElFR/aYP+e0f/fYo+0wf89o/++xQBJjHSjHOe9R/aYP+e0f/AH2KPtMH/PaP/vsUASUVH9pg/wCe0f8A32KPtMH/AD2j/wC+xQBJRUf2mD/ntH/32KPtMH/PaP8A77FAEnXrRUf2mD/ntH/32KPtMH/PaP8A77FAEmOaKj+0wf8APaP/AL7FH2mD/ntH/wB9igCTr1oqP7TB/wA9o/8AvsUfaYP+e0f/AH2KAJKKj+0wf89o/wDvsUfaYP8AntH/AN9igCTr1oqP7TB/z2j/AO+xR9pg/wCe0f8A32KAJKMD0qP7TB/z2j/77FH2mD/ntH/32KAJKBx0qP7TB/z2j/77FH2mD/ntH/32KAJKKj+0wf8APaP/AL7FNkvLeONnaZSFBJCncfwA5P0FAXsTUVmf8JFp/rc/+Ac3/wATR/wkWn+tz/4Bzf8AxNaeyqfyv7jH29H+ZfejTxjpRjjHasz/AISLT/W5/wDAOb/4mj/hItP9bn/wDm/+Jo9lU/lf3B7ej/MvvRp0Vmf8JFp/rc/+Ac3/AMTR/wAJFp/rc/8AgHN/8TR7Kp/K/uD29H+ZfejTwPSisz/hItP9bn/wDm/+Jo/4SLT/AFuf/AOb/wCJo9lU/lf3B7ej/MvvRp0Vmf8ACRaf63P/AIBzf/E1djvLeSNXWZQGAIDHafxB5H0NTKEo/ErFxqQn8LTJqKj+0wf89o/++xR9pg/57R/99ipLJKMD0qP7TB/z2j/77FH2mD/ntH/32KAJKKj+0wf89o/++xR9pg/57R/99igCSjHNR/aYP+e0f/fYo+0wf89o/wDvsUASYx0oqP7TB/z2j/77FH2mD/ntH/32KAJKKj+0wf8APaP/AL7FH2mD/ntH/wB9igCSio/tMH/PaP8A77FH2mD/AJ7R/wDfYoAkoqP7TB/z2j/77FH2mD/ntH/32KAJKKj+0wf89o/++xR9pg/57R/99igCSio/tMH/AD2j/wC+xR9pg/57R/8AfYoAkorF/wCEt0r0v/8AwWXP/wAbo/4S3SvS/wD/AAWXP/xutPZz7My9tS/mX3m1UFpZw2UbJAGAdy7FnLMzHuSeTWZ/wlulel//AOCy5/8AjdH/AAlulel//wCCy5/+N0ezqdmL21G9+ZfejaxznvRWL/wlulel/wD+Cy5/+N0f8JbpXpf/APgsuf8A43R7OfZj9tS/mX3m1RWL/wAJbpXpf/8Agsuf/jdH/CW6V6X/AP4LLn/43R7OfZh7al/MvvNqisX/AIS3SvS//wDBZc//ABuj/hLdK9L/AP8ABZc//G6PZz7MPbUv5l95tUVi/wDCW6V6X/8A4LLn/wCN0f8ACW6V6X//AILLn/43R7OfZh7al/MvvNqisX/hLdK9L/8A8Flz/wDG6P8AhLdK9L//AMFlz/8AG6PZz7MPbUv5l958wfGXwHc+EfGVxeQwsdJ1KVpreUD5UZjloz6EHOPUY9686r7w1G20vV7CWy1OO2u7WUYeKbayt+BrzTUP2f8AwFe3LSwXF9YKxz5VtdoVH/fasf1qLmh82aZ4h1rREkTRtXv9PWQguLS5eIOR0ztIzVkeNPFIjkQeJdYCSktIv2+XDk9Sfm5zXv8A/wAM5+CP+gxrH/gVB/8AGqP+Gc/BH/QY1j/wKg/+NUwPn6Lxf4lgaEweIdVjMEflRFL2QeWnHyrhuBwOBxwKzkv7uPUPt0d1Mt55nm/aFkIk35zu3dc55zX0l/wzn4I/6DGsf+BUH/xqj/hnPwR/0GNY/wDAqD/41RcD59bxd4kfUEv38Qaq15GhjS5N7IZFQ9VDZyB7U5PGXieO4eePxHqyTOFV5FvpQzBfugndk4ycelfQH/DOfgj/AKDGsf8AgVB/8ao/4Zz8Ef8AQY1j/wACoP8A41QB88r4m15JFkTW9RV0madWF3ICsjAhnBz94gkE9SDTW8Ra20PktrF+YjC0Gw3T7fLY5ZMZ+6T1HQ19Ef8ADOfgj/oMax/4FQf/ABqj/hnPwR/0GNY/8CoP/jVAHz5L4r8RXD2zz69qcrWjbrcveSEwnGMpk/KcccVHceJNcvHuHu9a1CdrqMRTtLdOxmQdFbJ+YDPQ8V9D/wDDOfgj/oMax/4FQf8Axqj/AIZz8Ef9BjWP/AqD/wCNUAfPkvizxFO9s82v6pI1od1uz3khMJxjKc/LxxxVK51O/vLaO3u725ngiZnjillZlRmOWIBOASeSe9fSH/DOfgj/AKDGsf8AgVB/8ao/4Zz8Ef8AQY1j/wACoP8A41RcD5lr0X4NeA7nxd4yt7yaFhpOmyrNcSkfK7KcrGPUk4z6DPtXsGn/ALP/AICsrlZZ7i+v1U58q5u0Cn/vhVP616Xp1tpekWEVlpkdtaWsQwkUO1VX8BSuBLqP/HhJ+H8xUkH+rFV7+eJ7KRUlRicYAYHuKsQf6sUhktFFFABRRRQAUUUUAFFFFABRRRQAUUUUAFFFFABRRRQAUUUUAFFFFAFGiiimIr32o2WmQCbUry3tIi20SXEqxqT6ZJ68Gq9lr+j6lceRp2rWN3Ngt5cFyjtj1wDmvJ/H1newfES0m8QR3tzos+q2clvLJIXsoYwpSRJEztVixBBI5BPPWo/iBpKp8QrOw8FafLDqLaW4H9jn7P5DvIuySVkxhMA9evFJdPP/ACuN6f152PbKKjtkkjtIUnk8yVUUO/8AebHJqSqe5K1QUVhambrUPEUGlQ3stlbJbG5naAgSSndtVQxB2jqSRz93kc5Y91qWhpDY+YNWubu5MdkbiQREIELt5rKp+7tYAhST8ue5pLVX/rsPrY6CiuZXxTfS3EVhDpcH9pmaWCWJ7siKNkRXzvCElSrgj5QecEdcMtPFt7ILWW90mK3gu45jFsuy7iSJSWVhsAAO1sEE9BkDOArpK4dbHU0VzEXi24gtbe91vTUsbK6tXuYnS58112x+YVddoCnaCeCw4IqhF47lv7S8jsk01rv7DJdW/wBm1EThNuMiTCfK3zAgAMDgjPGS5e7e/T+v0CPvWt1O2orkLzxrJpq2VrdjS4r+S0W5mF3qXkRhSSF2sY8sTg8bQBjr0z0ul6hHquk2uoQKyx3USyqrdQCM4NNq1xJ3LVFFFIYUUUUAFFFFABRRRQAUUUUAcH8bP+SPa3/2w/8ASiOul+HP/JMvDf8A2DIP/RYrmvjZ/wAke1v/ALYf+lEddL8Of+SZeG/+wZB/6LFAHS0UUUhhVW/hEtnMrDI2N/KrVR3P/HrL/uH+VAFD+x7b/nin5Uf2Nbf88U/KtOigDM/sa2/54p+VH9jW3/PFPyrTooAzP7Gtv+eKflR/Y1t/zxT8q06KAMz+xrb/AJ4p+VH9jW3/ADxT8q06KAMz+xrb/nin5Uf2Nbf88U/KtOigDM/sa2/54p+VH9jW3/PFPyrTooAzP7Gtv+eKflR/Y1t/zxT8q06KAMz+xrb/AJ4p+VH9jW3/ADxT8q06KAMz+xrb/nin5Uf2Nbf88U/KtOigDM/sa2/54p+VH9jW3/PFPyrTooAzP7Gtv+eKflR/Y1t/zxT8q06KAMz+xrb/AJ4p+VH9jW3/ADxT8q06KAMz+xrb/nin5Uf2Nbf88U/KtOigDM/sa2/54p+VH9jW3/PFPyrTooAzP7Gtv+eKflR/Y1t/zxT8q06KAMz+xrb/AJ4p+VH9jW3/ADxT8q06KAMz+xrb/nin5Uf2Nbf88U/KtOigDM/sa2/54p+VH9jW3/PFPyrTooAzP7Gtv+eKflR/Y1t/zxT8q06KAMz+xrb/AJ4p+VH9jW3/ADxT8q06KAMz+xrb/nin5Uf2Nbf88U/KtOigDM/sa2/54p+VH9jW3/PFPyrTooAzP7Gtv+eKflR/Y1t/zxT8q06KAMz+xrb/AJ4p+VH9jW3/ADxT8q06KAMz+xrb/nin5Uf2Nbf88U/KtOigDM/sa2/54p+VH9jW3/PFPyrTooAzP7Gtv+eKflR/Y1t/zxT8q06KAMz+xrb/AJ4p+VH9jW3/ADxT8q06KAMz+xrb/nin5Uf2Nbf88U/KtOigDM/sa2/54p+VH9jW3/PFPyrTooAzP7Gtv+eKflR/Y1t/zxT8q06KAMz+xrb/AJ4p+VH9jW3/ADxT8q06KAMz+xrb/nin5Uf2Nbf88U/KtOigDM/sa2/54p+VH9jW3/PFPyrTooAzP7Gtv+eKflR/Y1t/zxT8q06KAMz+xrb/AJ4p+VH9jW3/ADxT8q06KAMz+xrb/nin5Uf2Nbf88U/KtOigDM/sa2/54p+VH9jW3/PFPyrTooAzP7Gtv+eKflR/Y1t/zxT8q06KAMz+xrb/AJ4p+VH9jW3/ADxT8q06KAMz+xrb/nin5Uf2Nbf88U/KtOigDM/sa2/54p+VH9jW3/PFPyrTooAzP7Gtv+eKflR/Y1t/zxT8q06KAMz+xrb/AJ4p+VH9jW3/ADxT8q06KAMz+xrb/nin5Uf2Nbf88U/KtOigDM/sa2/54p+VH9jW3/PFPyrTooAzP7Gtv+eKflR/Y1t/zxT8q06KAMmTSbeNVZYlBDpg4/2hWoi7VxTZ/wDVj/fT/wBCFSUAFFFFABRRRQAUUUUAFFFFABRRRQAUUUUAFFFFABRRRQAUUUUAFFFFAFGiiimIyPEy3cujPBZaJba35zBJbS6nESFMHJJKsDyBxjv7Vyvwx0DV/C1mdNv/AA1Y2KOZJJdQt7tXeUlyUUqEBwA2Ad3bpzXoNFC0B6qwUUUUAZuq6KmpTQ3EV3c2F5AGWO6tSm8K2NykOrKwOBwQenGKq/8ACK262yhL28W9W4+0/wBobkMzSFdhJyuwjZ8u3bjHQDANblFAGRZ+G7Wzube58+4nuYZJJXmlZd0zyAKWbAA6KAAAAABxTJ/Ddv8AYbeOB5S9ms5gDMPmaRWB3cf7R9K2qKTSasC0dzmtH8IrBptjHq93c3pt7IW620zIY4dyBXwVUFuMjLFjjp1NXrTw/wCQksV1qmoX8DwGBYbh0Coh6/cVSxxgbmyffk516KqXvN36iiuVJLoYX/CMMkVv9n1rUYLmGHyGukEJkljySqsDGV+XPBCg+5yc7NvCLe2jhVpHEahQ0jlmOB1JPJPvUlFAwooopAFFFFABRRRQAUUUUAFFFFAHB/Gz/kj2t/8AbD/0ojrpfhz/AMky8N/9gyD/ANFiub+NYJ+D+t4Gf9R/6PjrpPhz/wAky8N/9gyD/wBFigDpaKKKQwqO5/49Zf8AcP8AKpKjuf8Aj1l/3D/KgCSiiigCOaeK3j33EqRJnG52Cj9aejrIgdGDKwyGByCKqX+1WhkJnVkJ2vFH5mOOhABOD9PxFUnmuY7dz5MymS3cRrDEwG/J5x/CTkHmgDYDKxYKQSpwQD0NLWOyut9MVW6EzToY9obyyu1A2cfL69fwpUtppJE817oB2m34ldcAN8nQ8cenWh6K4GqHUuyBgWUAlc8jPSnVjP8Aamj/AHrXCjy4SdqvycNuHy8jnGSPbPFK7z/6K+y5zsXEOZOuepYcE47OPy5p9bCvoayOsi7o2DDJGQc8g4NOrHYy7B9r+17My7fK37t287c7ecYxjPH6Uvl3hDSymbzkaHAVm2n7u/gcEdaQzXorN1YynakazD5GKvEX+9xgYT+pxTHS5Znmzcb0eLYAzBSDt3fKOD3+lAGoWVSoYgFjgAnqailvbWCURz3MMchAIV5ACfwNZ0Su1/AXW5MqzuZNwbywNrYxn5fTp+NSyyCDV52lhmkSS3jVdkLOGIZ8jIGB1HX1oGaVFYc0d1FFBExmTbAoQxb22vznO3g4+X73H61LKbpb+XyRNJIwYKTvVI/k46/IRn6Hn60CNemq6uWCMGKnDAHoeuD+dZW0vb7bY3wDSRiQyFwfvfNgnkcdccUyZmjvvLna6EBkbAjLklQiY+7zjOenfPvQBss6oCXYKAMkk9B60oIZQVOQeQR3rFMM++KeQXHm/ZZVQgvwc5XcBxnHr396e/n+cM/afP3R+Vt37NuBu3fw/wB7OefTtQBr0VmWkc6TwyOZyXeUSB2YgDJ28HgdBzWnQAUUUUAFFFFABRRRQAUUUUAFFFFABRRRQAUUUUAFFFFABRRRQAUUUUAFFFFABRRRQAUUUUAFFFFABRRRQAUUUUAV5L+ziuRby3cCTtjETSAMc+3WppJEiUNI6oCQoLHHJOAPzrInsLi71DUIw6xW8yRqzNESWGDnacgA/gcUrxXKxzSK1yZDeIAN7YEfmLnA6YxnJ9KFq7AbFBIHU4rFb7aj3KFbh0tkfYQSPO3HK4POdoyO9VnglmtHEwvGhiu4nTaZg23A3Yyd5wc0AdHUM95bWrItzcRQtIcIJHClvpnrWVbC8/tfMrzA+a+V2yFDHzt5PyDjHTnP40/VP3V1JJEk5lkhCbRbGaKYZOFOBx1PUgc96ANiisiLzP7SP2hbxZfMXyliLeUE2jg/w9c5zz6dqrx/bPLbb9s+0eRJ9o3b9u/Hy7M8dem3t1oeiBam/RXP3cN3EyIkt0E8kGNgZZG80k5zg/Thvl61vrnaN3XHNAC0UUUAFFFFAFeK/s552ggu4JJUzujSQFlx1yBU7usalpGCqOpY4FYunafcvGjTuI0huZ5Ej8ohyS7gfMT0w2eB6VVd72406KLyrwvHabZd0bDdIGT16nrz0/WgGdGzqmN7Ku44GTjJ9KI5EljWSJg6MMhlOQaxUSV5x5K3LWy3MbL54csDg7j83O3p7dcUwfaPLh+2/b8eQvl+Rv3eZk53Y46bcbuOtJagbVxcwWkXmXU0cMecbpHCj8zT0dZI1eNldGGQynIIqjqe1fImP2hGjYlZIYvN25GMFQCcH2H4iqRMzQ25u4rmGIo5C2aOh37uCVXkZHODxknNMDdorEb7V9tP/H35/nR+Xnd5flcbs4+TP3uvOenao5IbtbVHZ7rD3EnnfNISFDNswFOQOnT2zxR0A36Kr6f5osIvPZmfHJdSDjtkHnOPWrFABSF1EgQsA7AkLnkgdT+o/Olqjdkw6jb3LI7RLHIjFELkElSOACcfKaALqurglGDAEg4OcEdqWsWVZVtFfFwoaWWQRqsilstlclOVOPUY9RmnyfaW1AbjNGdyGPAcqFwNwOPl67uv+FAGo8qI6I7gM5woJ5NPrNvreV9ThmgEm9LaYKQxChsrtB7evX09qgxK0cgtDeeWRGGMu8Nu3jON3PTOccUDNaaeK3j8yeVIkzjc7AD8zTY7mCbb5M0cm/O3a4OcdcVBewuYLeODdlZk+Y5cgA9Tn+tQ6iLtYwIGlZvIk+aMH73y44HfrigRpUm9d4TcNxGQuecetZU6ywGWJRctCZEw2+RiuQc8jLEZA4HrT7BZzcW7zLIdsMilnUj+MYznnoO/NCE9C8bq3Fx5Bnj87/nnvG78utS1lsSl6UiSVt0wZopYCV92V8YHryT6cU0GXZNs+1/a9r7s7tnXjbn5fpj8aOg+prUVjhJJJAlubsWrSICXaQNnDbuW+YD7v406IXH9qYdpgwkbPEhQpg4/2fTnrmgDWooooAjuP9WP99P/AEIVJUdx/qx/vp/6EKkoAKKKKACiiigAooooAKKKKACiiigAooooAKKKKACiiigAooooAKKKKAG7E/ur+VGxP7q/lTqKAG7E/ur+VGxP7q/lXEX/AIw1Q+JNS0+xudBsYrFkTOqTsjSllzkYPSql/wCM9d0+wmu21PwlciFdxht7l2kf2UZ60dLhbWx6FsT+6v5UbE/ur+VR2dx9qsYLjbt86NX25zjIzipqbTTsJaq43Yn91fyo2J/dX8qo32s29hdxWskVxNNLG0ipBC0h2qQCePcip7HULbUbX7RaSbo9xU7lKsrA4KspwQQexpDJ9if3V/KjYn91fypj3MUdzFA74lmDFFwfm24z/MVLnnFADdif3V/KjYn91fyp1FADdif3V/KjYn91fyp1FADdif3V/KjYn91fyp1FADdif3V/KjYn91fyp1FADdif3V/KjYn91fyp1FADdif3V/KjYn91fyp1FADdif3V/KjYn91fyp1FAENzZ2t5bSW93bQzwSDa8UsYZWHoQeDTNPt4bSxS3tYo4YISyRxRqFVFBICgDgADjFWait/9Uf8Aro//AKEaAJaKKKACo7n/AI9Zf9w/yqSo7n/j1l/3D/KgCSim+WPVv++jR5Y9W/76NADqKb5Y9W/76NHlj1b/AL6NADqKb5Y9W/76NHlj1b/vo0AOopvlj1b/AL6NHlj1b/vo0AOopvlj1b/vo0eWPVv++jQA6im+WPVv++jR5Y9W/wC+jQA6im+WPVv++jR5Y9W/76NADqKb5Y9W/wC+jR5Y9W/76NADqQopcMVBZc4OORSeWPVv++jR5Y9W/wC+jQA6im+WPVv++jR5Y9W/76NADqKb5Y9W/wC+jR5Y9W/76NADqKb5Y9W/76NHlj1b/vo0AOopvlj1b/vo0eWPVv8Avo0AOopvlj1b/vo0eWPVv++jQA6im+WPVv8Avo0eWPVv++jQA6im+WPVv++jR5Y9W/76NADqKb5Y9W/76NHlj1b/AL6NADqKb5Y9W/76NHlj1b/vo0AOopvlj1b/AL6NHlj1b/vo0AOopvlj1b/vo0eWPVv++jQA6im+WPVv++jR5Y9W/wC+jQA6im+WPVv++jR5Y9W/76NADqKb5Y9W/wC+jR5Y9W/76NADqKb5Y9W/76NHlj1b/vo0AOopvlj1b/vo0eWPVv8Avo0AOopvlj1b/vo0eWPVv++jQA6im+WPVv8Avo0eWPVv++jQA6im+WPVv++jR5Y9W/76NADqKb5Y9W/76NHlj1b/AL6NADqKb5Y9W/76NHlj1b/vo0AOopvlj1b/AL6NHlj1b/vo0AOopvlj1b/vo0eWPVv++jQA6im+WPVv++jR5Y9W/wC+jQA6im+WPVv++jR5Y9W/76NADqKb5Y9W/wC+jR5Y9W/76NADqKb5Y9W/76NHlj1b/vo0AOopvlj1b/vo0eWPVv8Avo0AOopvlj1b/vo0eWPVv++jQA6im+WPVv8Avo0eWPVv++jQA6imFFAJJYAdSXNV/t1h/wA/sP8A3/H+NAFuioIpra4JEFwspHUJLnH5GpfLHq3/AH0aAHUU3yx6t/30aPLHq3/fRoAdRTfLHq3/AH0aPLHq3/fRoAdRTfLHq3/fRo8serf99GgB1FN8serf99Gjyx6t/wB9GgB1FN8serf99Gjyx6t/30aAHUU3yx6t/wB9Gjyx6t/30aAG3H+rH++n/oQqSoZ0AjUjd99OrH+8KmoAKKKKACiiigAooooAKKKKACiiigAooooAKKKKACiiigAooooAKKKKACiiigDyDxNaW01x4vnlt4nmjv7JUkZAWUHGQD2zVjxRpOnQax4oSHT7WNYdHjkiVIVARtx+YccH3Fd7qPg/w/q1613qOlwT3DgBpDkFseuDVYfD7wqrAjRbfg55LH+tL7Nv62t/wR9b/wBb3/4Br6R/yA7H/r3j/wDQRVykVVRAqKFVRgADAApaqTu2yUrKxgancfYfFtndzQXTwfYpoy9vayTYYvGQDsU44B6+lZF9bTSq1xd6Yot72+acLcWUl15IESopaFD1baTz93PPNdtRS6f13uVfX+u1jiNI07y49AuNR0x2eGW4iDNZktCDIfKyuCUUAcHovHNR6Xbz/wDCU2Fwmn/ZZDPP9q8vT5EKgo5xJOxIlBbbgjjp7V3dFO+txdLBRRRSAKKKKACiiigAooooAKKKKACiiigAooooAKit/wDVH/ro/wD6EalqK3/1R/66P/6EaAJaKKKACo7n/j1l/wBw/wAqkqO5/wCPWX/cP8qAJKKKKACisTxDYPeXFlJJp/8AadpEX860ynzEjCthyFOOep75HSsa98N3NzFfTJpqJcLYW62IMwkaGVC5IV2OQRlfm4+taxhFq7dv69TCdSUXZRv/AF6HaUVyp0SW3v21I2Y89NTebzkAaT7OUwQMckH+6Oc9qn1iSPxBpvlWtnfS+TMjsj2hiz1/hnVVceoz79cUezWln/wB+0tdNa628zo6hhuobiWeOF9z27+XKMEbW2hse/DCuRfTdYj08omlK0k+lvaeXDKirC25iudzcDBH3S2Dx05ok0K7N/O39lbriS6gkt77zE/0dVWMOeu4fdYYA578YqlSjfWX9XJdWVlaP59r9jtKjWZWuHhCyBkUMWKEKc56N0J45A6cetcmnhUS3VvJeabDJunuzcFwrb42ZjGG9R0IHY+lV/8AhHtRaz23dpNL/odlGVSSJyzx+ZuBVztYDcuQSM54ORQqcP5v6uDqzT+Hv/W3U7io4plm8zasi+W5Q70K5I7jPUe44ri7nRNSezsHGko1zBEyJF+7MMf7zK5BbdGcYOY2OOQM4FW7jRro3TS3emf2hafbp5WtNyHeGVQj4YhTgg8E5Gc0ezj/ADdw9rL+Xt+K/Q62iuMPhi6uNPZL61SeVNMMcG9w3lzbmKAEngqCo3frWlq1pd38VmLjTXure1nBuLZmjP2pfLIyAWwcMejY+79KTpxva5XtJWvynQ0Vxd9ol2/2GSz0UrJFEFjhkljlig/ebgCxIZCBjmMnHQAgDOlbaPdR+J2Mif8AEthke7gbcP8AWyKFK7euB+8b/gftQ6cbb9xKpK9uXt+Py6HRUUUVibhRRRQAUUUUAFFFFABRRRQAUUUUAFFFFABRRRQAUUUUAFFFFABRRRQAUUUUAFFFFABRRRQAUUUUAFFFFABRRRQAUUUUAFFFFABUdxcRWltJcXMixxRKXd26KB1NSVn67ZzX+iXFvbbTMQGRWOAxVgwUn0OMfjSewEmnara6pG7WjSZjba6TQvE68ZGVcAjI6HHNRprmnvqQsVmbzi5jBMTiNnAyVEmNpYAHgHPB9KpaeL5tUvNVm0ye3+0LBbpbPJGXAVm3SHaxXH7zoCThenaormHUb3xLZyHT54ktJmbz2uEe3aPawyFzvEnP90Y55I611DoadrrlheXptbeZmlG7BMTqj7ThtrkbWweuCcU7+2LD+0Lmy+0D7RaxCaZAp+RT3JxjPt16etc9pGk6nb6vBJJbTRGIzmWSaVGgO85HkoG3LzjqF4znJNOsNA1S1vpvtYtruKWxeOWRS0ZnkZiTk5JXOeoHAwB0qLuy/rowNm18Qafd2c12huYreBBI8lzZzQDaRnI3qN3Ttnt61Y0/VLXU43a1MoMZw6TQvE6+mUcBhnscc1z1tpV7LY6lD9gvLe1ktkSK0u78SOZVJyyvufaPu4z3HKjvd8O2F7Hf32o6h9rV7lIolS8eIyYTcckRfIM7+APTJ61elxam/RRRSGFFFFABRRRQAVn3Wu6fZXyWlxM6yttzthdlTccLvcAqmT03EZrQrltW03UHn1a0trN54tX2YuRIgW3wgRtwJDcBcjaDkntR1DodDfX9vp0AlumYKzBVVI2dnY9lVQST7AVVbxBpwsYbsTSPHM5jjWOCR5GYZ3L5YXdkYORjjHNLf3N4trMINNnn2vsxHOiSOhX76EnGQTjDFehPpnn10jUY9LsA9ndFYrmaVooJ41ulD527n3BSfmO7Dc8cnnKGdBPr+nW9nb3LTPJHcjMQggeV3Hc7EBbA7nHHeor3xNplhbpcTPcvbyRCYTwWU00ew9y6IQPxNYTaHfw22lTTWl1cfZ7aW3ktrG6WGRdzKUYtvQHAX5sHqc4NawsNSubHSbDUT5qoqyX024HeyYITsTlsEnGMKfWqF0LV/wCIbDTJQl4LxQQp8xLGeSMZOBl1QqPxNadZt/aT32qWcbpixgPnyMSP3kgPyLjrgH5vqF960qXQAooooAraj/yC7v8A64v/AOgmm29nbG2iJtoSSg/5Zj0qW8iaaxniT7zxsq59SMVTiutQjhRP7LY7VAz56UwHLDHDryCKNEBtmztUDPzLWhWfbC6m1P7RcWv2dVhKDMgbJLA9vpWhSAKKKKACiiigAooooAKKKKACiiigAooooAjuP9WP99P/AEIVJUdx/qx/vp/6EKkoAKKKKACiiigAooooAKKKKACiiigAooooAKKKKACiiigAooooAKKKKACiiigAooooAKKKKACiiigAooooAKKKKACiiigAooooAKKKKACiiigAooooAKKKKACorf8A1R/66P8A+hGpait/9Uf+uj/+hGgCWiiigAqO5/49Zf8AcP8AKpKjuf8Aj1l/3D/KgCSiiigAprypGVDnBc4UYzk1T1OOeVFWCIyDDZIPIOOOrAfjzinTW8sv2ZgB5kYOWP8ACdpGfzoAuUVjpa3ywM0askq7QFJABPIJ+8c9c++BVuyt5oklWYsdv7uMl8koOhz68/pQBdorGFteCJR5LbFblTgs3y9SN+Dz3yMnnHepo7e5U4dJHk2qEmMgwny45555ye+cigDTpGZUUs5CqBkkngVmR2szSRjyZI4gV8xWkB3EBsng+4+tRz2ly1s8bQvKTGVjxIPkO49cnuCvr0xQBsUVRs4po7yUujCM5IdzyTn2JyMdOBgYFVHju0aSWVPKjwS/zhQ3zg4yWPbIycde1AGzSFlDBSQGPQZ61iwrJOJnihkkhLMsapMPkOF5znHByOCcc1cuoJGktmeFrgIrBwjAZJA9SKOgF+q0mo2cN0ttLcxJMxACFgDk9B+Pb1qpapMLxIHlLBEWSX58kPjG0/Xg/hVe8t7waszWdrOPMljZ33xtBIoxksrHcrAD+Edl5PaopN6kybS0NyopLmGGRY5ZVRmxgMcZyQB+pArmxZatObWGW3njjhCxyuZ1xKPOQkjDZxsDdcHtinvpWoia3WOJjDFMWCmUYCi5V179kBx6Dj2q1BaXZDqOzsjpBIhlaMOpkUBiueQDnBx+B/KnVzV3Fqd3LLcHTGj8xYY3ieRHJCmQsQA6hhllHzEdzjjFQ2+jajJFG13HL5iG3AzPyFEjeYOG/uEA+o45o5FbVh7R30R1dFcwdFvWjmVklxHgW2J8bR57njB4/dlR9OPaorvTdVSdorW1YwpIWt3WQEoN+eMyDaMf7JOCRwOooJu1wc2lex1UcqTJuidXXJGVORkHBH4EEU6uTk07VleNIrRsLM0iyK4yubhmPVwF+UjopJyQfSnvod60MreXJ5zW9yQfP/5a+ZmE/e6gZwe3Tijkj3Dnl2OppqyI7OqOrNGdrgH7pwDg/gQfxrlfsOsPdzyG2kjVkfzAkoXzR5qEKG8wkkoHAJCgZxxUdxpmpeXdLaaZJHFNK7xoZVZkPlRqpA8wKvIbB+YjAwOaFTXcPaPsdckqSFxG6sUbawBztPXB/MU6uWXT9ZgnvpvJ+0LOG8mPzdux/LUFjhhnOCOoIxxgEmtPw/b3VvBdLdxNCrT7okOBhdijgBmwNwY4z/OlKCSvcIzbdrGtRRRWZqFFFFABRRRQAUUUUAFFFFABRRRQAUUUUAFFFFABRRRQAUUUUAFFFFABRRRQAUUUUAFFFFABRRRQAUUUUAFFFFABRRRQAUUUUAFFFFABRRRQAUUUUAFFFFABRRRQAUUUUAFFFFABRRRQAUUUUAFFFFABRRRQAUUUUAFFFFABRRRQBHcf6sf76f8AoQqSo7j/AFY/30/9CFSUAFFFFABRRRQAUUUUAFFFFABRRRQAUUUUAFFFFABRRRQAUUUUAFFFFABRRRQBxz6hd6v8Qv7Lu7iXS7awAnht1Yq+oH+9uHBQf3Qcnv7S+N7q40ZbTWbC+ZLqFxCtgxLJehiPkCj+P0IroL7SbHUZ7Wa9t1lltJRLA+SGRvYj+XQ0TaTY3GqwalPbrJd26MkMjEnYD1wOmffrQtl/X9f16D6v+v6/r1J7WV57SKWWFrd3QM0TkEoSOhxxxUtFFAjmNdfUE8V2UmmSOzQWU0zWu75bgB4wV+uCcH1x2zVez12W61G6GlTI5vr5I4JJ1ZkiUWyu2VyDn5SNuRyea6lrOBr5Lwp/pCRtEr5PCkgkY6dVH5VTbw9pZW4Vbby/tE/2mRopGRvNxjeCCCpx6Y7+poWi/rvf8h9b/wBbGPc6hq8zw2y3VvDcW2prbzSJC5SYGPep27wRw3K5PI60DxLqEuqSC2t2kt47z7MYVsJmLKG2M/nD5Bg5OMdB1z02f7B086f9j8p/K83ztwmcSeZnO/zM7t3vnPah9B09777U0Um8yCUoJ3EbOOjGPO0ngckdh6ULTf8Arb/gg/L+tzEs9R1S0tZbtpbaSzXVJYDEysZSrXBTIfdgYLDC7eg688WI9b1Exw6i32b7BNe/ZhbiJhKoMhjDb92Cd2CRt6d+K0E8OaZHdi4SBw3nGfZ57+WZCSd5TdtLZPUjjjHQU9dB09L4XaxP5gkMoQzOYw56uI87Q3J5xnkmhdP67A9WzMtNa1KSPTr64+ymy1KTy0hSNhJEGDFCW3EN05G0Yz7c0/CuuX1/4f22kQlksrJcx3G4S3EpTKkE9EOMbucnPTHO/BoOnW14LmGFw6szIrTO0cZb7xVCdqk5PIA6n1NA0DTBDFCLUbIrc2yje3+qPVTz8w+ucdaO47q5X0DU7i/aeO8mieWMKxjFpJbSJnPVHJyOOGBwefStmqVhpNpprySWwlaSUAPJNO8rEDOBuck4GTx71dpskKKKKQBRRRQAUUUUAFFFFABUVv8A6o/9dH/9CNS1Fb/6o/8AXR//AEI0AS0UUUAFR3P/AB6y/wC4f5VJUdz/AMesv+4f5UASUUUUAFFQ3Vz9ljDmJ5BnnaVGPxYgVVn1QLbNJbRPKBEJN4A2rkZGec/lQBoUVSmvykoSKF2XzVjMpA25JAI6579cYqW4vVt5o4vLeR5ASAhXoMZPJGevbJoAsUVXF5GxAAbmVohx3AJ/Liq0OrA2azXEMkeYPNzgYcAAnaM579DijcDRoqkupAzeW1tOmHCMW24UnpnDd89s+9JHqalo49jyO5b7oVcAMVzgtz+GfwoAvUVSfUVK3Plo48hWzIQpGQOmN2fzxn1pw1BPMCmOTZuCGbA2hj265746Y96ALdFVLbUEuZFURSoHUsjOBhwMZxg5796bc35iZlihd9jqjSYG1SSODznoR0HegC7RVP8AtOI3HlLG5yzIrArhmGcjrnseoA461Emr/wDErgvJraRBJHvYBk+UYz1LDP8AP2oA0aKoNqBW4C8GPzWVjs5AEe/jnn/PHerFpdC7h8xY3RT03FTuHqCpIoAnooooAKKKKACiiigAooooAKKKKACiiigAooooAKKKKACiiigAooooAKKKKACiiigAooooAKKKKACiiigAooooAKKKKACiiigAooooAKKKKACiiigAooooAKKKKACiiigAooooAKKKKACiiigAooooAKKKKACiiigAooooAKKKKACiiigAooooAKKKKACiiigAooooAKKKKAI7j/Vj/fT/ANCFSVHcf6sf76f+hCpKACiiigAooooAKKKKACiiigAooooAKKKKACiiigAooooAKKKKACiiigAooooAKKKKACiiigAooooAKKKKACiiigAooooAKKKKACiiigAooooAKKKKACiiigAqK3/1R/66P/6EalqK3/1R/wCuj/8AoRoAlooooAKjuf8Aj1l/3D/KpKjuf+PWX/cP8qAJKKKKAK9zZrcyRyeY8bx52lQD169QfTr1qFtKjMQiWeZIzGI3VSPnAGATkdfpir1FAFRtPVpi/nShDIJDECNu4EHPTPbpnFOvLFb1NkksioRhlXGG/MHB9xg1ZooAqDT0FyJRNLtEhkEeRtDEEE9M9z3qNdJjEHkvPNIgiMKBiPkUjBxxyeB1zV+igCu1nGzuxLZd0c891xj+VRPpcckQiMsojDFivynJLbu445PUYNXaKAKcmmxzTO8ssjbkZADt+UN1wcZ/Mml/s9PODebJ5e4P5XG0sO/TPYHrirdFAFeKyjhMJUsfJVlXJ6g46/lTJdPWWZn86VFdld41I2swxg9M9h37VbooAqx2CRXRlSRwpYt5eF25PU5xnv61CdIi8pEWaZQkZiBG3Ow9vu8fUc1oUUAVRp8Qk3h5Ad5fgjqU2fy/WnWtmtq0jCR5HkILMwUZx9ABViigAooooAKKKKACiiigAooooAKKKKACiiigAooooAKKKKACiiigAooooAKKKKACiiigAooooAKKKKACiiigAooooAKKKKACiiigAooooAKKKKACiiigAooooAKKKKACiiigAooooAKKKKACiiigAooooAKKKKACiiigAooooAKKKKACiiigAooooAKKKKACiiigAooooAKKKKAI7j/Vj/fT/wBCFSVHcf6sf76f+hCpKACiiigAooooAKKKKACiiigAooooAKKKKACiiigAooooAKKKKACiiigAooooA8jvfsZn1O81KL7VM2r3ECtNdXahUTbtAEIbpnuBUVpHpF9JJAtjEjeRK6tFe6huBVGYY3oq9R3NdHP4O1Rri+SSy0+9t5r6W7iZ7+eBl344IReenqaq3PhjVNJsri8svD9nJMkLqFh1a5lfDKVOEcbWOCePy5pbR+X6F6c3z/U63wZPLc+CtJmuJGlka1Qs7nJPHc1t1g+BwR4F0cEYItVyDW9Vz+JmUfhRmajqF2moQ6fpcMUlzJGZXediEiQEDJwMkkngcdDzTU1l7W1ZtbtzbTLN5KrArSic4yDGANx4zxjjB7DNGoWd8upxalpXkSSrEYZYLhyiyLnIIYBsEHPY5yelVpdO1iZra+mktZL23uGlS23lYlRkKbA+3cTzu3FeuRgCpW39d/8AIssnxJpggikEsrGZnRI0t5GkLL95dgXcCPQiktvE2lXbKIJ5CHjaRHa3kVXCjLYYqASO4HIweODVWz0O8TV4NRuWgWRp5pp442JC7o1RVUkDOAgySBz2ph8PXZtNOi8yHda/aN/zHB8xXC44/wBoZpPRaArXLI8XaQR8sly2Y/NULZTEvH/fUBOV/wBoccj1FXBrWnmG4mFyDHbQLcSsFJCxspYN05yATxVG10W4g+xb3iP2fTDZtgnl/k5HHT5T/hWX/wAI1rFvpc9laNZOLvTIrOWSSRx5bojLlQFO4HPcgj36VTtr/Xf/AIH3iWrV/wCtv+Cbk/iPTLa6e3lmk3xOqSlYJGSMsAV3MF2rncOScfkaryeJEtr1LeZWnMt81qDbwyt5eI9/zYU5P04wc9jUd5oF1cWOuQpJCG1B0aIljhcRop3ceqnpmkOi30M7XFubeSRdUa8RHkZQyNF5ZBIU4PJPQjikt/68v+CHT+uz/UtjXreBJTdyh2F08EcdtDJI52842gEkgdSBinSeItNjt4ZhLLKs6syLDbySPhThiVVSVweDkDB461k3Xhe6a4N0hSWRbueVYhdy24ZJNv8AGgyCCo4wQf1pZfDt4mn20dva2pmTzWLJf3ETxM7ZyJhuZx6ggZIB46UdEPS508UqTQpLEwZHUMrDuD0NOqCyinhsLeK7m8+dI1WWXGN7AcnHbJqem9yVsFFFFIYUUUUAFFFFABUVv/qj/wBdH/8AQjUtRW/+qP8A10f/ANCNAEtFFFABUdz/AMesv+4f5VJUdz/x6y/7h/lQA7yx6t/30aPLHq3/AH0adRQA3yx6t/30aPLHq3/fRp1FADfLHq3/AH0aPLHq3/fRqhNr1jb3yWk32pJZJREjGym2Mx6APt2/jnFaNNxa3RKlFtpPYb5Y9W/76NHlj1b/AL6NOqK1uob21S4tX3xSDKtgjP4GkUP8serf99Gjyx6t/wB9GnVHDMswfasi7HKHehXJHcZ6j36UAO8serf99Gjyx6t/30acTgE+noKZBKJ4ElVXUOoYLIhVh9QeQfagBfLHq3/fRo8serf99GnUUAN8serf99Gjyx6t/wB9GnUUAN8serf99Gjyx6t/30adRQA3yx6t/wB9Gjyx6t/30adRQA3yx6t/30aPLHq3/fRp1FADfLHq3/fRo8serf8AfRp1FADfLHq3/fRo8serf99GnUUAN8serf8AfRo8serf99GnUUAN8serf99Gjyx6t/30adRQA3yx6t/30aPLHq3/AH0adRQA3yx6t/30aPLHq3/fRp1FADfLHq3/AH0aPLHq3/fRp1FADfLHq3/fRo8serf99GnUUAN8serf99Gjyx6t/wB9GnUUAN8serf99Gjyx6t/30adRQA3yx6t/wB9Gjyx6t/30adRQA3yx6t/30aPLHq3/fRp1FADfLHq3/fRo8serf8AfRp1FADfLHq3/fRo8serf99GnUUAN8serf8AfRo8serf99GnUUAN8serf99Gjyx6t/30adRQA3yx6t/30aPLHq3/AH0adUdxcRWltJcXMixxRKXd26KB1NADvLHq3/fRo8serf8AfRqrp2q2uqRu1o0mY22uk0LxOvGRlXAIyOhxzUaa5p76kLFZm84uYwTE4jZwMlRJjaWAB4BzwfSjyAveWPVv++jR5Y9W/wC+jVG21zT7y9a1t5maQbsExOqPtOG2uRtbB64JxTbXxBpt48iwTsfLjMu54XRXQdWQkAOvuuRyPUUAaHlj1b/vo0eWPVv++jWda+INPu7Oa7Q3MVvAgkeS5s5oBtIzkb1G7p2z29asafqlrqcbtamUGM4dJoXidfTKOAwz2OOaALPlj1b/AL6NHlj1b/vo06igBvlj1b/vo0eWPVv++jTqKAG+WPVv++jR5Y9W/wC+jTqKAG+WPVv++jR5Y9W/76NOrPutd0+yvktLiZ1lbbnbC7Km44Xe4BVMnpuIzQBe8serf99Gjyx6t/30ahvr+306AS3TMFZgqqkbOzseyqoJJ9gKqt4g04WMN2JpHjmcxxrHBI8jMM7l8sLuyMHIxxjmgDQ8serf99Gjyx6t/wB9Gs648Q6db21tOZJpkugWhFtayzMwA5O1FJGM9xS3ev2Nk8KTC8aSaPzVSGxmlYL6sEQlev8AFijyA0PLHq3/AH0aPLHq3/fRqld63YWN2ttcyushCk7YXZYwxwC7AEICem4jpV+gBvlj1b/vo0eWPVv++jTqKAGFFAJJYAdSXNV/t1h/z+w/9/x/jTtR/wCQXd/9cX/9BNNt7O2NtETbQklB/wAsx6UASRTW1wSILhZSOoSXOPyNS+WPVv8Avo1RWGOHXkEUaIDbNnaoGfmWtCgBvlj1b/vo0eWPVv8Avo06igBvlj1b/vo0eWPVv++jTqKAG+WPVv8Avo0eWPVv++jTqKAG+WPVv++jR5Y9W/76NOooAb5Y9W/76NHlj1b/AL6NOooAb5Y9W/76NHlj1b/vo06igCGdAI1I3ffTqx/vCpqjuP8AVj/fT/0IVJQAUUUUAFFFFABRRRQAUUUUAFFFFABRRRQAUUUUAFFFFABRRRQAUUUUAFFFFABRRRQAAADAGBRRRQAUUUUAFFFFABRRRQAUUUUAFFFFABRRRQAUUUUAFFFFABRRRQAVFb/6o/8AXR//AEI1LUVv/qj/ANdH/wDQjQBLRRRQAVHc/wDHrL/uH+VSVHc/8esv+4f5UASUUUUAY+saSNU1PTftFslzaRGXz0kwV5TAyp68/WuefwvfTaTdCeyWS7j06OKzZnUtHMjSEbTn5SAU5/XrXbSzxQKDNIqAnA3HGaeCCAQcg9CK1jVlFWRjOjCd79TFuxImsi/v4pvsdlGBAsMTTM8r8M+1AW4Hy9P4mrL1y2m1q4gvtM06e4aNCkYuoBGituByVk2SJ2+dOfY4rrSwUqCcFjge9LRGpytO2qCVPmTjfR/f/XyOW/s/UhqflfYGMP8Aav2z7T5qbdhTGAM7sg+351nWfh6/jtoo49K+yXCW1wlxceZGftO9WCJkNk4JB+bAG3ArudwLFcjcBkjPIpaftpJWt/VrCdGLlzN/1e5xb+FHSS4kg06JZBFaPAw2ArMrnzWBzw2NuW7+9Jqeg3svmONOa5k+0XDxKxieP5yCpZWYEZx95SGHPrXa0U/bzvcSw8FHlRyZ0i9XxOLtLDcXYGWeQoyqPL2/I+RIOeNpBXqe9UG8O6gLCOGXTfPuTYwQ20/mJ/oMig7jknI5IOUyTjHpXdMyopZyFVRkknoKWhVpL+uwPDxZy8egTR6kL4Wi/aRqjS+fld/kFcHnOdpP8P44o1Wwnv78XV5oTX6Nb+XDA00am2kDHLbt3y5G35lywx0rorm7gs4vMupViQnaCx6n0HqafDNFcQrLBIssbjKuhyD+NL2stH2KdKDuu/8Anc5j+xrj/hLGuf7P3xTSHzp5jGwCGPbhHBDjsNhBXqeKteHNLvLOeaTUlwbeNbO1O4NuhQkh+OhORkH+7W9JIkS7pG2jIXPuTgfqaaLmExpIJUKSEBG3DDE9AKTqSat8gVKKd/mSUUUVkbBRRTfMTzTFvXzAu7bnnHrigB1FFFABRTWkRZERnUO+dqk8tjrigyIsixs6h3BKqTycdcUAOooooAKKKKACiiigAooooAKKKKACiiigAooooAKKKKACiiigAooooAKKKKACiiigAooooAKKKKACiiigArP12zmv9EuLe22mYgMiscBirBgpPocY/GtCijcDC08XzapearNpk9v9oWC3S2eSMuArNukO1iuP3nQEnC9O1RXMOo3viWzkOnzxJaTM3ntcI9u0e1hkLneJOf7oxzyR16KigDktH0rUrbWbeSW1mj8ozmZ5ZkaBt5yPJUEsvOOoHGc5JqWO01G+1ie5utLmgVrOSCWO4u0aN2bbgRMpLKpwckhT04yOOoopW0sGxydtpV7LY6lD9gvLe1ktkSK0u78SOZVJyyvufaPu4z3HKjvd8O2F7Hf32o6h9rV7lIolS8eIyYTcckRfIM7+APTJ61v0VVxWCiiikMKKKKACiiigArltW03UHn1a0trN54tX2YuRIgW3wgRtwJDcBcjaDkntXU0UdQ6WM6/ubxbWYQabPPtfZiOdEkdCv30JOMgnGGK9CfTPPrpGox6XYB7O6KxXM0rRQTxrdKHzt3PuCk/Md2G545POexopAck2lXMWi6YlzpV1dTW8ckf+g33kSRBiMZw6K3AG456jIBzSahpmpmwtQ1ndXWqfYVh+3Wt/5QjlHd13Llc85AYnn5fXrqKYLRWOc1n+0Zr2CzbSLq7sNqvczWzwDzmB+4Q8ikKMZOBz06Zz0dFMZsUAOzSbq8p+NXxYvfhrp+mrpFlb3V7qDybWudxjjWPbnIUgkneMcjvXj3/DU3jf/oGaD/4Dzf8Ax2gD6xvFM1jPEmNzxsq59SMVTivL+OFE/sxjtUDPnpXy1/w1N42/6Bmg/wDgPN/8do/4am8bf9AzQf8AwHm/+O0AfU9ubmbU/tFxbfZ1WEoMyBsksD2+laG4etfJH/DU3jb/AKBmg/8AgPN/8do/4am8bf8AQM0H/wAB5v8A47QB9b7h60bh618kf8NTeNv+gZoP/gPN/wDHaP8Ahqbxt/0DNB/8B5v/AI7QB9b7h61XbUbNdRTT2uoRePEZlty48woDgtt64ycZr5Q/4am8bf8AQM0H/wAB5v8A47Xmtx468R3PjT/hK5NTmGsCXzFuFONnooHTbjjb0xxQB+gO4etG4etfI4/al8bhQDpugnjqbebn/wAi0v8Aw1N42/6Bmg/+A83/AMdoA+t9w9aNw9a+SP8Ahqbxt/0DNB/8B5v/AI7R/wANTeNv+gZoP/gPN/8AHaAPrfcPWjcPWvkj/hqbxt/0DNB/8B5v/jtH/DU3jb/oGaD/AOA83/x2gD633D1o3V8kf8NTeNv+gZoP/gPN/wDHaP8Ahqbxv/0DNB/8B5v/AI7QB9Zzn92P99P/AEIVNXhvwe+NmqfEPWbzR9esLO3uIYVuYpbMMqlRIilSrMxzlwc59a9vRs0APooooAKKKKACiiigAooooAKKKKACiiigAooooAKKKKACiiigAooooAKKKKAMjWvE+maGyRXUrS3cn+qs7dfMmkPso/mcCqVh40tZLtLLW7WfRLyT/VR3gAWUf7L/AHSenHBycc1zWs2D6H8SYG8O3dtp1xqNs8kn2z5oriQN9zJORnP8P5VD4pbW9Vm0qw8STWNpBeX0UTaXavvldM8yFzyBxxj+9zzQtUvMb0v5Hp9Fc54Ainh8FWcV0sqPG0qhZc7gokYKOecYxj2ro6b0YirfalZ6ZEsl/cJCrttTceXPoB1J9hT7O9tr+2W4sp0nibIDo2RkdR9fasjUrm203xTbXuqSLBam0eKO4lOI45NwJBY8KWAGCeu0iqF7f2Fx5VxbSSWulXF8ReXscpiSYiL5WEgIIUsFXcMZK4yc8pbf13GdbRXF2urCyvLSabUnGjC7nihup5yUkTy1K7nJ+Yb94UknOOtP0uaTVdT05Zru7MDLfS7VndN+y4UJuwQcAHGD9KfX+u1xHY0VwtpqM0V9dR2V22oXzw3LRmK8dyGGSolt2GIsHCjHfjHNR6ZdzSRXPkaxEi/2fI07xX0168b8YkZSg8sj5sqMZ9Pl4Q7HfUVzfhK8jne8hil84RbCZItQe8hJIP3XfkNxyvbI9a6Sm9BBRRRSAKKKKACiiigAooooAKKKKACorf8A1R/66P8A+hGpait/9Uf+uj/+hGgCWiiigAqO5/49Zf8AcP8AKpKjuf8Aj1l/3D/KgCSiiigCpfmYIgt7d5WYlS6Fcxr3xuI5okt/MS1jWNliU/OhboNpABweecVbooAyPsd4scYQPkxLv/edX2OCevXJXn/CpTDcW9wjxRSSRhlLIrjJO1gTyfXFaVFAGR9kuxFkRnzWt4lZtwOSrHcvUckH6e9H2a6CxsscjEMcIxAVBkej8d8EE8ZGO1a9FAGffx3MlwvkRFlAUhweQd3PVhjj2OapqZJbgwwkmZUk8xlmHzncPQ8dxzjHatyigCh5ErWN4ixNGJFYRRMwJHy49SBk+9VpRPb/AL2JWhbKJHFJID5jHIJ6n1B9flrYooAzNTtnFraiGC4neBwVkglVZYztI3Df8rdcEH16GsuODWVO2S0lPneQd6SRqI9szM28Bh8xUjO0EE5rp6KtTsrWM5Qu73OaXStQjaGSNZBIzuZz53UfaEZc89kDY9Bkd8U+O31EWdjZGwYeQ6SGbzU2cZJB53A544B69a6Kin7R2DkSOUsdL1KSUC7tpIoGaEyx+YArECTfx5jE9UBJOWpy6Lfr9lRUk2Nt+05nzuAmBGfm5+TcPpx7V1NFP2rvcXslaxyzaVqFtbg21u0jMsySK0xOV85TH/GM4j3YGRxwSM4qKPTdWSGQmzLBsKI2ZflTzWbAUSAYAI+XdjHHPSuuooVVoPZK1jlYNH1GWyP2mOYSoiiIefgp+/cno3B8sqOvTjNNu9N1VJ2itbVjCkha3dZASg354zINox/sk4JHA69ZRR7V3uHsly2OUl07UfO8yOxke5QXG+dpwFm3Z2Yw4bpx/DjpnvUQ0nWXXdDGYVSZ2EbME3RlI8oNrts3FW5BOM5712FFNVWugOkn1OdhtdRPiSK4No0FuJW3MGGPL8sgA/vDn5scBQAR36noqKKzlLmsXGPLfzCiiipKCiiigAooooAKKKKACiiigAooooAKKKKACiiigAooooAKKKKACiiigAooooAKKKKACiiigAooooAKKKKACiiigAooooAKKKKACiiigAooooAKKKKACiiigAooooADUEpwKnNV5+lAHzP+1U2648Mewu//AGjXB/Dvwx4W17RZf7RRtR1qS68ldOXUo7ORYtuRJCHG2V88bSR06V3X7VH/AB8+Gfpdf+0a8h0Dx94g8NWAstLuIPISb7RCtxaRTm3lxjzIy6ko2O4oA7PT/g2o8XJZ39+zWca2M8sfl7JTHcy7AmeQGXuad/wpa1u47vUrDxRB/Y9s0yyzm0kLRNHIqMm3gtjcMN39q5cfFfxmsSJ/a6kp5X702cBkbyn3xhpCm5grcgEnqfU026+KXi67tZbZ9SiigmRkligsoI1fewd2IVB8zMoJbqfWgDs1+CsOmwa3NcataaoNOt7qKYESW4trhI1kRt38Q2sCe3bmoG+BM66vHZf8JAjA27TF00+Y+bjbxB/DOPmz8rZAHI6VyJ+KHjApqCnWDjUneS6xbRDzGaNY2P3OMqqjjHTPWrB+LPixioe4sWiG4vAdMt/LlY4y7pswzfKvzHnigDpdR+Ella+HbHUL7VIdJtLeNxe30kE7PK5nMcY8lgrJ0Oc4xjmoNT+B93pVpOtxr1q2pJaXF5DZpA5E0cDYf950HGCM+vbFYB+LfjOSbfdarHdKQQ0VxZQSRtl9/KFMEhuQe3bFVbj4l+Lru4E9zrDSyi3ntt7QRE+XMcyL93ue/UdsUAdR4Z+FkHizwXo97BcxWNxObp5ZAHmlnWNlUKkI6kbs8HOKw/Dnw5l1/wAW6jopv5YFsCQ866bcOT82BlCoMY9d+3HvWfpHxB8RaJptvp1ndQPY2+/y7a5s4Zk+dgzZDqc8qDz0xxRZ/EHxHZapqWoreRTXOqMr3ZuLSKVZHU5RtrKVBU8ggDFAHqln8HPC1vpllpGt3so1mdr55Lu339LbgqoOV25IySMntisCD4B6lcWtlLHrMIe5aEsr2zqqxykBGVzwzYKkqOmepxXISfE3xdLqdtqEmrbrm1adomNrCQPP/wBbldmGDY6EEemKfH8UfFkSweVf26S27IY51sLcSgIcopfZkqp6KeB06UAWLT4f2d3reswL4jhXTNEh8y91BrR+G3bdix/eb5uM8etdtrXwB8y+uH0LUhDa7EFqJonkEr+SrsXkAAjUlsAkfhXlukeLtY0TU72+sriMyX6sl2k9vHLFOGO4ho2BU889OK15fit4wuWla71KG5eQ7leaxgcwtsCFo8p8hKjBK4/PmgDo7b4Gahd6XY30WrxxxS4a7NzZTQfZ08tpC6hwGkACkdBk4xxzXXaL8GfCV5o2mXltNNqZuYYZBK8rwxzbzLk7cbl4QcZ4PrXmQ+LvjNWjaPU4Y2V1kdksYFM7KhQNIdmXOw7fmzkUL8XvG0XlrbatFbxRBVihhsLdEiVd21VUJgAb2496AOgh+Bl3fNHBpuvWs19stZ57ZoHUQwzjKtu5DEYOVHp+Fcr488CT+B7uyWS8F3BextJE7QtDINpwQ0bcr7eopsPxL8XW9y9xBrDRyyRW8LOsEQJSA5iH3e369Dmq+peOdc1W3mt7l7JLeaIQtDBp8ESqobd8oVBtO7kkYJoA7z9mxtvxLu8f9A1v/R8NfXsJyBXyD+zd/wAlKu/+wa3/AKPhr68t+lAFoUtIKWgAooooAKKKKACiiigAooooAKKKKACiiigAooooAKKKKACiiigAooooAqalpdjq9m1rqdrHcwt/BIucH1HofcVS0XwtpGgs0mn2uJ34aeVjJIR6bjyB04HpWxRRsAUUUUAHXrRRRQAUUUUAFFFFAB06UUUUAFFFFABRRRQAUUUUAFFFFABRRRQAVFb/AOqP/XR//QjUtRW/+qP/AF0f/wBCNAEtFFFABUdz/wAesv8AuH+VSVHc/wDHrL/uH+VAElFFFAEN1c/ZYw5ieQZ52lRj8WIFVZ9UC2zSW0TygRCTeANq5GRnnP5VYubNbmSOTzHjePO0qAevXqD6detQtpUZiESzzJGYxG6qR84AwCcjr9MUALNflJQkULsvmrGZSBtySAR1z364xUtxerbzRxeW8jyAkBCvQYyeSM9e2TTG09WmL+dKEMgkMQI27gQc9M9umcU68sVvU2SSyKhGGVcYb8wcH3GDQg6ii8jYgANzK0Q47gE/lxVaHVgbNZriGSPMHm5wMOAATtGc9+hxUw09BciUTS7RIZBHkbQxBBPTPc96jXSYxB5LzzSIIjCgYj5FIwcccngdc0LbUY5dSBm8tradMOEYttwpPTOG757Z96SPU1LRx7Hkdy33Qq4AYrnBbn8M/hUzWcbO7Etl3Rzz3XGP5VE+lxyRCIyyiMMWK/Kcktu7jjk9Rg0InUH1FStz5aOPIVsyEKRkDpjdn88Z9acNQTzApjk2bghmwNoY9uue+OmPekk02OaZ3llkbcjIAdvyhuuDjP5k0v8AZ6ecG82Ty9wfyuNpYd+mewPXFCGwttQS5kVRFKgdSyM4GHAxnGDnv3ptzfmJmWKF32OqNJgbVJI4POehHQd6liso4TCVLHyVZVyeoOOv5UyXT1lmZ/OlRXZXeNSNrMMYPTPYd+1C8wE/tOI3HlLG5yzIrArhmGcjrnseoA461Emr/wDErgvJraRBJHvYBk+UYz1LDP8AP2qeOwSK6MqSOFLFvLwu3J6nOM9/WoTpEXlIizTKEjMQI252Ht93j6jmgegragVuAvBj81lY7OQBHv455/zx3qxaXQu4fMWN0U9NxU7h6gqSKYNPiEm8PIDvL8EdSmz+X6061s1tWkYSPI8hBZmCjOPoAKZOpYooopDCiiigAooooAKKKKACiiigAooooAKKKKACiiigAooooAKKKKACiiigAooooAKKKKACiiigAooooAKKKKACiiigAooooAKKKKACiiigAooooAKKKKACiiigAooooAKKKKACiiigAooooAKKKKAA1XmGRVg1FIuRQB5L8XfhvF8QLSzBupLS4smYxSrH5gw2NwK5Gfujv2ryf/hnOf8A6GF//Bd/9sr6mlh3dqg+zD+7QB8wf8M5z/8AQwv/AOC7/wC2Uf8ADOc//Qwv/wCC7/7ZX099lH92j7KP7tAHzD/wznP/ANDC/wD4Lv8A7ZR/wznP/wBDC/8A4Lv/ALZX099lH92j7KP7tAHzD/wznP8A9DC//gu/+2Uf8M5z/wDQwv8A+C7/AO2V9PfZR/do+yj+7QB8w/8ADOc//Qwv/wCC7/7ZR/wznP8A9DC//gu/+2V9PfZR/do+yj+7QB8w/wDDOc//AEML/wDgu/8AtlH/AAznP/0ML/8Agu/+2V9PfZR/do+yj+7QB8w/8M5z/wDQwv8A+C7/AO2Uf8M5z/8AQwv/AOC7/wC2V9PfZR/do+yj+7QB8w/8M5z/APQwv/4Lv/tlH/DOc/8A0ML/APgu/wDtlfT32Uf3aPso/u0AfMP/AAznP/0ML/8Agu/+2Uf8M5z/APQwv/4Lv/tlfT32Uf3aX7MP7tAHkHwr+EsfgTVLjUpL6S9uZkWFWMPlKiF1YjGTkkqOc9q9tgGBVJoNsYwP41/9CFaMaYoAlFLQKKACiiigAooooAKKKKACiiigAooooAKKKKACiiigAooooAKKKKACiiigAorA13X7nw/qME95bK+iSAJNcx5L28hPDMP7h4GR0P4VHd+Jnudag0nw3HFez5WS7nLZht4jzyR1YjoPxoWobHR0UUUAFFc5rWqXen+KNO2y4sPKb7VHgdGdEVs9sMw/DNVLnxFcW3iu7mkkY6Va2UwEKgZkljaPcQfq+z6g0LX8fwHb+vU66iueu/El5pkVx/ammxpNHbG5iSC5LrIoYKyklFwQWXsQc9ah1HxbJptz9kuY9Oiukh86VJtQ8tcEkKqEplmwpzwAOOaAsdPRUNndJfWMF3CGEc8ayKGGDgjIz+dTUPTQW4UUUUAFFFFABRRRQAUUUUAFFFFABRRRQAVFb/6o/wDXR/8A0I1LUVv/AKo/9dH/APQjQBLRRRQAVHc/8esv+4f5VJUdz/x6y/7h/lQBJRTfLHq3/fRo8serf99GgB1FN8serf8AfRo8serf99GgB1FN8serf99Gjyx6t/30aAHUU3yx6t/30aPLHq3/AH0aAHUU3yx6t/30aPLHq3/fRoAdRTfLHq3/AH0aPLHq3/fRoAdRTfLHq3/fRo8serf99GgB1FN8serf99Gjyx6t/wB9GgB1FN8serf99Gjyx6t/30aAHUU3yx6t/wB9Gjyx6t/30aAHUU3yx6t/30aPLHq3/fRoAdRTfLHq3/fRo8serf8AfRoAdRTfLHq3/fRo8serf99GgB1FN8serf8AfRo8serf99GgB1FN8serf99Gjyx6t/30aAHUU3yx6t/30aPLHq3/AH0aAHUU3yx6t/30aPLHq3/fRoAdRTfLHq3/AH0aPLHq3/fRoAdRTfLHq3/fRo8serf99GgB1FN8serf99Gjyx6t/wB9GgB1FN8serf99Gjyx6t/30aAHUU3yx6t/wB9Gjyx6t/30aAHUU3yx6t/30aPLHq3/fRoAdRTfLHq3/fRo8serf8AfRoAdRTfLHq3/fRo8serf99GgB1FN8serf8AfRo8serf99GgB1FN8serf99Gjyx6t/30aAHUU3yx6t/30aPLHq3/AH0aAHUU3yx6t/30aPLHq3/fRoAdRTfLHq3/AH0aPLHq3/fRoAdRTfLHq3/fRo8serf99GgB1FN8serf99Gjyx6t/wB9GgB1FN8serf99Gjyx6t/30aAHUU3yx6t/wB9Gjyx6t/30aAHUU3yx6t/30aPLHq3/fRoAdRTfLHq3/fRo8serf8AfRoAdRTfLHq3/fRo8serf99GgB1IRSeWPVv++jR5Y9W/76NADTGDTfKFSeWvq3/fRo8tfVv++jQBH5Qo8oVJ5a+rf99Gjy19W/76NAEflCjyhUnlr6t/30aPLX1b/vo0AR+UKPKFSeWvq3/fRo8tfVv++jQBH5Qo8oVJ5a+rf99Gjy19W/76NAEflCjyhUnlr6t/30aPLX1b/vo0AR+UKPKFSeWvq3/fRo8tfVv++jQBH5Qo8oVJ5a+rf99Gjy19W/76NAEflCjyhUnlr6t/30aPLX1b/vo0AQTRgRj/AH0/9CFWAKimQCNSM/fTqx/vCpqACiiigAooooAKKKKACiiigAooooAKKKKACiiigAooooAKKKKACiiigAooooAZLFHPC8UyLJHIpV0YZDA9QRVPR9E07QbI2mk2q28JYuQuSST3JPJq/RQAUUUUAUb3R7bUJne53sJLZ7ZlBGCjkE9uvyiqieFtPW1ht3M0scVrJane/MgkKszMQM7iVzkY5JrZoo/r+vvAxZPDMNzDcLf315ePND5AllKBo0yCQu1QOSBkkEnAqxe6P9quzc299dWMzxiKVrYp+8UEkA7lbBGTgjB5rSooAbGgiiSNSxCqFBZixOPUnkn3p1FFABRRRQAUUUUAFFFFABRRRQAUUUUAFFFFABUVv/qj/wBdH/8AQjUtRW/+qP8A10f/ANCNAEtFFFABUdz/AMesv+4f5VJUdz/x6y/7h/lQBJRRRQAxpo0lSN5EV5M7FLAFscnA70SzRwqGmkWNSwUF2ABJOAPqScVieIob17yxk01GM0cdxsfblUYxELk9Bz61zlyJpme2s/7YkQQ2srR3DSNIHE43MofJzgdR8vHHFbQpKVtTCdVxvp/Wh6DRXIQQ3dzcRQwNqq6Y9+QplkmSXy/IbdlmIcLvxgk9enanaObnS5bS61W6u4oGtZhdSXs7+WrLIojJ3nCnaT6Z6nPWh0vMPbPt/V7f15HW0Vyuv6hHqNtBPo19JdQxs6uNPeR1dtowpeAllPPGQRzz2qO4vNUU3EJt9SWadrR4gqM4jXK+YC6jaMc5HGfTFCpNr+v68wdaKZ1cU0VxHvgkSVMldyMCMg4I49CCPwp9cPpUN5bzxJBHqkdz9su2nV1kEHklpCpAPyZJKkY+b8KiNhqyaKZll1c3Q0iKcKZ5iftQHI256+qdD3FV7FXtf+tf8jP6xLlvy/1p/mdzFcQztKsMiu0L7JApzsbAOD74I/OpK4zU/wC0/OvWZ9QES3zGNI1nw6eTHgBovmUbt2CAVznNSGXURrljK8WosZFgDW5MgWHI+cl1/dPjJyGAPHB6UvZXSdy/bWvdd/wdv+G7nVwXEV1CJraRZY2zh0OQcHB/UVJXDN/af2Jft/8Aa+/7M/2X7P5u7z/Mf7+322Y3/LjNXHg1b7RJdu999oj1G2RUjkfyjEVjEvyfdK8vzjjBPFHslff+r2B1mle39Wv/AMN3OtormtZne4vLd5V1RNOEcysLNJkk84MAuQnzbcBsH7p4zVdmv08RWpxqcyv5SmNxIgjXbhmYpmFu5IODnoelSqd0VKrZtf1/X63OtorntCTUzqcsd+1z5NgjQRvITtuSzkh+fvEIEGfUtXQ1Eo8rsXGXMgoooqSwooooAKKKKACiiigAooooAKKKKACiiigAooooAKKKKACiiigAooooAKKKKACiiigAooooAKKKKACiiigAooooAKKKKACkZlRC7sFVRkknAApazPEdvNd+HruG3jMrsoPlL1kUEFl/EAj8aT2At2OoWWp2/n6bdwXcO4r5kEodcjtkGkXUrFtQawW9tzeKNzW4lXzAPXbnNY+mXQk1i/1OO2vI7OdbeBFe0kR2kBYM2wgMAAyjcRjC+gqvcH7R4nsI7Wyuo/s108kkLWZSLJVwZhMBtJO7pkk55APSuodDoIdSsbi8ltLe8t5bmH/WQpKrOn1UHIpkesaZN9p8nUbST7Hn7TtnU+Tjrv5+XoevpXK6TbXv9qW8YiuVaMXW6KS1aOO0LkkFZSMSZOB1PXPGKs6ArteaSi2NzbNpunvBdtLAyDefL+VSRiTlWOVyPfmpWq/r+v8Ahw6m/Y65pOprK2m6pZXYhGZTb3CSbB6nB46Hr6VNZahZalAZtOu4LuIHaZIJQ659Mg1lWcJfTr7U9RsJJ5L0bjaGMFxCvCR7WxzjJIPdiKZ4caWbU9TuSlw0Mxj8ue5tWt3OAQU2MAcLx82Od2OcUwOgooooAKKKKACiiigAqtPqdhbXkNpc3tvDcz/6qGSVVeT/AHVJyfwqzXH6zDOLnWbT7LcTXGpeV9iljgZkXCgfM4GE2sC3zEdeM0dQ6HV3V3b2Vu1xezxW8KfeklcKq/UnioZNW06GwS+mv7VLR8bLhplEbZ6YbODVbU72FLZ2ktLqQ28oXzI7MytE23IkVcZYDOMqDyT745uKC6h0zTZTHdwCO8uJTdpZO8vzlsMYMErv3HPy8egzwgOuudU0+zto7m8vraCCXHlyyzKqvkZGCTg8VJcXdtaW/wBouriKGHgeZI4VeTgcnjkkVyZuJNL8N6XE2m3AvHjeFZksZZ/s8ZPzOyorEFgFOz146A1Hr+mXlxoUMOnWUlzp1rZKLaNyySmTGAzRlc5CjgdcseOBVCb0udjcXVvaIrXU8cCu4RTI4UMxOAoz3J6Cpa4/xVZateyxzjT1uIoJLYwRpLko/nIXYjb2AxnsNx712AzgZ4NLpcoKKKKBFfUCV0y6IOCIXII7fKarQaRYNbxs1rGSUBJx7VbvImmsZ4k+88bKufUjFVYrm9jhRDpsh2qB/rU/xpgMgtYbTXFS2jEatbsWC9zuFadUIFuZtUFxNbGBFhKfM6tklge30q/SAKKKKACiiigAooooAKKKKACiiigAooooAjuP9WP99P8A0IVJUdx/qx/vp/6EKkoAKKKKACiiigAooooAKKKKACiiigAooooAKKKKACiiigAooooAKKKKAGeUvq//AH2f8aPKX1f/AL7P+NPooAZ5S+r/APfZ/wAaPKX1f/vs/wCNPooAZ5S+r/8AfZ/xo8pfV/8Avs/40+igBnlL6v8A99n/ABo8pfV/++z/AI0+igBnlL6v/wB9n/Gjyl9X/wC+z/jT6KAGeUvq/wD32f8AGjyl9X/77P8AjT6KAGeUvq//AH2f8aPKX1f/AL7P+NPooAZ5S+r/APfZ/wAaPKX1f/vs/wCNPooAZ5S+r/8AfZ/xo8pfV/8Avs/40+igBnlL6v8A99n/ABo8pfV/++z/AI0+igBnlL6v/wB9n/Gjyl9X/wC+z/jT6KAGeUvq/wD32f8AGjyl9X/77P8AjT6KAGeUvq//AH2f8abbDEJH+2//AKEalqK3/wBUf+uj/wDoRoAlooooAKjuf+PWX/cP8qkqO5/49Zf9w/yoAkooooAbIEaMrKFKMMEN0Oe1V7LS7HTd/wBgtIbffjd5aAZA6D6DJwO1R6myLGm6BpXYlVIiaQJkckgA9v8APWnOj+XaRwtKIzwzYIbGw4zxxzindpMTSbVy4SBjJ69KKx918I4j++ZjErsSmcOUfPbjkLx/jUxkuLa4Tf57w7lLEIWPKtnoOmQPpSGaVFY4a7VDKEm857aLdlT/AHjv7HnB6dfSl826VY2zMw3HagVgcZHUlfr94DI796ANeis+/mnS4VYFl6KQygkE7uRgKe3qR1qu090JAitP5pRzICnAII+7kc4BOMZ9+aANiis9vMl069VRK6lGEXmKQx+Xpg8nn1qFp7iFWli85402ArKmCzHIIGQO5U+nWgDVd1jUs7BVHUk4ApevSsfWYQbK0+0ebI8MgYOtsZ13bSMug5I5PToccis21u763jWBLS4gWQQeQkVs+wDzm8w9D5eVwdrHIBx2rRQurozlUUXZnUswUZYgDOMk0uRXMY1T9yzm6k812MiPHkLtuUCYGOPkLfUDPbNLFJMNP06y+x3YnhkSQ5gYKQMk/NjAPbBwc/Wj2el7hznTUVyljPql1KI3+3RQu0O8sr7hkSbxuZFx0TOBgdsU5Rq6/ZUMt6wn2idivK4mC+ny5Qn8s+9P2Tva4vaq3NY6miuWaTVLW3Dk30+9ZkcYOVCzKqHhSR8hJ4BJAzyeagjm1JVknkgvGJAiVgsisE81sZOwtjGOducc8daFTb6g6iS2OworlYG1i4si7yXsbxovlgRkFv37rkgrknywvUd84zzTbu51W3naCJL5vJkPkybXYON/Q4Q7uOMswGPU80/ZNu1w9quXmsdZRXJTyX32lZ/L1CS5hFx5iLEQi8EJsJUjpjGM57gniojJrMjLLBDcMIpZACytvWIpGW2F1G5s79u4Yz9KFSb6g6qXQ7Kiudhu75/EkSJHdrbGVlbzFcr5flkg8oFX5sfxFucH0HRVnKLja5cZKV7dAoooqSgooooAKKKKACiiigAooooAKKKKACiiigAooooAKKKKACiiigAooooAKKKKACiiigAooooAKKKKACiiigAooooAKKKKACiiigAooooAKKKKACiiigAooooAKKKKACiiigAooooAKKKKACiiigAooooAKKKKACiiigAooooAKKKKACiiigCO4/1Y/wB9P/QhUlR3H+rH++n/AKEKkoAKKKKACiiigAooooAKKKKACiiigAooooAKKKKACiiigAooooAKKKKACiiigCpd6rp9hIEvr63tmI3ASyhcjOM89s1brmfEWj6nf3d1Lp00kStYeVtXy8TncSYyWBK5B4IxgmqC6PrguroQefbuUm8mfzBtKlSIkJ8wn5cr/BwVJyc8i2HbU7WiuJudK1J0jNlpd5b2qlt9rJdLI7PtXEgHmgAAg/x5yc4zzVhdD1Tz/OlM8sq3dviRrjrCIkWU43Y5IbI79fSgOlzqIry2mZFhuIpGkj8xAjg7k6bh6jkc0+WeKAKZpFjDsEUscZY9B9TXBf2Zd6Lo9rdzxGyOnafty864kmWVGCDDHIfaQPrjAPFdJ/ZVzdeETbTsRfSqZ9zHPlzlvMH4K2APYUaWuFtbGr9ttvtX2bzkM2ceWDkg4zz6cc1PXIPpOuS2kdxEptb+6e5muAJhiJmiKRAkHnGEHGeRmoF0bW/sha1S4t3aURGF5VULGyFXkGJH5BKt1ySvTJ5A0O2pks8UCq08iRhmCKXbGWJwB9SeK4h9F8QCNGuFluVR2i8pJQzMqqqxScyIMnDt1yCw4yOJptE1OS8hFxb3N3Kl1aSrdtcKFWNNm9Su7ruDN0IOc5yBTWrDodpRRRSEFFFFABRRRQAUUUUAFFFFABRRRQAVFb/6o/8AXR//AEI1LUVv/qj/ANdH/wDQjQBLRRRQAVHc/wDHrL/uH+VSVHc/8esv+4f5UASUUUUAFFRT3EduoMm85OAEjZz+QBqC41OCCEuCZD5fmDapIx2ywGBn3oAuUVVm1CKKYRDcz+YqH5TtBJH8WMZ5zipJrqK3ZVkLZbkBUZsD1OBwOepoAmoqIXMRxh8kuYxwfvDJI/Q1Xg1W2mthMzGP915rblbGMc4OPmxntQBdqNLeGKRpI4Y0durKoBNQrqVs8gjDSBi235oXGD2ySOM9s9aE1CEhN5O5iRiNGYDDEZJxx070AWqa8aSFS6KxU7lyM4PqKge/hAmCElolYksjBeOvzYwfwzSi+gMwiLHeSBkI20EjON2MZ9utAFiiq8F9b3EmyJmJK7hlGAYd8EjB69qbc6hDbtsO5nDKCApwMkDlsYB56UAWqKrm+txMYtzFhkcRtgkDJAOME9eBzxUUWq28llDckSokqbwDCxKj1OBwPfpQBdoqob9VuBGQu3zChYMflwm/J4/z+lTQXMdypaLfgH+ONkP5ECgCWiiigAooooAKKKKACiiigAooooAKKKKACiiigAooooAKKKKACiiigAooooAKKKKACiiigAooooAKKKKACiiigAooooAKKKKACiiigAooooAKKKKACiiigAooooAKKKKACiiigAooooAKKKKACiiigAooooAKKKKACiiigAooooAKKKKACiiigAooooAKKKKACiiigAooooAjuP8AVj/fT/0IVJUdx/qx/vp/6EKkoAKKKKACiiigAooooAKKKKACiiigAooooAKKKKACiiigAooooAKKKKACiiigAorzLxd8R9X0HxpHpNhFYPC9xHb4uo2UkvGGz5gfHGemz8ayPEfxa17RNbudIjbRZLyGDzgPIlK4+ofr7cGsXWir+RXK7HslFUtGu5dQ0KwvLlEjmuLaOWREOVVmUEge2TV2tU7q5IUVBbXtvdy3EdvJva2l8qUbSNrbQ2OevDDp61PTAKKjiuIp2lWGRXaF9kgB+62AcH8CPzqSgAooqOe4itlVp5FjVnVFLHGWY4A/EmgCSiqt1qdnZXdpbXUwjmvHKQKQfnYDJGeg49aE1O0k1WTTUmBu4ohK8QB+VScA56fh1oAtUUVDbXcF4sjWz7xHI0T8EYZTgjn3oAmoqOe4itovMuJFjTcq7mOBkkAD8SQKr6jqtppSRNeNIPOk8uNYoXlZ2wTgKgJ6Anp2oAuUVXsb+31G1FxZyb4ySvKlSpBwQVIBBB7EZqxQAUVDaXkF9b+dav5ke9k3YI5VipHPuDU1ABRRRQAVFb/6o/8AXR//AEI1LUVv/qj/ANdH/wDQjQBLRRRQAVHc/wDHrL/uH+VSVHc/8esv+4f5UASUUUUAVby0e5aMpKqhc7kdSytn2BHI9/Wq50uVbbyIrlVRoVjkzFknAxkc8frWlRQBSexlaY7Z1EJlWXZ5eWyCDjOenHpS31k92VMcqxEAgPsy657qQRj9RVyigCkthItyH88eUsplCeXySVIIJz05z0qEaVK1qIJrpWVIDDGRFgjIAyeeenbFadFAFVrLdJI/mffkjfG3ptxx+OKgbSn2oEnVSpY7/L+cZYtwQeOuOcj2rRooAz5NMeSWc+cqLKjqQkZGdwxlucHH0Bp32B/MC+cvkeYJCmz5twwfvZ6ZGelXqKAKkFj5Jtz5m7yEZPu/ezj/AAps1jLJLJ5c6pFK6yOpjy2Vx0Oeh2jtV2ijYCjFpvl3nmb4zHvaQKYzuBOe+cdz2qFtIka0it/tCFI4jEA0ZIx2ON2N2O5z+FalFA7lH+zcS7/N/wCWhfGz1j2Y/rUljaPaBw0isGxhEUqq49AScfyq1RQTYKKKKBhRRRQAUUUUAFFFFABRRRQAUUUUAFFFFABRRRQAUUUUAFFFFABRRRQAUUUUAFFFFABRRRQAUUUUAFFFFABRRRQAUUUUAFFFFABRRRQAUUUUAFFFFABRRRQAUUUUAFFFFABRRRQAUUUUAFFFFABRRRQAUUUUAFFFFABRRRQAUUUUAFFFFABRRRQAUUUUAFFFFABRRRQBHcf6sf76f+hCpKjuP9WP99P/AEIVJQAUUUUAFFFFABRRRQAUUUUAFFFFABRRRQAUUUUAFFFFABRRRQAUUUUAFFFFAHzL8bc3fjzVbaOJt6mEh14IPlIQc1wFvBPavHcC1mubxpV3SPmRiM88dSa+yL3w7ouo3JudQ0ewu5yADLPao7YHQZIzUC+EfDaMGTw9pSsDkEWUYI/8drlnQcrq+51U6yhJStsL4RQR+CdDQbsLp9uBvXDf6teoPQ1r0iqqIERQqqMAAYAFLXTFWSRzyfNJs5FvDtxda5I97ZJNZSaq87rIVZWjNqEBK55+cYxj3qhN4e1JLXTwumG4uLZGjiErRPFEPNJXOWDJhduGQk4GMcCu9oprS3l/wxPc42fQriD+2lttFhl+2XscxYLGRNFhdwwWXJDBjh8LznnkVUt/D15DbwjUdEbUbRDcrHYl4R5RdwyPjcEHGR8vK54rvaKFoO5xWo6NqdxrdtMmmAGCW1Mdwjo5WNSvmAyO2/8AvDCqNw6kkkUsvhUf8I3tk0eC4uzqX2mWMrGWmQXDNjLHB+QngnoSK7Sin/w/9fcI53xLolxq81h9lQJ9nWV0kyB5Mm0GM4/3gOlZI0PWT9tv57GOS8v7T9/EZAyhjIP3f3hnbGAOoBI6813FFLrcd9LHEaf4ZuJPIhvdNUWK6o1x9nlEQVYjb7fuIdoHmfwjPrz1pV8Pawl5qMijIuvtS2jbwPsTMSVkHPO7OCcbhgds121FH/DBf+vv/wAzgI/Ctw2j3cZ0lsFrZxaTLbqsjJJlyoQ7clcjcxBbODW74k0+4uodJays7hktbkSSRWsqRSInlsuFJYDgkDg10VFMRwk2hanLpUNtPpf2iEzXDhZfJlmj3EbC5ZthPLZYbiOMdzUi6HqS3uk3D6e091FBaxyyztE6R7fvkNuDowyeV3BuMiu3ooWn9dgev9dzg4vDetx2moRlN0l1HcLbSeYoNrmVm2dekgIO4cg8HgDGt4asLnSFnK6fcRRTzIogPkRiMAHdJsjO0DoDgknHSumopbA9Sra3NxOyiewltgY9xLuhw2SNvysecc56c1aoooAKit/9Uf8Aro//AKEalqK3/wBUf+uj/wDoRoAlooooAKjuf+PWX/cP8qkqO5/49Zf9w/yoAd5Y9W/76NHlj1b/AL6NOooAb5Y9W/76NHlj1b/vo06igBvlj1b/AL6NHlj1b/vo0kc0c27ypFfaxVtrA4I6g+9PoAb5Y9W/76NHlj1b/vo06mJNHIzrHIrtG21wrAlTgHB9Dgg/jQAvlj1b/vo0eWPVv++jTqjFxE1w9usimZFDtGDyAc4OPwP5UAO8serf99Gjyx6t/wB9GnVHFcQztKsMiu0L7JApzsbAOD74I/OgB3lj1b/vo0eWPVv++jTqKAG+WPVv++jR5Y9W/wC+jTqKAG+WPVv++jR5Y9W/76NOooAb5Y9W/wC+jR5Y9W/76NOooAb5Y9W/76NHlj1b/vo06igBvlj1b/vo0eWPVv8Avo06igBvlj1b/vo0eWPVv++jTqKAG+WPVv8Avo0eWPVv++jTqKAG+WPVv++jR5Y9W/76NOooAb5Y9W/76NHlj1b/AL6NOooAb5Y9W/76NHlj1b/vo06igBvlj1b/AL6NHlj1b/vo06igBvlj1b/vo0eWPVv++jTqKAG+WPVv++jR5Y9W/wC+jTqKAG+WPVv++jR5Y9W/76NOooAb5Y9W/wC+jR5Y9W/76NOooAb5Y9W/76NHlj1b/vo06igBvlj1b/vo0eWPVv8Avo06igBvlj1b/vo0eWPVv++jTqKAG+WPVv8Avo0eWPVv++jTqKAG+WPVv++jR5Y9W/76NOooAb5Y9W/76NHlj1b/AL6NOpGZUQu7BVUZJJwAKAE8serf99Gjyx6t/wB9GobHULLU7fz9Nu4LuHcV8yCUOuR2yDSLqVi2oNYLe25vFG5rcSr5gHrtzmgCfyx6t/30aPLHq3/fRqCHUrG4vJbS3vLeW5h/1kKSqzp9VByKLfU7G8mmitL23nkgOJUilVjGf9oA8dD1oAn8serf99Gjyx6t/wB9Gq1tqun3sMs1nf21xFCSJHimVlTvyQeKfY6hZanb+fpt3Bdw5K+ZBIHXI7ZHFAE3lj1b/vo0eWPVv++jTqKAG+WPVv8Avo0eWPVv++jTqKAG+WPVv++jR5Y9W/76NOooAb5Y9W/76NHlj1b/AL6NOqtPqdhbXkNpc3tvDcz/AOqhklVXk/3VJyfwoAn8serf99Gjyx6t/wB9GmXV3b2Vu1xezxW8KfeklcKq/UnioZNW06GwS+mv7VLR8bLhplEbZ6YbODQBZ8serf8AfRo8serf99Gq1zqun2VrHc3l/bW8EmNkssyqr5GRgk4PFLc6nYWTQi8vbaAznEQllVfMP+zk89R09aALHlj1b/vo0eWPVv8Avo1RvNf0fT7tbW/1WxtbhgCsM1yiOQenyk55rQoAb5Y9W/76NHlj1b/vo06igBvlj1b/AL6NHlj1b/vo1DqBK6ZdEHBELkEdvlNVoNIsGt42a1jJKAk49qAL/lj1b/vo0eWPVv8Avo1nQWsNpripbRiNWt2LBe53CtOgBvlj1b/vo0eWPVv++jTqKAG+WPVv++jR5Y9W/wC+jTqKAG+WPVv++jR5Y9W/76NOooAb5Y9W/wC+jR5Y9W/76NOooAb5Y9W/76NHlj1b/vo06igBvlj1b/vo0eWPVv8Avo06igCGdAI1I3ffTqx/vCpqjuP9WP8AfT/0IVJQAUUUUAFFFFABRRRQAUUUUAFFFFABRRRQAUUUUAFFFFABRRRQAUUUUAFFFFABRXzV8S/tr/GbV/LDCNBAFkALbB5EZOB9SfzrQTRJIliuYLq4undwsyyRkAZGciuR4n3mktjo9g+W59C0VS0UMNA08OSW+yx5JPJO0VdrqWqOcKK5CbxVfR6/c2vmWnlw38dolu1vIHdWCEt5u7YCNx4I5xjuK0rfxfptzqRs08wZaRUlyhWRkzuAUMXH3T1UA447U+lx2d7G7RXNP4wEmh/2lYaZdTIZYVQF4sOsjhcghyM84wSCCRkAc1f1XWTpk2ntKqxQTtJ9oMgy0arEz9jjPy+9GwjWorBbxbaw2k815Z3loYoUnEcwQNIjNtDDDEDkjO4jHfFOn8UwW8Nqz2V15t0ziODMQY7epBL7WzkY2sSfwOADcorE8Sateafpts+m2zyzXNxHCDtU7Nx/usy89hz161P/AG/bADdHNn7YbP7o++AST16cf/Wo/r8v8w/r+vuNSisCHxhZSWzXE9td20X2X7XE0qL++j4HyhWJzllGDjqKL3xLcWttFIuiXwle7jt2hl8tTh+jBt+0+nB69cUdbf12A36KwE8SqryQrbXN9cCWf91bxIrIkbbSTufB5IGc5PpSy+LrJPnit7qe3WGKeS4jVdkccmdrHLA9jkAEj0o3DY3qKxdd1S9stQ0q0sbdn+2XBSSUKrbFCliMF154688A9TgFieLLRo2ma1u44GhkmgmZV23CxjLbMNnpyNwXIo6XHbWxu0Vharr09r4PuNYt7ZreREDxx3ag8EgAkI3TBzjIP0qzoN++o2ckr31vegPtD29q8AHA4IdmJ69adtbC6XNSiiikAVFb/wCqP/XR/wD0I1LUVv8A6o/9dH/9CNAEtFFFABUdz/x6y/7h/lUlR3P/AB6y/wC4f5UASUUUUAYXin+0vs0H9h+d9s3Njbny9u07t3bP93P8WO2axNSlngWaUyaujL9mFm2+VVEZ2hvM5xvzuzv+bpiu3JCjLEAe9VJtJ0+4vVu57KCS4UgiVowWyOnPt29K2p1FG11/X9fr3MKlJy1T/r+vyXY5eFLm11WRol1CKc6o7sXEi232bOXY/wDLPpnBPzZxjitDWNWs9U08Lo2qpO0cqtKLB2mO3nhvJbeqk9x/LNdISBjJ69KKPaJ2bWweyavZ7/13/pWOLe91SHTyWtdUV5tLeOFFEkrLMGbBLYyrEYILYPY80ww3kWpXbRx6ml7JdwNblFlELDZGHL4+UjAIO7045zXb0U1Ws72/q9xOi2rN/wBWt/wfI49NPvri6t2nm1RVmnu0mC3EqAIGYxdCNvQYIxkccjio/wDicSaZ/pEuoQt9hsy7LFIx37m8wEKQ2TwG2/MAa7Sil7V9h+xXc4e6k1I6bZyhNUVkWYLbq1wTKd/ynzFG9TgcCRSMHnpmrE5vzqVwdRGqLp3218i283eB5EezHl/Ns3b/ALvG7r3rsKKftfLv+InRv17flb7vI4w22sXOnsbmTUUli0wyReVI6Eyhm2btv3n27cqc57g1pavcXE8dmrJfJbRzAXxtkkVypjJG0p8xG4rnb0roHdY1LOwVR1JOAKXr0pOpd3sV7LTc4vUWvY4bGW0/tmVViPl28glWRzv43OmQGxjiUYx153Vpwx6n/wAJObR2ufsUcrXgmJO1wyhRDnvhizY9AK6BmCjLEAZxkmlyKPa6bd/xBUtd+34BRRRWJsFFFFABRRRQAUUUUAFFFFABRRRQAUUUUAFFFFABRRRQAUUUUAFFFFABRRRQAUUUUAFFFFABRRRQAUUUUAFFFFABRRRQAUUUUAFZniO3mu/D13DbxmV2UHyl6yKCCy/iAR+NadFAHPaZdCTWL/U47a8js51t4EV7SRHaQFgzbCAwADKNxGML6Cq9wftHiewjtbK6j+zXTySQtZlIslXBmEwG0k7umSTnkA9Opoo63DocXocF0mtWgkgucQm5MkMlqyR2u9t3yykYkycDgnOc8YqfSbi2vr2eU6XeRR21q9vbWL6dLEGiyN2WkVUJbaMLngfU462ihAcWIG1M63IlvfNBNZxxoXsjC6FCxESo+0SAZznvnGT20vDS3k+p6jqN0zmK4SGNN1m9rlk3ZIjclh95Rk9cccYroqKACiiigAooooAKKKKACuP1mGcXOs2n2W4muNS8r7FLHAzIuFA+ZwMJtYFvmI68ZrsKKOodDL1O9hS2dpLS6kNvKF8yOzMrRNtyJFXGWAzjKg8k++ObiguodM02Ux3cAjvLiU3aWTvL85bDGDBK79xz8vHoM8dxRSA5KNmsfC9jFcWd5bXHkvGl1BYm4eIE90AZl3jBxjAxgkYFZd9Z3i6ZDbvZ3Vpv0dLYRQWr3HnNzmJiM+WBxySPvn5vlr0Gin/X5/5jTsY19FPqFxYae8DR2+BcXR5K/LjbHu75bBPsp9a2aKKCQooooGQ3kTTWM8SfeeNlXPqRiqsVzexwoh02Q7VA/wBan+NaFFAFCBbmbVBcTWxgRYSnzOrZJYHt9Kv0UUAFFFFABRRRQAUUUUAFFFFABRRRQAUUUUAR3H+rH++n/oQqSo7j/Vj/AH0/9CFSUAFFFFABRRRQAUUUUAFFFFABRRRQAUUUUAFFFFABRRRQAUUUUAFFFFABRRRQB49468FeKdS8cXl9oeniS1uRGWm8+Nc7Y1XADMCOV9K3dF8Na79j8nULRoSijG+ZG3fkTXolFYewgm33NfbTceUhs4jBYwROMNHGqke4GKmoorcyMObwtDNdXUjX96ILudbie0Bj8t2UKBzs3gfIvAapLXw3b2d400FzcLGWdlgGwKjPnJBC7u5wCxAz9MbFFAGAvhG18q7El5dyTXXlbpz5auvltuQ/KgBIPdgSe9aF/o1tqa24vTJIIN/GQPM3RsjbsD0Y9Mc1foo8gMWHw2kSyFtSvpZmiWGOd2TfEinIVcKAeeu4HPfNQnwha/2Y1il7dJHI7vNhYiJS+M5QoUHTjCjH4mugooAozaTbzWdpbEyLHaSRyR4bnMf3QSc56c1TbwxbtqH2n7ZdhPtJuhbhl8sSFSpP3d3IPQnHpitqij+v6+4DFbwtYPaQW0jTPHBZGyXLgEplTuyB94FByPypz+HhNaNFc6pfzS+dHMlw7JujZCNu1QuwDjn5ec81sUUf1+oGI/hiDzGltb28tJ2eUtNCybisjbmX5lIxkAjjI9acfC9h9kubaMzRxXFtFbFVYfKkeduMjr8xznNbNFGysG5VubCK7u7O4kZw9pI0kYUjBJQqc/gxrMTwlaLGYnurqSBYZIYIWZNtusgw2zC5JxwNxOBW7RQO9ijfaTBqGitpkzyLCyKhZCA2BjHbHb0qzPC0zRFZ5YfLbcRHj5+CMHIPHOeMcgVLRQ9dxbFa1tHtiC95cXGI1TE23kjPzcKOTnntwOBVmiigAqK3/wBUf+uj/wDoRqWorf8A1R/66P8A+hGgCWiiigAqO5/49Zf9w/yqSo7n/j1l/wBw/wAqAJKKKKAKOpsixpugaV2JVSImkCZHJIAPb/PWnOj+XaRwtKIzwzYIbGw4zxxzirlFAGPuvhHEf3zMYldiUzhyj57ccheP8amMlxbXCb/PeHcpYhCx5Vs9B0yB9K0qKAMcNdqhlCTec9tFuyp/vHf2POD06+lL5t0qxtmZhuO1ArA4yOpK/X7wGR371r0UAZ9/NOlwqwLL0UhlBIJ3cjAU9vUjrVdp7oSBFafzSjmQFOAQR93I5wCcYz781sVGlvDFI0kcMaO3VlUAmgCm3mS6deqoldSjCLzFIY/L0weTz61C09xCrSxec8abAVlTBZjkEDIHcqfTrWtTXjSQqXRWKncuRnB9RQBk6zCDZWn2jzZHhkDB1tjOu7aRl0HJHJ6dDjkVm2t3fW8awJaXECyCDyEitn2Aec3mHofLyuDtY5AOO1dVRWinZWaM5Qbd0zmMap+5ZzdSea7GRHjyF23KBMDHHyFvqBntmlikmGn6dZfY7sTwyJIcwMFIGSfmxgHtg4OfrXTUUe002Dk8zlLGfVLqURv9uihdod5ZX3DIk3jcyLjomcDA7YpyjV1+yoZb1hPtE7FeVxMF9PlyhP5Z966min7RXvYXs3a1zlmk1S1tw5N9PvWZHGDlQsyqh4UkfISeASQM8nmoI5tSVZJ5ILxiQIlYLIrBPNbGTsLYxjnbnHPHWuwooVRLoDpu1rnKwNrFxZF3kvY3jRfLAjILfv3XJBXJPlheo75xnmm3dzqtvO0ESXzeTIfJk2uwcb+hwh3ccZZgMep5rrKKftFe9g9m+W1zkp5L77Ss/l6hJcwi48xFiIReCE2EqR0xjGc9wTxURk1mRllghuGEUsgBZW3rEUjLbC6jc2d+3cMZ+ldlRQqiXQHTb6nOw3d8/iSJEju1tjKyt5iuV8vyyQeUCr82P4i3OD6DoqKKzlJO1kXGLV7sKKKKkoKKKKACiiigAooooAKKKKACiiigAooooAKKKKACiiigAooooAKKKKACiiigAooooAKKKKACiiigAooooAKKKKACiiigAooooAKKKKACiiigAooooAKKKKACiiigAooooAKKKKACiiigAooooAKKKKACiiigAooooAKKKKACiiigAooooAjuP9WP99P/AEIVJUdx/qx/vp/6EKkoAKKKKACiiigAooooAKKKKACiiigAooooAKKKKACiiigAooooAKKKKACiiigDktY+I+k6L4il0a4tb6W4iVC7wxoUG4ZAyWB6EdqvWnjHTby1E8azKp6htuRz1PzV5t45+zxePNVuHh+bZGhdumfKXp+BH5Vzz6vaW2nyQ2UWXYYRHGVBzy2PrXnwxFSU52jpF2PTeGozhFQdpWufQsEyXFvHPHnZIgdc+hGakrL8MzG58JaROcZksYXOOnMYNalegeYFFcTNutoPFOpwMVurG7keBsAhWNvEM4PXjI/E1M97qtnqUwbVpp4rfULaDy5IYgJElCZDEIDxu4Ix75oWtvO34h38r/gdhRXKeL0sDe2cmoXOnLsik22+qofs8vK8huiuMccE4J4rNk8QXMNopt7mTTDFZwPYadIFdrtm6oS4LtyAvykEdT1oWozvaK483urXOqRouqzQRzalNZ7I4YjsRY2cEEqfmyuOcjHbPNZ1z4l1gWdiWvorXdZmQTyNHGLiUOVIIZDngAlUwfm4o7ef/Dhb+vnY9BoJAIycZ6e9cDqUk7trsVxqMnnNJaOlqxQiMFo/mUbQ2A2R1x681e+2XketRWdzc/bPs2pGNJpoY9+02jSdlABBPUAHHHrQ9ECVzsKK4Rdb1qDTLac3z3D3ulrdMWgT/RzvjDMoVRkBZC2Dn7v4Vt+G9RkvL7U4RqZ1O3t2iEM5VBnK5PKKA3PcCnawjoKRXV1yjBhnGQc1w9vrN9fReV/aryXE9rcNeW0aRhtPZR8oHy5HPy/PnPUVoWkg0P4b2kkc0iYtoiJVjjBQvjnoEAG77x6AZOecrpf+uv8AkO2tjqaK5vw9qdxqWi6n9puFuvImeKOYMrb18tWHKKqn73UAfj1rA0Gym0rwzaa3FaWunRR6UN72fzyXLMqkO6lVXIwTkk9TzjOT/gfiI9DJAxk4zwPeiuHsNZuLyeGOe6ivY4dVjSOdvKlO0wsx+ZVC5BzyoyORk11S63pjqrLf25DLGykSDkOdqH8TwKAL1FFFABUVv/qj/wBdH/8AQjUtRW/+qP8A10f/ANCNAEtFFFABUdz/AMesv+4f5VJUdz/x6y/7h/lQBJRRRQBFPcR26gybzk4ASNnP5AGoLjU4IIS4JkPl+YNqkjHbLAYGfenXlo9y0ZSVVC53I6llbPsCOR7+tVzpcq23kRXKqjQrHJmLJOBjI54/WgGWJtQiimEQ3M/mKh+U7QSR/FjGec4qSa6it2VZC2W5AVGbA9TgcDnqagexlaY7Z1EJlWXZ5eWyCDjOenHpS31k92VMcqxEAgPsy657qQRj9RQg6k4uYjjD5Jcxjg/eGSR+hqvBqttNbCZmMf7rzW3K2MY5wcfNjPahbCRbkP548pZTKE8vkkqQQTnpznpUI0qVrUQTXSsqQGGMiLBGQBk889O2KFtqMsrqVs8gjDSBi235oXGD2ySOM9s9aE1CEhN5O5iRiNGYDDEZJxx070NZbpJH8z78kb429NuOPxxUDaU+1Ak6qVLHf5fzjLFuCDx1xzke1CJ1LD38IEwQktErElkYLx1+bGD+GaUX0BmERY7yQMhG2gkZxuxjPt1qvJpjySznzlRZUdSEjIzuGMtzg4+gNO+wP5gXzl8jzBIU2fNuGD97PTIz0oQ2TQX1vcSbImYkruGUYBh3wSMHr2ptzqENu2w7mcMoICnAyQOWxgHnpSQWPkm3PmbvIRk+797OP8KbNYyySyeXOqRSusjqY8tlcdDnodo7UICU31uJjFuYsMjiNsEgZIBxgnrwOeKii1W3ksobkiVElTeAYWJUepwOB79KSLTfLvPM3xmPe0gUxncCc9847ntULaRI1pFb/aEKRxGIBoyRjscbsbsdzn8KB6Fk36rcCMhdvmFCwY/LhN+Tx/n9KmguY7lS0W/AP8cbIfyIFVv7NxLv83/loXxs9Y9mP61JY2j2gcNIrBsYRFKquPQEnH8qZOpaooopDCiiigAooooAKKKKACiiigAooooAKKKKACiiigAooooAKKKKACiiigAooooAKKKKACiiigAooooAKKKKACiiigAooooAKKKKACiiigAooooAKKKKACiiigAooooAKKKKACiiigAooooAKKKKACiiigAooooAKKKKACiiigAooooAKKKKACiiigAooooAKKKKACiiigCO4/1Y/wB9P/QhUlR3H+rH++n/AKEKkoAKKKKACiiigAooooAKKKKACiiigAooooAKKKKACiiigAooooAKKKKACiiigDkfEXw30rxLqT3t5e6hA8jKzpbyoFJVQo+8hI4HY1hf8KL8PBpyura0vnja4E0WMe37vivS6KlQjFNJb6/MfM73K2nWMOl6Xa6fa7vItIUgj3nJ2qoUZPc4FWaKKoQUUUUAHXrRRRQAUUUUAFFFFAEdxAlzbvDKXCOMEo5RvwYEEfhUFhplvp3mmDzHkmYNJLNI0juQMDJJ7DtVuigAooooAKKKKADpRRRQAUUUUAFRW/8Aqj/10f8A9CNS1Fb/AOqP/XR//QjQBLRRRQAVHc/8esv+4f5VJUdz/wAesv8AuH+VAElFN8serf8AfRo8serf99GgB1FN8serf99Gjyx6t/30aAHUU3yx6t/30aPLHq3/AH0aAHUU3yx6t/30aPLHq3/fRoAdRTfLHq3/AH0aPLHq3/fRoAdRTfLHq3/fRo8serf99GgB1FN8serf99Gjyx6t/wB9GgB1FN8serf99Gjyx6t/30aAHUU3yx6t/wB9Gjyx6t/30aAHUU3yx6t/30aPLHq3/fRoAdRTfLHq3/fRo8serf8AfRoAdRTfLHq3/fRo8serf99GgB1FN8serf8AfRo8serf99GgB1FN8serf99Gjyx6t/30aAHUU3yx6t/30aPLHq3/AH0aAHUU3yx6t/30aPLHq3/fRoAdRTfLHq3/AH0aPLHq3/fRoAdRTfLHq3/fRo8serf99GgB1FN8serf99Gjyx6t/wB9GgB1FN8serf99Gjyx6t/30aAHUU3yx6t/wB9Gjyx6t/30aAHUU3yx6t/30aPLHq3/fRoAdRTfLHq3/fRo8serf8AfRoAdRTfLHq3/fRo8serf99GgB1FN8serf8AfRo8serf99GgB1FN8serf99Gjyx6t/30aAHUU3yx6t/30aPLHq3/AH0aAHUU3yx6t/30aPLHq3/fRoAdRTfLHq3/AH0aPLHq3/fRoAdRTfLHq3/fRo8serf99GgB1FN8serf99Gjyx6t/wB9GgB1FN8serf99Gjyx6t/30aAHUU3yx6t/wB9Gjyx6t/30aAHUU3yx6t/30aPLHq3/fRoAdRTfLHq3/fRo8serf8AfRoAdRTfLHq3/fRo8serf99GgB1FN8serf8AfRo8serf99GgB1FN8serf99Gjyx6t/30aAHUU3yx6t/30aPLHq3/AH0aAHUU3yx6t/30aPLHq3/fRoAdRTfLHq3/AH0aPLHq3/fRoAdRTfLHq3/fRo8serf99GgB1FN8serf99Gjyx6t/wB9GgB1FN8serf99Gjyx6t/30aAHUU3yx6t/wB9Gjyx6t/30aAHUU3yx6t/30aPLHq3/fRoAdRTfLHq3/fRo8serf8AfRoAbcf6sf76f+hCpKhnQCNSN3306sf7wqagAooooAKKKKACiiigAooooAKKKKACiiigAooooAKKKKACiiigAooooAKKKKAPAfiF8SdR8M/FPVNOiN7dwqIdkMV1JEkQMSE8Kcckk/jW/wCHvF6+JdG821vL+G4YlXiN3IzR/ju6VwXxMnhtvjVriyxr505tvKMg4I8iPkDvyCM+1c+l2dFt3ln/AHUrHCyQPgH6iuWqk/dWjOiEJJKa1Xa2x9YaOXOh2JmlM0hto98hOS52jJz71crH8IO8ngfQnlVkdtOtyyvnIPlrkHPetiulbGD3Kv8Aamn/AG4WX262+1kkCDzl8w4GT8uc9OajbW9LUXX/ABMbVms1L3CrMpaIDruGePxrMk8P3DzTyBoQZNWivVOTkIqoCOn3vlPtz1qtY+G7+MWttcG1SCxgmhimidi8/mDGWUqAvqcE5NGvL5/8D+kGl/67mzF4h0ia0tbldStVjvB+4LzKvmHpgZPJB4I7HiiLXtOk1Kawe5jhuo5vJWKWRVaU7Fb5BnJGGH61zk3hPU5reASfZ3Y6eljPGt5IiAIT8wwmXBB5U46de9WpvDuoNdXkUYs/st5eQTmdpG82NYxHwBtwSShx8wxnPPSq05v67/5C6HQx6lYzXz2UV7bvdRjLwLKpdR7rnI6iqs3iHTI7O4uYLuG7W2KrKttIrshLYAIB459fSsiLw1fF4bWV7eO1t5riZLmN2M0hlDjBXbgY8w5O452jgdq8nhXU7uw+zzmztjDYrZRG3kY+YA6MXPyjbgJwBuwSeaSGdJd6p5CM1pay6gY3KSrbSRZiIGfm3uuOvSs7/hLYPsEV7/ZuofZ2hFxJJsTEMZJAZvm56E4Xccc0yPQb6Pw82irNCLczbDMGIke3Jy2cD/WHlSe+d2c8U/WdP1S6vLWO0t7KbTIVDNby3LQmRwfl3YjYFBgHHGT14GKaELL4v0+PUbyzjzPJabEYRSIzPI7BQiruznLAEnAB6mrdvr9nJa3E16f7ONrIIp0vHRDGxAIyQxXkEEEE9ap3mh3FwNXIW3kN5LDJEkjuoGxVHLLgqcrwwzjg+1UovDepW9nJJbtCtzPeCeWI3Tt8gTYFEzozbuh3bc9QMCkv6/r7x6GxL4k0mC6jinvYI45YRNHcPKgicE4ADE8mpG1iFdcj0vybjzJI2dZfLxHxgkbj1OGHTIrnLTwxq9gqtEmn3EhtJrZlmmfA8yZnzu2EkAEZB6+vrtQ6JNbzaPsnDJp9o8Du33mJVAGA6fwnrR0/rz/4Adf68h58S2A1O+siZAbCDz55dvyADqAepIHUY70WfiC3uHlS7gm05o4RcYvCi5iP8eVYgAd84I7is2y8KXVlfu329bm2ayeApPECXZmLEtgDIJJJ5yapp4PvZIp5ZfIiuBFFHDGbua4RtkgkIZpBkKSoG0ZwM9c0Lz/rf/gA7dP62/4J02naxZ6tJcLYSrOluyqZY2DI+VDfKQTnr+dXqyNGsLy2vdSu79LaJ72VHEdvIXC4QLySq5PHpWvQIKKKKACorf8A1R/66P8A+hGpait/9Uf+uj/+hGgCWiiigAqO5/49Zf8AcP8AKpKjuf8Aj1l/3D/KgCSiiigAorI1e3nutW0uNHultt8hn8iR0BwnyhipHGa5oS6zI188CalG0ljcExt57bJgV2BS2F3YJx5YA9zWsafMtzKVTle39f1+p3lMjmilaRYpEdo22OFYHY2AcH0OCD+NcneQalZzXsMD6k9kTaSOwkkkkwWYTCNuW6BcqvTPAGaq20M8LTt5erJpkmps0jKJhO8f2dAhyP3hXcMEjnjnvVKknfX+tP8AMyddq2n9a/5a+p3NFcPJBrU+muXfU0ePT5ZLfY8iuXEh8rdjq+zGVOc9xWtZ3kOhX19Hqt+ba0cxtA9/cnDMV+cKznnkDgHj2pOlZaPUtVtdVZf8C5uG8theizMyfaWTeIs/Nt9celTVx11bTTaprOqaO9zKJ7O28ma3mZlkG59/l87SwUcY6E8YyckUF3d3sUNu+rJpTXi4aSSdJdvkvuyzYcJu24yeucdqfslbf+v6/UlVn272/r+uh2NIzBRliAOmSa4+BdY/4SR/Nlu1YTyfKsczRmHB24JPldNvP3s9e9UhbXl1oN5b3CapcCI28hmLXCPIRJ8+Eb5gwAyQhK9MYIFCpLv2/EbrNdO/4HfUViXmsadLYz6fYarGL7yWSOKKUPcqQv8AcJ3Fh1weeKyLK5v7aG2meLUWtoL796wW4kMiGEjIjceZt3EcHcM8ipVNtFOtFbHXmaITrAZEErKXWPcNxUEAnHoMj8xT64JY7mS6srnVodYWPyb5WaBZvNXNwpjUlPmHygYHTAHapmttbnt3kun1JLiK0sigikdQZC7CTIX5WOMbhyP0q/Yq2/8AV7GSxDbtb+rJnZyXEMUsUcsio8zFY1Y4LkAkgevAJqSuP8nVbe8+zwvqP2ePUZgjlnkbyjakj5mPzDzDxk4zgdqrwHUTo9xEX1JQksJ+0FLkmXg7hsJ81BwMlCRzx3peyXft+JSrO7TXf8P63O0+0Q/afs/mL52zf5efm25xnHpmpK4svrUlnG0UWoQr9iw6l3Z8CcAkFgDvMeSMjdzzzUsMN5c3UUMDaoumPfYVpZJkl2eQ27LNhwu/GCT16dqPZab/ANf1+o/ba7f1a/8AXyOvormIp9Uj8JTWsa3jaiFuBC7oxbakpVcs3G4pjGevXmoJwTpUn9nS63HCLhCTcpcOW+XkDkTBemSOAenGaXs/MfttFp0Ouorjn/tl7KwECX8X2+H7LKGdna2IfiUk4I+TfyQDnbnmuxAwAB29TUShy9S4T5+n9MKKKKg0CiiigAooooAKKKKACiiigAooooAKKKKACiiigAooooAKKKKACiiigAooooAKKKKACiiigAooooAKRmVELuwVVGSScAClrM8R28134eu4beMyuyg+UvWRQQWX8QCPxpPYC3Y6hZanb+fpt3Bdw7ivmQSh1yO2QaRdSsW1BrBb23N4o3NbiVfMA9duc1j6ZdCTWL/U47a8js51t4EV7SRHaQFgzbCAwADKNxGML6Cq9wftHiewjtbK6j+zXTySQtZlIslXBmEwG0k7umSTnkA9K6h0Ogh1KxuLyW0t7y3luYf9ZCkqs6fVQcipI7q3mmlhhnjklhIEqK4LRkjI3DtketcjoUF0mt2YeG5xC1yZIZLVo47Xe275ZSMSZOB1PXPGK1ILSey1TW30yzjRngiNuGXZG8mHJ5A9SM/Wp6XF1sbAvbVnuEW5hLW2PPUSDMWRkbv7vHPNJY6hZanb+fpt3Bdw5K+ZBIHXI7ZHFcha6ReRwa7bXdjMomtYmaaMiRp5BuLEA7QxJPIz7elavhpbyfU9R1G6ZzFcJDGm6ze1yybskRuSw+8oyeuOOMVQX0OiooopDCiiigAooooAKrT6nYW15DaXN7bw3M/+qhklVXk/3VJyfwqzXH6zDOLnWbT7LcTXGpeV9iljgZkXCgfM4GE2sC3zEdeM0dQ6HV3V3b2Vu1xezxW8KfeklcKq/UnioZNW06GwS+mv7VLR8bLhplEbZ6YbODVbU72FLZ2ktLqQ28oXzI7MytE23IkVcZYDOMqDyT745uKC6h0zTZTHdwCO8uJTdpZO8vzlsMYMErv3HPy8egzwgOuudU0+zto7m8vraCCXHlyyzKqvkZGCTg8UXOqWFk0K3l9bW5nOIhLKq+Yf9nJ56jpXLm4k0vw3pcTabcC8eN4VmSxln+zxk/M7KisQWAU7PXjoDTtajt4/DiafY2moDzrFYIpRp7yGZMECF+N0fuW24z1znDBa2Omn1OwtbyG0ur23huZ/9VDJKqvJ/uqTk/hVquJ8QWt9LLd2tmk8U2pWsUZAsmmUOMgbZgdse3OTvHuvJrthwBnmmK4UUUUhlfUCV0y6IOCIXII7fKarQaRYNbxs1rGSUBJx7VbvImmsZ4k+88bKufUjFVYrm9jhRDpsh2qB/rU/xpgMgtYbTXFS2jEatbsWC9zuFadUIFuZtUFxNbGBFhKfM6tklge30q/SAKKKKACiiigAooooAKKKKACiiigAooooAjuP9WP99P8A0IVJUdx/qx/vp/6EKkoAKKKKACiiigAooooAKKKKACiiigAooooAKKKKACiiigAooooAKKKKACiiigAoqteajaafGZL2dYUAyWboKitNZ0+/2/Y7qObcMjZk5FK6AvUUUUwCiiigAooooAKKKKACiiigAooooAKKKKACiiigAooooAKKKKACorf/AFR/66P/AOhGpait/wDVH/ro/wD6EaAJaKKKACo7n/j1l/3D/KpKjuf+PWX/AHD/ACoAkooooAQkKMsQB70tVNQ2GJd8ZY87W8kyhTjuo9s0xUm+x2UY8yPOFkweQNh6ntyBQBeJAxk4z0orJX7YDBuMrllDOWXo2G9uO1OWS5gMbSee6bY2k+QsckMG4Az128DpQtQNSisfddDzZVSbzHiXGVPQSNnsedpHHWlMt2qo2ZmG47UVWBxkdyv1+8ADnrxmgDXorO1Oa4jYC3WUnYSpQEjd2GAp/Ugf0gnnullCo0wmZ5AV2fLtwxXbkYJwB079aANiiqAMklndqvmumwiPzFIYnbyMEZ61AJ54IjKnnvHEqFlkTBY8hgMgeoPHHHFAGqzKilnIVQMkk4ApQQQCDkHoRWTq0O7TLcXXmu8ciuWjg84BgDyyDkrn06cHjGRki7vrTT3S3tLiHzIH+zrb2jhfM8xvm24JjyCDhq0jT5loZyqKO51bMEGWIUepNLketczINU2q5+0yGR5d6NHlVC3ChMDHHyZPuOe1KryrpyWBs7vzmvvNU+Q2wr9qLH5ug+UZ5xnIxmjk0Qe08jpaK5K2udWuXK7b6FJGg37lcsuZMPyUUD5eu0YGMg96k26un2ZRNesJZHjlJXO1FuFVT04/dljnuOe2afs3s2L2q7HU0ZrmHbU7SFnBvp8idCMHICyqsZ+6T9wk5AJIyeTiqyzakP8ASGgvHKRzRowRwwUyxY5KFjxu52liAaFTb6g6llsdhRXJRPrE9rM2+9iMSkw4RgSfNIGdy5b5fUdOSM80alc6rbJcQW6XzmJpTbyhXbd8qlR8qHdySPmIGBznHD9k72uDqpK9jrc0Zrk7qS+N9DMYr+W5hnuGaNIj5aqI5BHtYrtyQV9eTyOwgZ9amMT20M7mG4JQyK+VQwndtLouTnONwAycdOKFSfcXtV2OzornIby9k8QW6xx3qW5k2t5yPgx+USCcoFX5sdWLZyPaujrOUXG1zSMlK9goooqSgooooAKKKKACiiigAooooAKKKKACiiigAooooAKKKKACiiigAooooAKKKKACiiigAooooAKKKKACiiigAooooAKKKKACiiigAooooAKKKKACiiigAooooAKKKKACiiigAooooAKKKKACiiigAooooAKKKKACiiigAooooAKKKKACiiigCO4/1Y/30/8AQhUlR3H+rH++n/oQqSgAooooAKKKKACiiigAooooAKKKKACiiigAooooAKKKKACiiigAooooAKKKKAPIPivNd/b2CXgeGOZD9nDD5fkBwR1568+tc14b8Tf2dM8tt5cN0YmAX5mwxIwCM47GvRPHXw6uPEb3Fzo80EN3cyRtK9w7AbVUDAwp9BXNeE/g/r2i+Jv7Q1C902S324McTuxPX1QVtGFJ025fEYT9rzcsdj1jRZpbjQdPmuW3TSW0byNjGWKgk/nV2o7aEW9rFCuMRoEGOnAxUlYmy21MPRriaW68QCWV5FhvisYZidi+TGcD0GSTx61hjxNqMPh8z2hsoRZaVDdulyJJDMXU4CsXyACuMncSTj3rqm0TSnv/ALc+mWbXed32g26mTOMZ3Yz0qjq3hWz1URo7+RBHF5Iijgi+VOhCEqSmRxwelC/y/BFaXM2HVdUttVu386GW0bVktTFIrM6B44+VbdgAE524555FaHhy71Gbw7NcX08d3cLNOI9kRT7sjKAfmOentxgc9Tr/AGK15/0aHmQSn92OXGMN/vDA568U6C0t7Uym2t4oTM5kkMaBd7Hqxx1PvR9m39bL/giW9/66nIWF39nTQ70XepXM+ormWTzxJC7FCzIY2f5NpGcovGMGph4g1c6Fp9wZLM3l7bm6EcdpIwWMKpx/rAOCwyxYdQMHrXRw6Tp1veSXcGn2sVzLnzJkhUO+euWAyaJtJ065hghuLC1lit8eSjwqVjxx8oI4/Ch63sNWvqclqniPUr/w/fTWUkFikOnQ3D53eazSqT8jBhtx0Bwcnjip59fv7fVLiy0+ANLJeyKHKPNhUiib7pkXk7+xAABOOtdHNomlXHlfaNMs5fJTy4t8CnYn90ZHA9qfcaVp13E8d1YW0ySP5jrJCrBnxjcQRycDGab30/rUS2V/60Oal8T6t9knuo4bSFbSxhu5onVnL7mcMqsGAHCcHB69K1tHuL+bXdajurmKS3gnRYY1iKsgMaN13HI59OuT7DSOn2RjeM2kGx4xEy+UMMgzhSMcgZPHTmnLaWyXT3SW8S3EihXmCAOwHQE9SKOoHD6ddXsWpQXc0l2IpNWngaU3ryLINzhY/JY4UZAGRyMemau/8JbqFvpsd/cR2s0d1ZS3UMMKsrQ7McOxJ3D5sEgLgjpXRxaJpVvfG9g0yziumJYzpbqHJPU7gM80+HStPtppprextopbjPnOkKq0meu4gc/jS6WHdXuYU2t6xbm7tALO7vIRA6SQxlVKyEgjY0nzMApIG4ZyKhTWNRvL/TjHeW/kvb3X2iMWzoWaNlUjBYFDz74565BHQJomlRWUlnHplmlrIdzwrAoRj6lcYPQU8aVp4jgjFhbBLYkwL5K4iJ67Rjj8KHqCdmcrD4j1OLSlmt1tRBZ6faXMkciyO8gkB3KGL8YC8E7verqeIdQfULc7rJbWfUnsRAUbzlCbssW3YyducbeARya3xp1kImjFnbiNkWNk8pcFF+6pGOgycDtWc3hq3fXl1OWZmdZPNVfKjU52lQC4UMQM8Amm2nK/QS+G39bf5m1RRRSAKit/9Uf+uj/+hGpait/9Uf8Aro//AKEaAJaKKKACo7n/AI9Zf9w/yqSo7n/j1l/3D/KgCSiiigAoqKe4jt1Bk3nJwAkbOfyANQXGpwQQlwTIfL8wbVJGO2WAwM+9AFyiqs2oRRTCIbmfzFQ/KdoJI/ixjPOcVJNdRW7KshbLcgKjNgepwOBz1NAE1FRC5iOMPklzGOD94ZJH6Gq8Gq201sJmYx/uvNbcrYxjnBx82M9qALtRrbwpMZVhjEh6uFGT+NQrqVs8gjDSBi235oXGD2ySOM9s9aE1CEhN5O5iRiNGYDDEZJxx070AWqa8aSbfMRX2kMNwzg+tQPfwgTBCS0SsSWRgvHX5sYP4ZpRfQGYRFjvJAyEbaCRnG7GM+3WgCxRVeC+t7iTZEzEldwyjAMO+CRg9e1NudQht22HczhlBAU4GSBy2MA89KALVFVzfW4mMW5iwyOI2wSBkgHGCevA54qKLVbeSyhuSJUSVN4BhYlR6nA4Hv0oAu0VUN+q3AjIXb5hQsGPy4Tfk8f5/SpoLmO5UtFvwD/HGyH8iBQBLRRRQAUUUUAFFFFABRRRQAUUUUAFFFFABRRRQAUUUUAFFFFABRRRQAUUUUAFFFFABRRRQAUUUUAFFFFABRRRQAUUUUAFFFFABRRRQAUUUUAFFFFABRRRQAUUUUAFFFFABRRRQAUUUUAFFFFABRRRQAUUUUAFFFFABRRRQAUUUUAFFFFABRRRQAUUUUAFFFFABRRRQAUUUUAR3H+rH++n/AKEKkqO4/wBWP99P/QhUlABRRRQAUUUUAFFFFABRRRQAUUUUAFFFFABRRRQAUUUUAFFFFABRRRQAUUUUAFFFFABRRRQAUUUUAFFFFABRRRQAUUUUAFFFFABRRRQAUUUUAFFFFABRRRQAVFb/AOqP/XR//QjUtRW/+qP/AF0f/wBCNAEtFFFABUdz/wAesv8AuH+VSVHc/wDHrL/uH+VAElFFFAFW8tHuWjKSqoXO5HUsrZ9gRyPf1qudLlW28iK5VUaFY5MxZJwMZHPH61pUUAUnsZWmO2dRCZVl2eXlsgg4znpx6Ut9ZPdlTHKsRAID7Muue6kEY/UVcooApLYSLch/PHlLKZQnl8klSCCc9Oc9KhGlStaiCa6VlSAwxkRYIyAMnnnp2xWnRQBVay3SSP5n35I3xt6bccfjioG0p9qBJ1UqWO/y/nGWLcEHjrjnI9q0aKAM+TTHklnPnKiyo6kJGRncMZbnBx9Aad9gfzAvnL5HmCQps+bcMH72emRnpV6igCpBY+Sbc+Zu8hGT7v3s4/wps1jLJLJ5c6pFK6yOpjy2Vx0Oeh2jtV2ijYCjFpvl3nmb4zHvaQKYzuBOe+cdz2qFtIka0it/tCFI4jEA0ZIx2ON2N2O5z+FalFA7lH+zcS7/ADf+WhfGz1j2Y/rUljaPaBw0isGxhEUqq49AScfyq1RQTYKKKKBhRRRQAUUUUAFFFFABRRRQAUUUUAFFFFABRRRQAUUUUAFFFFABRRRQAUUUUAFFFFABRRRQAUUUUAFFFFABRRRQAUUUUAFFFFABRRRQAUUUUAFFFFABRRRQAUUUUAFFFFABRRRQAUUUUAFFFFABRRRQAUUUUAFFFFABRRRQAUUUUAFFFFABRRRQAUUUUAFFFFABRRRQBHcf6sf76f8AoQqSo7j/AFY/30/9CFSUAFFFFABRRRQAUUUUAFFFFABRRRQAUUUUAFFFFABRRRQAUUUUAFFFFABRRRQAUUUUAFFFFABRRRQAUUUUAFFFFABRRRQAUUUUAFFFFABRRRQAUUUUAFFFFABUVv8A6o/9dH/9CNS1Fb/6o/8AXR//AEI0AS0UUUAFR3P/AB6y/wC4f5VJUdz/AMesv+4f5UAO2H/no36f4UbD/wA9G/T/AAp1FADdh/56N+n+FGw/89G/T/CkaaNJUjeRFeTOxSwBbHJwO9PoAbsP/PRv0/wo2H/no36f4U2S4hilijlkVHmYrGrHBcgEkD14BNPZlUAsQMnAye9ACbD/AM9G/T/CjYf+ejfp/hTYriGdpVhkV2hfZIFOdjYBwffBH51JQA3Yf+ejfp/hRsP/AD0b9P8ACnUUAN2H/no36f4UbD/z0b9P8KdRQA3Yf+ejfp/hRsP/AD0b9P8ACnVHBcQ3MXmW8iypuK7kORkHBH4EEUAO2H/no36f4UbD/wA9G/T/AAp1FADdh/56N+n+FGw/89G/T/CnUxZommeFZEMqAM6BhuUHOCR2zg/kaAF2H/no36f4UbD/AM9G/T/CnVGbiEXK25kUTMhdY8/MVBAJx6ZI/OgB2w/89G/T/CjYf+ejfp/hTqjS4hknkhSRWlix5iA8rnpke9ADth/56N+n+FGw/wDPRv0/wp1FADdh/wCejfp/hRsP/PRv0/wp1FADdh/56N+n+FGw/wDPRv0/wp1FADdh/wCejfp/hRsP/PRv0/wp1FADdh/56N+n+FGw/wDPRv0/wp1FADdh/wCejfp/hRsP/PRv0/wp1FADdh/56N+n+FGw/wDPRv0/wp1FADdh/wCejfp/hRsP/PRv0/wp1FADdh/56N+n+FGw/wDPRv0/wp1FADdh/wCejfp/hRsP/PRv0/wp1FADdh/56N+n+FGw/wDPRv0/wp1FADdh/wCejfp/hRsP/PRv0/wp1FADdh/56N+n+FGw/wDPRv0/wp1FADdh/wCejfp/hRsP/PRv0/wp1FADdh/56N+n+FGw/wDPRv0/wp1FADdh/wCejfp/hRsP/PRv0/wp1FADdh/56N+n+FGw/wDPRv0/wp1IzKiF3YKqjJJOABQAmw/89G/T/CjYf+ejfp/hUNjqFlqdv5+m3cF3DuK+ZBKHXI7ZBpF1KxbUGsFvbc3ijc1uJV8wD125zQBPsP8Az0b9P8KNh/56N+n+FV4dTsLi+lsoL23luoRmWBJVLx/VQcj8ajtNb0rULiW3sNTs7maEEyRw3COyYODkA5HNAFzYf+ejfp/hRsP/AD0b9P8ACoLLUrHUldtPvLe7WNtrmCVXCn0ODwakhure4eVbeeOVoX2ShHDGNsZ2nHQ4I4PrQA/Yf+ejfp/hRsP/AD0b9P8ACnUUAN2H/no36f4UbD/z0b9P8KdRQA3Yf+ejfp/hRsP/AD0b9P8ACnUUAN2H/no36f4UbD/z0b9P8KdVafU7C2vIbS5vbeG5n/1UMkqq8n+6pOT+FAE+w/8APRv0/wAKNh/56N+n+FMuru3srdri9nit4U+9JK4VV+pPFQy6tp0GnLfz6hax2bYK3LzKIznphs4oAs7D/wA9G/T/AAo2H/no36f4VWudV06ys0u7y/tYLaTGyaWZVRs9MMTg5oudV06zkgS7v7WB7k4gWWZVMp/2cnnr2oAs7D/z0b9P8KNh/wCejfp/hVefU7C1vIbS6vbeG5n/ANVDJKqvJ/uqTk/hVqgBuw/89G/T/CjYf+ejfp/hTqKAG7D/AM9G/T/CjYf+ejfp/hUOoErpl0QcEQuQR2+U1Ug0TTmt42a2UkqCTuPp9aANHYf+ejfp/hRsP/PRv0/wrNt7SCy1sJax+WrW7FgCeTuFalADdh/56N+n+FGw/wDPRv0/wp1FADdh/wCejfp/hRsP/PRv0/wp1FADdh/56N+n+FGw/wDPRv0/wp1FADdh/wCejfp/hRsP/PRv0/wp1FADdh/56N+n+FGw/wDPRv0/wp1FADdh/wCejfp/hRsP/PRv0/wp1FAEM6kRrl2Pzpwcf3hU1R3H+rH++n/oQqSgAooooAKKKKACiiigAooooAKKKKACiiigAooooAKKKKACiiigAooooAKKKKACiiigAooooAKKKKACiiigAooooAKKKKACiiigAooooAKKKKACiiigAooooAKit/8AVH/ro/8A6EalqK3/ANUf+uj/APoRoAlooooAKjuf+PWX/cP8qkqO5/49Zf8AcP8AKgCSiiigDB8RQ3z3llJpkbNPHHcbGC5CuYiFyeg59axz9v8As839mnVvsmyD7R9pMom3eZ+88vf82dn93jONvNdqSFGWIA96juLaC7t2guokmif7ySKCD+FbRqWSVjGdLmvqcbay30l46WMuqG3j1CRf3hd3SP7HlchjnG8ggN3I71Xe2u7vRJIriLVJkt7u1lMoa5V5AHHmFUb94CAMkKSM4K8iu4tbO10+HybOGOCMtnagxk+vuanq/bWd0u34GX1e8Wm97/icfcfbf7RuPtv9qf2Z9tf/AI9zNv2+RHsxs+fZu3/d43de9bVprWmQR2tndalHFdsiKIL2eNbgkjgMoP3jxWtRWbmmkmjVU3Ftp7/53/4Y4mW21WLQ7GQyahmW4kN4WednVfn2fKh3qvT7uO2eM1HctqMWlh9Rm1Rtlg7Wz2/mRkSbm5lAOchdn3+ODnmu6qpeaTp+oyI99ZwXDIMKZEDcen09qtVu6JdHsczNDqstnf3VtLemURW4h/eSbSpVfMKqDhmxnnrnpg1AV1H+ygftOo+St2SiiG6yy7Puls+cF3cg8jPHSu46D2ope28v6/r9Q9itNf6/r9DjXk1L+0NOmaPUizRW4NqTKAhz8xLqNjHB+YSAHjgjNQsdSEDf2j/a+3bc/Zvs3m7vN899u7bzjZs27vlxmu3ZlRSzkKoGSScAUoIIBByD0Io9r5B7HzOSlt9WZ57qZ70XMEloUSKRxGchBLhR8rL97OQcdeK0NS1iw1HTLq20jVopLpUyRZSCaVAGGTsRt2OxxzzxzW4zBBliFHqTS5HrUuonuilTa2ZyNjeX1v8AYZprfUvsyyzxsAJpS+QCjFWG8LnIG/p64wayUi1ALNPcxayl7JpluLdoVly04MnDkcHGRnf8uDzXolFWq1uhDoXVmzkHstRuNRlknk1Fc6mseIp5UTyDAu7ABxt3Z+YdD0Iquqaz9lSJ5dSjVLW7j8wJJIwxcKIyRkFm2A4OdxGSK7ejNL2z00/q1g9grt3/AKvf/gehw8r6g+jxHGpRLHcSAKPtTeeu0YO4fvkGScbgwyO4xViV9UkdnuU1KK0Y2pnSNnMir5bbwpTknft3FOetdhRR7byH7HzOPt7XUL14Yp5NUjs/KujEfNljkwHTyt7Aht2N2AeSOverUt3qU3hSzRo71bwQ20l4yRMrlCR5oUgffwGyByPyrps0Zpe08h+x8+6/L8raepxmoecNOiawfW/IWWXbHOtxvk4GBuT96oznaXB75421bK6s+r2tvi8jt7wQ3Mrlifs5RfnjLDgbiEGBjOXrqKKPa+Qex8/6/wCG0XYKKKKxNwooooAKKKKACiiigAooooAKKKKACiiigAooooAKKKKACiiigAooooAKKKKACiiigAooooAKzPEdvNd+HruG3jMrsoPlL1kUEFl/EAj8a06KAOe0y6EmsX+px215HZzrbwIr2kiO0gLBm2EBgAGUbiMYX0FV7k/aPE9jHa2V1H9munkkiazKRZKuDMJgNpJ3dMknPIB6dTRR1DocZ4egvbbULO2lW6lktzN9qE9mEiizkhopdg3FjjOGbIJzipdGM8Lmzii1S70+KzdZ7bULREKuCNqIdqq+QXB5ZeBzzz11FAHJWTX099q13pMExkktY4oHvbVrURMpbEYDAbgu4nIHtk9rHhKxudPu9XinsmtozcRsjs+7zT5KBmzgbskEk+pPpXS0UxhRRRSEFFFFABRRRQAVx+swzi51m0+y3E1xqXlfYpY4GZFwoHzOBhNrAt8xHXjNdhRR1DoZep3sKWztJaXUht5QvmR2ZlaJtuRIq4ywGcZUHkn3xzMdrdw2Om3Uv2+CCK5uXeWCzLTnzCSsnklWKk5bI28bugB47qikBxEtvfQx6RdXYvLSKO2niY2NiJJFZnUoTGEYKWUEnC4BJHFRX9pfpp8cf2WSG6vtKS0khi08yx7huwilW2wn5jncNvTBODXeUU+lv66/5jTa/r+uxxGvWN/uubG0a4M9/aRRGT7C0qs6gjImB2x46nePdcmu3HAGeaKKdyUrBRRRSGQXyNJp1yiDczRMFA7nBqpDqmyBEaxvcqoB/cH0rSooAzbeVrrVxMLeeJEgKEyx7cksDx+VaVFFABRRRQAUUUUAFFFFABRRRQAUUUUAFFFFAEdx/qx/vp/6EKkqO4/1Y/30/wDQhUlABRRRQAUUUUAFFFFABRRRQAUUUUAFFFFABRRRQAUUUUAFFFFABRRRQAUUUUAFFfOnxA+Nni7QPHuq6TpklnHa2c3lxhrfcSMA5JJ6816d8HvFuqeNPBMmp648T3K3bxAxRhBtCqRx+Joj7yuglo7He0UUUAFFFFABRRRQAUUUUAFFFFABRRRQAUUUUAFFFFABRRRQAUUUUAFRW/8Aqj/10f8A9CNS1Fb/AOqP/XR//QjQBLRRRQAVHc/8esv+4f5VJUdz/wAesv8AuH+VAElFFFAFTUNhiXfGWPO1vJMoU47qPbNMVJvsdlGPMjzhZMHkDYep7cgVeooAyV+2AwbjK5ZQzll6NhvbjtTlkuYDG0nnum2NpPkLHJDBuAM9dvA6VqUUIDH3XQ82VUm8x4lxlT0EjZ7HnaRx1pTLdqqNmZhuO1FVgcZHcr9fvAA568ZrXooAztTmuI2At1lJ2EqUBI3dhgKf1IH9IJ57pZQqNMJmeQFdny7cMV25GCcAdO/Wtio1t4UmMqwxiQ9XCjJ/GgCoDJJZ3ar5rpsIj8xSGJ28jBGetQCeeCIyp57xxKhZZEwWPIYDIHqDxxxxWtTXjSTb5iK+0hhuGcH1oAy9Wh3aZbi6813jkVy0cHnAMAeWQclc+nTg8YyMkXd9aae6W9pcQ+ZA/wBnW3tHC+Z5jfNtwTHkEHDV1lFaRnZWaM5QctUzmZBqm1XP2mQyPLvRo8qoW4UJgY4+TJ9xz2pVeVdOSwNnd+c195qnyG2FftRY/N0HyjPOM5GM10tFHP5ByeZyVtc6tcuV230KSNBv3K5ZcyYfkooHy9dowMZB71Jt1dPsyia9YSyPHKSudqLcKqnpx+7LHPcc9s11NFP2i6IXs33OYdtTtIWcG+nyJ0IwcgLKqxn7pP3CTkAkjJ5OKrLNqQ/0hoLxykc0aMEcMFMsWOShY8budpYgGuwooVRLoDp3VrnJRPrE9rM2+9iMSkw4RgSfNIGdy5b5fUdOSM80alc6rbJcQW6XzmJpTbyhXbd8qlR8qHdySPmIGBznHHW0U/aK97A6ba3OTupL430Mxiv5bmGe4Zo0iPlqojkEe1iu3JBX15PI7CBn1qYxPbQzuYbglDIr5VDCd20ui5Oc43ADJx04rs6KFUS6C9k+5zkN5eyeILdY471LcybW85HwY/KJBOUCr82OrFs5HtXR0UVnKSdrI0jFq92FFFFSUFFFFABRRRQAUUUUAFFFFABRRRQAUUUUAFFFFABRRRQAUUUUAFFFFABRRRQAUUUUAFFFFABRRRQAUUUUAFFFFABRRRQAUUUUAFFFFABRRRQAUUUUAFFFFABRRRQAUUUUAFFFFABRRRQAUUUUAFFFFABRRRQAUUUUAFFFFABRRRQAUUUUAR3H+rH++n/oQqSo7j/Vj/fT/wBCFSUAFFFFABRRRQAUUUUAFFFFABRRRQAUUUUAFFFFABRRRQAUUUUAFFFFAH//2Q==)"
      ]
    },
    {
      "cell_type": "markdown",
      "metadata": {
        "id": "7_kMmwxmEttu"
      },
      "source": [
        "**Conclusion**"
      ]
    },
    {
      "cell_type": "markdown",
      "metadata": {
        "id": "z5mzH_DzFAqu"
      },
      "source": [
        "Out of all the models we have tried, CNN Classifier gave the best private and public mean f1 score of about 0.38459 and 0.38677 respectively"
      ]
    },
    {
      "cell_type": "code",
      "metadata": {
        "id": "qZqNFebjFBUo"
      },
      "source": [
        ""
      ],
      "execution_count": null,
      "outputs": []
    }
  ]
}